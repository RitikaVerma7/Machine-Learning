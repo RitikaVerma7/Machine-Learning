{
 "cells": [
  {
   "cell_type": "markdown",
   "id": "f6302a26",
   "metadata": {
    "id": "f6302a26",
    "toc": true
   },
   "source": [
    "<h1>Table of Contents<span class=\"tocSkip\"></span></h1>\n",
    "<div class=\"toc\"><ul class=\"toc-item\"><li><span><a href=\"#Import-and-Load-Data\" data-toc-modified-id=\"Import-and-Load-Data-1\"><span class=\"toc-item-num\">1&nbsp;&nbsp;</span>Import and Load Data</a></span></li><li><span><a href=\"#Preprocessing\" data-toc-modified-id=\"Preprocessing-2\"><span class=\"toc-item-num\">2&nbsp;&nbsp;</span>Preprocessing</a></span></li><li><span><a href=\"#Trying-Out-Models\" data-toc-modified-id=\"Trying-Out-Models-3\"><span class=\"toc-item-num\">3&nbsp;&nbsp;</span>Trying Out Models</a></span><ul class=\"toc-item\"><li><span><a href=\"#Logistic-Regression\" data-toc-modified-id=\"Logistic-Regression-3.1\"><span class=\"toc-item-num\">3.1&nbsp;&nbsp;</span>Logistic Regression</a></span></li><li><span><a href=\"#Support-Vector-Machine\" data-toc-modified-id=\"Support-Vector-Machine-3.2\"><span class=\"toc-item-num\">3.2&nbsp;&nbsp;</span>Support Vector Machine</a></span></li><li><span><a href=\"#Decision-Trees-(Random-Forest,-Gradient-Boosting,-XGBoost)\" data-toc-modified-id=\"Decision-Trees-(Random-Forest,-Gradient-Boosting,-XGBoost)-3.3\"><span class=\"toc-item-num\">3.3&nbsp;&nbsp;</span>Decision Trees (Random Forest, Gradient Boosting, XGBoost)</a></span></li><li><span><a href=\"#Other-Models-(e.g.-Bagging-Classifier)\" data-toc-modified-id=\"Other-Models-(e.g.-Bagging-Classifier)-3.4\"><span class=\"toc-item-num\">3.4&nbsp;&nbsp;</span>Other Models (e.g. Bagging Classifier)</a></span></li></ul></li><li><span><a href=\"#Model-Evaluation\" data-toc-modified-id=\"Model-Evaluation-4\"><span class=\"toc-item-num\">4&nbsp;&nbsp;</span>Model Evaluation</a></span></li></ul></div>"
   ]
  },
  {
   "cell_type": "code",
   "execution_count": 1,
   "id": "iXLLBswyDyKZ",
   "metadata": {
    "colab": {
     "base_uri": "https://localhost:8080/"
    },
    "id": "iXLLBswyDyKZ",
    "outputId": "9fc409b8-475f-494a-b609-c54e1f9390c8"
   },
   "outputs": [],
   "source": [
    "#from google.colab import drive\n",
    "#drive.mount('/content/drive/')"
   ]
  },
  {
   "cell_type": "markdown",
   "id": "b9a31f2b",
   "metadata": {
    "id": "b9a31f2b"
   },
   "source": [
    "## Import and Load Data"
   ]
  },
  {
   "cell_type": "code",
   "execution_count": 2,
   "id": "9725cdaa",
   "metadata": {
    "id": "9725cdaa",
    "scrolled": true
   },
   "outputs": [],
   "source": [
    "import pandas as pd\n",
    "import numpy as np\n",
    "import re\n",
    "from sklearn.preprocessing import OrdinalEncoder\n",
    "from sklearn.model_selection import train_test_split, GridSearchCV\n",
    "from sklearn.preprocessing import StandardScaler, OneHotEncoder\n",
    "from sklearn.compose import ColumnTransformer\n",
    "from sklearn.pipeline import Pipeline\n",
    "from sklearn.linear_model import LogisticRegression\n",
    "from sklearn.linear_model import LinearRegression\n",
    "from sklearn.linear_model import Lasso, ElasticNet\n",
    "from sklearn.svm import SVC\n",
    "from sklearn.tree import DecisionTreeClassifier\n",
    "from sklearn.ensemble import RandomForestClassifier, GradientBoostingClassifier\n",
    "from xgboost import XGBClassifier\n",
    "from sklearn.metrics import accuracy_score, precision_score, recall_score, f1_score, roc_auc_score\n",
    "from sklearn.metrics import classification_report\n",
    "from sklearn.model_selection import cross_val_predict\n",
    "from sklearn.metrics import confusion_matrix\n",
    "from sklearn.metrics import RocCurveDisplay\n",
    "from sklearn.metrics import PrecisionRecallDisplay\n",
    "from sklearn.ensemble import GradientBoostingRegressor\n",
    "import tensorflow as tf\n",
    "from tensorflow import keras\n",
    "\n",
    "from keras.datasets import mnist\n",
    "from keras.layers import Dense, Flatten, Dropout\n",
    "from keras.models import Sequential"
   ]
  },
  {
   "cell_type": "code",
   "execution_count": 3,
   "id": "e8b1afea",
   "metadata": {
    "id": "e8b1afea"
   },
   "outputs": [],
   "source": [
    "#!pip install xgboost"
   ]
  },
  {
   "cell_type": "code",
   "execution_count": 4,
   "id": "9da6fb46",
   "metadata": {
    "id": "9da6fb46"
   },
   "outputs": [],
   "source": [
    "#load in your data"
   ]
  },
  {
   "cell_type": "code",
   "execution_count": 5,
   "id": "2b3ed296",
   "metadata": {
    "id": "2b3ed296"
   },
   "outputs": [],
   "source": [
    "pd.set_option('display.max_columns', None)\n",
    "pd.set_option('display.max_rows', None)"
   ]
  },
  {
   "cell_type": "code",
   "execution_count": 7,
   "id": "3cb82695",
   "metadata": {
    "id": "3cb82695"
   },
   "outputs": [],
   "source": [
    "df = pd.read_csv(\"product_info.csv\", index_col=None)"
   ]
  },
  {
   "cell_type": "code",
   "execution_count": 8,
   "id": "2ac30f70",
   "metadata": {
    "colab": {
     "base_uri": "https://localhost:8080/"
    },
    "id": "2ac30f70",
    "outputId": "2e304948-6b22-4ca8-f599-421b48b1ecc2"
   },
   "outputs": [
    {
     "data": {
      "text/plain": [
       "(8494, 27)"
      ]
     },
     "execution_count": 8,
     "metadata": {},
     "output_type": "execute_result"
    }
   ],
   "source": [
    "df.shape"
   ]
  },
  {
   "cell_type": "code",
   "execution_count": 9,
   "id": "4a768bdc",
   "metadata": {
    "colab": {
     "base_uri": "https://localhost:8080/"
    },
    "id": "4a768bdc",
    "outputId": "016d469d-b768-493f-c4fd-84c62e19ba1b"
   },
   "outputs": [
    {
     "data": {
      "text/plain": [
       "product_id               0\n",
       "product_name             0\n",
       "brand_id                 0\n",
       "brand_name               0\n",
       "loves_count              0\n",
       "rating                 278\n",
       "reviews                278\n",
       "size                  1631\n",
       "variation_type        1444\n",
       "variation_value       1598\n",
       "variation_desc        7244\n",
       "ingredients            945\n",
       "price_usd                0\n",
       "value_price_usd       8043\n",
       "sale_price_usd        8224\n",
       "limited_edition          0\n",
       "new                      0\n",
       "online_only              0\n",
       "out_of_stock             0\n",
       "sephora_exclusive        0\n",
       "highlights            2207\n",
       "primary_category         0\n",
       "secondary_category       8\n",
       "tertiary_category      990\n",
       "child_count              0\n",
       "child_max_price       5740\n",
       "child_min_price       5740\n",
       "dtype: int64"
      ]
     },
     "execution_count": 9,
     "metadata": {},
     "output_type": "execute_result"
    }
   ],
   "source": [
    "df.isna().sum()"
   ]
  },
  {
   "cell_type": "code",
   "execution_count": 10,
   "id": "2971fbb2",
   "metadata": {
    "colab": {
     "base_uri": "https://localhost:8080/"
    },
    "id": "2971fbb2",
    "outputId": "5fe23cff-d6d8-4f8e-c2b9-c23cffecde69"
   },
   "outputs": [
    {
     "name": "stdout",
     "output_type": "stream",
     "text": [
      "<class 'pandas.core.frame.DataFrame'>\n",
      "RangeIndex: 8494 entries, 0 to 8493\n",
      "Data columns (total 27 columns):\n",
      " #   Column              Non-Null Count  Dtype  \n",
      "---  ------              --------------  -----  \n",
      " 0   product_id          8494 non-null   object \n",
      " 1   product_name        8494 non-null   object \n",
      " 2   brand_id            8494 non-null   int64  \n",
      " 3   brand_name          8494 non-null   object \n",
      " 4   loves_count         8494 non-null   int64  \n",
      " 5   rating              8216 non-null   float64\n",
      " 6   reviews             8216 non-null   float64\n",
      " 7   size                6863 non-null   object \n",
      " 8   variation_type      7050 non-null   object \n",
      " 9   variation_value     6896 non-null   object \n",
      " 10  variation_desc      1250 non-null   object \n",
      " 11  ingredients         7549 non-null   object \n",
      " 12  price_usd           8494 non-null   float64\n",
      " 13  value_price_usd     451 non-null    float64\n",
      " 14  sale_price_usd      270 non-null    float64\n",
      " 15  limited_edition     8494 non-null   int64  \n",
      " 16  new                 8494 non-null   int64  \n",
      " 17  online_only         8494 non-null   int64  \n",
      " 18  out_of_stock        8494 non-null   int64  \n",
      " 19  sephora_exclusive   8494 non-null   int64  \n",
      " 20  highlights          6287 non-null   object \n",
      " 21  primary_category    8494 non-null   object \n",
      " 22  secondary_category  8486 non-null   object \n",
      " 23  tertiary_category   7504 non-null   object \n",
      " 24  child_count         8494 non-null   int64  \n",
      " 25  child_max_price     2754 non-null   float64\n",
      " 26  child_min_price     2754 non-null   float64\n",
      "dtypes: float64(7), int64(8), object(12)\n",
      "memory usage: 1.7+ MB\n"
     ]
    }
   ],
   "source": [
    "df.info()"
   ]
  },
  {
   "cell_type": "code",
   "execution_count": 11,
   "id": "8e626e0b",
   "metadata": {
    "colab": {
     "base_uri": "https://localhost:8080/"
    },
    "id": "8e626e0b",
    "outputId": "cce551c7-1b41-44dd-9487-ac88e58f671b",
    "scrolled": true
   },
   "outputs": [
    {
     "data": {
      "text/plain": [
       "(8494, 27)"
      ]
     },
     "execution_count": 11,
     "metadata": {},
     "output_type": "execute_result"
    }
   ],
   "source": [
    "df.shape"
   ]
  },
  {
   "cell_type": "code",
   "execution_count": 12,
   "id": "740bf350",
   "metadata": {
    "colab": {
     "base_uri": "https://localhost:8080/",
     "height": 1000
    },
    "id": "740bf350",
    "outputId": "6e02c27c-14fd-4804-dafa-0754b53d423e"
   },
   "outputs": [
    {
     "data": {
      "text/plain": [
       "array([[<Axes: title={'center': 'brand_id'}>,\n",
       "        <Axes: title={'center': 'loves_count'}>,\n",
       "        <Axes: title={'center': 'rating'}>,\n",
       "        <Axes: title={'center': 'reviews'}>],\n",
       "       [<Axes: title={'center': 'price_usd'}>,\n",
       "        <Axes: title={'center': 'value_price_usd'}>,\n",
       "        <Axes: title={'center': 'sale_price_usd'}>,\n",
       "        <Axes: title={'center': 'limited_edition'}>],\n",
       "       [<Axes: title={'center': 'new'}>,\n",
       "        <Axes: title={'center': 'online_only'}>,\n",
       "        <Axes: title={'center': 'out_of_stock'}>,\n",
       "        <Axes: title={'center': 'sephora_exclusive'}>],\n",
       "       [<Axes: title={'center': 'child_count'}>,\n",
       "        <Axes: title={'center': 'child_max_price'}>,\n",
       "        <Axes: title={'center': 'child_min_price'}>, <Axes: >]],\n",
       "      dtype=object)"
      ]
     },
     "execution_count": 12,
     "metadata": {},
     "output_type": "execute_result"
    },
    {
     "data": {
      "image/png": "[encoded data removed]",
      "text/plain": [
       "<Figure size 3000x3000 with 16 Axes>"
      ]
     },
     "metadata": {},
     "output_type": "display_data"
    }
   ],
   "source": [
    "df.hist(figsize=[30,30])"
   ]
  },
  {
   "cell_type": "code",
   "execution_count": 13,
   "id": "7c024745",
   "metadata": {
    "colab": {
     "base_uri": "https://localhost:8080/",
     "height": 320
    },
    "id": "7c024745",
    "outputId": "053ebd1b-f1d6-4cfa-ab6f-513eeb29f63e"
   },
   "outputs": [
    {
     "data": {
      "text/html": [
       "<div>\n",
       "<style scoped>\n",
       "    .dataframe tbody tr th:only-of-type {\n",
       "        vertical-align: middle;\n",
       "    }\n",
       "\n",
       "    .dataframe tbody tr th {\n",
       "        vertical-align: top;\n",
       "    }\n",
       "\n",
       "    .dataframe thead th {\n",
       "        text-align: right;\n",
       "    }\n",
       "</style>\n",
       "<table border=\"1\" class=\"dataframe\">\n",
       "  <thead>\n",
       "    <tr style=\"text-align: right;\">\n",
       "      <th></th>\n",
       "      <th>brand_id</th>\n",
       "      <th>loves_count</th>\n",
       "      <th>rating</th>\n",
       "      <th>reviews</th>\n",
       "      <th>price_usd</th>\n",
       "      <th>value_price_usd</th>\n",
       "      <th>sale_price_usd</th>\n",
       "      <th>limited_edition</th>\n",
       "      <th>new</th>\n",
       "      <th>online_only</th>\n",
       "      <th>out_of_stock</th>\n",
       "      <th>sephora_exclusive</th>\n",
       "      <th>child_count</th>\n",
       "      <th>child_max_price</th>\n",
       "      <th>child_min_price</th>\n",
       "    </tr>\n",
       "  </thead>\n",
       "  <tbody>\n",
       "    <tr>\n",
       "      <th>count</th>\n",
       "      <td>8494.000000</td>\n",
       "      <td>8.494000e+03</td>\n",
       "      <td>8216.000000</td>\n",
       "      <td>8216.000000</td>\n",
       "      <td>8494.000000</td>\n",
       "      <td>451.000000</td>\n",
       "      <td>270.000000</td>\n",
       "      <td>8494.000000</td>\n",
       "      <td>8494.000000</td>\n",
       "      <td>8494.000000</td>\n",
       "      <td>8494.000000</td>\n",
       "      <td>8494.000000</td>\n",
       "      <td>8494.000000</td>\n",
       "      <td>2754.000000</td>\n",
       "      <td>2754.000000</td>\n",
       "    </tr>\n",
       "    <tr>\n",
       "      <th>mean</th>\n",
       "      <td>5422.440546</td>\n",
       "      <td>2.917957e+04</td>\n",
       "      <td>4.194513</td>\n",
       "      <td>448.545521</td>\n",
       "      <td>51.655595</td>\n",
       "      <td>91.168537</td>\n",
       "      <td>20.207889</td>\n",
       "      <td>0.070285</td>\n",
       "      <td>0.071698</td>\n",
       "      <td>0.219096</td>\n",
       "      <td>0.073699</td>\n",
       "      <td>0.279374</td>\n",
       "      <td>1.631622</td>\n",
       "      <td>53.792023</td>\n",
       "      <td>39.665802</td>\n",
       "    </tr>\n",
       "    <tr>\n",
       "      <th>std</th>\n",
       "      <td>1709.595957</td>\n",
       "      <td>6.609212e+04</td>\n",
       "      <td>0.516694</td>\n",
       "      <td>1101.982529</td>\n",
       "      <td>53.669234</td>\n",
       "      <td>79.195631</td>\n",
       "      <td>24.327352</td>\n",
       "      <td>0.255642</td>\n",
       "      <td>0.258002</td>\n",
       "      <td>0.413658</td>\n",
       "      <td>0.261296</td>\n",
       "      <td>0.448718</td>\n",
       "      <td>5.379470</td>\n",
       "      <td>58.765894</td>\n",
       "      <td>38.685720</td>\n",
       "    </tr>\n",
       "    <tr>\n",
       "      <th>min</th>\n",
       "      <td>1063.000000</td>\n",
       "      <td>0.000000e+00</td>\n",
       "      <td>1.000000</td>\n",
       "      <td>1.000000</td>\n",
       "      <td>3.000000</td>\n",
       "      <td>0.000000</td>\n",
       "      <td>1.750000</td>\n",
       "      <td>0.000000</td>\n",
       "      <td>0.000000</td>\n",
       "      <td>0.000000</td>\n",
       "      <td>0.000000</td>\n",
       "      <td>0.000000</td>\n",
       "      <td>0.000000</td>\n",
       "      <td>3.000000</td>\n",
       "      <td>3.000000</td>\n",
       "    </tr>\n",
       "    <tr>\n",
       "      <th>25%</th>\n",
       "      <td>5333.000000</td>\n",
       "      <td>3.758000e+03</td>\n",
       "      <td>3.981725</td>\n",
       "      <td>26.000000</td>\n",
       "      <td>25.000000</td>\n",
       "      <td>45.000000</td>\n",
       "      <td>8.000000</td>\n",
       "      <td>0.000000</td>\n",
       "      <td>0.000000</td>\n",
       "      <td>0.000000</td>\n",
       "      <td>0.000000</td>\n",
       "      <td>0.000000</td>\n",
       "      <td>0.000000</td>\n",
       "      <td>22.000000</td>\n",
       "      <td>19.000000</td>\n",
       "    </tr>\n",
       "    <tr>\n",
       "      <th>50%</th>\n",
       "      <td>6157.500000</td>\n",
       "      <td>9.880000e+03</td>\n",
       "      <td>4.289350</td>\n",
       "      <td>122.000000</td>\n",
       "      <td>35.000000</td>\n",
       "      <td>67.000000</td>\n",
       "      <td>14.000000</td>\n",
       "      <td>0.000000</td>\n",
       "      <td>0.000000</td>\n",
       "      <td>0.000000</td>\n",
       "      <td>0.000000</td>\n",
       "      <td>0.000000</td>\n",
       "      <td>0.000000</td>\n",
       "      <td>32.000000</td>\n",
       "      <td>28.000000</td>\n",
       "    </tr>\n",
       "    <tr>\n",
       "      <th>75%</th>\n",
       "      <td>6328.000000</td>\n",
       "      <td>2.684125e+04</td>\n",
       "      <td>4.530525</td>\n",
       "      <td>418.000000</td>\n",
       "      <td>58.000000</td>\n",
       "      <td>108.500000</td>\n",
       "      <td>25.000000</td>\n",
       "      <td>0.000000</td>\n",
       "      <td>0.000000</td>\n",
       "      <td>0.000000</td>\n",
       "      <td>0.000000</td>\n",
       "      <td>1.000000</td>\n",
       "      <td>1.000000</td>\n",
       "      <td>59.000000</td>\n",
       "      <td>42.000000</td>\n",
       "    </tr>\n",
       "    <tr>\n",
       "      <th>max</th>\n",
       "      <td>8020.000000</td>\n",
       "      <td>1.401068e+06</td>\n",
       "      <td>5.000000</td>\n",
       "      <td>21281.000000</td>\n",
       "      <td>1900.000000</td>\n",
       "      <td>617.000000</td>\n",
       "      <td>320.000000</td>\n",
       "      <td>1.000000</td>\n",
       "      <td>1.000000</td>\n",
       "      <td>1.000000</td>\n",
       "      <td>1.000000</td>\n",
       "      <td>1.000000</td>\n",
       "      <td>105.000000</td>\n",
       "      <td>570.000000</td>\n",
       "      <td>400.000000</td>\n",
       "    </tr>\n",
       "  </tbody>\n",
       "</table>\n",
       "</div>"
      ],
      "text/plain": [
       "          brand_id   loves_count       rating       reviews    price_usd  \\\n",
       "count  8494.000000  8.494000e+03  8216.000000   8216.000000  8494.000000   \n",
       "mean   5422.440546  2.917957e+04     4.194513    448.545521    51.655595   \n",
       "std    1709.595957  6.609212e+04     0.516694   1101.982529    53.669234   \n",
       "min    1063.000000  0.000000e+00     1.000000      1.000000     3.000000   \n",
       "25%    5333.000000  3.758000e+03     3.981725     26.000000    25.000000   \n",
       "50%    6157.500000  9.880000e+03     4.289350    122.000000    35.000000   \n",
       "75%    6328.000000  2.684125e+04     4.530525    418.000000    58.000000   \n",
       "max    8020.000000  1.401068e+06     5.000000  21281.000000  1900.000000   \n",
       "\n",
       "       value_price_usd  sale_price_usd  limited_edition          new  \\\n",
       "count       451.000000      270.000000      8494.000000  8494.000000   \n",
       "mean         91.168537       20.207889         0.070285     0.071698   \n",
       "std          79.195631       24.327352         0.255642     0.258002   \n",
       "min           0.000000        1.750000         0.000000     0.000000   \n",
       "25%          45.000000        8.000000         0.000000     0.000000   \n",
       "50%          67.000000       14.000000         0.000000     0.000000   \n",
       "75%         108.500000       25.000000         0.000000     0.000000   \n",
       "max         617.000000      320.000000         1.000000     1.000000   \n",
       "\n",
       "       online_only  out_of_stock  sephora_exclusive  child_count  \\\n",
       "count  8494.000000   8494.000000        8494.000000  8494.000000   \n",
       "mean      0.219096      0.073699           0.279374     1.631622   \n",
       "std       0.413658      0.261296           0.448718     5.379470   \n",
       "min       0.000000      0.000000           0.000000     0.000000   \n",
       "25%       0.000000      0.000000           0.000000     0.000000   \n",
       "50%       0.000000      0.000000           0.000000     0.000000   \n",
       "75%       0.000000      0.000000           1.000000     1.000000   \n",
       "max       1.000000      1.000000           1.000000   105.000000   \n",
       "\n",
       "       child_max_price  child_min_price  \n",
       "count      2754.000000      2754.000000  \n",
       "mean         53.792023        39.665802  \n",
       "std          58.765894        38.685720  \n",
       "min           3.000000         3.000000  \n",
       "25%          22.000000        19.000000  \n",
       "50%          32.000000        28.000000  \n",
       "75%          59.000000        42.000000  \n",
       "max         570.000000       400.000000  "
      ]
     },
     "execution_count": 13,
     "metadata": {},
     "output_type": "execute_result"
    }
   ],
   "source": [
    "df.describe()"
   ]
  },
  {
   "cell_type": "markdown",
   "id": "481e6bb3",
   "metadata": {
    "id": "481e6bb3"
   },
   "source": [
    "## Preprocessing\n",
    "\n",
    " - Handle missing values\n",
    " - Split the dataset into train and test for autogluon."
   ]
  },
  {
   "cell_type": "code",
   "execution_count": 14,
   "id": "dbc88b9b",
   "metadata": {
    "colab": {
     "base_uri": "https://localhost:8080/"
    },
    "id": "dbc88b9b",
    "outputId": "764030ed-17f0-409c-e397-272d707d3363"
   },
   "outputs": [
    {
     "data": {
      "text/plain": [
       "27"
      ]
     },
     "execution_count": 14,
     "metadata": {},
     "output_type": "execute_result"
    }
   ],
   "source": [
    "len(df.columns)"
   ]
  },
  {
   "cell_type": "code",
   "execution_count": 15,
   "id": "de3cdecd",
   "metadata": {
    "colab": {
     "base_uri": "https://localhost:8080/"
    },
    "id": "de3cdecd",
    "outputId": "7ccee2ef-4b17-4015-fe08-116dcf050229"
   },
   "outputs": [
    {
     "data": {
      "text/plain": [
       "Index(['product_id', 'product_name', 'brand_id', 'brand_name', 'loves_count',\n",
       "       'rating', 'reviews', 'size', 'variation_type', 'variation_value',\n",
       "       'variation_desc', 'ingredients', 'price_usd', 'value_price_usd',\n",
       "       'sale_price_usd', 'limited_edition', 'new', 'online_only',\n",
       "       'out_of_stock', 'sephora_exclusive', 'highlights', 'primary_category',\n",
       "       'secondary_category', 'tertiary_category', 'child_count',\n",
       "       'child_max_price', 'child_min_price'],\n",
       "      dtype='object')"
      ]
     },
     "execution_count": 15,
     "metadata": {},
     "output_type": "execute_result"
    }
   ],
   "source": [
    "df.columns"
   ]
  },
  {
   "cell_type": "code",
   "execution_count": 16,
   "id": "067cb669",
   "metadata": {
    "colab": {
     "base_uri": "https://localhost:8080/"
    },
    "id": "067cb669",
    "outputId": "d15a6e03-7256-43a3-b56a-8aeab1c2faaa"
   },
   "outputs": [
    {
     "data": {
      "text/plain": [
       "rating                 278\n",
       "reviews                278\n",
       "size                  1631\n",
       "variation_type        1444\n",
       "variation_value       1598\n",
       "variation_desc        7244\n",
       "ingredients            945\n",
       "value_price_usd       8043\n",
       "sale_price_usd        8224\n",
       "highlights            2207\n",
       "secondary_category       8\n",
       "tertiary_category      990\n",
       "child_max_price       5740\n",
       "child_min_price       5740\n",
       "dtype: int64"
      ]
     },
     "execution_count": 16,
     "metadata": {},
     "output_type": "execute_result"
    }
   ],
   "source": [
    "df.isna().sum()[df.isna().sum()!=0]"
   ]
  },
  {
   "cell_type": "markdown",
   "id": "538e2dc8",
   "metadata": {
    "id": "538e2dc8"
   },
   "source": [
    "Dropping columns with more than 50% of NaNs"
   ]
  },
  {
   "cell_type": "code",
   "execution_count": 17,
   "id": "c4b0b0fa",
   "metadata": {
    "id": "c4b0b0fa"
   },
   "outputs": [],
   "source": [
    "threshold = len(df)* 0.5"
   ]
  },
  {
   "cell_type": "code",
   "execution_count": 18,
   "id": "bab3d639",
   "metadata": {
    "id": "bab3d639"
   },
   "outputs": [],
   "source": [
    "df.dropna(thresh = threshold, axis = 1, inplace = True)"
   ]
  },
  {
   "cell_type": "code",
   "execution_count": 19,
   "id": "9ca91068",
   "metadata": {
    "colab": {
     "base_uri": "https://localhost:8080/"
    },
    "id": "9ca91068",
    "outputId": "90dd881d-fdb4-4626-d5e9-a14650c05133"
   },
   "outputs": [
    {
     "data": {
      "text/plain": [
       "22"
      ]
     },
     "execution_count": 19,
     "metadata": {},
     "output_type": "execute_result"
    }
   ],
   "source": [
    "len(df.columns)"
   ]
  },
  {
   "cell_type": "code",
   "execution_count": 20,
   "id": "a2fc564a",
   "metadata": {
    "colab": {
     "base_uri": "https://localhost:8080/"
    },
    "id": "a2fc564a",
    "outputId": "43a94866-df5f-4621-92bd-5b00a0ceca87"
   },
   "outputs": [
    {
     "data": {
      "text/plain": [
       "Index(['product_id', 'product_name', 'brand_id', 'brand_name', 'loves_count',\n",
       "       'rating', 'reviews', 'size', 'variation_type', 'variation_value',\n",
       "       'ingredients', 'price_usd', 'limited_edition', 'new', 'online_only',\n",
       "       'out_of_stock', 'sephora_exclusive', 'highlights', 'primary_category',\n",
       "       'secondary_category', 'tertiary_category', 'child_count'],\n",
       "      dtype='object')"
      ]
     },
     "execution_count": 20,
     "metadata": {},
     "output_type": "execute_result"
    }
   ],
   "source": [
    "df.columns"
   ]
  },
  {
   "cell_type": "code",
   "execution_count": 21,
   "id": "7abb762c",
   "metadata": {
    "colab": {
     "base_uri": "https://localhost:8080/"
    },
    "id": "7abb762c",
    "outputId": "6a589bd6-da96-425a-cc66-14d3e8fc1720"
   },
   "outputs": [
    {
     "data": {
      "text/plain": [
       "rating                 278\n",
       "reviews                278\n",
       "size                  1631\n",
       "variation_type        1444\n",
       "variation_value       1598\n",
       "ingredients            945\n",
       "highlights            2207\n",
       "secondary_category       8\n",
       "tertiary_category      990\n",
       "dtype: int64"
      ]
     },
     "execution_count": 21,
     "metadata": {},
     "output_type": "execute_result"
    }
   ],
   "source": [
    "df.isna().sum()[df.isna().sum()!=0]"
   ]
  },
  {
   "cell_type": "code",
   "execution_count": 22,
   "id": "3bb813ba",
   "metadata": {
    "colab": {
     "base_uri": "https://localhost:8080/",
     "height": 591
    },
    "id": "3bb813ba",
    "outputId": "53e1e2ec-7605-435e-e56d-d993eeadcb6a"
   },
   "outputs": [
    {
     "data": {
      "text/html": [
       "<div>\n",
       "<style scoped>\n",
       "    .dataframe tbody tr th:only-of-type {\n",
       "        vertical-align: middle;\n",
       "    }\n",
       "\n",
       "    .dataframe tbody tr th {\n",
       "        vertical-align: top;\n",
       "    }\n",
       "\n",
       "    .dataframe thead th {\n",
       "        text-align: right;\n",
       "    }\n",
       "</style>\n",
       "<table border=\"1\" class=\"dataframe\">\n",
       "  <thead>\n",
       "    <tr style=\"text-align: right;\">\n",
       "      <th></th>\n",
       "      <th>product_id</th>\n",
       "      <th>product_name</th>\n",
       "      <th>brand_id</th>\n",
       "      <th>brand_name</th>\n",
       "      <th>loves_count</th>\n",
       "      <th>rating</th>\n",
       "      <th>reviews</th>\n",
       "      <th>size</th>\n",
       "      <th>variation_type</th>\n",
       "      <th>variation_value</th>\n",
       "      <th>ingredients</th>\n",
       "      <th>price_usd</th>\n",
       "      <th>limited_edition</th>\n",
       "      <th>new</th>\n",
       "      <th>online_only</th>\n",
       "      <th>out_of_stock</th>\n",
       "      <th>sephora_exclusive</th>\n",
       "      <th>highlights</th>\n",
       "      <th>primary_category</th>\n",
       "      <th>secondary_category</th>\n",
       "      <th>tertiary_category</th>\n",
       "      <th>child_count</th>\n",
       "    </tr>\n",
       "  </thead>\n",
       "  <tbody>\n",
       "    <tr>\n",
       "      <th>0</th>\n",
       "      <td>P473671</td>\n",
       "      <td>Fragrance Discovery Set</td>\n",
       "      <td>6342</td>\n",
       "      <td>19-69</td>\n",
       "      <td>6320</td>\n",
       "      <td>3.6364</td>\n",
       "      <td>11.0</td>\n",
       "      <td>NaN</td>\n",
       "      <td>NaN</td>\n",
       "      <td>NaN</td>\n",
       "      <td>['Capri Eau de Parfum:', 'Alcohol Denat. (SD A...</td>\n",
       "      <td>35.0</td>\n",
       "      <td>0</td>\n",
       "      <td>0</td>\n",
       "      <td>1</td>\n",
       "      <td>0</td>\n",
       "      <td>0</td>\n",
       "      <td>['Unisex/ Genderless Scent', 'Warm &amp;Spicy Scen...</td>\n",
       "      <td>Fragrance</td>\n",
       "      <td>Value &amp; Gift Sets</td>\n",
       "      <td>Perfume Gift Sets</td>\n",
       "      <td>0</td>\n",
       "    </tr>\n",
       "    <tr>\n",
       "      <th>1</th>\n",
       "      <td>P473668</td>\n",
       "      <td>La Habana Eau de Parfum</td>\n",
       "      <td>6342</td>\n",
       "      <td>19-69</td>\n",
       "      <td>3827</td>\n",
       "      <td>4.1538</td>\n",
       "      <td>13.0</td>\n",
       "      <td>3.4 oz/ 100 mL</td>\n",
       "      <td>Size + Concentration + Formulation</td>\n",
       "      <td>3.4 oz/ 100 mL</td>\n",
       "      <td>['Alcohol Denat. (SD Alcohol 39C), Parfum (Fra...</td>\n",
       "      <td>195.0</td>\n",
       "      <td>0</td>\n",
       "      <td>0</td>\n",
       "      <td>1</td>\n",
       "      <td>0</td>\n",
       "      <td>0</td>\n",
       "      <td>['Unisex/ Genderless Scent', 'Layerable Scent'...</td>\n",
       "      <td>Fragrance</td>\n",
       "      <td>Women</td>\n",
       "      <td>Perfume</td>\n",
       "      <td>2</td>\n",
       "    </tr>\n",
       "    <tr>\n",
       "      <th>2</th>\n",
       "      <td>P473662</td>\n",
       "      <td>Rainbow Bar Eau de Parfum</td>\n",
       "      <td>6342</td>\n",
       "      <td>19-69</td>\n",
       "      <td>3253</td>\n",
       "      <td>4.2500</td>\n",
       "      <td>16.0</td>\n",
       "      <td>3.4 oz/ 100 mL</td>\n",
       "      <td>Size + Concentration + Formulation</td>\n",
       "      <td>3.4 oz/ 100 mL</td>\n",
       "      <td>['Alcohol Denat. (SD Alcohol 39C), Parfum (Fra...</td>\n",
       "      <td>195.0</td>\n",
       "      <td>0</td>\n",
       "      <td>0</td>\n",
       "      <td>1</td>\n",
       "      <td>0</td>\n",
       "      <td>0</td>\n",
       "      <td>['Unisex/ Genderless Scent', 'Layerable Scent'...</td>\n",
       "      <td>Fragrance</td>\n",
       "      <td>Women</td>\n",
       "      <td>Perfume</td>\n",
       "      <td>2</td>\n",
       "    </tr>\n",
       "    <tr>\n",
       "      <th>3</th>\n",
       "      <td>P473660</td>\n",
       "      <td>Kasbah Eau de Parfum</td>\n",
       "      <td>6342</td>\n",
       "      <td>19-69</td>\n",
       "      <td>3018</td>\n",
       "      <td>4.4762</td>\n",
       "      <td>21.0</td>\n",
       "      <td>3.4 oz/ 100 mL</td>\n",
       "      <td>Size + Concentration + Formulation</td>\n",
       "      <td>3.4 oz/ 100 mL</td>\n",
       "      <td>['Alcohol Denat. (SD Alcohol 39C), Parfum (Fra...</td>\n",
       "      <td>195.0</td>\n",
       "      <td>0</td>\n",
       "      <td>0</td>\n",
       "      <td>1</td>\n",
       "      <td>0</td>\n",
       "      <td>0</td>\n",
       "      <td>['Unisex/ Genderless Scent', 'Layerable Scent'...</td>\n",
       "      <td>Fragrance</td>\n",
       "      <td>Women</td>\n",
       "      <td>Perfume</td>\n",
       "      <td>2</td>\n",
       "    </tr>\n",
       "    <tr>\n",
       "      <th>4</th>\n",
       "      <td>P473658</td>\n",
       "      <td>Purple Haze Eau de Parfum</td>\n",
       "      <td>6342</td>\n",
       "      <td>19-69</td>\n",
       "      <td>2691</td>\n",
       "      <td>3.2308</td>\n",
       "      <td>13.0</td>\n",
       "      <td>3.4 oz/ 100 mL</td>\n",
       "      <td>Size + Concentration + Formulation</td>\n",
       "      <td>3.4 oz/ 100 mL</td>\n",
       "      <td>['Alcohol Denat. (SD Alcohol 39C), Parfum (Fra...</td>\n",
       "      <td>195.0</td>\n",
       "      <td>0</td>\n",
       "      <td>0</td>\n",
       "      <td>1</td>\n",
       "      <td>0</td>\n",
       "      <td>0</td>\n",
       "      <td>['Unisex/ Genderless Scent', 'Layerable Scent'...</td>\n",
       "      <td>Fragrance</td>\n",
       "      <td>Women</td>\n",
       "      <td>Perfume</td>\n",
       "      <td>2</td>\n",
       "    </tr>\n",
       "  </tbody>\n",
       "</table>\n",
       "</div>"
      ],
      "text/plain": [
       "  product_id               product_name  brand_id brand_name  loves_count  \\\n",
       "0    P473671    Fragrance Discovery Set      6342      19-69         6320   \n",
       "1    P473668    La Habana Eau de Parfum      6342      19-69         3827   \n",
       "2    P473662  Rainbow Bar Eau de Parfum      6342      19-69         3253   \n",
       "3    P473660       Kasbah Eau de Parfum      6342      19-69         3018   \n",
       "4    P473658  Purple Haze Eau de Parfum      6342      19-69         2691   \n",
       "\n",
       "   rating  reviews            size                      variation_type  \\\n",
       "0  3.6364     11.0             NaN                                 NaN   \n",
       "1  4.1538     13.0  3.4 oz/ 100 mL  Size + Concentration + Formulation   \n",
       "2  4.2500     16.0  3.4 oz/ 100 mL  Size + Concentration + Formulation   \n",
       "3  4.4762     21.0  3.4 oz/ 100 mL  Size + Concentration + Formulation   \n",
       "4  3.2308     13.0  3.4 oz/ 100 mL  Size + Concentration + Formulation   \n",
       "\n",
       "  variation_value                                        ingredients  \\\n",
       "0             NaN  ['Capri Eau de Parfum:', 'Alcohol Denat. (SD A...   \n",
       "1  3.4 oz/ 100 mL  ['Alcohol Denat. (SD Alcohol 39C), Parfum (Fra...   \n",
       "2  3.4 oz/ 100 mL  ['Alcohol Denat. (SD Alcohol 39C), Parfum (Fra...   \n",
       "3  3.4 oz/ 100 mL  ['Alcohol Denat. (SD Alcohol 39C), Parfum (Fra...   \n",
       "4  3.4 oz/ 100 mL  ['Alcohol Denat. (SD Alcohol 39C), Parfum (Fra...   \n",
       "\n",
       "   price_usd  limited_edition  new  online_only  out_of_stock  \\\n",
       "0       35.0                0    0            1             0   \n",
       "1      195.0                0    0            1             0   \n",
       "2      195.0                0    0            1             0   \n",
       "3      195.0                0    0            1             0   \n",
       "4      195.0                0    0            1             0   \n",
       "\n",
       "   sephora_exclusive                                         highlights  \\\n",
       "0                  0  ['Unisex/ Genderless Scent', 'Warm &Spicy Scen...   \n",
       "1                  0  ['Unisex/ Genderless Scent', 'Layerable Scent'...   \n",
       "2                  0  ['Unisex/ Genderless Scent', 'Layerable Scent'...   \n",
       "3                  0  ['Unisex/ Genderless Scent', 'Layerable Scent'...   \n",
       "4                  0  ['Unisex/ Genderless Scent', 'Layerable Scent'...   \n",
       "\n",
       "  primary_category secondary_category  tertiary_category  child_count  \n",
       "0        Fragrance  Value & Gift Sets  Perfume Gift Sets            0  \n",
       "1        Fragrance              Women            Perfume            2  \n",
       "2        Fragrance              Women            Perfume            2  \n",
       "3        Fragrance              Women            Perfume            2  \n",
       "4        Fragrance              Women            Perfume            2  "
      ]
     },
     "execution_count": 22,
     "metadata": {},
     "output_type": "execute_result"
    }
   ],
   "source": [
    "df.head()"
   ]
  },
  {
   "cell_type": "code",
   "execution_count": 23,
   "id": "f689473b",
   "metadata": {
    "colab": {
     "base_uri": "https://localhost:8080/"
    },
    "id": "f689473b",
    "outputId": "9b70ece9-afea-45d8-f81f-9c29b8f70866"
   },
   "outputs": [
    {
     "data": {
      "text/plain": [
       "rating\n",
       "5.0000    256\n",
       "4.0000    174\n",
       "4.5000     82\n",
       "4.3333     68\n",
       "3.0000     66\n",
       "Name: count, dtype: int64"
      ]
     },
     "execution_count": 23,
     "metadata": {},
     "output_type": "execute_result"
    }
   ],
   "source": [
    "df.rating.value_counts().head()"
   ]
  },
  {
   "cell_type": "code",
   "execution_count": 24,
   "id": "92852ff4",
   "metadata": {
    "colab": {
     "base_uri": "https://localhost:8080/"
    },
    "id": "92852ff4",
    "outputId": "5425c15f-63e5-4293-bf06-c91050f6f7cb"
   },
   "outputs": [
    {
     "data": {
      "text/plain": [
       "4394"
      ]
     },
     "execution_count": 24,
     "metadata": {},
     "output_type": "execute_result"
    }
   ],
   "source": [
    "df.rating.nunique()"
   ]
  },
  {
   "cell_type": "code",
   "execution_count": 25,
   "id": "368b1770",
   "metadata": {
    "id": "368b1770"
   },
   "outputs": [],
   "source": [
    "df['rating'].fillna(df['rating'].median(), inplace=True)"
   ]
  },
  {
   "cell_type": "code",
   "execution_count": 26,
   "id": "6e4f4489",
   "metadata": {
    "id": "6e4f4489"
   },
   "outputs": [],
   "source": [
    "# Round ratings to the nearest 0.5 step\n",
    "df['rating'] = df['rating'].apply(lambda x: round(x * 2) / 2)"
   ]
  },
  {
   "cell_type": "code",
   "execution_count": 27,
   "id": "f97833af",
   "metadata": {
    "colab": {
     "base_uri": "https://localhost:8080/",
     "height": 288
    },
    "id": "f97833af",
    "outputId": "1da4296c-86d6-4e46-d085-e51da9566069"
   },
   "outputs": [
    {
     "data": {
      "text/html": [
       "<div>\n",
       "<style scoped>\n",
       "    .dataframe tbody tr th:only-of-type {\n",
       "        vertical-align: middle;\n",
       "    }\n",
       "\n",
       "    .dataframe tbody tr th {\n",
       "        vertical-align: top;\n",
       "    }\n",
       "\n",
       "    .dataframe thead th {\n",
       "        text-align: right;\n",
       "    }\n",
       "</style>\n",
       "<table border=\"1\" class=\"dataframe\">\n",
       "  <thead>\n",
       "    <tr style=\"text-align: right;\">\n",
       "      <th></th>\n",
       "      <th>product_id</th>\n",
       "      <th>product_name</th>\n",
       "      <th>brand_id</th>\n",
       "      <th>brand_name</th>\n",
       "      <th>loves_count</th>\n",
       "      <th>rating</th>\n",
       "      <th>reviews</th>\n",
       "      <th>size</th>\n",
       "      <th>variation_type</th>\n",
       "      <th>variation_value</th>\n",
       "      <th>ingredients</th>\n",
       "      <th>price_usd</th>\n",
       "      <th>limited_edition</th>\n",
       "      <th>new</th>\n",
       "      <th>online_only</th>\n",
       "      <th>out_of_stock</th>\n",
       "      <th>sephora_exclusive</th>\n",
       "      <th>highlights</th>\n",
       "      <th>primary_category</th>\n",
       "      <th>secondary_category</th>\n",
       "      <th>tertiary_category</th>\n",
       "      <th>child_count</th>\n",
       "    </tr>\n",
       "  </thead>\n",
       "  <tbody>\n",
       "    <tr>\n",
       "      <th>0</th>\n",
       "      <td>P473671</td>\n",
       "      <td>Fragrance Discovery Set</td>\n",
       "      <td>6342</td>\n",
       "      <td>19-69</td>\n",
       "      <td>6320</td>\n",
       "      <td>3.5</td>\n",
       "      <td>11.0</td>\n",
       "      <td>NaN</td>\n",
       "      <td>NaN</td>\n",
       "      <td>NaN</td>\n",
       "      <td>['Capri Eau de Parfum:', 'Alcohol Denat. (SD A...</td>\n",
       "      <td>35.0</td>\n",
       "      <td>0</td>\n",
       "      <td>0</td>\n",
       "      <td>1</td>\n",
       "      <td>0</td>\n",
       "      <td>0</td>\n",
       "      <td>['Unisex/ Genderless Scent', 'Warm &amp;Spicy Scen...</td>\n",
       "      <td>Fragrance</td>\n",
       "      <td>Value &amp; Gift Sets</td>\n",
       "      <td>Perfume Gift Sets</td>\n",
       "      <td>0</td>\n",
       "    </tr>\n",
       "    <tr>\n",
       "      <th>1</th>\n",
       "      <td>P473668</td>\n",
       "      <td>La Habana Eau de Parfum</td>\n",
       "      <td>6342</td>\n",
       "      <td>19-69</td>\n",
       "      <td>3827</td>\n",
       "      <td>4.0</td>\n",
       "      <td>13.0</td>\n",
       "      <td>3.4 oz/ 100 mL</td>\n",
       "      <td>Size + Concentration + Formulation</td>\n",
       "      <td>3.4 oz/ 100 mL</td>\n",
       "      <td>['Alcohol Denat. (SD Alcohol 39C), Parfum (Fra...</td>\n",
       "      <td>195.0</td>\n",
       "      <td>0</td>\n",
       "      <td>0</td>\n",
       "      <td>1</td>\n",
       "      <td>0</td>\n",
       "      <td>0</td>\n",
       "      <td>['Unisex/ Genderless Scent', 'Layerable Scent'...</td>\n",
       "      <td>Fragrance</td>\n",
       "      <td>Women</td>\n",
       "      <td>Perfume</td>\n",
       "      <td>2</td>\n",
       "    </tr>\n",
       "  </tbody>\n",
       "</table>\n",
       "</div>"
      ],
      "text/plain": [
       "  product_id             product_name  brand_id brand_name  loves_count  \\\n",
       "0    P473671  Fragrance Discovery Set      6342      19-69         6320   \n",
       "1    P473668  La Habana Eau de Parfum      6342      19-69         3827   \n",
       "\n",
       "   rating  reviews            size                      variation_type  \\\n",
       "0     3.5     11.0             NaN                                 NaN   \n",
       "1     4.0     13.0  3.4 oz/ 100 mL  Size + Concentration + Formulation   \n",
       "\n",
       "  variation_value                                        ingredients  \\\n",
       "0             NaN  ['Capri Eau de Parfum:', 'Alcohol Denat. (SD A...   \n",
       "1  3.4 oz/ 100 mL  ['Alcohol Denat. (SD Alcohol 39C), Parfum (Fra...   \n",
       "\n",
       "   price_usd  limited_edition  new  online_only  out_of_stock  \\\n",
       "0       35.0                0    0            1             0   \n",
       "1      195.0                0    0            1             0   \n",
       "\n",
       "   sephora_exclusive                                         highlights  \\\n",
       "0                  0  ['Unisex/ Genderless Scent', 'Warm &Spicy Scen...   \n",
       "1                  0  ['Unisex/ Genderless Scent', 'Layerable Scent'...   \n",
       "\n",
       "  primary_category secondary_category  tertiary_category  child_count  \n",
       "0        Fragrance  Value & Gift Sets  Perfume Gift Sets            0  \n",
       "1        Fragrance              Women            Perfume            2  "
      ]
     },
     "execution_count": 27,
     "metadata": {},
     "output_type": "execute_result"
    }
   ],
   "source": [
    "df.head(2)"
   ]
  },
  {
   "cell_type": "code",
   "execution_count": 28,
   "id": "2f90b8b2",
   "metadata": {
    "colab": {
     "base_uri": "https://localhost:8080/"
    },
    "id": "2f90b8b2",
    "outputId": "eb5e812b-6695-407e-880c-e05beae22f24"
   },
   "outputs": [
    {
     "data": {
      "text/plain": [
       "rating\n",
       "4.5    3971\n",
       "4.0    2499\n",
       "3.5     877\n",
       "5.0     724\n",
       "3.0     284\n",
       "2.5      80\n",
       "2.0      40\n",
       "1.0      14\n",
       "1.5       5\n",
       "Name: count, dtype: int64"
      ]
     },
     "execution_count": 28,
     "metadata": {},
     "output_type": "execute_result"
    }
   ],
   "source": [
    "df.rating.value_counts()"
   ]
  },
  {
   "cell_type": "code",
   "execution_count": 29,
   "id": "8a6c0ec1",
   "metadata": {
    "colab": {
     "base_uri": "https://localhost:8080/"
    },
    "id": "8a6c0ec1",
    "outputId": "c50e4e07-43e4-4e3b-b583-d4270bf662d6"
   },
   "outputs": [
    {
     "data": {
      "text/plain": [
       "reviews\n",
       "2.0    144\n",
       "4.0    134\n",
       "3.0    124\n",
       "1.0    124\n",
       "6.0    124\n",
       "Name: count, dtype: int64"
      ]
     },
     "execution_count": 29,
     "metadata": {},
     "output_type": "execute_result"
    }
   ],
   "source": [
    "df.reviews.value_counts().head()"
   ]
  },
  {
   "cell_type": "markdown",
   "id": "812df11c",
   "metadata": {
    "id": "812df11c"
   },
   "source": [
    "Filling reviews number column with 0 as it is inline with the dataset."
   ]
  },
  {
   "cell_type": "code",
   "execution_count": 30,
   "id": "1c73aa80",
   "metadata": {
    "id": "1c73aa80"
   },
   "outputs": [],
   "source": [
    "# Filling NaN values with 0\n",
    "df['reviews'].fillna(0, inplace=True)"
   ]
  },
  {
   "cell_type": "code",
   "execution_count": 31,
   "id": "a8abcb9d",
   "metadata": {
    "colab": {
     "base_uri": "https://localhost:8080/"
    },
    "id": "a8abcb9d",
    "outputId": "8110a22f-14c9-4868-934b-0e5003b1f453"
   },
   "outputs": [
    {
     "data": {
      "text/plain": [
       "size\n",
       "1.7 oz/ 50 mL     500\n",
       "1 oz/ 30 mL       366\n",
       "3.4 oz/ 100 mL    211\n",
       "0.5 oz/ 15 mL     171\n",
       "1.7 oz / 50 mL    124\n",
       "Name: count, dtype: int64"
      ]
     },
     "execution_count": 31,
     "metadata": {},
     "output_type": "execute_result"
    }
   ],
   "source": [
    "df['size'].value_counts().head()"
   ]
  },
  {
   "cell_type": "code",
   "execution_count": 32,
   "id": "eed06b93",
   "metadata": {
    "colab": {
     "base_uri": "https://localhost:8080/"
    },
    "id": "eed06b93",
    "outputId": "39aa15f1-c1a0-4786-b58a-813a36d169c3"
   },
   "outputs": [
    {
     "data": {
      "text/plain": [
       "variation_value\n",
       "1.7 oz/ 50 mL     374\n",
       "1 oz/ 30 mL       302\n",
       "0.5 oz/ 15 mL     147\n",
       "3.4 oz/ 100 mL    128\n",
       "1.7 oz / 50 mL     96\n",
       "Name: count, dtype: int64"
      ]
     },
     "execution_count": 32,
     "metadata": {},
     "output_type": "execute_result"
    }
   ],
   "source": [
    "df['variation_value'].value_counts().head()"
   ]
  },
  {
   "cell_type": "code",
   "execution_count": 33,
   "id": "cd0a9e07",
   "metadata": {
    "colab": {
     "base_uri": "https://localhost:8080/"
    },
    "id": "cd0a9e07",
    "outputId": "ef3ffa69-f62d-4d09-be46-fb69f344eb14"
   },
   "outputs": [
    {
     "data": {
      "text/plain": [
       "array([nan, '3.4 oz/ 100 mL', '0.25 oz/ 7.5 mL', ..., '0.25 oz/ 7.5 ml',\n",
       "       '2.6 oz', '.11 oz / 3.2 mL'], dtype=object)"
      ]
     },
     "execution_count": 33,
     "metadata": {},
     "output_type": "execute_result"
    }
   ],
   "source": [
    "df['size'].unique()"
   ]
  },
  {
   "cell_type": "code",
   "execution_count": 34,
   "id": "8182c4fd",
   "metadata": {
    "colab": {
     "base_uri": "https://localhost:8080/"
    },
    "id": "8182c4fd",
    "outputId": "81dcff9b-0931-41c7-c26c-08d36df98f30"
   },
   "outputs": [
    {
     "data": {
      "text/plain": [
       "array(['Value & Gift Sets', 'Eye Care', 'Hair Styling & Treatments',\n",
       "       'Face', 'Tools', 'Eye', 'Brushes & Applicators', 'Lip',\n",
       "       'Makeup Palettes', 'Beauty Tools', 'Mini Size', 'Accessories',\n",
       "       'Makeup', 'Cheek', 'Wellness', 'High Tech Tools', 'Sunscreen',\n",
       "       'Candles & Home Scents', 'Shampoo & Conditioner',\n",
       "       'Body Moisturizers', 'Women', 'Masks', 'Treatments', 'Skincare',\n",
       "       'Hair Tools', 'Body Care', 'Nail', 'Cleansers',\n",
       "       'Lip Balms & Treatments', 'Moisturizers', 'Beauty Accessories',\n",
       "       'Shop by Concern', 'Shaving', 'Self Tanners', 'Bath & Shower',\n",
       "       'Fragrance', nan], dtype=object)"
      ]
     },
     "execution_count": 34,
     "metadata": {},
     "output_type": "execute_result"
    }
   ],
   "source": [
    "df[df['size'].isna()]['secondary_category'].unique()"
   ]
  },
  {
   "cell_type": "code",
   "execution_count": 35,
   "id": "2afcbf34",
   "metadata": {
    "colab": {
     "base_uri": "https://localhost:8080/"
    },
    "id": "2afcbf34",
    "outputId": "edbae698-0f53-43cd-c51b-396df4b7b456"
   },
   "outputs": [
    {
     "data": {
      "text/plain": [
       "array(['Fragrance', 'Bath & Body', 'Hair', 'Skincare', 'Makeup',\n",
       "       'Tools & Brushes', 'Mini Size', 'Men', 'Gifts'], dtype=object)"
      ]
     },
     "execution_count": 35,
     "metadata": {},
     "output_type": "execute_result"
    }
   ],
   "source": [
    "df[df['size'].isna()]['primary_category'].unique()"
   ]
  },
  {
   "cell_type": "code",
   "execution_count": 36,
   "id": "5973b0e4",
   "metadata": {
    "id": "5973b0e4"
   },
   "outputs": [],
   "source": [
    "def extract_ounces(size_str):\n",
    "    if pd.isna(size_str):\n",
    "        return np.nan\n",
    "    # Find all occurrences of numbers followed by 'oz'\n",
    "    matches = re.findall(r'(\\d*\\.?\\d+)\\s*oz', size_str, re.IGNORECASE)\n",
    "    # Get the first match as a float\n",
    "    return round(float(matches[0]), 2) if matches else np.nan\n",
    "\n",
    "# Apply the function to the 'size' column to extract ounce values\n",
    "df['size'] = df['size'].apply(extract_ounces)"
   ]
  },
  {
   "cell_type": "code",
   "execution_count": 37,
   "id": "841d168b",
   "metadata": {
    "id": "841d168b"
   },
   "outputs": [],
   "source": [
    "median_oz = round(df['size'].median(), 2)\n",
    "\n",
    "# Fill NaN values with the rounded median 'oz' value\n",
    "df['size'].fillna(median_oz, inplace=True)"
   ]
  },
  {
   "cell_type": "code",
   "execution_count": 38,
   "id": "91ffa5b7",
   "metadata": {
    "colab": {
     "base_uri": "https://localhost:8080/",
     "height": 188
    },
    "id": "91ffa5b7",
    "outputId": "9fab6f4b-764c-4d97-fd4c-71ddce5ff915"
   },
   "outputs": [
    {
     "data": {
      "text/html": [
       "<div>\n",
       "<style scoped>\n",
       "    .dataframe tbody tr th:only-of-type {\n",
       "        vertical-align: middle;\n",
       "    }\n",
       "\n",
       "    .dataframe tbody tr th {\n",
       "        vertical-align: top;\n",
       "    }\n",
       "\n",
       "    .dataframe thead th {\n",
       "        text-align: right;\n",
       "    }\n",
       "</style>\n",
       "<table border=\"1\" class=\"dataframe\">\n",
       "  <thead>\n",
       "    <tr style=\"text-align: right;\">\n",
       "      <th></th>\n",
       "      <th>product_id</th>\n",
       "      <th>product_name</th>\n",
       "      <th>brand_id</th>\n",
       "      <th>brand_name</th>\n",
       "      <th>loves_count</th>\n",
       "      <th>rating</th>\n",
       "      <th>reviews</th>\n",
       "      <th>size</th>\n",
       "      <th>variation_type</th>\n",
       "      <th>variation_value</th>\n",
       "      <th>ingredients</th>\n",
       "      <th>price_usd</th>\n",
       "      <th>limited_edition</th>\n",
       "      <th>new</th>\n",
       "      <th>online_only</th>\n",
       "      <th>out_of_stock</th>\n",
       "      <th>sephora_exclusive</th>\n",
       "      <th>highlights</th>\n",
       "      <th>primary_category</th>\n",
       "      <th>secondary_category</th>\n",
       "      <th>tertiary_category</th>\n",
       "      <th>child_count</th>\n",
       "    </tr>\n",
       "  </thead>\n",
       "  <tbody>\n",
       "    <tr>\n",
       "      <th>0</th>\n",
       "      <td>P473671</td>\n",
       "      <td>Fragrance Discovery Set</td>\n",
       "      <td>6342</td>\n",
       "      <td>19-69</td>\n",
       "      <td>6320</td>\n",
       "      <td>3.5</td>\n",
       "      <td>11.0</td>\n",
       "      <td>1.7</td>\n",
       "      <td>NaN</td>\n",
       "      <td>NaN</td>\n",
       "      <td>['Capri Eau de Parfum:', 'Alcohol Denat. (SD A...</td>\n",
       "      <td>35.0</td>\n",
       "      <td>0</td>\n",
       "      <td>0</td>\n",
       "      <td>1</td>\n",
       "      <td>0</td>\n",
       "      <td>0</td>\n",
       "      <td>['Unisex/ Genderless Scent', 'Warm &amp;Spicy Scen...</td>\n",
       "      <td>Fragrance</td>\n",
       "      <td>Value &amp; Gift Sets</td>\n",
       "      <td>Perfume Gift Sets</td>\n",
       "      <td>0</td>\n",
       "    </tr>\n",
       "  </tbody>\n",
       "</table>\n",
       "</div>"
      ],
      "text/plain": [
       "  product_id             product_name  brand_id brand_name  loves_count  \\\n",
       "0    P473671  Fragrance Discovery Set      6342      19-69         6320   \n",
       "\n",
       "   rating  reviews  size variation_type variation_value  \\\n",
       "0     3.5     11.0   1.7            NaN             NaN   \n",
       "\n",
       "                                         ingredients  price_usd  \\\n",
       "0  ['Capri Eau de Parfum:', 'Alcohol Denat. (SD A...       35.0   \n",
       "\n",
       "   limited_edition  new  online_only  out_of_stock  sephora_exclusive  \\\n",
       "0                0    0            1             0                  0   \n",
       "\n",
       "                                          highlights primary_category  \\\n",
       "0  ['Unisex/ Genderless Scent', 'Warm &Spicy Scen...        Fragrance   \n",
       "\n",
       "  secondary_category  tertiary_category  child_count  \n",
       "0  Value & Gift Sets  Perfume Gift Sets            0  "
      ]
     },
     "execution_count": 38,
     "metadata": {},
     "output_type": "execute_result"
    }
   ],
   "source": [
    "df.head(1)"
   ]
  },
  {
   "cell_type": "code",
   "execution_count": 39,
   "id": "d82db2a4",
   "metadata": {
    "colab": {
     "base_uri": "https://localhost:8080/"
    },
    "id": "d82db2a4",
    "outputId": "32e0dc26-954a-4411-9d24-4e2b5d43a6c2"
   },
   "outputs": [
    {
     "data": {
      "text/plain": [
       "variation_type        1444\n",
       "variation_value       1598\n",
       "ingredients            945\n",
       "highlights            2207\n",
       "secondary_category       8\n",
       "tertiary_category      990\n",
       "dtype: int64"
      ]
     },
     "execution_count": 39,
     "metadata": {},
     "output_type": "execute_result"
    }
   ],
   "source": [
    "df.isna().sum()[df.isna().sum()!=0]"
   ]
  },
  {
   "cell_type": "code",
   "execution_count": 40,
   "id": "343d7c22",
   "metadata": {
    "colab": {
     "base_uri": "https://localhost:8080/"
    },
    "id": "343d7c22",
    "outputId": "1431c0b2-38c6-4856-895d-4cbfda054f3c"
   },
   "outputs": [
    {
     "data": {
      "text/plain": [
       "variation_type\n",
       "Size                                  4043\n",
       "Color                                 1700\n",
       "Size + Concentration + Formulation    1173\n",
       "Type                                    88\n",
       "Scent                                   30\n",
       "Size + Concentration                    11\n",
       "Formulation                              5\n",
       "Name: count, dtype: int64"
      ]
     },
     "execution_count": 40,
     "metadata": {},
     "output_type": "execute_result"
    }
   ],
   "source": [
    "df.variation_type.value_counts()"
   ]
  },
  {
   "cell_type": "code",
   "execution_count": 40,
   "id": "9baf225d",
   "metadata": {
    "id": "9baf225d"
   },
   "outputs": [],
   "source": [
    "threshold = 100\n",
    "\n",
    "# Group variation types with counts below the threshold into 'Other'\n",
    "value_counts = df['variation_type'].value_counts()\n",
    "to_replace = value_counts[value_counts < threshold].index\n",
    "df['variation_type'] = df['variation_type'].replace(to_replace, 'Other')"
   ]
  },
  {
   "cell_type": "code",
   "execution_count": 41,
   "id": "451fcc9e",
   "metadata": {
    "colab": {
     "base_uri": "https://localhost:8080/"
    },
    "id": "451fcc9e",
    "outputId": "0d0ccdd3-1f16-4888-9f15-6bd160dfdb63"
   },
   "outputs": [
    {
     "data": {
      "text/plain": [
       "variation_type\n",
       "Size                                  4043\n",
       "Color                                 1700\n",
       "Size + Concentration + Formulation    1173\n",
       "Other                                  134\n",
       "Name: count, dtype: int64"
      ]
     },
     "execution_count": 41,
     "metadata": {},
     "output_type": "execute_result"
    }
   ],
   "source": [
    "df.variation_type.value_counts()"
   ]
  },
  {
   "cell_type": "code",
   "execution_count": 42,
   "id": "0c41b19b",
   "metadata": {
    "id": "0c41b19b"
   },
   "outputs": [],
   "source": [
    "df['variation_type'].fillna('Unknown', inplace=True)"
   ]
  },
  {
   "cell_type": "code",
   "execution_count": 43,
   "id": "b01a1810",
   "metadata": {
    "colab": {
     "base_uri": "https://localhost:8080/"
    },
    "id": "b01a1810",
    "outputId": "9367368a-759d-424e-9423-b7e81947882d"
   },
   "outputs": [
    {
     "data": {
      "text/plain": [
       "variation_type\n",
       "Size                                  4043\n",
       "Color                                 1700\n",
       "Unknown                               1444\n",
       "Size + Concentration + Formulation    1173\n",
       "Other                                  134\n",
       "Name: count, dtype: int64"
      ]
     },
     "execution_count": 43,
     "metadata": {},
     "output_type": "execute_result"
    }
   ],
   "source": [
    "df.variation_type.value_counts()"
   ]
  },
  {
   "cell_type": "markdown",
   "id": "f09aa50e",
   "metadata": {
    "id": "f09aa50e"
   },
   "source": [
    "Dropping variation_value as it is highly correlated to the size column."
   ]
  },
  {
   "cell_type": "code",
   "execution_count": 44,
   "id": "33c425c1",
   "metadata": {
    "id": "33c425c1"
   },
   "outputs": [],
   "source": [
    "df.drop(columns=['variation_value'], inplace = True)"
   ]
  },
  {
   "cell_type": "code",
   "execution_count": 45,
   "id": "5d8ec77b",
   "metadata": {
    "colab": {
     "base_uri": "https://localhost:8080/"
    },
    "id": "5d8ec77b",
    "outputId": "ad0e6685-f113-4a82-e43a-9e554197b319"
   },
   "outputs": [
    {
     "data": {
      "text/plain": [
       "ingredients            945\n",
       "highlights            2207\n",
       "secondary_category       8\n",
       "tertiary_category      990\n",
       "dtype: int64"
      ]
     },
     "execution_count": 45,
     "metadata": {},
     "output_type": "execute_result"
    }
   ],
   "source": [
    "df.isna().sum()[df.isna().sum()!=0]"
   ]
  },
  {
   "cell_type": "code",
   "execution_count": 46,
   "id": "23512a52",
   "metadata": {
    "id": "23512a52"
   },
   "outputs": [],
   "source": [
    "df['ingredients'].fillna('Unknown', inplace=True)"
   ]
  },
  {
   "cell_type": "code",
   "execution_count": 47,
   "id": "762ac2c8",
   "metadata": {
    "id": "762ac2c8"
   },
   "outputs": [],
   "source": [
    "# Replace NaN values in 'highlights' with a list containing 'No Highlights'\n",
    "df['highlights'].fillna('Unknown', inplace=True)"
   ]
  },
  {
   "cell_type": "code",
   "execution_count": 48,
   "id": "a3619ade",
   "metadata": {
    "colab": {
     "base_uri": "https://localhost:8080/"
    },
    "id": "a3619ade",
    "outputId": "61478440-6b8a-4cd7-9ce0-f93c7c8b96bc",
    "scrolled": true
   },
   "outputs": [
    {
     "data": {
      "text/plain": [
       "secondary_category      8\n",
       "tertiary_category     990\n",
       "dtype: int64"
      ]
     },
     "execution_count": 48,
     "metadata": {},
     "output_type": "execute_result"
    }
   ],
   "source": [
    "df.isna().sum()[df.isna().sum()!=0]"
   ]
  },
  {
   "cell_type": "code",
   "execution_count": 49,
   "id": "438fd39c",
   "metadata": {
    "id": "438fd39c"
   },
   "outputs": [],
   "source": [
    "df = df.dropna(subset=['secondary_category'])"
   ]
  },
  {
   "cell_type": "code",
   "execution_count": 50,
   "id": "23685aca",
   "metadata": {
    "id": "23685aca"
   },
   "outputs": [],
   "source": [
    "def fill_categories_from_product_name(product_names, categories):\n",
    "    # Define a list of keywords to look for in product names\n",
    "    keywords = ['cleanser', 'moisturizer', 'perfume', 'shampoo', 'spray', 'nail polish', 'balm',\n",
    "               'mascara','brow pencil','primer','oil','conditioner','set','hair','gel','suncsreen','exfoliator',\n",
    "                'kit','mask','primer','face wash','treatment','blush','cream','Highlighter','powder','serum',\n",
    "               'contour','nail','toner','candle','concealer','exfoliant','sunscreen','tint']\n",
    "    # Join keywords into a regex pattern\n",
    "    pattern = '|'.join(keywords)\n",
    "\n",
    "    # Function to search for keywords in the product name\n",
    "    def find_keyword(product_name):\n",
    "        match = re.search(pattern, product_name, re.IGNORECASE)\n",
    "        return match.group(0) if match else \"Unknown\"\n",
    "\n",
    "    # Apply the find_keyword function to fill NaN values\n",
    "    filled_categories = categories.copy()  # Avoid modifying the original Series\n",
    "    # For rows with NaN in categories, extract and use the keyword from product names\n",
    "    condition = filled_categories.isna()\n",
    "    filled_categories[condition] = product_names[condition].apply(find_keyword)\n",
    "\n",
    "    return filled_categories\n",
    "\n",
    "# Apply the function\n",
    "df['tertiary_category'] = fill_categories_from_product_name(df['product_name'], df['tertiary_category'])"
   ]
  },
  {
   "cell_type": "code",
   "execution_count": 51,
   "id": "a4e1103c",
   "metadata": {
    "colab": {
     "base_uri": "https://localhost:8080/",
     "height": 591
    },
    "id": "a4e1103c",
    "outputId": "5066e2ba-e9c6-4fec-b42d-ce3b459bd264"
   },
   "outputs": [
    {
     "data": {
      "application/vnd.google.colaboratory.intrinsic+json": {
       "type": "dataframe",
       "variable_name": "df"
      },
      "text/html": [
       "\n",
       "  <div id=\"df-ec1ec4df-fc60-4047-933d-3150fb054712\" class=\"colab-df-container\">\n",
       "    <div>\n",
       "<style scoped>\n",
       "    .dataframe tbody tr th:only-of-type {\n",
       "        vertical-align: middle;\n",
       "    }\n",
       "\n",
       "    .dataframe tbody tr th {\n",
       "        vertical-align: top;\n",
       "    }\n",
       "\n",
       "    .dataframe thead th {\n",
       "        text-align: right;\n",
       "    }\n",
       "</style>\n",
       "<table border=\"1\" class=\"dataframe\">\n",
       "  <thead>\n",
       "    <tr style=\"text-align: right;\">\n",
       "      <th></th>\n",
       "      <th>product_id</th>\n",
       "      <th>product_name</th>\n",
       "      <th>brand_id</th>\n",
       "      <th>brand_name</th>\n",
       "      <th>loves_count</th>\n",
       "      <th>rating</th>\n",
       "      <th>reviews</th>\n",
       "      <th>size</th>\n",
       "      <th>variation_type</th>\n",
       "      <th>ingredients</th>\n",
       "      <th>price_usd</th>\n",
       "      <th>limited_edition</th>\n",
       "      <th>new</th>\n",
       "      <th>online_only</th>\n",
       "      <th>out_of_stock</th>\n",
       "      <th>sephora_exclusive</th>\n",
       "      <th>highlights</th>\n",
       "      <th>primary_category</th>\n",
       "      <th>secondary_category</th>\n",
       "      <th>tertiary_category</th>\n",
       "      <th>child_count</th>\n",
       "    </tr>\n",
       "  </thead>\n",
       "  <tbody>\n",
       "    <tr>\n",
       "      <th>0</th>\n",
       "      <td>P473671</td>\n",
       "      <td>Fragrance Discovery Set</td>\n",
       "      <td>6342</td>\n",
       "      <td>19-69</td>\n",
       "      <td>6320</td>\n",
       "      <td>3.5</td>\n",
       "      <td>11.0</td>\n",
       "      <td>1.7</td>\n",
       "      <td>Unknown</td>\n",
       "      <td>['Capri Eau de Parfum:', 'Alcohol Denat. (SD A...</td>\n",
       "      <td>35.0</td>\n",
       "      <td>0</td>\n",
       "      <td>0</td>\n",
       "      <td>1</td>\n",
       "      <td>0</td>\n",
       "      <td>0</td>\n",
       "      <td>['Unisex/ Genderless Scent', 'Warm &amp;Spicy Scen...</td>\n",
       "      <td>Fragrance</td>\n",
       "      <td>Value &amp; Gift Sets</td>\n",
       "      <td>Perfume Gift Sets</td>\n",
       "      <td>0</td>\n",
       "    </tr>\n",
       "    <tr>\n",
       "      <th>1</th>\n",
       "      <td>P473668</td>\n",
       "      <td>La Habana Eau de Parfum</td>\n",
       "      <td>6342</td>\n",
       "      <td>19-69</td>\n",
       "      <td>3827</td>\n",
       "      <td>4.0</td>\n",
       "      <td>13.0</td>\n",
       "      <td>3.4</td>\n",
       "      <td>Size + Concentration + Formulation</td>\n",
       "      <td>['Alcohol Denat. (SD Alcohol 39C), Parfum (Fra...</td>\n",
       "      <td>195.0</td>\n",
       "      <td>0</td>\n",
       "      <td>0</td>\n",
       "      <td>1</td>\n",
       "      <td>0</td>\n",
       "      <td>0</td>\n",
       "      <td>['Unisex/ Genderless Scent', 'Layerable Scent'...</td>\n",
       "      <td>Fragrance</td>\n",
       "      <td>Women</td>\n",
       "      <td>Perfume</td>\n",
       "      <td>2</td>\n",
       "    </tr>\n",
       "    <tr>\n",
       "      <th>2</th>\n",
       "      <td>P473662</td>\n",
       "      <td>Rainbow Bar Eau de Parfum</td>\n",
       "      <td>6342</td>\n",
       "      <td>19-69</td>\n",
       "      <td>3253</td>\n",
       "      <td>4.0</td>\n",
       "      <td>16.0</td>\n",
       "      <td>3.4</td>\n",
       "      <td>Size + Concentration + Formulation</td>\n",
       "      <td>['Alcohol Denat. (SD Alcohol 39C), Parfum (Fra...</td>\n",
       "      <td>195.0</td>\n",
       "      <td>0</td>\n",
       "      <td>0</td>\n",
       "      <td>1</td>\n",
       "      <td>0</td>\n",
       "      <td>0</td>\n",
       "      <td>['Unisex/ Genderless Scent', 'Layerable Scent'...</td>\n",
       "      <td>Fragrance</td>\n",
       "      <td>Women</td>\n",
       "      <td>Perfume</td>\n",
       "      <td>2</td>\n",
       "    </tr>\n",
       "    <tr>\n",
       "      <th>3</th>\n",
       "      <td>P473660</td>\n",
       "      <td>Kasbah Eau de Parfum</td>\n",
       "      <td>6342</td>\n",
       "      <td>19-69</td>\n",
       "      <td>3018</td>\n",
       "      <td>4.5</td>\n",
       "      <td>21.0</td>\n",
       "      <td>3.4</td>\n",
       "      <td>Size + Concentration + Formulation</td>\n",
       "      <td>['Alcohol Denat. (SD Alcohol 39C), Parfum (Fra...</td>\n",
       "      <td>195.0</td>\n",
       "      <td>0</td>\n",
       "      <td>0</td>\n",
       "      <td>1</td>\n",
       "      <td>0</td>\n",
       "      <td>0</td>\n",
       "      <td>['Unisex/ Genderless Scent', 'Layerable Scent'...</td>\n",
       "      <td>Fragrance</td>\n",
       "      <td>Women</td>\n",
       "      <td>Perfume</td>\n",
       "      <td>2</td>\n",
       "    </tr>\n",
       "    <tr>\n",
       "      <th>4</th>\n",
       "      <td>P473658</td>\n",
       "      <td>Purple Haze Eau de Parfum</td>\n",
       "      <td>6342</td>\n",
       "      <td>19-69</td>\n",
       "      <td>2691</td>\n",
       "      <td>3.0</td>\n",
       "      <td>13.0</td>\n",
       "      <td>3.4</td>\n",
       "      <td>Size + Concentration + Formulation</td>\n",
       "      <td>['Alcohol Denat. (SD Alcohol 39C), Parfum (Fra...</td>\n",
       "      <td>195.0</td>\n",
       "      <td>0</td>\n",
       "      <td>0</td>\n",
       "      <td>1</td>\n",
       "      <td>0</td>\n",
       "      <td>0</td>\n",
       "      <td>['Unisex/ Genderless Scent', 'Layerable Scent'...</td>\n",
       "      <td>Fragrance</td>\n",
       "      <td>Women</td>\n",
       "      <td>Perfume</td>\n",
       "      <td>2</td>\n",
       "    </tr>\n",
       "  </tbody>\n",
       "</table>\n",
       "</div>\n",
       "    <div class=\"colab-df-buttons\">\n",
       "\n",
       "  <div class=\"colab-df-container\">\n",
       "    <button class=\"colab-df-convert\" onclick=\"convertToInteractive('df-ec1ec4df-fc60-4047-933d-3150fb054712')\"\n",
       "            title=\"Convert this dataframe to an interactive table.\"\n",
       "            style=\"display:none;\">\n",
       "\n",
       "  <svg xmlns=\"http://www.w3.org/2000/svg\" height=\"24px\" viewBox=\"0 -960 960 960\">\n",
       "    <path d=\"M120-120v-720h720v720H120Zm60-500h600v-160H180v160Zm220 220h160v-160H400v160Zm0 220h160v-160H400v160ZM180-400h160v-160H180v160Zm440 0h160v-160H620v160ZM180-180h160v-160H180v160Zm440 0h160v-160H620v160Z\"/>\n",
       "  </svg>\n",
       "    </button>\n",
       "\n",
       "  <style>\n",
       "    .colab-df-container {\n",
       "      display:flex;\n",
       "      gap: 12px;\n",
       "    }\n",
       "\n",
       "    .colab-df-convert {\n",
       "      background-color: #E8F0FE;\n",
       "      border: none;\n",
       "      border-radius: 50%;\n",
       "      cursor: pointer;\n",
       "      display: none;\n",
       "      fill: #1967D2;\n",
       "      height: 32px;\n",
       "      padding: 0 0 0 0;\n",
       "      width: 32px;\n",
       "    }\n",
       "\n",
       "    .colab-df-convert:hover {\n",
       "      background-color: #E2EBFA;\n",
       "      box-shadow: 0px 1px 2px rgba(60, 64, 67, 0.3), 0px 1px 3px 1px rgba(60, 64, 67, 0.15);\n",
       "      fill: #174EA6;\n",
       "    }\n",
       "\n",
       "    .colab-df-buttons div {\n",
       "      margin-bottom: 4px;\n",
       "    }\n",
       "\n",
       "    [theme=dark] .colab-df-convert {\n",
       "      background-color: #3B4455;\n",
       "      fill: #D2E3FC;\n",
       "    }\n",
       "\n",
       "    [theme=dark] .colab-df-convert:hover {\n",
       "      background-color: #434B5C;\n",
       "      box-shadow: 0px 1px 3px 1px rgba(0, 0, 0, 0.15);\n",
       "      filter: drop-shadow(0px 1px 2px rgba(0, 0, 0, 0.3));\n",
       "      fill: #FFFFFF;\n",
       "    }\n",
       "  </style>\n",
       "\n",
       "    <script>\n",
       "      const buttonEl =\n",
       "        document.querySelector('#df-ec1ec4df-fc60-4047-933d-3150fb054712 button.colab-df-convert');\n",
       "      buttonEl.style.display =\n",
       "        google.colab.kernel.accessAllowed ? 'block' : 'none';\n",
       "\n",
       "      async function convertToInteractive(key) {\n",
       "        const element = document.querySelector('#df-ec1ec4df-fc60-4047-933d-3150fb054712');\n",
       "        const dataTable =\n",
       "          await google.colab.kernel.invokeFunction('convertToInteractive',\n",
       "                                                    [key], {});\n",
       "        if (!dataTable) return;\n",
       "\n",
       "        const docLinkHtml = 'Like what you see? Visit the ' +\n",
       "          '<a target=\"_blank\" href=https://colab.research.google.com/notebooks/data_table.ipynb>data table notebook</a>'\n",
       "          + ' to learn more about interactive tables.';\n",
       "        element.innerHTML = '';\n",
       "        dataTable['output_type'] = 'display_data';\n",
       "        await google.colab.output.renderOutput(dataTable, element);\n",
       "        const docLink = document.createElement('div');\n",
       "        docLink.innerHTML = docLinkHtml;\n",
       "        element.appendChild(docLink);\n",
       "      }\n",
       "    </script>\n",
       "  </div>\n",
       "\n",
       "\n",
       "<div id=\"df-e23f321d-9313-4d8f-aac2-45234b3be0a0\">\n",
       "  <button class=\"colab-df-quickchart\" onclick=\"quickchart('df-e23f321d-9313-4d8f-aac2-45234b3be0a0')\"\n",
       "            title=\"Suggest charts\"\n",
       "            style=\"display:none;\">\n",
       "\n",
       "<svg xmlns=\"http://www.w3.org/2000/svg\" height=\"24px\"viewBox=\"0 0 24 24\"\n",
       "     width=\"24px\">\n",
       "    <g>\n",
       "        <path d=\"M19 3H5c-1.1 0-2 .9-2 2v14c0 1.1.9 2 2 2h14c1.1 0 2-.9 2-2V5c0-1.1-.9-2-2-2zM9 17H7v-7h2v7zm4 0h-2V7h2v10zm4 0h-2v-4h2v4z\"/>\n",
       "    </g>\n",
       "</svg>\n",
       "  </button>\n",
       "\n",
       "<style>\n",
       "  .colab-df-quickchart {\n",
       "      --bg-color: #E8F0FE;\n",
       "      --fill-color: #1967D2;\n",
       "      --hover-bg-color: #E2EBFA;\n",
       "      --hover-fill-color: #174EA6;\n",
       "      --disabled-fill-color: #AAA;\n",
       "      --disabled-bg-color: #DDD;\n",
       "  }\n",
       "\n",
       "  [theme=dark] .colab-df-quickchart {\n",
       "      --bg-color: #3B4455;\n",
       "      --fill-color: #D2E3FC;\n",
       "      --hover-bg-color: #434B5C;\n",
       "      --hover-fill-color: #FFFFFF;\n",
       "      --disabled-bg-color: #3B4455;\n",
       "      --disabled-fill-color: #666;\n",
       "  }\n",
       "\n",
       "  .colab-df-quickchart {\n",
       "    background-color: var(--bg-color);\n",
       "    border: none;\n",
       "    border-radius: 50%;\n",
       "    cursor: pointer;\n",
       "    display: none;\n",
       "    fill: var(--fill-color);\n",
       "    height: 32px;\n",
       "    padding: 0;\n",
       "    width: 32px;\n",
       "  }\n",
       "\n",
       "  .colab-df-quickchart:hover {\n",
       "    background-color: var(--hover-bg-color);\n",
       "    box-shadow: 0 1px 2px rgba(60, 64, 67, 0.3), 0 1px 3px 1px rgba(60, 64, 67, 0.15);\n",
       "    fill: var(--button-hover-fill-color);\n",
       "  }\n",
       "\n",
       "  .colab-df-quickchart-complete:disabled,\n",
       "  .colab-df-quickchart-complete:disabled:hover {\n",
       "    background-color: var(--disabled-bg-color);\n",
       "    fill: var(--disabled-fill-color);\n",
       "    box-shadow: none;\n",
       "  }\n",
       "\n",
       "  .colab-df-spinner {\n",
       "    border: 2px solid var(--fill-color);\n",
       "    border-color: transparent;\n",
       "    border-bottom-color: var(--fill-color);\n",
       "    animation:\n",
       "      spin 1s steps(1) infinite;\n",
       "  }\n",
       "\n",
       "  @keyframes spin {\n",
       "    0% {\n",
       "      border-color: transparent;\n",
       "      border-bottom-color: var(--fill-color);\n",
       "      border-left-color: var(--fill-color);\n",
       "    }\n",
       "    20% {\n",
       "      border-color: transparent;\n",
       "      border-left-color: var(--fill-color);\n",
       "      border-top-color: var(--fill-color);\n",
       "    }\n",
       "    30% {\n",
       "      border-color: transparent;\n",
       "      border-left-color: var(--fill-color);\n",
       "      border-top-color: var(--fill-color);\n",
       "      border-right-color: var(--fill-color);\n",
       "    }\n",
       "    40% {\n",
       "      border-color: transparent;\n",
       "      border-right-color: var(--fill-color);\n",
       "      border-top-color: var(--fill-color);\n",
       "    }\n",
       "    60% {\n",
       "      border-color: transparent;\n",
       "      border-right-color: var(--fill-color);\n",
       "    }\n",
       "    80% {\n",
       "      border-color: transparent;\n",
       "      border-right-color: var(--fill-color);\n",
       "      border-bottom-color: var(--fill-color);\n",
       "    }\n",
       "    90% {\n",
       "      border-color: transparent;\n",
       "      border-bottom-color: var(--fill-color);\n",
       "    }\n",
       "  }\n",
       "</style>\n",
       "\n",
       "  <script>\n",
       "    async function quickchart(key) {\n",
       "      const quickchartButtonEl =\n",
       "        document.querySelector('#' + key + ' button');\n",
       "      quickchartButtonEl.disabled = true;  // To prevent multiple clicks.\n",
       "      quickchartButtonEl.classList.add('colab-df-spinner');\n",
       "      try {\n",
       "        const charts = await google.colab.kernel.invokeFunction(\n",
       "            'suggestCharts', [key], {});\n",
       "      } catch (error) {\n",
       "        console.error('Error during call to suggestCharts:', error);\n",
       "      }\n",
       "      quickchartButtonEl.classList.remove('colab-df-spinner');\n",
       "      quickchartButtonEl.classList.add('colab-df-quickchart-complete');\n",
       "    }\n",
       "    (() => {\n",
       "      let quickchartButtonEl =\n",
       "        document.querySelector('#df-e23f321d-9313-4d8f-aac2-45234b3be0a0 button');\n",
       "      quickchartButtonEl.style.display =\n",
       "        google.colab.kernel.accessAllowed ? 'block' : 'none';\n",
       "    })();\n",
       "  </script>\n",
       "</div>\n",
       "\n",
       "    </div>\n",
       "  </div>\n"
      ],
      "text/plain": [
       "  product_id               product_name  brand_id brand_name  loves_count  \\\n",
       "0    P473671    Fragrance Discovery Set      6342      19-69         6320   \n",
       "1    P473668    La Habana Eau de Parfum      6342      19-69         3827   \n",
       "2    P473662  Rainbow Bar Eau de Parfum      6342      19-69         3253   \n",
       "3    P473660       Kasbah Eau de Parfum      6342      19-69         3018   \n",
       "4    P473658  Purple Haze Eau de Parfum      6342      19-69         2691   \n",
       "\n",
       "   rating  reviews  size                      variation_type  \\\n",
       "0     3.5     11.0   1.7                             Unknown   \n",
       "1     4.0     13.0   3.4  Size + Concentration + Formulation   \n",
       "2     4.0     16.0   3.4  Size + Concentration + Formulation   \n",
       "3     4.5     21.0   3.4  Size + Concentration + Formulation   \n",
       "4     3.0     13.0   3.4  Size + Concentration + Formulation   \n",
       "\n",
       "                                         ingredients  price_usd  \\\n",
       "0  ['Capri Eau de Parfum:', 'Alcohol Denat. (SD A...       35.0   \n",
       "1  ['Alcohol Denat. (SD Alcohol 39C), Parfum (Fra...      195.0   \n",
       "2  ['Alcohol Denat. (SD Alcohol 39C), Parfum (Fra...      195.0   \n",
       "3  ['Alcohol Denat. (SD Alcohol 39C), Parfum (Fra...      195.0   \n",
       "4  ['Alcohol Denat. (SD Alcohol 39C), Parfum (Fra...      195.0   \n",
       "\n",
       "   limited_edition  new  online_only  out_of_stock  sephora_exclusive  \\\n",
       "0                0    0            1             0                  0   \n",
       "1                0    0            1             0                  0   \n",
       "2                0    0            1             0                  0   \n",
       "3                0    0            1             0                  0   \n",
       "4                0    0            1             0                  0   \n",
       "\n",
       "                                          highlights primary_category  \\\n",
       "0  ['Unisex/ Genderless Scent', 'Warm &Spicy Scen...        Fragrance   \n",
       "1  ['Unisex/ Genderless Scent', 'Layerable Scent'...        Fragrance   \n",
       "2  ['Unisex/ Genderless Scent', 'Layerable Scent'...        Fragrance   \n",
       "3  ['Unisex/ Genderless Scent', 'Layerable Scent'...        Fragrance   \n",
       "4  ['Unisex/ Genderless Scent', 'Layerable Scent'...        Fragrance   \n",
       "\n",
       "  secondary_category  tertiary_category  child_count  \n",
       "0  Value & Gift Sets  Perfume Gift Sets            0  \n",
       "1              Women            Perfume            2  \n",
       "2              Women            Perfume            2  \n",
       "3              Women            Perfume            2  \n",
       "4              Women            Perfume            2  "
      ]
     },
     "execution_count": 51,
     "metadata": {},
     "output_type": "execute_result"
    }
   ],
   "source": [
    "df.head()"
   ]
  },
  {
   "cell_type": "code",
   "execution_count": 52,
   "id": "15e1b1e0",
   "metadata": {
    "colab": {
     "base_uri": "https://localhost:8080/"
    },
    "id": "15e1b1e0",
    "outputId": "0634103f-6f50-455d-ab71-3240f0c52db1"
   },
   "outputs": [
    {
     "data": {
      "text/plain": [
       "False"
      ]
     },
     "execution_count": 52,
     "metadata": {},
     "output_type": "execute_result"
    }
   ],
   "source": [
    "df.isna().any().any()"
   ]
  },
  {
   "cell_type": "code",
   "execution_count": 53,
   "id": "99ea3b3f",
   "metadata": {
    "colab": {
     "base_uri": "https://localhost:8080/"
    },
    "id": "99ea3b3f",
    "outputId": "f30d730d-8e80-4763-97bc-962745b9f01b"
   },
   "outputs": [
    {
     "data": {
      "text/plain": [
       "8407"
      ]
     },
     "execution_count": 53,
     "metadata": {},
     "output_type": "execute_result"
    }
   ],
   "source": [
    "df.product_name.nunique()"
   ]
  },
  {
   "cell_type": "code",
   "execution_count": 54,
   "id": "8b9486eb",
   "metadata": {
    "colab": {
     "base_uri": "https://localhost:8080/"
    },
    "id": "8b9486eb",
    "outputId": "ae9e9c87-67d8-4a13-e7c2-75d024b641d6"
   },
   "outputs": [
    {
     "data": {
      "text/plain": [
       "(8486, 21)"
      ]
     },
     "execution_count": 54,
     "metadata": {},
     "output_type": "execute_result"
    }
   ],
   "source": [
    "df.shape"
   ]
  },
  {
   "cell_type": "code",
   "execution_count": 55,
   "id": "ecd2c847",
   "metadata": {
    "colab": {
     "base_uri": "https://localhost:8080/"
    },
    "id": "ecd2c847",
    "outputId": "0f6c23ec-59e0-4e98-a7a8-4edfc295daa3"
   },
   "outputs": [
    {
     "data": {
      "text/plain": [
       "4418"
      ]
     },
     "execution_count": 55,
     "metadata": {},
     "output_type": "execute_result"
    }
   ],
   "source": [
    "df.highlights.nunique()"
   ]
  },
  {
   "cell_type": "code",
   "execution_count": 56,
   "id": "4Iw2k1ypunBO",
   "metadata": {
    "colab": {
     "base_uri": "https://localhost:8080/"
    },
    "id": "4Iw2k1ypunBO",
    "outputId": "9ab2db2e-2814-40ce-f42c-0f4231ac7949"
   },
   "outputs": [
    {
     "data": {
      "text/plain": [
       "0"
      ]
     },
     "execution_count": 56,
     "metadata": {},
     "output_type": "execute_result"
    }
   ],
   "source": [
    "df.highlights.isna().sum()"
   ]
  },
  {
   "cell_type": "code",
   "execution_count": 57,
   "id": "ef21484c",
   "metadata": {
    "colab": {
     "base_uri": "https://localhost:8080/",
     "height": 188
    },
    "id": "ef21484c",
    "outputId": "7fcad185-cb0b-4b90-fe0e-3d854ab35170",
    "scrolled": true
   },
   "outputs": [
    {
     "data": {
      "application/vnd.google.colaboratory.intrinsic+json": {
       "type": "dataframe",
       "variable_name": "df"
      },
      "text/html": [
       "\n",
       "  <div id=\"df-78ee6b09-78ce-4332-947c-1431269940d0\" class=\"colab-df-container\">\n",
       "    <div>\n",
       "<style scoped>\n",
       "    .dataframe tbody tr th:only-of-type {\n",
       "        vertical-align: middle;\n",
       "    }\n",
       "\n",
       "    .dataframe tbody tr th {\n",
       "        vertical-align: top;\n",
       "    }\n",
       "\n",
       "    .dataframe thead th {\n",
       "        text-align: right;\n",
       "    }\n",
       "</style>\n",
       "<table border=\"1\" class=\"dataframe\">\n",
       "  <thead>\n",
       "    <tr style=\"text-align: right;\">\n",
       "      <th></th>\n",
       "      <th>product_id</th>\n",
       "      <th>product_name</th>\n",
       "      <th>brand_id</th>\n",
       "      <th>brand_name</th>\n",
       "      <th>loves_count</th>\n",
       "      <th>rating</th>\n",
       "      <th>reviews</th>\n",
       "      <th>size</th>\n",
       "      <th>variation_type</th>\n",
       "      <th>ingredients</th>\n",
       "      <th>price_usd</th>\n",
       "      <th>limited_edition</th>\n",
       "      <th>new</th>\n",
       "      <th>online_only</th>\n",
       "      <th>out_of_stock</th>\n",
       "      <th>sephora_exclusive</th>\n",
       "      <th>highlights</th>\n",
       "      <th>primary_category</th>\n",
       "      <th>secondary_category</th>\n",
       "      <th>tertiary_category</th>\n",
       "      <th>child_count</th>\n",
       "    </tr>\n",
       "  </thead>\n",
       "  <tbody>\n",
       "    <tr>\n",
       "      <th>0</th>\n",
       "      <td>P473671</td>\n",
       "      <td>Fragrance Discovery Set</td>\n",
       "      <td>6342</td>\n",
       "      <td>19-69</td>\n",
       "      <td>6320</td>\n",
       "      <td>3.5</td>\n",
       "      <td>11.0</td>\n",
       "      <td>1.7</td>\n",
       "      <td>Unknown</td>\n",
       "      <td>['Capri Eau de Parfum:', 'Alcohol Denat. (SD A...</td>\n",
       "      <td>35.0</td>\n",
       "      <td>0</td>\n",
       "      <td>0</td>\n",
       "      <td>1</td>\n",
       "      <td>0</td>\n",
       "      <td>0</td>\n",
       "      <td>['Unisex/ Genderless Scent', 'Warm &amp;Spicy Scen...</td>\n",
       "      <td>Fragrance</td>\n",
       "      <td>Value &amp; Gift Sets</td>\n",
       "      <td>Perfume Gift Sets</td>\n",
       "      <td>0</td>\n",
       "    </tr>\n",
       "  </tbody>\n",
       "</table>\n",
       "</div>\n",
       "    <div class=\"colab-df-buttons\">\n",
       "\n",
       "  <div class=\"colab-df-container\">\n",
       "    <button class=\"colab-df-convert\" onclick=\"convertToInteractive('df-78ee6b09-78ce-4332-947c-1431269940d0')\"\n",
       "            title=\"Convert this dataframe to an interactive table.\"\n",
       "            style=\"display:none;\">\n",
       "\n",
       "  <svg xmlns=\"http://www.w3.org/2000/svg\" height=\"24px\" viewBox=\"0 -960 960 960\">\n",
       "    <path d=\"M120-120v-720h720v720H120Zm60-500h600v-160H180v160Zm220 220h160v-160H400v160Zm0 220h160v-160H400v160ZM180-400h160v-160H180v160Zm440 0h160v-160H620v160ZM180-180h160v-160H180v160Zm440 0h160v-160H620v160Z\"/>\n",
       "  </svg>\n",
       "    </button>\n",
       "\n",
       "  <style>\n",
       "    .colab-df-container {\n",
       "      display:flex;\n",
       "      gap: 12px;\n",
       "    }\n",
       "\n",
       "    .colab-df-convert {\n",
       "      background-color: #E8F0FE;\n",
       "      border: none;\n",
       "      border-radius: 50%;\n",
       "      cursor: pointer;\n",
       "      display: none;\n",
       "      fill: #1967D2;\n",
       "      height: 32px;\n",
       "      padding: 0 0 0 0;\n",
       "      width: 32px;\n",
       "    }\n",
       "\n",
       "    .colab-df-convert:hover {\n",
       "      background-color: #E2EBFA;\n",
       "      box-shadow: 0px 1px 2px rgba(60, 64, 67, 0.3), 0px 1px 3px 1px rgba(60, 64, 67, 0.15);\n",
       "      fill: #174EA6;\n",
       "    }\n",
       "\n",
       "    .colab-df-buttons div {\n",
       "      margin-bottom: 4px;\n",
       "    }\n",
       "\n",
       "    [theme=dark] .colab-df-convert {\n",
       "      background-color: #3B4455;\n",
       "      fill: #D2E3FC;\n",
       "    }\n",
       "\n",
       "    [theme=dark] .colab-df-convert:hover {\n",
       "      background-color: #434B5C;\n",
       "      box-shadow: 0px 1px 3px 1px rgba(0, 0, 0, 0.15);\n",
       "      filter: drop-shadow(0px 1px 2px rgba(0, 0, 0, 0.3));\n",
       "      fill: #FFFFFF;\n",
       "    }\n",
       "  </style>\n",
       "\n",
       "    <script>\n",
       "      const buttonEl =\n",
       "        document.querySelector('#df-78ee6b09-78ce-4332-947c-1431269940d0 button.colab-df-convert');\n",
       "      buttonEl.style.display =\n",
       "        google.colab.kernel.accessAllowed ? 'block' : 'none';\n",
       "\n",
       "      async function convertToInteractive(key) {\n",
       "        const element = document.querySelector('#df-78ee6b09-78ce-4332-947c-1431269940d0');\n",
       "        const dataTable =\n",
       "          await google.colab.kernel.invokeFunction('convertToInteractive',\n",
       "                                                    [key], {});\n",
       "        if (!dataTable) return;\n",
       "\n",
       "        const docLinkHtml = 'Like what you see? Visit the ' +\n",
       "          '<a target=\"_blank\" href=https://colab.research.google.com/notebooks/data_table.ipynb>data table notebook</a>'\n",
       "          + ' to learn more about interactive tables.';\n",
       "        element.innerHTML = '';\n",
       "        dataTable['output_type'] = 'display_data';\n",
       "        await google.colab.output.renderOutput(dataTable, element);\n",
       "        const docLink = document.createElement('div');\n",
       "        docLink.innerHTML = docLinkHtml;\n",
       "        element.appendChild(docLink);\n",
       "      }\n",
       "    </script>\n",
       "  </div>\n",
       "\n",
       "\n",
       "    </div>\n",
       "  </div>\n"
      ],
      "text/plain": [
       "  product_id             product_name  brand_id brand_name  loves_count  \\\n",
       "0    P473671  Fragrance Discovery Set      6342      19-69         6320   \n",
       "\n",
       "   rating  reviews  size variation_type  \\\n",
       "0     3.5     11.0   1.7        Unknown   \n",
       "\n",
       "                                         ingredients  price_usd  \\\n",
       "0  ['Capri Eau de Parfum:', 'Alcohol Denat. (SD A...       35.0   \n",
       "\n",
       "   limited_edition  new  online_only  out_of_stock  sephora_exclusive  \\\n",
       "0                0    0            1             0                  0   \n",
       "\n",
       "                                          highlights primary_category  \\\n",
       "0  ['Unisex/ Genderless Scent', 'Warm &Spicy Scen...        Fragrance   \n",
       "\n",
       "  secondary_category  tertiary_category  child_count  \n",
       "0  Value & Gift Sets  Perfume Gift Sets            0  "
      ]
     },
     "execution_count": 57,
     "metadata": {},
     "output_type": "execute_result"
    }
   ],
   "source": [
    "df.head(1)"
   ]
  },
  {
   "cell_type": "code",
   "execution_count": 58,
   "id": "tfuDqXZUziGv",
   "metadata": {
    "id": "tfuDqXZUziGv"
   },
   "outputs": [],
   "source": [
    "df['product_id'] = df['product_id'].str.replace('P', '').astype(int)"
   ]
  },
  {
   "cell_type": "code",
   "execution_count": 59,
   "id": "x9eGm0MSziBR",
   "metadata": {
    "colab": {
     "base_uri": "https://localhost:8080/",
     "height": 591
    },
    "id": "x9eGm0MSziBR",
    "outputId": "36b7ba52-fab9-432d-ecd4-250398c4e2d0"
   },
   "outputs": [
    {
     "data": {
      "application/vnd.google.colaboratory.intrinsic+json": {
       "type": "dataframe",
       "variable_name": "df"
      },
      "text/html": [
       "\n",
       "  <div id=\"df-9312379a-6688-40a9-966d-e68daba3edf2\" class=\"colab-df-container\">\n",
       "    <div>\n",
       "<style scoped>\n",
       "    .dataframe tbody tr th:only-of-type {\n",
       "        vertical-align: middle;\n",
       "    }\n",
       "\n",
       "    .dataframe tbody tr th {\n",
       "        vertical-align: top;\n",
       "    }\n",
       "\n",
       "    .dataframe thead th {\n",
       "        text-align: right;\n",
       "    }\n",
       "</style>\n",
       "<table border=\"1\" class=\"dataframe\">\n",
       "  <thead>\n",
       "    <tr style=\"text-align: right;\">\n",
       "      <th></th>\n",
       "      <th>product_id</th>\n",
       "      <th>product_name</th>\n",
       "      <th>brand_id</th>\n",
       "      <th>brand_name</th>\n",
       "      <th>loves_count</th>\n",
       "      <th>rating</th>\n",
       "      <th>reviews</th>\n",
       "      <th>size</th>\n",
       "      <th>variation_type</th>\n",
       "      <th>ingredients</th>\n",
       "      <th>price_usd</th>\n",
       "      <th>limited_edition</th>\n",
       "      <th>new</th>\n",
       "      <th>online_only</th>\n",
       "      <th>out_of_stock</th>\n",
       "      <th>sephora_exclusive</th>\n",
       "      <th>highlights</th>\n",
       "      <th>primary_category</th>\n",
       "      <th>secondary_category</th>\n",
       "      <th>tertiary_category</th>\n",
       "      <th>child_count</th>\n",
       "    </tr>\n",
       "  </thead>\n",
       "  <tbody>\n",
       "    <tr>\n",
       "      <th>0</th>\n",
       "      <td>473671</td>\n",
       "      <td>Fragrance Discovery Set</td>\n",
       "      <td>6342</td>\n",
       "      <td>19-69</td>\n",
       "      <td>6320</td>\n",
       "      <td>3.5</td>\n",
       "      <td>11.0</td>\n",
       "      <td>1.7</td>\n",
       "      <td>Unknown</td>\n",
       "      <td>['Capri Eau de Parfum:', 'Alcohol Denat. (SD A...</td>\n",
       "      <td>35.0</td>\n",
       "      <td>0</td>\n",
       "      <td>0</td>\n",
       "      <td>1</td>\n",
       "      <td>0</td>\n",
       "      <td>0</td>\n",
       "      <td>['Unisex/ Genderless Scent', 'Warm &amp;Spicy Scen...</td>\n",
       "      <td>Fragrance</td>\n",
       "      <td>Value &amp; Gift Sets</td>\n",
       "      <td>Perfume Gift Sets</td>\n",
       "      <td>0</td>\n",
       "    </tr>\n",
       "    <tr>\n",
       "      <th>1</th>\n",
       "      <td>473668</td>\n",
       "      <td>La Habana Eau de Parfum</td>\n",
       "      <td>6342</td>\n",
       "      <td>19-69</td>\n",
       "      <td>3827</td>\n",
       "      <td>4.0</td>\n",
       "      <td>13.0</td>\n",
       "      <td>3.4</td>\n",
       "      <td>Size + Concentration + Formulation</td>\n",
       "      <td>['Alcohol Denat. (SD Alcohol 39C), Parfum (Fra...</td>\n",
       "      <td>195.0</td>\n",
       "      <td>0</td>\n",
       "      <td>0</td>\n",
       "      <td>1</td>\n",
       "      <td>0</td>\n",
       "      <td>0</td>\n",
       "      <td>['Unisex/ Genderless Scent', 'Layerable Scent'...</td>\n",
       "      <td>Fragrance</td>\n",
       "      <td>Women</td>\n",
       "      <td>Perfume</td>\n",
       "      <td>2</td>\n",
       "    </tr>\n",
       "    <tr>\n",
       "      <th>2</th>\n",
       "      <td>473662</td>\n",
       "      <td>Rainbow Bar Eau de Parfum</td>\n",
       "      <td>6342</td>\n",
       "      <td>19-69</td>\n",
       "      <td>3253</td>\n",
       "      <td>4.0</td>\n",
       "      <td>16.0</td>\n",
       "      <td>3.4</td>\n",
       "      <td>Size + Concentration + Formulation</td>\n",
       "      <td>['Alcohol Denat. (SD Alcohol 39C), Parfum (Fra...</td>\n",
       "      <td>195.0</td>\n",
       "      <td>0</td>\n",
       "      <td>0</td>\n",
       "      <td>1</td>\n",
       "      <td>0</td>\n",
       "      <td>0</td>\n",
       "      <td>['Unisex/ Genderless Scent', 'Layerable Scent'...</td>\n",
       "      <td>Fragrance</td>\n",
       "      <td>Women</td>\n",
       "      <td>Perfume</td>\n",
       "      <td>2</td>\n",
       "    </tr>\n",
       "    <tr>\n",
       "      <th>3</th>\n",
       "      <td>473660</td>\n",
       "      <td>Kasbah Eau de Parfum</td>\n",
       "      <td>6342</td>\n",
       "      <td>19-69</td>\n",
       "      <td>3018</td>\n",
       "      <td>4.5</td>\n",
       "      <td>21.0</td>\n",
       "      <td>3.4</td>\n",
       "      <td>Size + Concentration + Formulation</td>\n",
       "      <td>['Alcohol Denat. (SD Alcohol 39C), Parfum (Fra...</td>\n",
       "      <td>195.0</td>\n",
       "      <td>0</td>\n",
       "      <td>0</td>\n",
       "      <td>1</td>\n",
       "      <td>0</td>\n",
       "      <td>0</td>\n",
       "      <td>['Unisex/ Genderless Scent', 'Layerable Scent'...</td>\n",
       "      <td>Fragrance</td>\n",
       "      <td>Women</td>\n",
       "      <td>Perfume</td>\n",
       "      <td>2</td>\n",
       "    </tr>\n",
       "    <tr>\n",
       "      <th>4</th>\n",
       "      <td>473658</td>\n",
       "      <td>Purple Haze Eau de Parfum</td>\n",
       "      <td>6342</td>\n",
       "      <td>19-69</td>\n",
       "      <td>2691</td>\n",
       "      <td>3.0</td>\n",
       "      <td>13.0</td>\n",
       "      <td>3.4</td>\n",
       "      <td>Size + Concentration + Formulation</td>\n",
       "      <td>['Alcohol Denat. (SD Alcohol 39C), Parfum (Fra...</td>\n",
       "      <td>195.0</td>\n",
       "      <td>0</td>\n",
       "      <td>0</td>\n",
       "      <td>1</td>\n",
       "      <td>0</td>\n",
       "      <td>0</td>\n",
       "      <td>['Unisex/ Genderless Scent', 'Layerable Scent'...</td>\n",
       "      <td>Fragrance</td>\n",
       "      <td>Women</td>\n",
       "      <td>Perfume</td>\n",
       "      <td>2</td>\n",
       "    </tr>\n",
       "  </tbody>\n",
       "</table>\n",
       "</div>\n",
       "    <div class=\"colab-df-buttons\">\n",
       "\n",
       "  <div class=\"colab-df-container\">\n",
       "    <button class=\"colab-df-convert\" onclick=\"convertToInteractive('df-9312379a-6688-40a9-966d-e68daba3edf2')\"\n",
       "            title=\"Convert this dataframe to an interactive table.\"\n",
       "            style=\"display:none;\">\n",
       "\n",
       "  <svg xmlns=\"http://www.w3.org/2000/svg\" height=\"24px\" viewBox=\"0 -960 960 960\">\n",
       "    <path d=\"M120-120v-720h720v720H120Zm60-500h600v-160H180v160Zm220 220h160v-160H400v160Zm0 220h160v-160H400v160ZM180-400h160v-160H180v160Zm440 0h160v-160H620v160ZM180-180h160v-160H180v160Zm440 0h160v-160H620v160Z\"/>\n",
       "  </svg>\n",
       "    </button>\n",
       "\n",
       "  <style>\n",
       "    .colab-df-container {\n",
       "      display:flex;\n",
       "      gap: 12px;\n",
       "    }\n",
       "\n",
       "    .colab-df-convert {\n",
       "      background-color: #E8F0FE;\n",
       "      border: none;\n",
       "      border-radius: 50%;\n",
       "      cursor: pointer;\n",
       "      display: none;\n",
       "      fill: #1967D2;\n",
       "      height: 32px;\n",
       "      padding: 0 0 0 0;\n",
       "      width: 32px;\n",
       "    }\n",
       "\n",
       "    .colab-df-convert:hover {\n",
       "      background-color: #E2EBFA;\n",
       "      box-shadow: 0px 1px 2px rgba(60, 64, 67, 0.3), 0px 1px 3px 1px rgba(60, 64, 67, 0.15);\n",
       "      fill: #174EA6;\n",
       "    }\n",
       "\n",
       "    .colab-df-buttons div {\n",
       "      margin-bottom: 4px;\n",
       "    }\n",
       "\n",
       "    [theme=dark] .colab-df-convert {\n",
       "      background-color: #3B4455;\n",
       "      fill: #D2E3FC;\n",
       "    }\n",
       "\n",
       "    [theme=dark] .colab-df-convert:hover {\n",
       "      background-color: #434B5C;\n",
       "      box-shadow: 0px 1px 3px 1px rgba(0, 0, 0, 0.15);\n",
       "      filter: drop-shadow(0px 1px 2px rgba(0, 0, 0, 0.3));\n",
       "      fill: #FFFFFF;\n",
       "    }\n",
       "  </style>\n",
       "\n",
       "    <script>\n",
       "      const buttonEl =\n",
       "        document.querySelector('#df-9312379a-6688-40a9-966d-e68daba3edf2 button.colab-df-convert');\n",
       "      buttonEl.style.display =\n",
       "        google.colab.kernel.accessAllowed ? 'block' : 'none';\n",
       "\n",
       "      async function convertToInteractive(key) {\n",
       "        const element = document.querySelector('#df-9312379a-6688-40a9-966d-e68daba3edf2');\n",
       "        const dataTable =\n",
       "          await google.colab.kernel.invokeFunction('convertToInteractive',\n",
       "                                                    [key], {});\n",
       "        if (!dataTable) return;\n",
       "\n",
       "        const docLinkHtml = 'Like what you see? Visit the ' +\n",
       "          '<a target=\"_blank\" href=https://colab.research.google.com/notebooks/data_table.ipynb>data table notebook</a>'\n",
       "          + ' to learn more about interactive tables.';\n",
       "        element.innerHTML = '';\n",
       "        dataTable['output_type'] = 'display_data';\n",
       "        await google.colab.output.renderOutput(dataTable, element);\n",
       "        const docLink = document.createElement('div');\n",
       "        docLink.innerHTML = docLinkHtml;\n",
       "        element.appendChild(docLink);\n",
       "      }\n",
       "    </script>\n",
       "  </div>\n",
       "\n",
       "\n",
       "<div id=\"df-35555e01-6531-43b7-a05a-ffc78cd689d2\">\n",
       "  <button class=\"colab-df-quickchart\" onclick=\"quickchart('df-35555e01-6531-43b7-a05a-ffc78cd689d2')\"\n",
       "            title=\"Suggest charts\"\n",
       "            style=\"display:none;\">\n",
       "\n",
       "<svg xmlns=\"http://www.w3.org/2000/svg\" height=\"24px\"viewBox=\"0 0 24 24\"\n",
       "     width=\"24px\">\n",
       "    <g>\n",
       "        <path d=\"M19 3H5c-1.1 0-2 .9-2 2v14c0 1.1.9 2 2 2h14c1.1 0 2-.9 2-2V5c0-1.1-.9-2-2-2zM9 17H7v-7h2v7zm4 0h-2V7h2v10zm4 0h-2v-4h2v4z\"/>\n",
       "    </g>\n",
       "</svg>\n",
       "  </button>\n",
       "\n",
       "<style>\n",
       "  .colab-df-quickchart {\n",
       "      --bg-color: #E8F0FE;\n",
       "      --fill-color: #1967D2;\n",
       "      --hover-bg-color: #E2EBFA;\n",
       "      --hover-fill-color: #174EA6;\n",
       "      --disabled-fill-color: #AAA;\n",
       "      --disabled-bg-color: #DDD;\n",
       "  }\n",
       "\n",
       "  [theme=dark] .colab-df-quickchart {\n",
       "      --bg-color: #3B4455;\n",
       "      --fill-color: #D2E3FC;\n",
       "      --hover-bg-color: #434B5C;\n",
       "      --hover-fill-color: #FFFFFF;\n",
       "      --disabled-bg-color: #3B4455;\n",
       "      --disabled-fill-color: #666;\n",
       "  }\n",
       "\n",
       "  .colab-df-quickchart {\n",
       "    background-color: var(--bg-color);\n",
       "    border: none;\n",
       "    border-radius: 50%;\n",
       "    cursor: pointer;\n",
       "    display: none;\n",
       "    fill: var(--fill-color);\n",
       "    height: 32px;\n",
       "    padding: 0;\n",
       "    width: 32px;\n",
       "  }\n",
       "\n",
       "  .colab-df-quickchart:hover {\n",
       "    background-color: var(--hover-bg-color);\n",
       "    box-shadow: 0 1px 2px rgba(60, 64, 67, 0.3), 0 1px 3px 1px rgba(60, 64, 67, 0.15);\n",
       "    fill: var(--button-hover-fill-color);\n",
       "  }\n",
       "\n",
       "  .colab-df-quickchart-complete:disabled,\n",
       "  .colab-df-quickchart-complete:disabled:hover {\n",
       "    background-color: var(--disabled-bg-color);\n",
       "    fill: var(--disabled-fill-color);\n",
       "    box-shadow: none;\n",
       "  }\n",
       "\n",
       "  .colab-df-spinner {\n",
       "    border: 2px solid var(--fill-color);\n",
       "    border-color: transparent;\n",
       "    border-bottom-color: var(--fill-color);\n",
       "    animation:\n",
       "      spin 1s steps(1) infinite;\n",
       "  }\n",
       "\n",
       "  @keyframes spin {\n",
       "    0% {\n",
       "      border-color: transparent;\n",
       "      border-bottom-color: var(--fill-color);\n",
       "      border-left-color: var(--fill-color);\n",
       "    }\n",
       "    20% {\n",
       "      border-color: transparent;\n",
       "      border-left-color: var(--fill-color);\n",
       "      border-top-color: var(--fill-color);\n",
       "    }\n",
       "    30% {\n",
       "      border-color: transparent;\n",
       "      border-left-color: var(--fill-color);\n",
       "      border-top-color: var(--fill-color);\n",
       "      border-right-color: var(--fill-color);\n",
       "    }\n",
       "    40% {\n",
       "      border-color: transparent;\n",
       "      border-right-color: var(--fill-color);\n",
       "      border-top-color: var(--fill-color);\n",
       "    }\n",
       "    60% {\n",
       "      border-color: transparent;\n",
       "      border-right-color: var(--fill-color);\n",
       "    }\n",
       "    80% {\n",
       "      border-color: transparent;\n",
       "      border-right-color: var(--fill-color);\n",
       "      border-bottom-color: var(--fill-color);\n",
       "    }\n",
       "    90% {\n",
       "      border-color: transparent;\n",
       "      border-bottom-color: var(--fill-color);\n",
       "    }\n",
       "  }\n",
       "</style>\n",
       "\n",
       "  <script>\n",
       "    async function quickchart(key) {\n",
       "      const quickchartButtonEl =\n",
       "        document.querySelector('#' + key + ' button');\n",
       "      quickchartButtonEl.disabled = true;  // To prevent multiple clicks.\n",
       "      quickchartButtonEl.classList.add('colab-df-spinner');\n",
       "      try {\n",
       "        const charts = await google.colab.kernel.invokeFunction(\n",
       "            'suggestCharts', [key], {});\n",
       "      } catch (error) {\n",
       "        console.error('Error during call to suggestCharts:', error);\n",
       "      }\n",
       "      quickchartButtonEl.classList.remove('colab-df-spinner');\n",
       "      quickchartButtonEl.classList.add('colab-df-quickchart-complete');\n",
       "    }\n",
       "    (() => {\n",
       "      let quickchartButtonEl =\n",
       "        document.querySelector('#df-35555e01-6531-43b7-a05a-ffc78cd689d2 button');\n",
       "      quickchartButtonEl.style.display =\n",
       "        google.colab.kernel.accessAllowed ? 'block' : 'none';\n",
       "    })();\n",
       "  </script>\n",
       "</div>\n",
       "\n",
       "    </div>\n",
       "  </div>\n"
      ],
      "text/plain": [
       "   product_id               product_name  brand_id brand_name  loves_count  \\\n",
       "0      473671    Fragrance Discovery Set      6342      19-69         6320   \n",
       "1      473668    La Habana Eau de Parfum      6342      19-69         3827   \n",
       "2      473662  Rainbow Bar Eau de Parfum      6342      19-69         3253   \n",
       "3      473660       Kasbah Eau de Parfum      6342      19-69         3018   \n",
       "4      473658  Purple Haze Eau de Parfum      6342      19-69         2691   \n",
       "\n",
       "   rating  reviews  size                      variation_type  \\\n",
       "0     3.5     11.0   1.7                             Unknown   \n",
       "1     4.0     13.0   3.4  Size + Concentration + Formulation   \n",
       "2     4.0     16.0   3.4  Size + Concentration + Formulation   \n",
       "3     4.5     21.0   3.4  Size + Concentration + Formulation   \n",
       "4     3.0     13.0   3.4  Size + Concentration + Formulation   \n",
       "\n",
       "                                         ingredients  price_usd  \\\n",
       "0  ['Capri Eau de Parfum:', 'Alcohol Denat. (SD A...       35.0   \n",
       "1  ['Alcohol Denat. (SD Alcohol 39C), Parfum (Fra...      195.0   \n",
       "2  ['Alcohol Denat. (SD Alcohol 39C), Parfum (Fra...      195.0   \n",
       "3  ['Alcohol Denat. (SD Alcohol 39C), Parfum (Fra...      195.0   \n",
       "4  ['Alcohol Denat. (SD Alcohol 39C), Parfum (Fra...      195.0   \n",
       "\n",
       "   limited_edition  new  online_only  out_of_stock  sephora_exclusive  \\\n",
       "0                0    0            1             0                  0   \n",
       "1                0    0            1             0                  0   \n",
       "2                0    0            1             0                  0   \n",
       "3                0    0            1             0                  0   \n",
       "4                0    0            1             0                  0   \n",
       "\n",
       "                                          highlights primary_category  \\\n",
       "0  ['Unisex/ Genderless Scent', 'Warm &Spicy Scen...        Fragrance   \n",
       "1  ['Unisex/ Genderless Scent', 'Layerable Scent'...        Fragrance   \n",
       "2  ['Unisex/ Genderless Scent', 'Layerable Scent'...        Fragrance   \n",
       "3  ['Unisex/ Genderless Scent', 'Layerable Scent'...        Fragrance   \n",
       "4  ['Unisex/ Genderless Scent', 'Layerable Scent'...        Fragrance   \n",
       "\n",
       "  secondary_category  tertiary_category  child_count  \n",
       "0  Value & Gift Sets  Perfume Gift Sets            0  \n",
       "1              Women            Perfume            2  \n",
       "2              Women            Perfume            2  \n",
       "3              Women            Perfume            2  \n",
       "4              Women            Perfume            2  "
      ]
     },
     "execution_count": 59,
     "metadata": {},
     "output_type": "execute_result"
    }
   ],
   "source": [
    "df.head()"
   ]
  },
  {
   "cell_type": "code",
   "execution_count": 60,
   "id": "OyPcrdoNzh9O",
   "metadata": {
    "colab": {
     "base_uri": "https://localhost:8080/"
    },
    "id": "OyPcrdoNzh9O",
    "outputId": "91d2a728-3b73-4298-e727-01f85f7968c5"
   },
   "outputs": [
    {
     "data": {
      "text/plain": [
       "product_id            False\n",
       "product_name          False\n",
       "brand_id              False\n",
       "brand_name            False\n",
       "loves_count           False\n",
       "rating                False\n",
       "reviews               False\n",
       "size                  False\n",
       "variation_type        False\n",
       "ingredients           False\n",
       "price_usd             False\n",
       "limited_edition       False\n",
       "new                   False\n",
       "online_only           False\n",
       "out_of_stock          False\n",
       "sephora_exclusive     False\n",
       "highlights            False\n",
       "primary_category      False\n",
       "secondary_category    False\n",
       "tertiary_category     False\n",
       "child_count           False\n",
       "dtype: bool"
      ]
     },
     "execution_count": 60,
     "metadata": {},
     "output_type": "execute_result"
    }
   ],
   "source": [
    "df.isna().any()"
   ]
  },
  {
   "cell_type": "code",
   "execution_count": 61,
   "id": "i7Q49ydxO5QZ",
   "metadata": {
    "id": "i7Q49ydxO5QZ"
   },
   "outputs": [],
   "source": [
    "#pip install autogluon"
   ]
  },
  {
   "cell_type": "code",
   "execution_count": 62,
   "id": "AKXAYPAm9Kw1",
   "metadata": {
    "colab": {
     "base_uri": "https://localhost:8080/"
    },
    "id": "AKXAYPAm9Kw1",
    "outputId": "5a34b7e8-aafb-426c-b14d-26d6ce6eb8f4"
   },
   "outputs": [
    {
     "name": "stderr",
     "output_type": "stream",
     "text": [
      "No path specified. Models will be saved in: \"AutogluonModels/ag-20240312_060128\"\n",
      "Presets specified: ['best_quality']\n",
      "Stack configuration (auto_stack=True): num_stack_levels=1, num_bag_folds=8, num_bag_sets=1\n",
      "Dynamic stacking is enabled (dynamic_stacking=True). AutoGluon will try to determine whether the input data is affected by stacked overfitting and enable or disable stacking as a consequence.\n",
      "Detecting stacked overfitting by sub-fitting AutoGluon on the input data. That is, copies of AutoGluon will be sub-fit on subset(s) of the data. Then, the holdout validation data is used to detect stacked overfitting.\n",
      "Sub-fit(s) time limit is: 3600 seconds.\n",
      "Starting holdout-based sub-fit for dynamic stacking. Context path is: AutogluonModels/ag-20240312_060128/ds_sub_fit/sub_fit_ho.\n",
      "Beginning AutoGluon training ... Time limit = 900s\n",
      "AutoGluon will save models to \"AutogluonModels/ag-20240312_060128/ds_sub_fit/sub_fit_ho\"\n",
      "=================== System Info ===================\n",
      "AutoGluon Version:  1.0.0\n",
      "Python Version:     3.10.12\n",
      "Operating System:   Linux\n",
      "Platform Machine:   x86_64\n",
      "Platform Version:   #1 SMP PREEMPT_DYNAMIC Sat Nov 18 15:31:17 UTC 2023\n",
      "CPU Count:          8\n",
      "Memory Avail:       48.73 GB / 50.99 GB (95.6%)\n",
      "Disk Space Avail:   167.64 GB / 201.23 GB (83.3%)\n",
      "===================================================\n",
      "Train Data Rows:    6033\n",
      "Train Data Columns: 20\n",
      "Label Column:       price_usd\n",
      "Problem Type:       regression\n",
      "Preprocessing data ...\n",
      "Using Feature Generators to preprocess the data ...\n",
      "Fitting AutoMLPipelineFeatureGenerator...\n",
      "\tAvailable Memory:                    49901.84 MB\n",
      "\tTrain Data (Original)  Memory Usage: 8.28 MB (0.0% of available memory)\n",
      "\tInferring data type of each feature based on column values. Set feature_metadata_in to manually specify special dtypes of the features.\n",
      "\tStage 1 Generators:\n",
      "\t\tFitting AsTypeFeatureGenerator...\n",
      "\t\t\tNote: Converting 5 features to boolean dtype as they only contain 2 unique values.\n",
      "\tStage 2 Generators:\n",
      "\t\tFitting FillNaFeatureGenerator...\n",
      "\tStage 3 Generators:\n",
      "\t\tFitting IdentityFeatureGenerator...\n",
      "\t\tFitting IdentityFeatureGenerator...\n",
      "\t\t\tFitting RenameFeatureGenerator...\n",
      "\t\tFitting CategoryFeatureGenerator...\n",
      "\t\t\tFitting CategoryMemoryMinimizeFeatureGenerator...\n",
      "\t\tFitting TextSpecialFeatureGenerator...\n",
      "\t\t\tFitting BinnedFeatureGenerator...\n",
      "\t\t\tFitting DropDuplicatesFeatureGenerator...\n",
      "\t\tFitting TextNgramFeatureGenerator...\n",
      "\t\t\tFitting CountVectorizer for text features: ['product_name', 'ingredients', 'highlights']\n",
      "\t\t\tCountVectorizer fit with vocabulary size = 5591\n",
      "\tStage 4 Generators:\n",
      "\t\tFitting DropUniqueFeatureGenerator...\n",
      "\tStage 5 Generators:\n",
      "\t\tFitting DropDuplicatesFeatureGenerator...\n",
      "\tTypes of features in original data (raw dtype, special dtypes):\n",
      "\t\t('float', [])        : 3 | ['rating', 'reviews', 'size']\n",
      "\t\t('int', [])          : 9 | ['product_id', 'brand_id', 'loves_count', 'limited_edition', 'new', ...]\n",
      "\t\t('object', [])       : 5 | ['brand_name', 'variation_type', 'primary_category', 'secondary_category', 'tertiary_category']\n",
      "\t\t('object', ['text']) : 3 | ['product_name', 'ingredients', 'highlights']\n",
      "\tTypes of features in processed data (raw dtype, special dtypes):\n",
      "\t\t('category', [])                    :    5 | ['brand_name', 'variation_type', 'primary_category', 'secondary_category', 'tertiary_category']\n",
      "\t\t('category', ['text_as_category'])  :    3 | ['product_name', 'ingredients', 'highlights']\n",
      "\t\t('float', [])                       :    3 | ['rating', 'reviews', 'size']\n",
      "\t\t('int', [])                         :    4 | ['product_id', 'brand_id', 'loves_count', 'child_count']\n",
      "\t\t('int', ['binned', 'text_special']) :   53 | ['product_name.char_count', 'product_name.word_count', 'product_name.capital_ratio', 'product_name.lower_ratio', 'product_name.digit_ratio', ...]\n",
      "\t\t('int', ['bool'])                   :    5 | ['limited_edition', 'new', 'online_only', 'out_of_stock', 'sephora_exclusive']\n",
      "\t\t('int', ['text_ngram'])             : 4144 | ['__nlp__.10', '__nlp__.10 15', '__nlp__.10 dimethicone', '__nlp__.10 laurate', '__nlp__.10 stearate', ...]\n",
      "\t\t('object', ['text'])                :    3 | ['product_name_raw_text', 'ingredients_raw_text', 'highlights_raw_text']\n",
      "\t46.7s = Fit runtime\n",
      "\t20 features in original data used to generate 4220 features in processed data.\n",
      "\tTrain Data (Processed) Memory Usage: 54.52 MB (0.1% of available memory)\n",
      "Data preprocessing and feature engineering runtime = 47.64s ...\n",
      "AutoGluon will gauge predictive performance using evaluation metric: 'root_mean_squared_error'\n",
      "\tThis metric's sign has been flipped to adhere to being higher_is_better. The metric score can be multiplied by -1 to get the metric value.\n",
      "\tTo change this, specify the eval_metric parameter of Predictor()\n",
      "User-specified model hyperparameters to be fit:\n",
      "{\n",
      "\t'NN_TORCH': {},\n",
      "\t'GBM': [{}, {'extra_trees': True, 'ag_args': {'name_suffix': 'XT'}}, 'GBMLarge'],\n",
      "\t'CAT': {},\n",
      "\t'XGB': {},\n",
      "\t'AG_AUTOMM': {},\n",
      "\t'VW': {},\n",
      "}\n",
      "AutoGluon will fit 2 stack levels (L1 to L2) ...\n",
      "Fitting 8 L1 models ...\n",
      "Fitting model: LightGBM_BAG_L1 ... Training model for up to 568.1s of the 852.26s of remaining time.\n",
      "\tFitting 8 child models (S1F1 - S1F8) | Fitting with ParallelLocalFoldFittingStrategy (8 workers, per: cpus=1, gpus=0, memory=2.22%)\n",
      "\t-24.1863\t = Validation score   (-root_mean_squared_error)\n",
      "\t134.96s\t = Training   runtime\n",
      "\t3.47s\t = Validation runtime\n",
      "Fitting model: LightGBMXT_BAG_L1 ... Training model for up to 422.11s of the 706.24s of remaining time.\n",
      "\tFitting 8 child models (S1F1 - S1F8) | Fitting with ParallelLocalFoldFittingStrategy (8 workers, per: cpus=1, gpus=0, memory=2.24%)\n",
      "\t-24.7103\t = Validation score   (-root_mean_squared_error)\n",
      "\t116.83s\t = Training   runtime\n",
      "\t3.66s\t = Validation runtime\n",
      "Fitting model: CatBoost_BAG_L1 ... Training model for up to 297.15s of the 581.31s of remaining time.\n",
      "\tFitting 8 child models (S1F1 - S1F8) | Fitting with ParallelLocalFoldFittingStrategy (8 workers, per: cpus=1, gpus=0, memory=3.87%)\n",
      "\t-26.0488\t = Validation score   (-root_mean_squared_error)\n",
      "\t240.71s\t = Training   runtime\n",
      "\t3.23s\t = Validation runtime\n",
      "Fitting model: XGBoost_BAG_L1 ... Training model for up to 50.23s of the 334.39s of remaining time.\n",
      "\tFitting 8 child models (S1F1 - S1F8) | Fitting with ParallelLocalFoldFittingStrategy (8 workers, per: cpus=1, gpus=0, memory=4.11%)\n",
      "\t-27.2512\t = Validation score   (-root_mean_squared_error)\n",
      "\t42.33s\t = Training   runtime\n",
      "\t1.09s\t = Validation runtime\n",
      "Fitting model: NeuralNetTorch_BAG_L1 ... Training model for up to 2.0s of the 286.08s of remaining time.\n",
      "\tFitting 8 child models (S1F1 - S1F8) | Fitting with ParallelLocalFoldFittingStrategy (8 workers, per: cpus=1, gpus=0, memory=0.66%)\n",
      "\t-47.9935\t = Validation score   (-root_mean_squared_error)\n",
      "\t6.07s\t = Training   runtime\n",
      "\t0.49s\t = Validation runtime\n",
      "Fitting model: WeightedEnsemble_L2 ... Training model for up to 360.0s of the 274.18s of remaining time.\n",
      "\tEnsemble Weights: {'LightGBM_BAG_L1': 0.536, 'LightGBMXT_BAG_L1': 0.278, 'CatBoost_BAG_L1': 0.155, 'XGBoost_BAG_L1': 0.031}\n",
      "\t-23.71\t = Validation score   (-root_mean_squared_error)\n",
      "\t0.18s\t = Training   runtime\n",
      "\t0.0s\t = Validation runtime\n",
      "Fitting 6 L2 models ...\n",
      "Fitting model: LightGBM_BAG_L2 ... Training model for up to 273.99s of the 273.53s of remaining time.\n",
      "\tFitting 8 child models (S1F1 - S1F8) | Fitting with ParallelLocalFoldFittingStrategy (8 workers, per: cpus=1, gpus=0, memory=2.24%)\n",
      "\t-24.38\t = Validation score   (-root_mean_squared_error)\n",
      "\t17.83s\t = Training   runtime\n",
      "\t0.55s\t = Validation runtime\n",
      "Fitting model: LightGBMXT_BAG_L2 ... Training model for up to 249.38s of the 248.91s of remaining time.\n",
      "\tFitting 8 child models (S1F1 - S1F8) | Fitting with ParallelLocalFoldFittingStrategy (8 workers, per: cpus=1, gpus=0, memory=2.24%)\n",
      "\t-24.8636\t = Validation score   (-root_mean_squared_error)\n",
      "\t17.38s\t = Training   runtime\n",
      "\t0.54s\t = Validation runtime\n",
      "Fitting model: CatBoost_BAG_L2 ... Training model for up to 225.32s of the 224.77s of remaining time.\n",
      "\tFitting 8 child models (S1F1 - S1F8) | Fitting with ParallelLocalFoldFittingStrategy (8 workers, per: cpus=1, gpus=0, memory=3.88%)\n",
      "\t-23.8428\t = Validation score   (-root_mean_squared_error)\n",
      "\t106.67s\t = Training   runtime\n",
      "\t2.64s\t = Validation runtime\n",
      "Fitting model: XGBoost_BAG_L2 ... Training model for up to 112.08s of the 111.6s of remaining time.\n",
      "\tFitting 8 child models (S1F1 - S1F8) | Fitting with ParallelLocalFoldFittingStrategy (8 workers, per: cpus=1, gpus=0, memory=4.12%)\n",
      "\t-24.4746\t = Validation score   (-root_mean_squared_error)\n",
      "\t89.07s\t = Training   runtime\n",
      "\t0.81s\t = Validation runtime\n",
      "Fitting model: NeuralNetTorch_BAG_L2 ... Training model for up to 16.74s of the 16.29s of remaining time.\n",
      "\tFitting 8 child models (S1F1 - S1F8) | Fitting with ParallelLocalFoldFittingStrategy (8 workers, per: cpus=1, gpus=0, memory=0.66%)\n",
      "\t-24.9877\t = Validation score   (-root_mean_squared_error)\n",
      "\t17.74s\t = Training   runtime\n",
      "\t0.51s\t = Validation runtime\n",
      "Fitting model: WeightedEnsemble_L3 ... Training model for up to 360.0s of the -7.54s of remaining time.\n",
      "\tEnsemble Weights: {'CatBoost_BAG_L2': 0.313, 'LightGBM_BAG_L1': 0.303, 'LightGBMXT_BAG_L1': 0.131, 'XGBoost_BAG_L2': 0.121, 'NeuralNetTorch_BAG_L2': 0.091, 'CatBoost_BAG_L1': 0.04}\n",
      "\t-23.5747\t = Validation score   (-root_mean_squared_error)\n",
      "\t0.32s\t = Training   runtime\n",
      "\t0.0s\t = Validation runtime\n",
      "AutoGluon training complete, total runtime = 908.01s ... Best model: \"WeightedEnsemble_L3\"\n",
      "TabularPredictor saved. To load, use: predictor = TabularPredictor.load(\"AutogluonModels/ag-20240312_060128/ds_sub_fit/sub_fit_ho\")\n",
      "Leaderboard on holdout data from dynamic stacking:\n",
      "                    model  holdout_score  score_val              eval_metric  pred_time_test  pred_time_val    fit_time  pred_time_test_marginal  pred_time_val_marginal  fit_time_marginal  stack_level  can_infer  fit_order\n",
      "0          XGBoost_BAG_L1     -64.889396 -27.251233  root_mean_squared_error        0.795191       1.087705   42.331851                 0.795191                1.087705          42.331851            1       True          4\n",
      "1          XGBoost_BAG_L2     -64.992180 -24.474647  root_mean_squared_error        7.152396      12.756701  629.984535                 0.708544                0.811467          89.067396            2       True         10\n",
      "2         CatBoost_BAG_L2     -65.115224 -23.842832  root_mean_squared_error        7.181663      14.581920  647.585613                 0.737811                2.636686         106.668474            2       True          9\n",
      "3       LightGBMXT_BAG_L2     -65.211300 -24.863554  root_mean_squared_error        6.762279      12.487038  558.300394                 0.318426                0.541804          17.383255            2       True          8\n",
      "4     WeightedEnsemble_L3     -65.401464 -23.574726  root_mean_squared_error        8.230917      15.905318  754.707016                 0.003718                0.000519           0.316850            3       True         12\n",
      "5     WeightedEnsemble_L2     -65.607195 -23.709986  root_mean_squared_error        4.648564      11.451611  535.017934                 0.003016                0.000485           0.175093            2       True          6\n",
      "6         LightGBM_BAG_L1     -65.642813 -24.186260  root_mean_squared_error        1.981757       3.470053  134.964365                 1.981757                3.470053         134.964365            1       True          1\n",
      "7         LightGBM_BAG_L2     -65.834040 -24.379988  root_mean_squared_error        6.775366      12.498435  558.746988                 0.331513                0.553201          17.829849            2       True          7\n",
      "8       LightGBMXT_BAG_L1     -66.179546 -24.710327  root_mean_squared_error        1.044645       3.661905  116.833743                 1.044645                3.661905         116.833743            1       True          2\n",
      "9         CatBoost_BAG_L1     -66.315463 -26.048757  root_mean_squared_error        0.823955       3.231462  240.712882                 0.823955                3.231462         240.712882            1       True          3\n",
      "10  NeuralNetTorch_BAG_L2     -67.111238 -24.987686  root_mean_squared_error        6.780844      12.456646  558.654296                 0.336991                0.511413          17.737157            2       True         11\n",
      "11  NeuralNetTorch_BAG_L1     -84.590860 -47.993458  root_mean_squared_error        1.798305       0.494108    6.074299                 1.798305                0.494108           6.074299            1       True          5\n",
      "Stacked overfitting occurred: False.\n",
      "Spend 917 seconds for the sub-fit(s) during dynamic stacking.\n",
      "Time left for full fit of AutoGluon: 2683 seconds.\n",
      "Starting full fit now with num_stack_levels 1.\n",
      "Beginning AutoGluon training ... Time limit = 2683s\n",
      "AutoGluon will save models to \"AutogluonModels/ag-20240312_060128\"\n",
      "=================== System Info ===================\n",
      "AutoGluon Version:  1.0.0\n",
      "Python Version:     3.10.12\n",
      "Operating System:   Linux\n",
      "Platform Machine:   x86_64\n",
      "Platform Version:   #1 SMP PREEMPT_DYNAMIC Sat Nov 18 15:31:17 UTC 2023\n",
      "CPU Count:          8\n",
      "Memory Avail:       47.98 GB / 50.99 GB (94.1%)\n",
      "Disk Space Avail:   167.64 GB / 201.23 GB (83.3%)\n",
      "===================================================\n",
      "Train Data Rows:    6788\n",
      "Train Data Columns: 20\n",
      "Label Column:       price_usd\n",
      "Problem Type:       regression\n",
      "Preprocessing data ...\n",
      "Using Feature Generators to preprocess the data ...\n",
      "Fitting AutoMLPipelineFeatureGenerator...\n",
      "\tAvailable Memory:                    49146.34 MB\n",
      "\tTrain Data (Original)  Memory Usage: 9.94 MB (0.0% of available memory)\n",
      "\tInferring data type of each feature based on column values. Set feature_metadata_in to manually specify special dtypes of the features.\n",
      "\tStage 1 Generators:\n",
      "\t\tFitting AsTypeFeatureGenerator...\n",
      "\t\t\tNote: Converting 5 features to boolean dtype as they only contain 2 unique values.\n",
      "\tStage 2 Generators:\n",
      "\t\tFitting FillNaFeatureGenerator...\n",
      "\tStage 3 Generators:\n",
      "\t\tFitting IdentityFeatureGenerator...\n",
      "\t\tFitting IdentityFeatureGenerator...\n",
      "\t\t\tFitting RenameFeatureGenerator...\n",
      "\t\tFitting CategoryFeatureGenerator...\n",
      "\t\t\tFitting CategoryMemoryMinimizeFeatureGenerator...\n",
      "\t\tFitting TextSpecialFeatureGenerator...\n",
      "\t\t\tFitting BinnedFeatureGenerator...\n",
      "\t\t\tFitting DropDuplicatesFeatureGenerator...\n",
      "\t\tFitting TextNgramFeatureGenerator...\n",
      "\t\t\tFitting CountVectorizer for text features: ['product_name', 'ingredients', 'highlights']\n",
      "\t\t\tCountVectorizer fit with vocabulary size = 6231\n",
      "\tStage 4 Generators:\n",
      "\t\tFitting DropUniqueFeatureGenerator...\n",
      "\tStage 5 Generators:\n",
      "\t\tFitting DropDuplicatesFeatureGenerator...\n",
      "\tTypes of features in original data (raw dtype, special dtypes):\n",
      "\t\t('float', [])        : 3 | ['rating', 'reviews', 'size']\n",
      "\t\t('int', [])          : 9 | ['product_id', 'brand_id', 'loves_count', 'limited_edition', 'new', ...]\n",
      "\t\t('object', [])       : 5 | ['brand_name', 'variation_type', 'primary_category', 'secondary_category', 'tertiary_category']\n",
      "\t\t('object', ['text']) : 3 | ['product_name', 'ingredients', 'highlights']\n",
      "\tTypes of features in processed data (raw dtype, special dtypes):\n",
      "\t\t('category', [])                    :    5 | ['brand_name', 'variation_type', 'primary_category', 'secondary_category', 'tertiary_category']\n",
      "\t\t('category', ['text_as_category'])  :    3 | ['product_name', 'ingredients', 'highlights']\n",
      "\t\t('float', [])                       :    3 | ['rating', 'reviews', 'size']\n",
      "\t\t('int', [])                         :    4 | ['product_id', 'brand_id', 'loves_count', 'child_count']\n",
      "\t\t('int', ['binned', 'text_special']) :   53 | ['product_name.char_count', 'product_name.word_count', 'product_name.capital_ratio', 'product_name.lower_ratio', 'product_name.digit_ratio', ...]\n",
      "\t\t('int', ['bool'])                   :    5 | ['limited_edition', 'new', 'online_only', 'out_of_stock', 'sephora_exclusive']\n",
      "\t\t('int', ['text_ngram'])             : 4575 | ['__nlp__.10', '__nlp__.10 15', '__nlp__.10 dimethicone', '__nlp__.10 laurate', '__nlp__.10 stearate', ...]\n",
      "\t\t('object', ['text'])                :    3 | ['product_name_raw_text', 'ingredients_raw_text', 'highlights_raw_text']\n",
      "\t51.1s = Fit runtime\n",
      "\t20 features in original data used to generate 4651 features in processed data.\n",
      "\tTrain Data (Processed) Memory Usage: 67.27 MB (0.1% of available memory)\n",
      "Data preprocessing and feature engineering runtime = 52.31s ...\n",
      "AutoGluon will gauge predictive performance using evaluation metric: 'root_mean_squared_error'\n",
      "\tThis metric's sign has been flipped to adhere to being higher_is_better. The metric score can be multiplied by -1 to get the metric value.\n",
      "\tTo change this, specify the eval_metric parameter of Predictor()\n",
      "User-specified model hyperparameters to be fit:\n",
      "{\n",
      "\t'NN_TORCH': {},\n",
      "\t'GBM': [{}, {'extra_trees': True, 'ag_args': {'name_suffix': 'XT'}}, 'GBMLarge'],\n",
      "\t'CAT': {},\n",
      "\t'XGB': {},\n",
      "\t'AG_AUTOMM': {},\n",
      "\t'VW': {},\n",
      "}\n",
      "AutoGluon will fit 2 stack levels (L1 to L2) ...\n",
      "Fitting 8 L1 models ...\n",
      "Fitting model: LightGBM_BAG_L1 ... Training model for up to 1753.36s of the 2630.57s of remaining time.\n",
      "\tFitting 8 child models (S1F1 - S1F8) | Fitting with ParallelLocalFoldFittingStrategy (8 workers, per: cpus=1, gpus=0, memory=2.57%)\n",
      "\t-30.8946\t = Validation score   (-root_mean_squared_error)\n",
      "\t54.44s\t = Training   runtime\n",
      "\t1.5s\t = Validation runtime\n",
      "Fitting model: LightGBMXT_BAG_L1 ... Training model for up to 1691.91s of the 2569.12s of remaining time.\n",
      "\tFitting 8 child models (S1F1 - S1F8) | Fitting with ParallelLocalFoldFittingStrategy (8 workers, per: cpus=1, gpus=0, memory=2.57%)\n",
      "\t-31.8514\t = Validation score   (-root_mean_squared_error)\n",
      "\t115.3s\t = Training   runtime\n",
      "\t2.43s\t = Validation runtime\n",
      "Fitting model: CatBoost_BAG_L1 ... Training model for up to 1567.94s of the 2445.14s of remaining time.\n",
      "\tFitting 8 child models (S1F1 - S1F8) | Fitting with ParallelLocalFoldFittingStrategy (8 workers, per: cpus=1, gpus=0, memory=4.39%)\n",
      "\t-32.0429\t = Validation score   (-root_mean_squared_error)\n",
      "\t1256.67s\t = Training   runtime\n",
      "\t2.53s\t = Validation runtime\n",
      "Fitting model: XGBoost_BAG_L1 ... Training model for up to 304.29s of the 1181.51s of remaining time.\n",
      "\tFitting 8 child models (S1F1 - S1F8) | Fitting with ParallelLocalFoldFittingStrategy (8 workers, per: cpus=1, gpus=0, memory=4.69%)\n",
      "\t-37.0952\t = Validation score   (-root_mean_squared_error)\n",
      "\t245.57s\t = Training   runtime\n",
      "\t1.13s\t = Validation runtime\n",
      "Fitting model: NeuralNetTorch_BAG_L1 ... Training model for up to 52.15s of the 929.36s of remaining time.\n",
      "\tFitting 8 child models (S1F1 - S1F8) | Fitting with ParallelLocalFoldFittingStrategy (8 workers, per: cpus=1, gpus=0, memory=0.82%)\n",
      "\t-35.8891\t = Validation score   (-root_mean_squared_error)\n",
      "\t45.54s\t = Training   runtime\n",
      "\t0.41s\t = Validation runtime\n",
      "Fitting model: VowpalWabbit_BAG_L1 ... Training model for up to 1.23s of the 878.44s of remaining time.\n",
      "\tFitting 8 child models (S1F1 - S1F8) | Fitting with ParallelLocalFoldFittingStrategy (8 workers, per: cpus=1, gpus=0, memory=0.69%)\n",
      "\tWarning: Exception caused VowpalWabbit_BAG_L1 to fail during training (ImportError)... Skipping this model.\n",
      "\t\t\u001b[36mray::_ray_fit()\u001b[39m (pid=19047, ip=172.28.0.12)\n",
      "ModuleNotFoundError: No module named 'vowpalwabbit'\n",
      "\n",
      "During handling of the above exception, another exception occurred:\n",
      "\n",
      "\u001b[36mray::_ray_fit()\u001b[39m (pid=19047, ip=172.28.0.12)\n",
      "  File \"/usr/local/lib/python3.10/dist-packages/autogluon/core/models/ensemble/fold_fitting_strategy.py\", line 402, in _ray_fit\n",
      "    fold_model.fit(X=X_fold, y=y_fold, X_val=X_val_fold, y_val=y_val_fold, time_limit=time_limit_fold, **resources, **kwargs_fold)\n",
      "  File \"/usr/local/lib/python3.10/dist-packages/autogluon/core/models/abstract/abstract_model.py\", line 854, in fit\n",
      "    out = self._fit(**kwargs)\n",
      "  File \"/usr/local/lib/python3.10/dist-packages/autogluon/tabular/models/vowpalwabbit/vowpalwabbit_model.py\", line 68, in _fit\n",
      "    try_import_vowpalwabbit()\n",
      "  File \"/usr/local/lib/python3.10/dist-packages/autogluon/common/utils/try_import.py\", line 181, in try_import_vowpalwabbit\n",
      "    raise ImportError(\"`import vowpalwabbit` failed.\\n\" \"A quick tip is to install via `pip install vowpalwabbit>=9,<9.9\")\n",
      "ImportError: `import vowpalwabbit` failed.\n",
      "A quick tip is to install via `pip install vowpalwabbit>=9,<9.9\n",
      "Fitting model: WeightedEnsemble_L2 ... Training model for up to 360.0s of the 870.18s of remaining time.\n",
      "\tEnsemble Weights: {'LightGBM_BAG_L1': 0.567, 'CatBoost_BAG_L1': 0.25, 'NeuralNetTorch_BAG_L1': 0.117, 'XGBoost_BAG_L1': 0.05, 'LightGBMXT_BAG_L1': 0.017}\n",
      "\t-30.3379\t = Validation score   (-root_mean_squared_error)\n",
      "\t0.18s\t = Training   runtime\n",
      "\t0.0s\t = Validation runtime\n",
      "Fitting 6 L2 models ...\n",
      "Fitting model: LightGBM_BAG_L2 ... Training model for up to 869.98s of the 869.4s of remaining time.\n",
      "\tFitting 8 child models (S1F1 - S1F8) | Fitting with ParallelLocalFoldFittingStrategy (8 workers, per: cpus=1, gpus=0, memory=2.58%)\n",
      "2024-03-12 06:47:03,446\tERROR worker.py:405 -- Unhandled error (suppress with 'RAY_IGNORE_UNHANDLED_ERRORS=1'): The worker died unexpectedly while executing this task. Check python-core-worker-*.log files for more information.\n",
      "2024-03-12 06:47:03,448\tERROR worker.py:405 -- Unhandled error (suppress with 'RAY_IGNORE_UNHANDLED_ERRORS=1'): The worker died unexpectedly while executing this task. Check python-core-worker-*.log files for more information.\n",
      "2024-03-12 06:47:03,449\tERROR worker.py:405 -- Unhandled error (suppress with 'RAY_IGNORE_UNHANDLED_ERRORS=1'): The worker died unexpectedly while executing this task. Check python-core-worker-*.log files for more information.\n",
      "2024-03-12 06:47:03,452\tERROR worker.py:405 -- Unhandled error (suppress with 'RAY_IGNORE_UNHANDLED_ERRORS=1'): The worker died unexpectedly while executing this task. Check python-core-worker-*.log files for more information.\n",
      "2024-03-12 06:47:03,454\tERROR worker.py:405 -- Unhandled error (suppress with 'RAY_IGNORE_UNHANDLED_ERRORS=1'): The worker died unexpectedly while executing this task. Check python-core-worker-*.log files for more information.\n",
      "2024-03-12 06:47:03,455\tERROR worker.py:405 -- Unhandled error (suppress with 'RAY_IGNORE_UNHANDLED_ERRORS=1'): The worker died unexpectedly while executing this task. Check python-core-worker-*.log files for more information.\n",
      "2024-03-12 06:47:03,456\tERROR worker.py:405 -- Unhandled error (suppress with 'RAY_IGNORE_UNHANDLED_ERRORS=1'): The worker died unexpectedly while executing this task. Check python-core-worker-*.log files for more information.\n",
      "\t-30.9085\t = Validation score   (-root_mean_squared_error)\n",
      "\t22.88s\t = Training   runtime\n",
      "\t0.7s\t = Validation runtime\n",
      "Fitting model: LightGBMXT_BAG_L2 ... Training model for up to 840.11s of the 839.54s of remaining time.\n",
      "\tFitting 8 child models (S1F1 - S1F8) | Fitting with ParallelLocalFoldFittingStrategy (8 workers, per: cpus=1, gpus=0, memory=2.59%)\n",
      "\t-31.3708\t = Validation score   (-root_mean_squared_error)\n",
      "\t19.56s\t = Training   runtime\n",
      "\t0.68s\t = Validation runtime\n",
      "Fitting model: CatBoost_BAG_L2 ... Training model for up to 813.68s of the 813.06s of remaining time.\n",
      "\tFitting 8 child models (S1F1 - S1F8) | Fitting with ParallelLocalFoldFittingStrategy (8 workers, per: cpus=1, gpus=0, memory=4.41%)\n",
      "\t-30.633\t = Validation score   (-root_mean_squared_error)\n",
      "\t78.0s\t = Training   runtime\n",
      "\t2.43s\t = Validation runtime\n",
      "Fitting model: XGBoost_BAG_L2 ... Training model for up to 728.52s of the 727.95s of remaining time.\n",
      "\tFitting 8 child models (S1F1 - S1F8) | Fitting with ParallelLocalFoldFittingStrategy (8 workers, per: cpus=1, gpus=0, memory=4.71%)\n",
      "\t-31.9343\t = Validation score   (-root_mean_squared_error)\n",
      "\t109.13s\t = Training   runtime\n",
      "\t1.03s\t = Validation runtime\n",
      "Fitting model: NeuralNetTorch_BAG_L2 ... Training model for up to 612.4s of the 611.83s of remaining time.\n",
      "\tFitting 8 child models (S1F1 - S1F8) | Fitting with ParallelLocalFoldFittingStrategy (8 workers, per: cpus=1, gpus=0, memory=0.83%)\n",
      "\t-31.8715\t = Validation score   (-root_mean_squared_error)\n",
      "\t29.0s\t = Training   runtime\n",
      "\t0.51s\t = Validation runtime\n",
      "Fitting model: LightGBMLarge_BAG_L2 ... Training model for up to 577.64s of the 577.08s of remaining time.\n",
      "\tFitting 8 child models (S1F1 - S1F8) | Fitting with ParallelLocalFoldFittingStrategy (8 workers, per: cpus=1, gpus=0, memory=7.98%)\n",
      "\t-31.207\t = Validation score   (-root_mean_squared_error)\n",
      "\t55.41s\t = Training   runtime\n",
      "\t0.8s\t = Validation runtime\n",
      "Fitting model: WeightedEnsemble_L3 ... Training model for up to 360.0s of the 514.73s of remaining time.\n",
      "\tEnsemble Weights: {'LightGBM_BAG_L1': 0.333, 'CatBoost_BAG_L1': 0.135, 'LightGBM_BAG_L2': 0.135, 'XGBoost_BAG_L2': 0.125, 'NeuralNetTorch_BAG_L2': 0.083, 'NeuralNetTorch_BAG_L1': 0.073, 'LightGBMLarge_BAG_L2': 0.073, 'CatBoost_BAG_L2': 0.042}\n",
      "\t-30.2208\t = Validation score   (-root_mean_squared_error)\n",
      "\t0.34s\t = Training   runtime\n",
      "\t0.0s\t = Validation runtime\n",
      "AutoGluon training complete, total runtime = 2168.79s ... Best model: \"WeightedEnsemble_L3\"\n",
      "TabularPredictor saved. To load, use: predictor = TabularPredictor.load(\"AutogluonModels/ag-20240312_060128\")\n"
     ]
    },
    {
     "name": "stdout",
     "output_type": "stream",
     "text": [
      "{'root_mean_squared_error': -21.505364831630388, 'mean_squared_error': -462.4807165415251, 'mean_absolute_error': -11.00843914234175, 'r2': 0.8205110137956542, 'pearsonr': 0.9080769614198096, 'median_absolute_error': -5.399360656738281}\n"
     ]
    }
   ],
   "source": [
    "from autogluon.tabular import TabularPredictor\n",
    "from autogluon.tabular.configs.hyperparameter_configs import get_hyperparameter_config\n",
    "from sklearn.model_selection import train_test_split\n",
    "\n",
    "# Split the data into train and test sets (adjust test_size and random_state as needed)\n",
    "X_train, X_test = train_test_split(df, test_size=0.2, random_state=42)\n",
    "\n",
    "# Get hyperparameter configuration for regression\n",
    "hyperparameters = get_hyperparameter_config('multimodal')\n",
    "\n",
    "# Fit AutoGluon model with specified hyperparameters using only the training data\n",
    "predictor = TabularPredictor(label='price_usd').fit(\n",
    "    X_train,\n",
    "    hyperparameters=hyperparameters,\n",
    "    time_limit=3600,  # Set a time limit for training (in seconds)\n",
    "    presets='best_quality'  # Use the 'best_quality' preset for better quality models\n",
    ")\n",
    "\n",
    "# Make predictions on the test data\n",
    "predictions = predictor.predict(X_test)\n",
    "\n",
    "# Get performance summary\n",
    "performance = predictor.evaluate_predictions(y_true=X_test['price_usd'], y_pred=predictions)\n",
    "print(performance)\n"
   ]
  },
  {
   "cell_type": "code",
   "execution_count": 63,
   "id": "juKt_PKu9Kun",
   "metadata": {
    "colab": {
     "base_uri": "https://localhost:8080/"
    },
    "id": "juKt_PKu9Kun",
    "outputId": "38faf0ee-187b-41c8-e1c5-d98a78d1fd6a"
   },
   "outputs": [
    {
     "name": "stderr",
     "output_type": "stream",
     "text": [
      "<ipython-input-63-a771593e68cf>:1: DeprecationWarning: `get_model_best` has been deprecated and will be removed in version 1.2. Please use `model_best` instead. This will raise an error in the future!\n",
      "  best_model = predictor.get_model_best()\n"
     ]
    }
   ],
   "source": [
    "best_model = predictor.get_model_best()"
   ]
  },
  {
   "cell_type": "code",
   "execution_count": 64,
   "id": "skzUmiB5Nvtn",
   "metadata": {
    "colab": {
     "base_uri": "https://localhost:8080/",
     "height": 35
    },
    "id": "skzUmiB5Nvtn",
    "outputId": "19d57bf9-0db1-4b54-c162-be9df30d255c"
   },
   "outputs": [
    {
     "data": {
      "application/vnd.google.colaboratory.intrinsic+json": {
       "type": "string"
      },
      "text/plain": [
       "'WeightedEnsemble_L3'"
      ]
     },
     "execution_count": 64,
     "metadata": {},
     "output_type": "execute_result"
    }
   ],
   "source": [
    "best_model"
   ]
  },
  {
   "cell_type": "code",
   "execution_count": 65,
   "id": "RhY5aPRZ9KsK",
   "metadata": {
    "colab": {
     "base_uri": "https://localhost:8080/",
     "height": 477
    },
    "id": "RhY5aPRZ9KsK",
    "outputId": "051ba5a6-3e90-4ccd-b625-0d845db132da"
   },
   "outputs": [
    {
     "data": {
      "application/vnd.google.colaboratory.intrinsic+json": {
       "summary": "{\n  \"name\": \"predictor\",\n  \"rows\": 13,\n  \"fields\": [\n    {\n      \"column\": \"model\",\n      \"properties\": {\n        \"dtype\": \"string\",\n        \"num_unique_values\": 13,\n        \"samples\": [\n          \"XGBoost_BAG_L1\",\n          \"CatBoost_BAG_L1\",\n          \"WeightedEnsemble_L3\"\n        ],\n        \"semantic_type\": \"\",\n        \"description\": \"\"\n      }\n    },\n    {\n      \"column\": \"score_test\",\n      \"properties\": {\n        \"dtype\": \"number\",\n        \"std\": 1.7565116350726304,\n        \"min\": -28.025767817952545,\n        \"max\": -21.505364831630388,\n        \"num_unique_values\": 13,\n        \"samples\": [\n          -23.909099436263375,\n          -22.80293380859689,\n          -21.505364831630388\n        ],\n        \"semantic_type\": \"\",\n        \"description\": \"\"\n      }\n    },\n    {\n      \"column\": \"score_val\",\n      \"properties\": {\n        \"dtype\": \"number\",\n        \"std\": 2.088888240967842,\n        \"min\": -37.0952392526918,\n        \"max\": -30.220753429377403,\n        \"num_unique_values\": 13,\n        \"samples\": [\n          -37.0952392526918,\n          -32.04288214878835,\n          -30.220753429377403\n        ],\n        \"semantic_type\": \"\",\n        \"description\": \"\"\n      }\n    },\n    {\n      \"column\": \"eval_metric\",\n      \"properties\": {\n        \"dtype\": \"category\",\n        \"num_unique_values\": 1,\n        \"samples\": [\n          \"root_mean_squared_error\"\n        ],\n        \"semantic_type\": \"\",\n        \"description\": \"\"\n      }\n    },\n    {\n      \"column\": \"pred_time_test\",\n      \"properties\": {\n        \"dtype\": \"number\",\n        \"std\": 3.3908727173421234,\n        \"min\": 0.6629276275634766,\n        \"max\": 10.867427349090576,\n        \"num_unique_values\": 13,\n        \"samples\": [\n          1.7399072647094727\n        ],\n        \"semantic_type\": \"\",\n        \"description\": \"\"\n      }\n    },\n    {\n      \"column\": \"pred_time_val\",\n      \"properties\": {\n        \"dtype\": \"number\",\n        \"std\": 4.226822442318275,\n        \"min\": 0.4058670997619629,\n        \"max\": 13.458500862121582,\n        \"num_unique_values\": 13,\n        \"samples\": [\n          1.1304216384887695\n        ],\n        \"semantic_type\": \"\",\n        \"description\": \"\"\n      }\n    },\n    {\n      \"column\": \"fit_time\",\n      \"properties\": {\n        \"dtype\": \"number\",\n        \"std\": 795.9078104007133,\n        \"min\": 45.53890919685364,\n        \"max\": 2012.283404827118,\n        \"num_unique_values\": 13,\n        \"samples\": [\n          245.5669858455658\n        ],\n        \"semantic_type\": \"\",\n        \"description\": \"\"\n      }\n    },\n    {\n      \"column\": \"pred_time_test_marginal\",\n      \"properties\": {\n        \"dtype\": \"number\",\n        \"std\": 0.5469738846893233,\n        \"min\": 0.003177165985107422,\n        \"max\": 1.7399072647094727,\n        \"num_unique_values\": 13,\n        \"samples\": [\n          1.7399072647094727\n        ],\n        \"semantic_type\": \"\",\n        \"description\": \"\"\n      }\n    },\n    {\n      \"column\": \"pred_time_val_marginal\",\n      \"properties\": {\n        \"dtype\": \"number\",\n        \"std\": 0.8856760028193841,\n        \"min\": 0.0004115104675292969,\n        \"max\": 2.52999210357666,\n        \"num_unique_values\": 13,\n        \"samples\": [\n          1.1304216384887695\n        ],\n        \"semantic_type\": \"\",\n        \"description\": \"\"\n      }\n    },\n    {\n      \"column\": \"fit_time_marginal\",\n      \"properties\": {\n        \"dtype\": \"number\",\n        \"std\": 337.027376118583,\n        \"min\": 0.17851638793945312,\n        \"max\": 1256.6726624965668,\n        \"num_unique_values\": 13,\n        \"samples\": [\n          245.5669858455658\n        ],\n        \"semantic_type\": \"\",\n        \"description\": \"\"\n      }\n    },\n    {\n      \"column\": \"stack_level\",\n      \"properties\": {\n        \"dtype\": \"number\",\n        \"std\": 0,\n        \"min\": 1,\n        \"max\": 3,\n        \"num_unique_values\": 3,\n        \"samples\": [\n          3\n        ],\n        \"semantic_type\": \"\",\n        \"description\": \"\"\n      }\n    },\n    {\n      \"column\": \"can_infer\",\n      \"properties\": {\n        \"dtype\": \"boolean\",\n        \"num_unique_values\": 1,\n        \"samples\": [\n          true\n        ],\n        \"semantic_type\": \"\",\n        \"description\": \"\"\n      }\n    },\n    {\n      \"column\": \"fit_order\",\n      \"properties\": {\n        \"dtype\": \"number\",\n        \"std\": 3,\n        \"min\": 1,\n        \"max\": 13,\n        \"num_unique_values\": 13,\n        \"samples\": [\n          4\n        ],\n        \"semantic_type\": \"\",\n        \"description\": \"\"\n      }\n    }\n  ]\n}",
       "type": "dataframe"
      },
      "text/html": [
       "\n",
       "  <div id=\"df-3a2ffbee-43b3-4074-bb28-e558187efa32\" class=\"colab-df-container\">\n",
       "    <div>\n",
       "<style scoped>\n",
       "    .dataframe tbody tr th:only-of-type {\n",
       "        vertical-align: middle;\n",
       "    }\n",
       "\n",
       "    .dataframe tbody tr th {\n",
       "        vertical-align: top;\n",
       "    }\n",
       "\n",
       "    .dataframe thead th {\n",
       "        text-align: right;\n",
       "    }\n",
       "</style>\n",
       "<table border=\"1\" class=\"dataframe\">\n",
       "  <thead>\n",
       "    <tr style=\"text-align: right;\">\n",
       "      <th></th>\n",
       "      <th>model</th>\n",
       "      <th>score_test</th>\n",
       "      <th>score_val</th>\n",
       "      <th>eval_metric</th>\n",
       "      <th>pred_time_test</th>\n",
       "      <th>pred_time_val</th>\n",
       "      <th>fit_time</th>\n",
       "      <th>pred_time_test_marginal</th>\n",
       "      <th>pred_time_val_marginal</th>\n",
       "      <th>fit_time_marginal</th>\n",
       "      <th>stack_level</th>\n",
       "      <th>can_infer</th>\n",
       "      <th>fit_order</th>\n",
       "    </tr>\n",
       "  </thead>\n",
       "  <tbody>\n",
       "    <tr>\n",
       "      <th>0</th>\n",
       "      <td>WeightedEnsemble_L3</td>\n",
       "      <td>-21.505365</td>\n",
       "      <td>-30.220753</td>\n",
       "      <td>root_mean_squared_error</td>\n",
       "      <td>10.867427</td>\n",
       "      <td>13.458501</td>\n",
       "      <td>2012.283405</td>\n",
       "      <td>0.005849</td>\n",
       "      <td>0.000494</td>\n",
       "      <td>0.341322</td>\n",
       "      <td>3</td>\n",
       "      <td>True</td>\n",
       "      <td>13</td>\n",
       "    </tr>\n",
       "    <tr>\n",
       "      <th>1</th>\n",
       "      <td>WeightedEnsemble_L2</td>\n",
       "      <td>-21.627332</td>\n",
       "      <td>-30.337944</td>\n",
       "      <td>root_mean_squared_error</td>\n",
       "      <td>6.470722</td>\n",
       "      <td>7.991956</td>\n",
       "      <td>1717.697834</td>\n",
       "      <td>0.003177</td>\n",
       "      <td>0.000412</td>\n",
       "      <td>0.178516</td>\n",
       "      <td>2</td>\n",
       "      <td>True</td>\n",
       "      <td>6</td>\n",
       "    </tr>\n",
       "    <tr>\n",
       "      <th>2</th>\n",
       "      <td>LightGBMLarge_BAG_L2</td>\n",
       "      <td>-21.668105</td>\n",
       "      <td>-31.206952</td>\n",
       "      <td>root_mean_squared_error</td>\n",
       "      <td>7.396911</td>\n",
       "      <td>8.792072</td>\n",
       "      <td>1772.925297</td>\n",
       "      <td>0.929366</td>\n",
       "      <td>0.800527</td>\n",
       "      <td>55.405980</td>\n",
       "      <td>2</td>\n",
       "      <td>True</td>\n",
       "      <td>12</td>\n",
       "    </tr>\n",
       "    <tr>\n",
       "      <th>3</th>\n",
       "      <td>CatBoost_BAG_L2</td>\n",
       "      <td>-21.689347</td>\n",
       "      <td>-30.632954</td>\n",
       "      <td>root_mean_squared_error</td>\n",
       "      <td>7.407640</td>\n",
       "      <td>10.420932</td>\n",
       "      <td>1795.521407</td>\n",
       "      <td>0.940094</td>\n",
       "      <td>2.429387</td>\n",
       "      <td>78.002090</td>\n",
       "      <td>2</td>\n",
       "      <td>True</td>\n",
       "      <td>9</td>\n",
       "    </tr>\n",
       "    <tr>\n",
       "      <th>4</th>\n",
       "      <td>LightGBM_BAG_L2</td>\n",
       "      <td>-21.717844</td>\n",
       "      <td>-30.908478</td>\n",
       "      <td>root_mean_squared_error</td>\n",
       "      <td>7.145009</td>\n",
       "      <td>8.687673</td>\n",
       "      <td>1740.403781</td>\n",
       "      <td>0.677463</td>\n",
       "      <td>0.696128</td>\n",
       "      <td>22.884464</td>\n",
       "      <td>2</td>\n",
       "      <td>True</td>\n",
       "      <td>7</td>\n",
       "    </tr>\n",
       "    <tr>\n",
       "      <th>5</th>\n",
       "      <td>XGBoost_BAG_L2</td>\n",
       "      <td>-21.890939</td>\n",
       "      <td>-31.934298</td>\n",
       "      <td>root_mean_squared_error</td>\n",
       "      <td>7.853789</td>\n",
       "      <td>9.020694</td>\n",
       "      <td>1826.653686</td>\n",
       "      <td>1.386244</td>\n",
       "      <td>1.029149</td>\n",
       "      <td>109.134369</td>\n",
       "      <td>2</td>\n",
       "      <td>True</td>\n",
       "      <td>10</td>\n",
       "    </tr>\n",
       "    <tr>\n",
       "      <th>6</th>\n",
       "      <td>LightGBM_BAG_L1</td>\n",
       "      <td>-22.027723</td>\n",
       "      <td>-30.894591</td>\n",
       "      <td>root_mean_squared_error</td>\n",
       "      <td>1.300499</td>\n",
       "      <td>1.498740</td>\n",
       "      <td>54.444235</td>\n",
       "      <td>1.300499</td>\n",
       "      <td>1.498740</td>\n",
       "      <td>54.444235</td>\n",
       "      <td>1</td>\n",
       "      <td>True</td>\n",
       "      <td>1</td>\n",
       "    </tr>\n",
       "    <tr>\n",
       "      <th>7</th>\n",
       "      <td>LightGBMXT_BAG_L2</td>\n",
       "      <td>-22.049616</td>\n",
       "      <td>-31.370815</td>\n",
       "      <td>root_mean_squared_error</td>\n",
       "      <td>7.135609</td>\n",
       "      <td>8.668271</td>\n",
       "      <td>1737.074673</td>\n",
       "      <td>0.668064</td>\n",
       "      <td>0.676726</td>\n",
       "      <td>19.555356</td>\n",
       "      <td>2</td>\n",
       "      <td>True</td>\n",
       "      <td>8</td>\n",
       "    </tr>\n",
       "    <tr>\n",
       "      <th>8</th>\n",
       "      <td>NeuralNetTorch_BAG_L2</td>\n",
       "      <td>-22.728902</td>\n",
       "      <td>-31.871524</td>\n",
       "      <td>root_mean_squared_error</td>\n",
       "      <td>6.928412</td>\n",
       "      <td>8.502816</td>\n",
       "      <td>1746.515179</td>\n",
       "      <td>0.460866</td>\n",
       "      <td>0.511271</td>\n",
       "      <td>28.995862</td>\n",
       "      <td>2</td>\n",
       "      <td>True</td>\n",
       "      <td>11</td>\n",
       "    </tr>\n",
       "    <tr>\n",
       "      <th>9</th>\n",
       "      <td>CatBoost_BAG_L1</td>\n",
       "      <td>-22.802934</td>\n",
       "      <td>-32.042882</td>\n",
       "      <td>root_mean_squared_error</td>\n",
       "      <td>1.199879</td>\n",
       "      <td>2.529992</td>\n",
       "      <td>1256.672662</td>\n",
       "      <td>1.199879</td>\n",
       "      <td>2.529992</td>\n",
       "      <td>1256.672662</td>\n",
       "      <td>1</td>\n",
       "      <td>True</td>\n",
       "      <td>3</td>\n",
       "    </tr>\n",
       "    <tr>\n",
       "      <th>10</th>\n",
       "      <td>LightGBMXT_BAG_L1</td>\n",
       "      <td>-22.924678</td>\n",
       "      <td>-31.851442</td>\n",
       "      <td>root_mean_squared_error</td>\n",
       "      <td>1.564332</td>\n",
       "      <td>2.426524</td>\n",
       "      <td>115.296524</td>\n",
       "      <td>1.564332</td>\n",
       "      <td>2.426524</td>\n",
       "      <td>115.296524</td>\n",
       "      <td>1</td>\n",
       "      <td>True</td>\n",
       "      <td>2</td>\n",
       "    </tr>\n",
       "    <tr>\n",
       "      <th>11</th>\n",
       "      <td>XGBoost_BAG_L1</td>\n",
       "      <td>-23.909099</td>\n",
       "      <td>-37.095239</td>\n",
       "      <td>root_mean_squared_error</td>\n",
       "      <td>1.739907</td>\n",
       "      <td>1.130422</td>\n",
       "      <td>245.566986</td>\n",
       "      <td>1.739907</td>\n",
       "      <td>1.130422</td>\n",
       "      <td>245.566986</td>\n",
       "      <td>1</td>\n",
       "      <td>True</td>\n",
       "      <td>4</td>\n",
       "    </tr>\n",
       "    <tr>\n",
       "      <th>12</th>\n",
       "      <td>NeuralNetTorch_BAG_L1</td>\n",
       "      <td>-28.025768</td>\n",
       "      <td>-35.889116</td>\n",
       "      <td>root_mean_squared_error</td>\n",
       "      <td>0.662928</td>\n",
       "      <td>0.405867</td>\n",
       "      <td>45.538909</td>\n",
       "      <td>0.662928</td>\n",
       "      <td>0.405867</td>\n",
       "      <td>45.538909</td>\n",
       "      <td>1</td>\n",
       "      <td>True</td>\n",
       "      <td>5</td>\n",
       "    </tr>\n",
       "  </tbody>\n",
       "</table>\n",
       "</div>\n",
       "    <div class=\"colab-df-buttons\">\n",
       "\n",
       "  <div class=\"colab-df-container\">\n",
       "    <button class=\"colab-df-convert\" onclick=\"convertToInteractive('df-3a2ffbee-43b3-4074-bb28-e558187efa32')\"\n",
       "            title=\"Convert this dataframe to an interactive table.\"\n",
       "            style=\"display:none;\">\n",
       "\n",
       "  <svg xmlns=\"http://www.w3.org/2000/svg\" height=\"24px\" viewBox=\"0 -960 960 960\">\n",
       "    <path d=\"M120-120v-720h720v720H120Zm60-500h600v-160H180v160Zm220 220h160v-160H400v160Zm0 220h160v-160H400v160ZM180-400h160v-160H180v160Zm440 0h160v-160H620v160ZM180-180h160v-160H180v160Zm440 0h160v-160H620v160Z\"/>\n",
       "  </svg>\n",
       "    </button>\n",
       "\n",
       "  <style>\n",
       "    .colab-df-container {\n",
       "      display:flex;\n",
       "      gap: 12px;\n",
       "    }\n",
       "\n",
       "    .colab-df-convert {\n",
       "      background-color: #E8F0FE;\n",
       "      border: none;\n",
       "      border-radius: 50%;\n",
       "      cursor: pointer;\n",
       "      display: none;\n",
       "      fill: #1967D2;\n",
       "      height: 32px;\n",
       "      padding: 0 0 0 0;\n",
       "      width: 32px;\n",
       "    }\n",
       "\n",
       "    .colab-df-convert:hover {\n",
       "      background-color: #E2EBFA;\n",
       "      box-shadow: 0px 1px 2px rgba(60, 64, 67, 0.3), 0px 1px 3px 1px rgba(60, 64, 67, 0.15);\n",
       "      fill: #174EA6;\n",
       "    }\n",
       "\n",
       "    .colab-df-buttons div {\n",
       "      margin-bottom: 4px;\n",
       "    }\n",
       "\n",
       "    [theme=dark] .colab-df-convert {\n",
       "      background-color: #3B4455;\n",
       "      fill: #D2E3FC;\n",
       "    }\n",
       "\n",
       "    [theme=dark] .colab-df-convert:hover {\n",
       "      background-color: #434B5C;\n",
       "      box-shadow: 0px 1px 3px 1px rgba(0, 0, 0, 0.15);\n",
       "      filter: drop-shadow(0px 1px 2px rgba(0, 0, 0, 0.3));\n",
       "      fill: #FFFFFF;\n",
       "    }\n",
       "  </style>\n",
       "\n",
       "    <script>\n",
       "      const buttonEl =\n",
       "        document.querySelector('#df-3a2ffbee-43b3-4074-bb28-e558187efa32 button.colab-df-convert');\n",
       "      buttonEl.style.display =\n",
       "        google.colab.kernel.accessAllowed ? 'block' : 'none';\n",
       "\n",
       "      async function convertToInteractive(key) {\n",
       "        const element = document.querySelector('#df-3a2ffbee-43b3-4074-bb28-e558187efa32');\n",
       "        const dataTable =\n",
       "          await google.colab.kernel.invokeFunction('convertToInteractive',\n",
       "                                                    [key], {});\n",
       "        if (!dataTable) return;\n",
       "\n",
       "        const docLinkHtml = 'Like what you see? Visit the ' +\n",
       "          '<a target=\"_blank\" href=https://colab.research.google.com/notebooks/data_table.ipynb>data table notebook</a>'\n",
       "          + ' to learn more about interactive tables.';\n",
       "        element.innerHTML = '';\n",
       "        dataTable['output_type'] = 'display_data';\n",
       "        await google.colab.output.renderOutput(dataTable, element);\n",
       "        const docLink = document.createElement('div');\n",
       "        docLink.innerHTML = docLinkHtml;\n",
       "        element.appendChild(docLink);\n",
       "      }\n",
       "    </script>\n",
       "  </div>\n",
       "\n",
       "\n",
       "<div id=\"df-1e01bc1a-b6c6-45d1-8f49-c6ef2238dc1d\">\n",
       "  <button class=\"colab-df-quickchart\" onclick=\"quickchart('df-1e01bc1a-b6c6-45d1-8f49-c6ef2238dc1d')\"\n",
       "            title=\"Suggest charts\"\n",
       "            style=\"display:none;\">\n",
       "\n",
       "<svg xmlns=\"http://www.w3.org/2000/svg\" height=\"24px\"viewBox=\"0 0 24 24\"\n",
       "     width=\"24px\">\n",
       "    <g>\n",
       "        <path d=\"M19 3H5c-1.1 0-2 .9-2 2v14c0 1.1.9 2 2 2h14c1.1 0 2-.9 2-2V5c0-1.1-.9-2-2-2zM9 17H7v-7h2v7zm4 0h-2V7h2v10zm4 0h-2v-4h2v4z\"/>\n",
       "    </g>\n",
       "</svg>\n",
       "  </button>\n",
       "\n",
       "<style>\n",
       "  .colab-df-quickchart {\n",
       "      --bg-color: #E8F0FE;\n",
       "      --fill-color: #1967D2;\n",
       "      --hover-bg-color: #E2EBFA;\n",
       "      --hover-fill-color: #174EA6;\n",
       "      --disabled-fill-color: #AAA;\n",
       "      --disabled-bg-color: #DDD;\n",
       "  }\n",
       "\n",
       "  [theme=dark] .colab-df-quickchart {\n",
       "      --bg-color: #3B4455;\n",
       "      --fill-color: #D2E3FC;\n",
       "      --hover-bg-color: #434B5C;\n",
       "      --hover-fill-color: #FFFFFF;\n",
       "      --disabled-bg-color: #3B4455;\n",
       "      --disabled-fill-color: #666;\n",
       "  }\n",
       "\n",
       "  .colab-df-quickchart {\n",
       "    background-color: var(--bg-color);\n",
       "    border: none;\n",
       "    border-radius: 50%;\n",
       "    cursor: pointer;\n",
       "    display: none;\n",
       "    fill: var(--fill-color);\n",
       "    height: 32px;\n",
       "    padding: 0;\n",
       "    width: 32px;\n",
       "  }\n",
       "\n",
       "  .colab-df-quickchart:hover {\n",
       "    background-color: var(--hover-bg-color);\n",
       "    box-shadow: 0 1px 2px rgba(60, 64, 67, 0.3), 0 1px 3px 1px rgba(60, 64, 67, 0.15);\n",
       "    fill: var(--button-hover-fill-color);\n",
       "  }\n",
       "\n",
       "  .colab-df-quickchart-complete:disabled,\n",
       "  .colab-df-quickchart-complete:disabled:hover {\n",
       "    background-color: var(--disabled-bg-color);\n",
       "    fill: var(--disabled-fill-color);\n",
       "    box-shadow: none;\n",
       "  }\n",
       "\n",
       "  .colab-df-spinner {\n",
       "    border: 2px solid var(--fill-color);\n",
       "    border-color: transparent;\n",
       "    border-bottom-color: var(--fill-color);\n",
       "    animation:\n",
       "      spin 1s steps(1) infinite;\n",
       "  }\n",
       "\n",
       "  @keyframes spin {\n",
       "    0% {\n",
       "      border-color: transparent;\n",
       "      border-bottom-color: var(--fill-color);\n",
       "      border-left-color: var(--fill-color);\n",
       "    }\n",
       "    20% {\n",
       "      border-color: transparent;\n",
       "      border-left-color: var(--fill-color);\n",
       "      border-top-color: var(--fill-color);\n",
       "    }\n",
       "    30% {\n",
       "      border-color: transparent;\n",
       "      border-left-color: var(--fill-color);\n",
       "      border-top-color: var(--fill-color);\n",
       "      border-right-color: var(--fill-color);\n",
       "    }\n",
       "    40% {\n",
       "      border-color: transparent;\n",
       "      border-right-color: var(--fill-color);\n",
       "      border-top-color: var(--fill-color);\n",
       "    }\n",
       "    60% {\n",
       "      border-color: transparent;\n",
       "      border-right-color: var(--fill-color);\n",
       "    }\n",
       "    80% {\n",
       "      border-color: transparent;\n",
       "      border-right-color: var(--fill-color);\n",
       "      border-bottom-color: var(--fill-color);\n",
       "    }\n",
       "    90% {\n",
       "      border-color: transparent;\n",
       "      border-bottom-color: var(--fill-color);\n",
       "    }\n",
       "  }\n",
       "</style>\n",
       "\n",
       "  <script>\n",
       "    async function quickchart(key) {\n",
       "      const quickchartButtonEl =\n",
       "        document.querySelector('#' + key + ' button');\n",
       "      quickchartButtonEl.disabled = true;  // To prevent multiple clicks.\n",
       "      quickchartButtonEl.classList.add('colab-df-spinner');\n",
       "      try {\n",
       "        const charts = await google.colab.kernel.invokeFunction(\n",
       "            'suggestCharts', [key], {});\n",
       "      } catch (error) {\n",
       "        console.error('Error during call to suggestCharts:', error);\n",
       "      }\n",
       "      quickchartButtonEl.classList.remove('colab-df-spinner');\n",
       "      quickchartButtonEl.classList.add('colab-df-quickchart-complete');\n",
       "    }\n",
       "    (() => {\n",
       "      let quickchartButtonEl =\n",
       "        document.querySelector('#df-1e01bc1a-b6c6-45d1-8f49-c6ef2238dc1d button');\n",
       "      quickchartButtonEl.style.display =\n",
       "        google.colab.kernel.accessAllowed ? 'block' : 'none';\n",
       "    })();\n",
       "  </script>\n",
       "</div>\n",
       "\n",
       "    </div>\n",
       "  </div>\n"
      ],
      "text/plain": [
       "                    model  score_test  score_val              eval_metric  \\\n",
       "0     WeightedEnsemble_L3  -21.505365 -30.220753  root_mean_squared_error   \n",
       "1     WeightedEnsemble_L2  -21.627332 -30.337944  root_mean_squared_error   \n",
       "2    LightGBMLarge_BAG_L2  -21.668105 -31.206952  root_mean_squared_error   \n",
       "3         CatBoost_BAG_L2  -21.689347 -30.632954  root_mean_squared_error   \n",
       "4         LightGBM_BAG_L2  -21.717844 -30.908478  root_mean_squared_error   \n",
       "5          XGBoost_BAG_L2  -21.890939 -31.934298  root_mean_squared_error   \n",
       "6         LightGBM_BAG_L1  -22.027723 -30.894591  root_mean_squared_error   \n",
       "7       LightGBMXT_BAG_L2  -22.049616 -31.370815  root_mean_squared_error   \n",
       "8   NeuralNetTorch_BAG_L2  -22.728902 -31.871524  root_mean_squared_error   \n",
       "9         CatBoost_BAG_L1  -22.802934 -32.042882  root_mean_squared_error   \n",
       "10      LightGBMXT_BAG_L1  -22.924678 -31.851442  root_mean_squared_error   \n",
       "11         XGBoost_BAG_L1  -23.909099 -37.095239  root_mean_squared_error   \n",
       "12  NeuralNetTorch_BAG_L1  -28.025768 -35.889116  root_mean_squared_error   \n",
       "\n",
       "    pred_time_test  pred_time_val     fit_time  pred_time_test_marginal  \\\n",
       "0        10.867427      13.458501  2012.283405                 0.005849   \n",
       "1         6.470722       7.991956  1717.697834                 0.003177   \n",
       "2         7.396911       8.792072  1772.925297                 0.929366   \n",
       "3         7.407640      10.420932  1795.521407                 0.940094   \n",
       "4         7.145009       8.687673  1740.403781                 0.677463   \n",
       "5         7.853789       9.020694  1826.653686                 1.386244   \n",
       "6         1.300499       1.498740    54.444235                 1.300499   \n",
       "7         7.135609       8.668271  1737.074673                 0.668064   \n",
       "8         6.928412       8.502816  1746.515179                 0.460866   \n",
       "9         1.199879       2.529992  1256.672662                 1.199879   \n",
       "10        1.564332       2.426524   115.296524                 1.564332   \n",
       "11        1.739907       1.130422   245.566986                 1.739907   \n",
       "12        0.662928       0.405867    45.538909                 0.662928   \n",
       "\n",
       "    pred_time_val_marginal  fit_time_marginal  stack_level  can_infer  \\\n",
       "0                 0.000494           0.341322            3       True   \n",
       "1                 0.000412           0.178516            2       True   \n",
       "2                 0.800527          55.405980            2       True   \n",
       "3                 2.429387          78.002090            2       True   \n",
       "4                 0.696128          22.884464            2       True   \n",
       "5                 1.029149         109.134369            2       True   \n",
       "6                 1.498740          54.444235            1       True   \n",
       "7                 0.676726          19.555356            2       True   \n",
       "8                 0.511271          28.995862            2       True   \n",
       "9                 2.529992        1256.672662            1       True   \n",
       "10                2.426524         115.296524            1       True   \n",
       "11                1.130422         245.566986            1       True   \n",
       "12                0.405867          45.538909            1       True   \n",
       "\n",
       "    fit_order  \n",
       "0          13  \n",
       "1           6  \n",
       "2          12  \n",
       "3           9  \n",
       "4           7  \n",
       "5          10  \n",
       "6           1  \n",
       "7           8  \n",
       "8          11  \n",
       "9           3  \n",
       "10          2  \n",
       "11          4  \n",
       "12          5  "
      ]
     },
     "execution_count": 65,
     "metadata": {},
     "output_type": "execute_result"
    }
   ],
   "source": [
    "predictor.leaderboard(X_test)"
   ]
  },
  {
   "cell_type": "markdown",
   "id": "7523d451",
   "metadata": {
    "id": "Xm0BC5A16gZW"
   },
   "source": [
    "As per the AutoGluon, the best rmse is 21."
   ]
  }
 ],
 "metadata": {
  "accelerator": "GPU",
  "colab": {
   "gpuType": "T4",
   "machine_shape": "hm",
   "provenance": []
  },
  "kernelspec": {
   "display_name": "Python 3 (ipykernel)",
   "language": "python",
   "name": "python3"
  },
  "language_info": {
   "codemirror_mode": {
    "name": "ipython",
    "version": 3
   },
   "file_extension": ".py",
   "mimetype": "text/x-python",
   "name": "python",
   "nbconvert_exporter": "python",
   "pygments_lexer": "ipython3",
   "version": "3.11.5"
  },
  "toc": {
   "base_numbering": 1,
   "nav_menu": {},
   "number_sections": true,
   "sideBar": true,
   "skip_h1_title": true,
   "title_cell": "Table of Contents",
   "title_sidebar": "Contents",
   "toc_cell": true,
   "toc_position": {},
   "toc_section_display": true,
   "toc_window_display": true
  }
 },
 "nbformat": 4,
 "nbformat_minor": 5
}
