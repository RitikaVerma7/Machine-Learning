{
 "cells": [
  {
   "cell_type": "markdown",
   "id": "f6302a26",
   "metadata": {
    "toc": true
   },
   "source": [
    "<h1>Table of Contents<span class=\"tocSkip\"></span></h1>\n",
    "<div class=\"toc\"><ul class=\"toc-item\"><li><span><a href=\"#Import-and-Load-Data\" data-toc-modified-id=\"Import-and-Load-Data-1\"><span class=\"toc-item-num\">1&nbsp;&nbsp;</span>Import and Load Data</a></span></li><li><span><a href=\"#Preprocessing\" data-toc-modified-id=\"Preprocessing-2\"><span class=\"toc-item-num\">2&nbsp;&nbsp;</span>Preprocessing</a></span></li><li><span><a href=\"#Trying-Out-Models\" data-toc-modified-id=\"Trying-Out-Models-3\"><span class=\"toc-item-num\">3&nbsp;&nbsp;</span>Trying Out Models</a></span><ul class=\"toc-item\"><li><span><a href=\"#Logistic-Regression\" data-toc-modified-id=\"Logistic-Regression-3.1\"><span class=\"toc-item-num\">3.1&nbsp;&nbsp;</span>Logistic Regression</a></span></li><li><span><a href=\"#Support-Vector-Machine\" data-toc-modified-id=\"Support-Vector-Machine-3.2\"><span class=\"toc-item-num\">3.2&nbsp;&nbsp;</span>Support Vector Machine</a></span></li><li><span><a href=\"#Decision-Trees-(Random-Forest,-Gradient-Boosting,-XGBoost)\" data-toc-modified-id=\"Decision-Trees-(Random-Forest,-Gradient-Boosting,-XGBoost)-3.3\"><span class=\"toc-item-num\">3.3&nbsp;&nbsp;</span>Decision Trees (Random Forest, Gradient Boosting, XGBoost)</a></span></li><li><span><a href=\"#Other-Models-(e.g.-Bagging-Classifier)\" data-toc-modified-id=\"Other-Models-(e.g.-Bagging-Classifier)-3.4\"><span class=\"toc-item-num\">3.4&nbsp;&nbsp;</span>Other Models (e.g. Bagging Classifier)</a></span></li></ul></li><li><span><a href=\"#Model-Evaluation\" data-toc-modified-id=\"Model-Evaluation-4\"><span class=\"toc-item-num\">4&nbsp;&nbsp;</span>Model Evaluation</a></span></li></ul></div>"
   ]
  },
  {
   "cell_type": "markdown",
   "id": "b9a31f2b",
   "metadata": {},
   "source": [
    "## Import and Load Data"
   ]
  },
  {
   "cell_type": "code",
   "execution_count": 1,
   "id": "9725cdaa",
   "metadata": {
    "scrolled": true
   },
   "outputs": [],
   "source": [
    "import pandas as pd\n",
    "from sklearn.preprocessing import OrdinalEncoder\n",
    "from sklearn.model_selection import train_test_split, GridSearchCV\n",
    "from sklearn.preprocessing import StandardScaler, OneHotEncoder\n",
    "from sklearn.compose import ColumnTransformer\n",
    "from sklearn.pipeline import Pipeline\n",
    "from sklearn.linear_model import LogisticRegression\n",
    "from sklearn.linear_model import Lasso, ElasticNet\n",
    "from sklearn.svm import SVC\n",
    "from sklearn.tree import DecisionTreeClassifier\n",
    "from sklearn.ensemble import RandomForestClassifier, GradientBoostingClassifier\n",
    "from xgboost import XGBClassifier\n",
    "from sklearn.metrics import accuracy_score, precision_score, recall_score, f1_score, roc_auc_score\n",
    "from sklearn.metrics import classification_report\n",
    "from sklearn.model_selection import cross_val_predict\n",
    "from sklearn.metrics import confusion_matrix\n",
    "from sklearn.metrics import RocCurveDisplay\n",
    "from sklearn.metrics import PrecisionRecallDisplay"
   ]
  },
  {
   "cell_type": "code",
   "execution_count": 2,
   "id": "e8b1afea",
   "metadata": {},
   "outputs": [],
   "source": [
    "#!pip install xgboost"
   ]
  },
  {
   "cell_type": "code",
   "execution_count": 3,
   "id": "9da6fb46",
   "metadata": {},
   "outputs": [],
   "source": [
    "#load in your data"
   ]
  },
  {
   "cell_type": "code",
   "execution_count": 4,
   "id": "2b3ed296",
   "metadata": {},
   "outputs": [],
   "source": [
    "pd.set_option('display.max_columns', None)\n",
    "pd.set_option('display.max_rows', None)"
   ]
  },
  {
   "cell_type": "code",
   "execution_count": 5,
   "id": "3cb82695",
   "metadata": {},
   "outputs": [
    {
     "name": "stderr",
     "output_type": "stream",
     "text": [
      "/var/folders/zd/yvpsjw1553lghwz7d57ppfnc0000gn/T/ipykernel_65678/1520402632.py:1: DtypeWarning: Columns (20,56) have mixed types. Specify dtype option on import or set low_memory=False.\n",
      "  df = pd.read_csv(\"loans.csv\", index_col=None)\n"
     ]
    }
   ],
   "source": [
    "df = pd.read_csv(\"loans.csv\", index_col=None)"
   ]
  },
  {
   "cell_type": "code",
   "execution_count": 6,
   "id": "2ac30f70",
   "metadata": {},
   "outputs": [
    {
     "data": {
      "text/plain": [
       "(887379, 75)"
      ]
     },
     "execution_count": 6,
     "metadata": {},
     "output_type": "execute_result"
    }
   ],
   "source": [
    "df.shape"
   ]
  },
  {
   "cell_type": "code",
   "execution_count": 7,
   "id": "4a768bdc",
   "metadata": {},
   "outputs": [
    {
     "data": {
      "text/plain": [
       "Unnamed: 0                          0\n",
       "id                                  0\n",
       "member_id                           0\n",
       "loan_amnt                           0\n",
       "funded_amnt                         0\n",
       "funded_amnt_inv                     0\n",
       "term                                0\n",
       "int_rate                            0\n",
       "installment                         0\n",
       "grade                               0\n",
       "sub_grade                           0\n",
       "emp_title                       51462\n",
       "emp_length                      44825\n",
       "home_ownership                      0\n",
       "annual_inc                          4\n",
       "verification_status                 0\n",
       "issue_d                             0\n",
       "loan_status                         0\n",
       "pymnt_plan                          0\n",
       "url                                 0\n",
       "desc                           761353\n",
       "purpose                             0\n",
       "title                             153\n",
       "zip_code                            0\n",
       "addr_state                          0\n",
       "dti                                 0\n",
       "delinq_2yrs                        29\n",
       "earliest_cr_line                   29\n",
       "inq_last_6mths                     29\n",
       "mths_since_last_delinq         454312\n",
       "mths_since_last_record         750326\n",
       "open_acc                           29\n",
       "pub_rec                            29\n",
       "revol_bal                           0\n",
       "revol_util                        502\n",
       "total_acc                          29\n",
       "initial_list_status                 0\n",
       "out_prncp                           0\n",
       "out_prncp_inv                       0\n",
       "total_pymnt                         0\n",
       "total_pymnt_inv                     0\n",
       "total_rec_prncp                     0\n",
       "total_rec_int                       0\n",
       "total_rec_late_fee                  0\n",
       "recoveries                          0\n",
       "collection_recovery_fee             0\n",
       "last_pymnt_d                    17659\n",
       "last_pymnt_amnt                     0\n",
       "next_pymnt_d                   252971\n",
       "last_credit_pull_d                 53\n",
       "collections_12_mths_ex_med        145\n",
       "mths_since_last_major_derog    665676\n",
       "policy_code                         0\n",
       "application_type                    0\n",
       "annual_inc_joint               886868\n",
       "dti_joint                      886870\n",
       "verification_status_joint      886868\n",
       "acc_now_delinq                     29\n",
       "tot_coll_amt                    70276\n",
       "tot_cur_bal                     70276\n",
       "open_acc_6m                    866007\n",
       "open_il_6m                     866007\n",
       "open_il_12m                    866007\n",
       "open_il_24m                    866007\n",
       "mths_since_rcnt_il             866569\n",
       "total_bal_il                   866007\n",
       "il_util                        868762\n",
       "open_rv_12m                    866007\n",
       "open_rv_24m                    866007\n",
       "max_bal_bc                     866007\n",
       "all_util                       866007\n",
       "total_rev_hi_lim                70276\n",
       "inq_fi                         866007\n",
       "total_cu_tl                    866007\n",
       "inq_last_12m                   866007\n",
       "dtype: int64"
      ]
     },
     "execution_count": 7,
     "metadata": {},
     "output_type": "execute_result"
    }
   ],
   "source": [
    "df.isna().sum()"
   ]
  },
  {
   "cell_type": "code",
   "execution_count": 8,
   "id": "2971fbb2",
   "metadata": {},
   "outputs": [
    {
     "name": "stdout",
     "output_type": "stream",
     "text": [
      "<class 'pandas.core.frame.DataFrame'>\n",
      "RangeIndex: 887379 entries, 0 to 887378\n",
      "Data columns (total 75 columns):\n",
      " #   Column                       Non-Null Count   Dtype  \n",
      "---  ------                       --------------   -----  \n",
      " 0   Unnamed: 0                   887379 non-null  int64  \n",
      " 1   id                           887379 non-null  int64  \n",
      " 2   member_id                    887379 non-null  int64  \n",
      " 3   loan_amnt                    887379 non-null  int64  \n",
      " 4   funded_amnt                  887379 non-null  int64  \n",
      " 5   funded_amnt_inv              887379 non-null  float64\n",
      " 6   term                         887379 non-null  object \n",
      " 7   int_rate                     887379 non-null  float64\n",
      " 8   installment                  887379 non-null  float64\n",
      " 9   grade                        887379 non-null  object \n",
      " 10  sub_grade                    887379 non-null  object \n",
      " 11  emp_title                    835917 non-null  object \n",
      " 12  emp_length                   842554 non-null  object \n",
      " 13  home_ownership               887379 non-null  object \n",
      " 14  annual_inc                   887375 non-null  float64\n",
      " 15  verification_status          887379 non-null  object \n",
      " 16  issue_d                      887379 non-null  object \n",
      " 17  loan_status                  887379 non-null  object \n",
      " 18  pymnt_plan                   887379 non-null  object \n",
      " 19  url                          887379 non-null  object \n",
      " 20  desc                         126026 non-null  object \n",
      " 21  purpose                      887379 non-null  object \n",
      " 22  title                        887226 non-null  object \n",
      " 23  zip_code                     887379 non-null  object \n",
      " 24  addr_state                   887379 non-null  object \n",
      " 25  dti                          887379 non-null  float64\n",
      " 26  delinq_2yrs                  887350 non-null  float64\n",
      " 27  earliest_cr_line             887350 non-null  object \n",
      " 28  inq_last_6mths               887350 non-null  float64\n",
      " 29  mths_since_last_delinq       433067 non-null  float64\n",
      " 30  mths_since_last_record       137053 non-null  float64\n",
      " 31  open_acc                     887350 non-null  float64\n",
      " 32  pub_rec                      887350 non-null  float64\n",
      " 33  revol_bal                    887379 non-null  float64\n",
      " 34  revol_util                   886877 non-null  float64\n",
      " 35  total_acc                    887350 non-null  float64\n",
      " 36  initial_list_status          887379 non-null  object \n",
      " 37  out_prncp                    887379 non-null  float64\n",
      " 38  out_prncp_inv                887379 non-null  float64\n",
      " 39  total_pymnt                  887379 non-null  float64\n",
      " 40  total_pymnt_inv              887379 non-null  float64\n",
      " 41  total_rec_prncp              887379 non-null  float64\n",
      " 42  total_rec_int                887379 non-null  float64\n",
      " 43  total_rec_late_fee           887379 non-null  float64\n",
      " 44  recoveries                   887379 non-null  float64\n",
      " 45  collection_recovery_fee      887379 non-null  float64\n",
      " 46  last_pymnt_d                 869720 non-null  object \n",
      " 47  last_pymnt_amnt              887379 non-null  float64\n",
      " 48  next_pymnt_d                 634408 non-null  object \n",
      " 49  last_credit_pull_d           887326 non-null  object \n",
      " 50  collections_12_mths_ex_med   887234 non-null  float64\n",
      " 51  mths_since_last_major_derog  221703 non-null  float64\n",
      " 52  policy_code                  887379 non-null  int64  \n",
      " 53  application_type             887379 non-null  object \n",
      " 54  annual_inc_joint             511 non-null     float64\n",
      " 55  dti_joint                    509 non-null     float64\n",
      " 56  verification_status_joint    511 non-null     object \n",
      " 57  acc_now_delinq               887350 non-null  float64\n",
      " 58  tot_coll_amt                 817103 non-null  float64\n",
      " 59  tot_cur_bal                  817103 non-null  float64\n",
      " 60  open_acc_6m                  21372 non-null   float64\n",
      " 61  open_il_6m                   21372 non-null   float64\n",
      " 62  open_il_12m                  21372 non-null   float64\n",
      " 63  open_il_24m                  21372 non-null   float64\n",
      " 64  mths_since_rcnt_il           20810 non-null   float64\n",
      " 65  total_bal_il                 21372 non-null   float64\n",
      " 66  il_util                      18617 non-null   float64\n",
      " 67  open_rv_12m                  21372 non-null   float64\n",
      " 68  open_rv_24m                  21372 non-null   float64\n",
      " 69  max_bal_bc                   21372 non-null   float64\n",
      " 70  all_util                     21372 non-null   float64\n",
      " 71  total_rev_hi_lim             817103 non-null  float64\n",
      " 72  inq_fi                       21372 non-null   float64\n",
      " 73  total_cu_tl                  21372 non-null   float64\n",
      " 74  inq_last_12m                 21372 non-null   float64\n",
      "dtypes: float64(46), int64(6), object(23)\n",
      "memory usage: 507.8+ MB\n"
     ]
    }
   ],
   "source": [
    "df.info()"
   ]
  },
  {
   "cell_type": "code",
   "execution_count": 9,
   "id": "8e626e0b",
   "metadata": {
    "scrolled": true
   },
   "outputs": [
    {
     "data": {
      "text/plain": [
       "(887379, 75)"
      ]
     },
     "execution_count": 9,
     "metadata": {},
     "output_type": "execute_result"
    }
   ],
   "source": [
    "df.shape"
   ]
  },
  {
   "cell_type": "code",
   "execution_count": 10,
   "id": "740bf350",
   "metadata": {},
   "outputs": [],
   "source": [
    "#df.hist(figsize=[30,30])"
   ]
  },
  {
   "cell_type": "code",
   "execution_count": 11,
   "id": "7c024745",
   "metadata": {},
   "outputs": [
    {
     "data": {
      "text/html": [
       "<div>\n",
       "<style scoped>\n",
       "    .dataframe tbody tr th:only-of-type {\n",
       "        vertical-align: middle;\n",
       "    }\n",
       "\n",
       "    .dataframe tbody tr th {\n",
       "        vertical-align: top;\n",
       "    }\n",
       "\n",
       "    .dataframe thead th {\n",
       "        text-align: right;\n",
       "    }\n",
       "</style>\n",
       "<table border=\"1\" class=\"dataframe\">\n",
       "  <thead>\n",
       "    <tr style=\"text-align: right;\">\n",
       "      <th></th>\n",
       "      <th>Unnamed: 0</th>\n",
       "      <th>id</th>\n",
       "      <th>member_id</th>\n",
       "      <th>loan_amnt</th>\n",
       "      <th>funded_amnt</th>\n",
       "      <th>funded_amnt_inv</th>\n",
       "      <th>int_rate</th>\n",
       "      <th>installment</th>\n",
       "      <th>annual_inc</th>\n",
       "      <th>dti</th>\n",
       "      <th>delinq_2yrs</th>\n",
       "      <th>inq_last_6mths</th>\n",
       "      <th>mths_since_last_delinq</th>\n",
       "      <th>mths_since_last_record</th>\n",
       "      <th>open_acc</th>\n",
       "      <th>pub_rec</th>\n",
       "      <th>revol_bal</th>\n",
       "      <th>revol_util</th>\n",
       "      <th>total_acc</th>\n",
       "      <th>out_prncp</th>\n",
       "      <th>out_prncp_inv</th>\n",
       "      <th>total_pymnt</th>\n",
       "      <th>total_pymnt_inv</th>\n",
       "      <th>total_rec_prncp</th>\n",
       "      <th>total_rec_int</th>\n",
       "      <th>total_rec_late_fee</th>\n",
       "      <th>recoveries</th>\n",
       "      <th>collection_recovery_fee</th>\n",
       "      <th>last_pymnt_amnt</th>\n",
       "      <th>collections_12_mths_ex_med</th>\n",
       "      <th>mths_since_last_major_derog</th>\n",
       "      <th>policy_code</th>\n",
       "      <th>annual_inc_joint</th>\n",
       "      <th>dti_joint</th>\n",
       "      <th>acc_now_delinq</th>\n",
       "      <th>tot_coll_amt</th>\n",
       "      <th>tot_cur_bal</th>\n",
       "      <th>open_acc_6m</th>\n",
       "      <th>open_il_6m</th>\n",
       "      <th>open_il_12m</th>\n",
       "      <th>open_il_24m</th>\n",
       "      <th>mths_since_rcnt_il</th>\n",
       "      <th>total_bal_il</th>\n",
       "      <th>il_util</th>\n",
       "      <th>open_rv_12m</th>\n",
       "      <th>open_rv_24m</th>\n",
       "      <th>max_bal_bc</th>\n",
       "      <th>all_util</th>\n",
       "      <th>total_rev_hi_lim</th>\n",
       "      <th>inq_fi</th>\n",
       "      <th>total_cu_tl</th>\n",
       "      <th>inq_last_12m</th>\n",
       "    </tr>\n",
       "  </thead>\n",
       "  <tbody>\n",
       "    <tr>\n",
       "      <th>count</th>\n",
       "      <td>887379.000000</td>\n",
       "      <td>8.873790e+05</td>\n",
       "      <td>8.873790e+05</td>\n",
       "      <td>887379.000000</td>\n",
       "      <td>887379.000000</td>\n",
       "      <td>887379.000000</td>\n",
       "      <td>887379.000000</td>\n",
       "      <td>887379.000000</td>\n",
       "      <td>8.873750e+05</td>\n",
       "      <td>887379.000000</td>\n",
       "      <td>887350.000000</td>\n",
       "      <td>887350.000000</td>\n",
       "      <td>433067.000000</td>\n",
       "      <td>137053.000000</td>\n",
       "      <td>887350.000000</td>\n",
       "      <td>887350.000000</td>\n",
       "      <td>8.873790e+05</td>\n",
       "      <td>886877.000000</td>\n",
       "      <td>887350.000000</td>\n",
       "      <td>887379.000000</td>\n",
       "      <td>887379.000000</td>\n",
       "      <td>887379.000000</td>\n",
       "      <td>887379.000000</td>\n",
       "      <td>887379.000000</td>\n",
       "      <td>887379.000000</td>\n",
       "      <td>887379.000000</td>\n",
       "      <td>887379.000000</td>\n",
       "      <td>887379.000000</td>\n",
       "      <td>887379.000000</td>\n",
       "      <td>887234.000000</td>\n",
       "      <td>221703.000000</td>\n",
       "      <td>887379.0</td>\n",
       "      <td>511.000000</td>\n",
       "      <td>509.000000</td>\n",
       "      <td>887350.000000</td>\n",
       "      <td>8.171030e+05</td>\n",
       "      <td>8.171030e+05</td>\n",
       "      <td>21372.000000</td>\n",
       "      <td>21372.000000</td>\n",
       "      <td>21372.000000</td>\n",
       "      <td>21372.000000</td>\n",
       "      <td>20810.000000</td>\n",
       "      <td>21372.000000</td>\n",
       "      <td>18617.000000</td>\n",
       "      <td>21372.000000</td>\n",
       "      <td>21372.000000</td>\n",
       "      <td>21372.000000</td>\n",
       "      <td>21372.000000</td>\n",
       "      <td>8.171030e+05</td>\n",
       "      <td>21372.000000</td>\n",
       "      <td>21372.000000</td>\n",
       "      <td>21372.000000</td>\n",
       "    </tr>\n",
       "    <tr>\n",
       "      <th>mean</th>\n",
       "      <td>443690.000000</td>\n",
       "      <td>3.246513e+07</td>\n",
       "      <td>3.500182e+07</td>\n",
       "      <td>14755.264605</td>\n",
       "      <td>14741.877625</td>\n",
       "      <td>14702.464383</td>\n",
       "      <td>13.246740</td>\n",
       "      <td>436.717127</td>\n",
       "      <td>7.502759e+04</td>\n",
       "      <td>18.157039</td>\n",
       "      <td>0.314442</td>\n",
       "      <td>0.694623</td>\n",
       "      <td>34.063798</td>\n",
       "      <td>70.117903</td>\n",
       "      <td>11.548469</td>\n",
       "      <td>0.195307</td>\n",
       "      <td>1.692079e+04</td>\n",
       "      <td>55.067693</td>\n",
       "      <td>25.268026</td>\n",
       "      <td>8403.124852</td>\n",
       "      <td>8399.713242</td>\n",
       "      <td>7558.826684</td>\n",
       "      <td>7521.160306</td>\n",
       "      <td>5757.706424</td>\n",
       "      <td>1754.804327</td>\n",
       "      <td>0.396692</td>\n",
       "      <td>45.919243</td>\n",
       "      <td>4.880757</td>\n",
       "      <td>2164.145585</td>\n",
       "      <td>0.014380</td>\n",
       "      <td>44.104838</td>\n",
       "      <td>1.0</td>\n",
       "      <td>109981.011585</td>\n",
       "      <td>18.310118</td>\n",
       "      <td>0.004991</td>\n",
       "      <td>2.257026e+02</td>\n",
       "      <td>1.394582e+05</td>\n",
       "      <td>1.109021</td>\n",
       "      <td>2.928832</td>\n",
       "      <td>0.761651</td>\n",
       "      <td>1.674574</td>\n",
       "      <td>20.912686</td>\n",
       "      <td>36552.811389</td>\n",
       "      <td>71.535317</td>\n",
       "      <td>1.389060</td>\n",
       "      <td>2.975482</td>\n",
       "      <td>5887.979740</td>\n",
       "      <td>60.831939</td>\n",
       "      <td>3.206862e+04</td>\n",
       "      <td>0.943945</td>\n",
       "      <td>1.537058</td>\n",
       "      <td>1.977307</td>\n",
       "    </tr>\n",
       "    <tr>\n",
       "      <th>std</th>\n",
       "      <td>256164.396598</td>\n",
       "      <td>2.282734e+07</td>\n",
       "      <td>2.411335e+07</td>\n",
       "      <td>8435.455601</td>\n",
       "      <td>8429.897657</td>\n",
       "      <td>8442.106732</td>\n",
       "      <td>4.381867</td>\n",
       "      <td>244.186593</td>\n",
       "      <td>6.469830e+04</td>\n",
       "      <td>17.190626</td>\n",
       "      <td>0.862244</td>\n",
       "      <td>0.998448</td>\n",
       "      <td>21.884940</td>\n",
       "      <td>28.127914</td>\n",
       "      <td>5.317313</td>\n",
       "      <td>0.582091</td>\n",
       "      <td>2.242679e+04</td>\n",
       "      <td>23.834344</td>\n",
       "      <td>11.840561</td>\n",
       "      <td>8493.450269</td>\n",
       "      <td>8489.997617</td>\n",
       "      <td>7871.243336</td>\n",
       "      <td>7846.108604</td>\n",
       "      <td>6625.441046</td>\n",
       "      <td>2095.356099</td>\n",
       "      <td>4.087825</td>\n",
       "      <td>409.693874</td>\n",
       "      <td>63.125281</td>\n",
       "      <td>4794.783233</td>\n",
       "      <td>0.134191</td>\n",
       "      <td>22.179841</td>\n",
       "      <td>0.0</td>\n",
       "      <td>52730.379847</td>\n",
       "      <td>7.169233</td>\n",
       "      <td>0.077625</td>\n",
       "      <td>1.031137e+04</td>\n",
       "      <td>1.537500e+05</td>\n",
       "      <td>1.242675</td>\n",
       "      <td>3.089987</td>\n",
       "      <td>0.996035</td>\n",
       "      <td>1.688725</td>\n",
       "      <td>27.209081</td>\n",
       "      <td>43103.833619</td>\n",
       "      <td>23.022862</td>\n",
       "      <td>1.520129</td>\n",
       "      <td>2.631886</td>\n",
       "      <td>5284.701239</td>\n",
       "      <td>20.013254</td>\n",
       "      <td>3.749826e+04</td>\n",
       "      <td>1.446872</td>\n",
       "      <td>2.723339</td>\n",
       "      <td>2.874067</td>\n",
       "    </tr>\n",
       "    <tr>\n",
       "      <th>min</th>\n",
       "      <td>1.000000</td>\n",
       "      <td>5.473400e+04</td>\n",
       "      <td>7.047300e+04</td>\n",
       "      <td>500.000000</td>\n",
       "      <td>500.000000</td>\n",
       "      <td>0.000000</td>\n",
       "      <td>5.320000</td>\n",
       "      <td>15.670000</td>\n",
       "      <td>0.000000e+00</td>\n",
       "      <td>0.000000</td>\n",
       "      <td>0.000000</td>\n",
       "      <td>0.000000</td>\n",
       "      <td>0.000000</td>\n",
       "      <td>0.000000</td>\n",
       "      <td>0.000000</td>\n",
       "      <td>0.000000</td>\n",
       "      <td>0.000000e+00</td>\n",
       "      <td>0.000000</td>\n",
       "      <td>1.000000</td>\n",
       "      <td>0.000000</td>\n",
       "      <td>0.000000</td>\n",
       "      <td>0.000000</td>\n",
       "      <td>0.000000</td>\n",
       "      <td>0.000000</td>\n",
       "      <td>0.000000</td>\n",
       "      <td>0.000000</td>\n",
       "      <td>0.000000</td>\n",
       "      <td>0.000000</td>\n",
       "      <td>0.000000</td>\n",
       "      <td>0.000000</td>\n",
       "      <td>0.000000</td>\n",
       "      <td>1.0</td>\n",
       "      <td>17950.000000</td>\n",
       "      <td>3.000000</td>\n",
       "      <td>0.000000</td>\n",
       "      <td>0.000000e+00</td>\n",
       "      <td>0.000000e+00</td>\n",
       "      <td>0.000000</td>\n",
       "      <td>0.000000</td>\n",
       "      <td>0.000000</td>\n",
       "      <td>0.000000</td>\n",
       "      <td>0.000000</td>\n",
       "      <td>0.000000</td>\n",
       "      <td>0.000000</td>\n",
       "      <td>0.000000</td>\n",
       "      <td>0.000000</td>\n",
       "      <td>0.000000</td>\n",
       "      <td>0.000000</td>\n",
       "      <td>0.000000e+00</td>\n",
       "      <td>0.000000</td>\n",
       "      <td>0.000000</td>\n",
       "      <td>-4.000000</td>\n",
       "    </tr>\n",
       "    <tr>\n",
       "      <th>25%</th>\n",
       "      <td>221845.500000</td>\n",
       "      <td>9.206643e+06</td>\n",
       "      <td>1.087713e+07</td>\n",
       "      <td>8000.000000</td>\n",
       "      <td>8000.000000</td>\n",
       "      <td>8000.000000</td>\n",
       "      <td>9.990000</td>\n",
       "      <td>260.705000</td>\n",
       "      <td>4.500000e+04</td>\n",
       "      <td>11.910000</td>\n",
       "      <td>0.000000</td>\n",
       "      <td>0.000000</td>\n",
       "      <td>15.000000</td>\n",
       "      <td>51.000000</td>\n",
       "      <td>8.000000</td>\n",
       "      <td>0.000000</td>\n",
       "      <td>6.443000e+03</td>\n",
       "      <td>37.700000</td>\n",
       "      <td>17.000000</td>\n",
       "      <td>0.000000</td>\n",
       "      <td>0.000000</td>\n",
       "      <td>1914.590000</td>\n",
       "      <td>1899.700000</td>\n",
       "      <td>1200.570000</td>\n",
       "      <td>441.460000</td>\n",
       "      <td>0.000000</td>\n",
       "      <td>0.000000</td>\n",
       "      <td>0.000000</td>\n",
       "      <td>280.170000</td>\n",
       "      <td>0.000000</td>\n",
       "      <td>27.000000</td>\n",
       "      <td>1.0</td>\n",
       "      <td>76032.500000</td>\n",
       "      <td>13.200000</td>\n",
       "      <td>0.000000</td>\n",
       "      <td>0.000000e+00</td>\n",
       "      <td>2.985300e+04</td>\n",
       "      <td>0.000000</td>\n",
       "      <td>1.000000</td>\n",
       "      <td>0.000000</td>\n",
       "      <td>0.000000</td>\n",
       "      <td>6.000000</td>\n",
       "      <td>10251.500000</td>\n",
       "      <td>58.600000</td>\n",
       "      <td>0.000000</td>\n",
       "      <td>1.000000</td>\n",
       "      <td>2411.000000</td>\n",
       "      <td>47.700000</td>\n",
       "      <td>1.390000e+04</td>\n",
       "      <td>0.000000</td>\n",
       "      <td>0.000000</td>\n",
       "      <td>0.000000</td>\n",
       "    </tr>\n",
       "    <tr>\n",
       "      <th>50%</th>\n",
       "      <td>443690.000000</td>\n",
       "      <td>3.443327e+07</td>\n",
       "      <td>3.709528e+07</td>\n",
       "      <td>13000.000000</td>\n",
       "      <td>13000.000000</td>\n",
       "      <td>13000.000000</td>\n",
       "      <td>12.990000</td>\n",
       "      <td>382.550000</td>\n",
       "      <td>6.500000e+04</td>\n",
       "      <td>17.650000</td>\n",
       "      <td>0.000000</td>\n",
       "      <td>0.000000</td>\n",
       "      <td>31.000000</td>\n",
       "      <td>70.000000</td>\n",
       "      <td>11.000000</td>\n",
       "      <td>0.000000</td>\n",
       "      <td>1.187500e+04</td>\n",
       "      <td>56.000000</td>\n",
       "      <td>24.000000</td>\n",
       "      <td>6458.290000</td>\n",
       "      <td>6455.810000</td>\n",
       "      <td>4894.999117</td>\n",
       "      <td>4862.010000</td>\n",
       "      <td>3215.320000</td>\n",
       "      <td>1073.280000</td>\n",
       "      <td>0.000000</td>\n",
       "      <td>0.000000</td>\n",
       "      <td>0.000000</td>\n",
       "      <td>462.780000</td>\n",
       "      <td>0.000000</td>\n",
       "      <td>44.000000</td>\n",
       "      <td>1.0</td>\n",
       "      <td>101771.000000</td>\n",
       "      <td>17.610000</td>\n",
       "      <td>0.000000</td>\n",
       "      <td>0.000000e+00</td>\n",
       "      <td>8.055900e+04</td>\n",
       "      <td>1.000000</td>\n",
       "      <td>2.000000</td>\n",
       "      <td>0.000000</td>\n",
       "      <td>1.000000</td>\n",
       "      <td>12.000000</td>\n",
       "      <td>24684.500000</td>\n",
       "      <td>74.900000</td>\n",
       "      <td>1.000000</td>\n",
       "      <td>2.000000</td>\n",
       "      <td>4483.000000</td>\n",
       "      <td>61.900000</td>\n",
       "      <td>2.370000e+04</td>\n",
       "      <td>0.000000</td>\n",
       "      <td>0.000000</td>\n",
       "      <td>2.000000</td>\n",
       "    </tr>\n",
       "    <tr>\n",
       "      <th>75%</th>\n",
       "      <td>665534.500000</td>\n",
       "      <td>5.490814e+07</td>\n",
       "      <td>5.847135e+07</td>\n",
       "      <td>20000.000000</td>\n",
       "      <td>20000.000000</td>\n",
       "      <td>20000.000000</td>\n",
       "      <td>16.200000</td>\n",
       "      <td>572.600000</td>\n",
       "      <td>9.000000e+04</td>\n",
       "      <td>23.950000</td>\n",
       "      <td>0.000000</td>\n",
       "      <td>1.000000</td>\n",
       "      <td>50.000000</td>\n",
       "      <td>92.000000</td>\n",
       "      <td>14.000000</td>\n",
       "      <td>0.000000</td>\n",
       "      <td>2.082900e+04</td>\n",
       "      <td>73.600000</td>\n",
       "      <td>32.000000</td>\n",
       "      <td>13659.055000</td>\n",
       "      <td>13654.050000</td>\n",
       "      <td>10616.814231</td>\n",
       "      <td>10565.690000</td>\n",
       "      <td>8000.000000</td>\n",
       "      <td>2238.265000</td>\n",
       "      <td>0.000000</td>\n",
       "      <td>0.000000</td>\n",
       "      <td>0.000000</td>\n",
       "      <td>831.245000</td>\n",
       "      <td>0.000000</td>\n",
       "      <td>61.000000</td>\n",
       "      <td>1.0</td>\n",
       "      <td>132800.000000</td>\n",
       "      <td>22.650000</td>\n",
       "      <td>0.000000</td>\n",
       "      <td>0.000000e+00</td>\n",
       "      <td>2.082050e+05</td>\n",
       "      <td>2.000000</td>\n",
       "      <td>4.000000</td>\n",
       "      <td>1.000000</td>\n",
       "      <td>2.000000</td>\n",
       "      <td>23.000000</td>\n",
       "      <td>47858.000000</td>\n",
       "      <td>87.600000</td>\n",
       "      <td>2.000000</td>\n",
       "      <td>4.000000</td>\n",
       "      <td>7771.500000</td>\n",
       "      <td>75.200000</td>\n",
       "      <td>3.980000e+04</td>\n",
       "      <td>1.000000</td>\n",
       "      <td>2.000000</td>\n",
       "      <td>3.000000</td>\n",
       "    </tr>\n",
       "    <tr>\n",
       "      <th>max</th>\n",
       "      <td>887379.000000</td>\n",
       "      <td>6.861706e+07</td>\n",
       "      <td>7.354484e+07</td>\n",
       "      <td>35000.000000</td>\n",
       "      <td>35000.000000</td>\n",
       "      <td>35000.000000</td>\n",
       "      <td>28.990000</td>\n",
       "      <td>1445.460000</td>\n",
       "      <td>9.500000e+06</td>\n",
       "      <td>9999.000000</td>\n",
       "      <td>39.000000</td>\n",
       "      <td>33.000000</td>\n",
       "      <td>188.000000</td>\n",
       "      <td>129.000000</td>\n",
       "      <td>90.000000</td>\n",
       "      <td>86.000000</td>\n",
       "      <td>2.904836e+06</td>\n",
       "      <td>892.300000</td>\n",
       "      <td>169.000000</td>\n",
       "      <td>49372.860000</td>\n",
       "      <td>49372.860000</td>\n",
       "      <td>57777.579870</td>\n",
       "      <td>57777.580000</td>\n",
       "      <td>35000.030000</td>\n",
       "      <td>24205.620000</td>\n",
       "      <td>358.680000</td>\n",
       "      <td>33520.270000</td>\n",
       "      <td>7002.190000</td>\n",
       "      <td>36475.590000</td>\n",
       "      <td>20.000000</td>\n",
       "      <td>188.000000</td>\n",
       "      <td>1.0</td>\n",
       "      <td>500000.000000</td>\n",
       "      <td>43.860000</td>\n",
       "      <td>14.000000</td>\n",
       "      <td>9.152545e+06</td>\n",
       "      <td>8.000078e+06</td>\n",
       "      <td>14.000000</td>\n",
       "      <td>40.000000</td>\n",
       "      <td>12.000000</td>\n",
       "      <td>19.000000</td>\n",
       "      <td>363.000000</td>\n",
       "      <td>878459.000000</td>\n",
       "      <td>223.300000</td>\n",
       "      <td>22.000000</td>\n",
       "      <td>43.000000</td>\n",
       "      <td>127305.000000</td>\n",
       "      <td>151.400000</td>\n",
       "      <td>9.999999e+06</td>\n",
       "      <td>17.000000</td>\n",
       "      <td>35.000000</td>\n",
       "      <td>32.000000</td>\n",
       "    </tr>\n",
       "  </tbody>\n",
       "</table>\n",
       "</div>"
      ],
      "text/plain": [
       "          Unnamed: 0            id     member_id      loan_amnt  \\\n",
       "count  887379.000000  8.873790e+05  8.873790e+05  887379.000000   \n",
       "mean   443690.000000  3.246513e+07  3.500182e+07   14755.264605   \n",
       "std    256164.396598  2.282734e+07  2.411335e+07    8435.455601   \n",
       "min         1.000000  5.473400e+04  7.047300e+04     500.000000   \n",
       "25%    221845.500000  9.206643e+06  1.087713e+07    8000.000000   \n",
       "50%    443690.000000  3.443327e+07  3.709528e+07   13000.000000   \n",
       "75%    665534.500000  5.490814e+07  5.847135e+07   20000.000000   \n",
       "max    887379.000000  6.861706e+07  7.354484e+07   35000.000000   \n",
       "\n",
       "         funded_amnt  funded_amnt_inv       int_rate    installment  \\\n",
       "count  887379.000000    887379.000000  887379.000000  887379.000000   \n",
       "mean    14741.877625     14702.464383      13.246740     436.717127   \n",
       "std      8429.897657      8442.106732       4.381867     244.186593   \n",
       "min       500.000000         0.000000       5.320000      15.670000   \n",
       "25%      8000.000000      8000.000000       9.990000     260.705000   \n",
       "50%     13000.000000     13000.000000      12.990000     382.550000   \n",
       "75%     20000.000000     20000.000000      16.200000     572.600000   \n",
       "max     35000.000000     35000.000000      28.990000    1445.460000   \n",
       "\n",
       "         annual_inc            dti    delinq_2yrs  inq_last_6mths  \\\n",
       "count  8.873750e+05  887379.000000  887350.000000   887350.000000   \n",
       "mean   7.502759e+04      18.157039       0.314442        0.694623   \n",
       "std    6.469830e+04      17.190626       0.862244        0.998448   \n",
       "min    0.000000e+00       0.000000       0.000000        0.000000   \n",
       "25%    4.500000e+04      11.910000       0.000000        0.000000   \n",
       "50%    6.500000e+04      17.650000       0.000000        0.000000   \n",
       "75%    9.000000e+04      23.950000       0.000000        1.000000   \n",
       "max    9.500000e+06    9999.000000      39.000000       33.000000   \n",
       "\n",
       "       mths_since_last_delinq  mths_since_last_record       open_acc  \\\n",
       "count           433067.000000           137053.000000  887350.000000   \n",
       "mean                34.063798               70.117903      11.548469   \n",
       "std                 21.884940               28.127914       5.317313   \n",
       "min                  0.000000                0.000000       0.000000   \n",
       "25%                 15.000000               51.000000       8.000000   \n",
       "50%                 31.000000               70.000000      11.000000   \n",
       "75%                 50.000000               92.000000      14.000000   \n",
       "max                188.000000              129.000000      90.000000   \n",
       "\n",
       "             pub_rec     revol_bal     revol_util      total_acc  \\\n",
       "count  887350.000000  8.873790e+05  886877.000000  887350.000000   \n",
       "mean        0.195307  1.692079e+04      55.067693      25.268026   \n",
       "std         0.582091  2.242679e+04      23.834344      11.840561   \n",
       "min         0.000000  0.000000e+00       0.000000       1.000000   \n",
       "25%         0.000000  6.443000e+03      37.700000      17.000000   \n",
       "50%         0.000000  1.187500e+04      56.000000      24.000000   \n",
       "75%         0.000000  2.082900e+04      73.600000      32.000000   \n",
       "max        86.000000  2.904836e+06     892.300000     169.000000   \n",
       "\n",
       "           out_prncp  out_prncp_inv    total_pymnt  total_pymnt_inv  \\\n",
       "count  887379.000000  887379.000000  887379.000000    887379.000000   \n",
       "mean     8403.124852    8399.713242    7558.826684      7521.160306   \n",
       "std      8493.450269    8489.997617    7871.243336      7846.108604   \n",
       "min         0.000000       0.000000       0.000000         0.000000   \n",
       "25%         0.000000       0.000000    1914.590000      1899.700000   \n",
       "50%      6458.290000    6455.810000    4894.999117      4862.010000   \n",
       "75%     13659.055000   13654.050000   10616.814231     10565.690000   \n",
       "max     49372.860000   49372.860000   57777.579870     57777.580000   \n",
       "\n",
       "       total_rec_prncp  total_rec_int  total_rec_late_fee     recoveries  \\\n",
       "count    887379.000000  887379.000000       887379.000000  887379.000000   \n",
       "mean       5757.706424    1754.804327            0.396692      45.919243   \n",
       "std        6625.441046    2095.356099            4.087825     409.693874   \n",
       "min           0.000000       0.000000            0.000000       0.000000   \n",
       "25%        1200.570000     441.460000            0.000000       0.000000   \n",
       "50%        3215.320000    1073.280000            0.000000       0.000000   \n",
       "75%        8000.000000    2238.265000            0.000000       0.000000   \n",
       "max       35000.030000   24205.620000          358.680000   33520.270000   \n",
       "\n",
       "       collection_recovery_fee  last_pymnt_amnt  collections_12_mths_ex_med  \\\n",
       "count            887379.000000    887379.000000               887234.000000   \n",
       "mean                  4.880757      2164.145585                    0.014380   \n",
       "std                  63.125281      4794.783233                    0.134191   \n",
       "min                   0.000000         0.000000                    0.000000   \n",
       "25%                   0.000000       280.170000                    0.000000   \n",
       "50%                   0.000000       462.780000                    0.000000   \n",
       "75%                   0.000000       831.245000                    0.000000   \n",
       "max                7002.190000     36475.590000                   20.000000   \n",
       "\n",
       "       mths_since_last_major_derog  policy_code  annual_inc_joint   dti_joint  \\\n",
       "count                221703.000000     887379.0        511.000000  509.000000   \n",
       "mean                     44.104838          1.0     109981.011585   18.310118   \n",
       "std                      22.179841          0.0      52730.379847    7.169233   \n",
       "min                       0.000000          1.0      17950.000000    3.000000   \n",
       "25%                      27.000000          1.0      76032.500000   13.200000   \n",
       "50%                      44.000000          1.0     101771.000000   17.610000   \n",
       "75%                      61.000000          1.0     132800.000000   22.650000   \n",
       "max                     188.000000          1.0     500000.000000   43.860000   \n",
       "\n",
       "       acc_now_delinq  tot_coll_amt   tot_cur_bal   open_acc_6m    open_il_6m  \\\n",
       "count   887350.000000  8.171030e+05  8.171030e+05  21372.000000  21372.000000   \n",
       "mean         0.004991  2.257026e+02  1.394582e+05      1.109021      2.928832   \n",
       "std          0.077625  1.031137e+04  1.537500e+05      1.242675      3.089987   \n",
       "min          0.000000  0.000000e+00  0.000000e+00      0.000000      0.000000   \n",
       "25%          0.000000  0.000000e+00  2.985300e+04      0.000000      1.000000   \n",
       "50%          0.000000  0.000000e+00  8.055900e+04      1.000000      2.000000   \n",
       "75%          0.000000  0.000000e+00  2.082050e+05      2.000000      4.000000   \n",
       "max         14.000000  9.152545e+06  8.000078e+06     14.000000     40.000000   \n",
       "\n",
       "        open_il_12m   open_il_24m  mths_since_rcnt_il   total_bal_il  \\\n",
       "count  21372.000000  21372.000000        20810.000000   21372.000000   \n",
       "mean       0.761651      1.674574           20.912686   36552.811389   \n",
       "std        0.996035      1.688725           27.209081   43103.833619   \n",
       "min        0.000000      0.000000            0.000000       0.000000   \n",
       "25%        0.000000      0.000000            6.000000   10251.500000   \n",
       "50%        0.000000      1.000000           12.000000   24684.500000   \n",
       "75%        1.000000      2.000000           23.000000   47858.000000   \n",
       "max       12.000000     19.000000          363.000000  878459.000000   \n",
       "\n",
       "            il_util   open_rv_12m   open_rv_24m     max_bal_bc      all_util  \\\n",
       "count  18617.000000  21372.000000  21372.000000   21372.000000  21372.000000   \n",
       "mean      71.535317      1.389060      2.975482    5887.979740     60.831939   \n",
       "std       23.022862      1.520129      2.631886    5284.701239     20.013254   \n",
       "min        0.000000      0.000000      0.000000       0.000000      0.000000   \n",
       "25%       58.600000      0.000000      1.000000    2411.000000     47.700000   \n",
       "50%       74.900000      1.000000      2.000000    4483.000000     61.900000   \n",
       "75%       87.600000      2.000000      4.000000    7771.500000     75.200000   \n",
       "max      223.300000     22.000000     43.000000  127305.000000    151.400000   \n",
       "\n",
       "       total_rev_hi_lim        inq_fi   total_cu_tl  inq_last_12m  \n",
       "count      8.171030e+05  21372.000000  21372.000000  21372.000000  \n",
       "mean       3.206862e+04      0.943945      1.537058      1.977307  \n",
       "std        3.749826e+04      1.446872      2.723339      2.874067  \n",
       "min        0.000000e+00      0.000000      0.000000     -4.000000  \n",
       "25%        1.390000e+04      0.000000      0.000000      0.000000  \n",
       "50%        2.370000e+04      0.000000      0.000000      2.000000  \n",
       "75%        3.980000e+04      1.000000      2.000000      3.000000  \n",
       "max        9.999999e+06     17.000000     35.000000     32.000000  "
      ]
     },
     "execution_count": 11,
     "metadata": {},
     "output_type": "execute_result"
    }
   ],
   "source": [
    "df.describe()"
   ]
  },
  {
   "cell_type": "markdown",
   "id": "481e6bb3",
   "metadata": {},
   "source": [
    "## Preprocessing\n",
    "\n",
    " - Handle missing values\n",
    " - Encode categorical variables, scale data (if you wish), feature selection, etc.\n",
    " - Split the dataset into features (X) and target variable (y)\n",
    " - Split into training and testing sets"
   ]
  },
  {
   "cell_type": "code",
   "execution_count": 12,
   "id": "d4dcf1ba",
   "metadata": {},
   "outputs": [
    {
     "data": {
      "text/plain": [
       "75"
      ]
     },
     "execution_count": 12,
     "metadata": {},
     "output_type": "execute_result"
    }
   ],
   "source": [
    "len(df.columns)"
   ]
  },
  {
   "cell_type": "code",
   "execution_count": 13,
   "id": "36021d64",
   "metadata": {},
   "outputs": [
    {
     "data": {
      "text/plain": [
       "array(['Fully Paid', 'Charged Off', 'Current', 'Default',\n",
       "       'Late (31-120 days)', 'In Grace Period', 'Late (16-30 days)',\n",
       "       'Does not meet the credit policy. Status:Fully Paid',\n",
       "       'Does not meet the credit policy. Status:Charged Off', 'Issued'],\n",
       "      dtype=object)"
      ]
     },
     "execution_count": 13,
     "metadata": {},
     "output_type": "execute_result"
    }
   ],
   "source": [
    "df.loan_status.unique()"
   ]
  },
  {
   "cell_type": "code",
   "execution_count": 14,
   "id": "ca98ba0f",
   "metadata": {},
   "outputs": [
    {
     "data": {
      "text/plain": [
       "False"
      ]
     },
     "execution_count": 14,
     "metadata": {},
     "output_type": "execute_result"
    }
   ],
   "source": [
    "df.loan_status.isna().any()"
   ]
  },
  {
   "cell_type": "code",
   "execution_count": 15,
   "id": "c1891aca",
   "metadata": {},
   "outputs": [
    {
     "data": {
      "text/plain": [
       "array(['Fully Paid', 'Charged Off', 'Current', 'Default',\n",
       "       'Late (31-120 days)', 'In Grace Period', 'Late (16-30 days)',\n",
       "       'Does not meet the credit policy. Status:Fully Paid',\n",
       "       'Does not meet the credit policy. Status:Charged Off', 'Issued'],\n",
       "      dtype=object)"
      ]
     },
     "execution_count": 15,
     "metadata": {},
     "output_type": "execute_result"
    }
   ],
   "source": [
    "df.loan_status.unique()"
   ]
  },
  {
   "cell_type": "code",
   "execution_count": 16,
   "id": "6a6aeb27",
   "metadata": {},
   "outputs": [
    {
     "data": {
      "text/plain": [
       "loan_status\n",
       "Current                                                601779\n",
       "Fully Paid                                             207723\n",
       "Charged Off                                             45248\n",
       "Late (31-120 days)                                      11591\n",
       "Issued                                                   8460\n",
       "In Grace Period                                          6253\n",
       "Late (16-30 days)                                        2357\n",
       "Does not meet the credit policy. Status:Fully Paid       1988\n",
       "Default                                                  1219\n",
       "Does not meet the credit policy. Status:Charged Off       761\n",
       "Name: count, dtype: int64"
      ]
     },
     "execution_count": 16,
     "metadata": {},
     "output_type": "execute_result"
    }
   ],
   "source": [
    "df.loan_status.value_counts()"
   ]
  },
  {
   "cell_type": "code",
   "execution_count": 17,
   "id": "1f3deb18",
   "metadata": {},
   "outputs": [],
   "source": [
    "df = df[df['loan_status'].isin(['Fully Paid', 'Charged Off',\"Late (31-120 days)\",\"Default\",\"Late (16-30 days)\"])]"
   ]
  },
  {
   "cell_type": "code",
   "execution_count": 18,
   "id": "7381450d",
   "metadata": {},
   "outputs": [],
   "source": [
    "df[\"loan_type\"] = df.loan_status.apply(lambda x: 1 if \"Fully Paid\" in x else 0)"
   ]
  },
  {
   "cell_type": "code",
   "execution_count": 19,
   "id": "8075f66e",
   "metadata": {},
   "outputs": [
    {
     "data": {
      "text/plain": [
       "loan_status\n",
       "Fully Paid            207723\n",
       "Charged Off            45248\n",
       "Late (31-120 days)     11591\n",
       "Late (16-30 days)       2357\n",
       "Default                 1219\n",
       "Name: count, dtype: int64"
      ]
     },
     "execution_count": 19,
     "metadata": {},
     "output_type": "execute_result"
    }
   ],
   "source": [
    "df.loan_status.value_counts()"
   ]
  },
  {
   "cell_type": "code",
   "execution_count": 20,
   "id": "38ed4a5b",
   "metadata": {
    "scrolled": true
   },
   "outputs": [
    {
     "data": {
      "text/html": [
       "<div>\n",
       "<style scoped>\n",
       "    .dataframe tbody tr th:only-of-type {\n",
       "        vertical-align: middle;\n",
       "    }\n",
       "\n",
       "    .dataframe tbody tr th {\n",
       "        vertical-align: top;\n",
       "    }\n",
       "\n",
       "    .dataframe thead th {\n",
       "        text-align: right;\n",
       "    }\n",
       "</style>\n",
       "<table border=\"1\" class=\"dataframe\">\n",
       "  <thead>\n",
       "    <tr style=\"text-align: right;\">\n",
       "      <th></th>\n",
       "      <th>Unnamed: 0</th>\n",
       "      <th>id</th>\n",
       "      <th>member_id</th>\n",
       "      <th>loan_amnt</th>\n",
       "      <th>funded_amnt</th>\n",
       "      <th>funded_amnt_inv</th>\n",
       "      <th>term</th>\n",
       "      <th>int_rate</th>\n",
       "      <th>installment</th>\n",
       "      <th>grade</th>\n",
       "      <th>sub_grade</th>\n",
       "      <th>emp_title</th>\n",
       "      <th>emp_length</th>\n",
       "      <th>home_ownership</th>\n",
       "      <th>annual_inc</th>\n",
       "      <th>verification_status</th>\n",
       "      <th>issue_d</th>\n",
       "      <th>loan_status</th>\n",
       "      <th>pymnt_plan</th>\n",
       "      <th>url</th>\n",
       "      <th>desc</th>\n",
       "      <th>purpose</th>\n",
       "      <th>title</th>\n",
       "      <th>zip_code</th>\n",
       "      <th>addr_state</th>\n",
       "      <th>dti</th>\n",
       "      <th>delinq_2yrs</th>\n",
       "      <th>earliest_cr_line</th>\n",
       "      <th>inq_last_6mths</th>\n",
       "      <th>mths_since_last_delinq</th>\n",
       "      <th>mths_since_last_record</th>\n",
       "      <th>open_acc</th>\n",
       "      <th>pub_rec</th>\n",
       "      <th>revol_bal</th>\n",
       "      <th>revol_util</th>\n",
       "      <th>total_acc</th>\n",
       "      <th>initial_list_status</th>\n",
       "      <th>out_prncp</th>\n",
       "      <th>out_prncp_inv</th>\n",
       "      <th>total_pymnt</th>\n",
       "      <th>total_pymnt_inv</th>\n",
       "      <th>total_rec_prncp</th>\n",
       "      <th>total_rec_int</th>\n",
       "      <th>total_rec_late_fee</th>\n",
       "      <th>recoveries</th>\n",
       "      <th>collection_recovery_fee</th>\n",
       "      <th>last_pymnt_d</th>\n",
       "      <th>last_pymnt_amnt</th>\n",
       "      <th>next_pymnt_d</th>\n",
       "      <th>last_credit_pull_d</th>\n",
       "      <th>collections_12_mths_ex_med</th>\n",
       "      <th>mths_since_last_major_derog</th>\n",
       "      <th>policy_code</th>\n",
       "      <th>application_type</th>\n",
       "      <th>annual_inc_joint</th>\n",
       "      <th>dti_joint</th>\n",
       "      <th>verification_status_joint</th>\n",
       "      <th>acc_now_delinq</th>\n",
       "      <th>tot_coll_amt</th>\n",
       "      <th>tot_cur_bal</th>\n",
       "      <th>open_acc_6m</th>\n",
       "      <th>open_il_6m</th>\n",
       "      <th>open_il_12m</th>\n",
       "      <th>open_il_24m</th>\n",
       "      <th>mths_since_rcnt_il</th>\n",
       "      <th>total_bal_il</th>\n",
       "      <th>il_util</th>\n",
       "      <th>open_rv_12m</th>\n",
       "      <th>open_rv_24m</th>\n",
       "      <th>max_bal_bc</th>\n",
       "      <th>all_util</th>\n",
       "      <th>total_rev_hi_lim</th>\n",
       "      <th>inq_fi</th>\n",
       "      <th>total_cu_tl</th>\n",
       "      <th>inq_last_12m</th>\n",
       "      <th>loan_type</th>\n",
       "    </tr>\n",
       "  </thead>\n",
       "  <tbody>\n",
       "    <tr>\n",
       "      <th>0</th>\n",
       "      <td>1</td>\n",
       "      <td>1077501</td>\n",
       "      <td>1296599</td>\n",
       "      <td>5000</td>\n",
       "      <td>5000</td>\n",
       "      <td>4975.0</td>\n",
       "      <td>36 months</td>\n",
       "      <td>10.65</td>\n",
       "      <td>162.87</td>\n",
       "      <td>B</td>\n",
       "      <td>B2</td>\n",
       "      <td>NaN</td>\n",
       "      <td>10+ years</td>\n",
       "      <td>RENT</td>\n",
       "      <td>24000.0</td>\n",
       "      <td>Verified</td>\n",
       "      <td>Dec-2011</td>\n",
       "      <td>Fully Paid</td>\n",
       "      <td>n</td>\n",
       "      <td>https://www.lendingclub.com/browse/loanDetail....</td>\n",
       "      <td>Borrower added on 12/22/11 &gt; I need to upgra...</td>\n",
       "      <td>credit_card</td>\n",
       "      <td>Computer</td>\n",
       "      <td>860xx</td>\n",
       "      <td>AZ</td>\n",
       "      <td>27.65</td>\n",
       "      <td>0.0</td>\n",
       "      <td>Jan-1985</td>\n",
       "      <td>1.0</td>\n",
       "      <td>NaN</td>\n",
       "      <td>NaN</td>\n",
       "      <td>3.0</td>\n",
       "      <td>0.0</td>\n",
       "      <td>13648.0</td>\n",
       "      <td>83.7</td>\n",
       "      <td>9.0</td>\n",
       "      <td>f</td>\n",
       "      <td>0.0</td>\n",
       "      <td>0.0</td>\n",
       "      <td>5861.071414</td>\n",
       "      <td>5831.78</td>\n",
       "      <td>5000.0</td>\n",
       "      <td>861.07</td>\n",
       "      <td>0.0</td>\n",
       "      <td>0.0</td>\n",
       "      <td>0.0</td>\n",
       "      <td>Jan-2015</td>\n",
       "      <td>171.62</td>\n",
       "      <td>NaN</td>\n",
       "      <td>Jan-2016</td>\n",
       "      <td>0.0</td>\n",
       "      <td>NaN</td>\n",
       "      <td>1</td>\n",
       "      <td>INDIVIDUAL</td>\n",
       "      <td>NaN</td>\n",
       "      <td>NaN</td>\n",
       "      <td>NaN</td>\n",
       "      <td>0.0</td>\n",
       "      <td>NaN</td>\n",
       "      <td>NaN</td>\n",
       "      <td>NaN</td>\n",
       "      <td>NaN</td>\n",
       "      <td>NaN</td>\n",
       "      <td>NaN</td>\n",
       "      <td>NaN</td>\n",
       "      <td>NaN</td>\n",
       "      <td>NaN</td>\n",
       "      <td>NaN</td>\n",
       "      <td>NaN</td>\n",
       "      <td>NaN</td>\n",
       "      <td>NaN</td>\n",
       "      <td>NaN</td>\n",
       "      <td>NaN</td>\n",
       "      <td>NaN</td>\n",
       "      <td>NaN</td>\n",
       "      <td>1</td>\n",
       "    </tr>\n",
       "  </tbody>\n",
       "</table>\n",
       "</div>"
      ],
      "text/plain": [
       "   Unnamed: 0       id  member_id  loan_amnt  funded_amnt  funded_amnt_inv  \\\n",
       "0           1  1077501    1296599       5000         5000           4975.0   \n",
       "\n",
       "         term  int_rate  installment grade sub_grade emp_title emp_length  \\\n",
       "0   36 months     10.65       162.87     B        B2       NaN  10+ years   \n",
       "\n",
       "  home_ownership  annual_inc verification_status   issue_d loan_status  \\\n",
       "0           RENT     24000.0            Verified  Dec-2011  Fully Paid   \n",
       "\n",
       "  pymnt_plan                                                url  \\\n",
       "0          n  https://www.lendingclub.com/browse/loanDetail....   \n",
       "\n",
       "                                                desc      purpose     title  \\\n",
       "0    Borrower added on 12/22/11 > I need to upgra...  credit_card  Computer   \n",
       "\n",
       "  zip_code addr_state    dti  delinq_2yrs earliest_cr_line  inq_last_6mths  \\\n",
       "0    860xx         AZ  27.65          0.0         Jan-1985             1.0   \n",
       "\n",
       "   mths_since_last_delinq  mths_since_last_record  open_acc  pub_rec  \\\n",
       "0                     NaN                     NaN       3.0      0.0   \n",
       "\n",
       "   revol_bal  revol_util  total_acc initial_list_status  out_prncp  \\\n",
       "0    13648.0        83.7        9.0                   f        0.0   \n",
       "\n",
       "   out_prncp_inv  total_pymnt  total_pymnt_inv  total_rec_prncp  \\\n",
       "0            0.0  5861.071414          5831.78           5000.0   \n",
       "\n",
       "   total_rec_int  total_rec_late_fee  recoveries  collection_recovery_fee  \\\n",
       "0         861.07                 0.0         0.0                      0.0   \n",
       "\n",
       "  last_pymnt_d  last_pymnt_amnt next_pymnt_d last_credit_pull_d  \\\n",
       "0     Jan-2015           171.62          NaN           Jan-2016   \n",
       "\n",
       "   collections_12_mths_ex_med  mths_since_last_major_derog  policy_code  \\\n",
       "0                         0.0                          NaN            1   \n",
       "\n",
       "  application_type  annual_inc_joint  dti_joint verification_status_joint  \\\n",
       "0       INDIVIDUAL               NaN        NaN                       NaN   \n",
       "\n",
       "   acc_now_delinq  tot_coll_amt  tot_cur_bal  open_acc_6m  open_il_6m  \\\n",
       "0             0.0           NaN          NaN          NaN         NaN   \n",
       "\n",
       "   open_il_12m  open_il_24m  mths_since_rcnt_il  total_bal_il  il_util  \\\n",
       "0          NaN          NaN                 NaN           NaN      NaN   \n",
       "\n",
       "   open_rv_12m  open_rv_24m  max_bal_bc  all_util  total_rev_hi_lim  inq_fi  \\\n",
       "0          NaN          NaN         NaN       NaN               NaN     NaN   \n",
       "\n",
       "   total_cu_tl  inq_last_12m  loan_type  \n",
       "0          NaN           NaN          1  "
      ]
     },
     "execution_count": 20,
     "metadata": {},
     "output_type": "execute_result"
    }
   ],
   "source": [
    "df.head(1)"
   ]
  },
  {
   "cell_type": "code",
   "execution_count": 21,
   "id": "a4ff3163",
   "metadata": {},
   "outputs": [
    {
     "data": {
      "text/plain": [
       "Unnamed: 0                          0\n",
       "id                                  0\n",
       "member_id                           0\n",
       "loan_amnt                           0\n",
       "funded_amnt                         0\n",
       "funded_amnt_inv                     0\n",
       "term                                0\n",
       "int_rate                            0\n",
       "installment                         0\n",
       "grade                               0\n",
       "sub_grade                           0\n",
       "emp_title                       14961\n",
       "emp_length                      10829\n",
       "home_ownership                      0\n",
       "annual_inc                          0\n",
       "verification_status                 0\n",
       "issue_d                             0\n",
       "loan_status                         0\n",
       "pymnt_plan                          0\n",
       "url                                 0\n",
       "desc                           178415\n",
       "purpose                             0\n",
       "title                              14\n",
       "zip_code                            0\n",
       "addr_state                          0\n",
       "dti                                 0\n",
       "delinq_2yrs                         0\n",
       "earliest_cr_line                    0\n",
       "inq_last_6mths                      0\n",
       "mths_since_last_delinq         147990\n",
       "mths_since_last_record         233921\n",
       "open_acc                            0\n",
       "pub_rec                             0\n",
       "revol_bal                           0\n",
       "revol_util                        211\n",
       "total_acc                           0\n",
       "initial_list_status                 0\n",
       "out_prncp                           0\n",
       "out_prncp_inv                       0\n",
       "total_pymnt                         0\n",
       "total_pymnt_inv                     0\n",
       "total_rec_prncp                     0\n",
       "total_rec_int                       0\n",
       "total_rec_late_fee                  0\n",
       "recoveries                          0\n",
       "collection_recovery_fee             0\n",
       "last_pymnt_d                      697\n",
       "last_pymnt_amnt                     0\n",
       "next_pymnt_d                   252971\n",
       "last_credit_pull_d                 22\n",
       "collections_12_mths_ex_med         56\n",
       "mths_since_last_major_derog    216157\n",
       "policy_code                         0\n",
       "application_type                    0\n",
       "annual_inc_joint               268135\n",
       "dti_joint                      268135\n",
       "verification_status_joint      268135\n",
       "acc_now_delinq                      0\n",
       "tot_coll_amt                    63874\n",
       "tot_cur_bal                     63874\n",
       "open_acc_6m                    267994\n",
       "open_il_6m                     267994\n",
       "open_il_12m                    267994\n",
       "open_il_24m                    267994\n",
       "mths_since_rcnt_il             267998\n",
       "total_bal_il                   267994\n",
       "il_util                        268012\n",
       "open_rv_12m                    267994\n",
       "open_rv_24m                    267994\n",
       "max_bal_bc                     267994\n",
       "all_util                       267994\n",
       "total_rev_hi_lim                63874\n",
       "inq_fi                         267994\n",
       "total_cu_tl                    267994\n",
       "inq_last_12m                   267994\n",
       "loan_type                           0\n",
       "dtype: int64"
      ]
     },
     "execution_count": 21,
     "metadata": {},
     "output_type": "execute_result"
    }
   ],
   "source": [
    "df.isna().sum()"
   ]
  },
  {
   "cell_type": "markdown",
   "id": "843c48be",
   "metadata": {},
   "source": [
    "Dropping columns with 50% of missing values"
   ]
  },
  {
   "cell_type": "code",
   "execution_count": 22,
   "id": "cbfdd3a7",
   "metadata": {},
   "outputs": [],
   "source": [
    "threshold = len(df)* 0.5     "
   ]
  },
  {
   "cell_type": "code",
   "execution_count": 23,
   "id": "0616bfed",
   "metadata": {},
   "outputs": [],
   "source": [
    "df.dropna(thresh = threshold, axis = 1, inplace = True)"
   ]
  },
  {
   "cell_type": "code",
   "execution_count": 24,
   "id": "dbc88b9b",
   "metadata": {},
   "outputs": [
    {
     "data": {
      "text/plain": [
       "54"
      ]
     },
     "execution_count": 24,
     "metadata": {},
     "output_type": "execute_result"
    }
   ],
   "source": [
    "len(df.columns)"
   ]
  },
  {
   "cell_type": "code",
   "execution_count": 25,
   "id": "de3cdecd",
   "metadata": {},
   "outputs": [
    {
     "data": {
      "text/plain": [
       "Index(['Unnamed: 0', 'id', 'member_id', 'loan_amnt', 'funded_amnt',\n",
       "       'funded_amnt_inv', 'term', 'int_rate', 'installment', 'grade',\n",
       "       'sub_grade', 'emp_title', 'emp_length', 'home_ownership', 'annual_inc',\n",
       "       'verification_status', 'issue_d', 'loan_status', 'pymnt_plan', 'url',\n",
       "       'purpose', 'title', 'zip_code', 'addr_state', 'dti', 'delinq_2yrs',\n",
       "       'earliest_cr_line', 'inq_last_6mths', 'open_acc', 'pub_rec',\n",
       "       'revol_bal', 'revol_util', 'total_acc', 'initial_list_status',\n",
       "       'out_prncp', 'out_prncp_inv', 'total_pymnt', 'total_pymnt_inv',\n",
       "       'total_rec_prncp', 'total_rec_int', 'total_rec_late_fee', 'recoveries',\n",
       "       'collection_recovery_fee', 'last_pymnt_d', 'last_pymnt_amnt',\n",
       "       'last_credit_pull_d', 'collections_12_mths_ex_med', 'policy_code',\n",
       "       'application_type', 'acc_now_delinq', 'tot_coll_amt', 'tot_cur_bal',\n",
       "       'total_rev_hi_lim', 'loan_type'],\n",
       "      dtype='object')"
      ]
     },
     "execution_count": 25,
     "metadata": {},
     "output_type": "execute_result"
    }
   ],
   "source": [
    "df.columns"
   ]
  },
  {
   "cell_type": "code",
   "execution_count": 26,
   "id": "067cb669",
   "metadata": {},
   "outputs": [
    {
     "data": {
      "text/plain": [
       "emp_title                     14961\n",
       "emp_length                    10829\n",
       "title                            14\n",
       "revol_util                      211\n",
       "last_pymnt_d                    697\n",
       "last_credit_pull_d               22\n",
       "collections_12_mths_ex_med       56\n",
       "tot_coll_amt                  63874\n",
       "tot_cur_bal                   63874\n",
       "total_rev_hi_lim              63874\n",
       "dtype: int64"
      ]
     },
     "execution_count": 26,
     "metadata": {},
     "output_type": "execute_result"
    }
   ],
   "source": [
    "df.isna().sum()[df.isna().sum()!=0]"
   ]
  },
  {
   "cell_type": "code",
   "execution_count": 27,
   "id": "e365caad",
   "metadata": {},
   "outputs": [],
   "source": [
    "# Dropping rows with less NaNs\n",
    "columns_few_nans = ['title','revol_util','last_credit_pull_d','collections_12_mths_ex_med'\n",
    "]\n",
    "\n",
    "# Drop rows where any of these columns are NaN\n",
    "df = df.dropna(subset=columns_few_nans)"
   ]
  },
  {
   "cell_type": "code",
   "execution_count": 28,
   "id": "b5d4ed21",
   "metadata": {},
   "outputs": [
    {
     "data": {
      "text/plain": [
       "(267835, 54)"
      ]
     },
     "execution_count": 28,
     "metadata": {},
     "output_type": "execute_result"
    }
   ],
   "source": [
    "df.shape"
   ]
  },
  {
   "cell_type": "code",
   "execution_count": 29,
   "id": "2d0003a2",
   "metadata": {},
   "outputs": [
    {
     "data": {
      "text/html": [
       "<div>\n",
       "<style scoped>\n",
       "    .dataframe tbody tr th:only-of-type {\n",
       "        vertical-align: middle;\n",
       "    }\n",
       "\n",
       "    .dataframe tbody tr th {\n",
       "        vertical-align: top;\n",
       "    }\n",
       "\n",
       "    .dataframe thead th {\n",
       "        text-align: right;\n",
       "    }\n",
       "</style>\n",
       "<table border=\"1\" class=\"dataframe\">\n",
       "  <thead>\n",
       "    <tr style=\"text-align: right;\">\n",
       "      <th></th>\n",
       "      <th>Unnamed: 0</th>\n",
       "      <th>id</th>\n",
       "      <th>member_id</th>\n",
       "      <th>loan_amnt</th>\n",
       "      <th>funded_amnt</th>\n",
       "      <th>funded_amnt_inv</th>\n",
       "      <th>term</th>\n",
       "      <th>int_rate</th>\n",
       "      <th>installment</th>\n",
       "      <th>grade</th>\n",
       "      <th>sub_grade</th>\n",
       "      <th>emp_title</th>\n",
       "      <th>emp_length</th>\n",
       "      <th>home_ownership</th>\n",
       "      <th>annual_inc</th>\n",
       "      <th>verification_status</th>\n",
       "      <th>issue_d</th>\n",
       "      <th>loan_status</th>\n",
       "      <th>pymnt_plan</th>\n",
       "      <th>url</th>\n",
       "      <th>purpose</th>\n",
       "      <th>title</th>\n",
       "      <th>zip_code</th>\n",
       "      <th>addr_state</th>\n",
       "      <th>dti</th>\n",
       "      <th>delinq_2yrs</th>\n",
       "      <th>earliest_cr_line</th>\n",
       "      <th>inq_last_6mths</th>\n",
       "      <th>open_acc</th>\n",
       "      <th>pub_rec</th>\n",
       "      <th>revol_bal</th>\n",
       "      <th>revol_util</th>\n",
       "      <th>total_acc</th>\n",
       "      <th>initial_list_status</th>\n",
       "      <th>out_prncp</th>\n",
       "      <th>out_prncp_inv</th>\n",
       "      <th>total_pymnt</th>\n",
       "      <th>total_pymnt_inv</th>\n",
       "      <th>total_rec_prncp</th>\n",
       "      <th>total_rec_int</th>\n",
       "      <th>total_rec_late_fee</th>\n",
       "      <th>recoveries</th>\n",
       "      <th>collection_recovery_fee</th>\n",
       "      <th>last_pymnt_d</th>\n",
       "      <th>last_pymnt_amnt</th>\n",
       "      <th>last_credit_pull_d</th>\n",
       "      <th>collections_12_mths_ex_med</th>\n",
       "      <th>policy_code</th>\n",
       "      <th>application_type</th>\n",
       "      <th>acc_now_delinq</th>\n",
       "      <th>tot_coll_amt</th>\n",
       "      <th>tot_cur_bal</th>\n",
       "      <th>total_rev_hi_lim</th>\n",
       "      <th>loan_type</th>\n",
       "    </tr>\n",
       "  </thead>\n",
       "  <tbody>\n",
       "    <tr>\n",
       "      <th>0</th>\n",
       "      <td>1</td>\n",
       "      <td>1077501</td>\n",
       "      <td>1296599</td>\n",
       "      <td>5000</td>\n",
       "      <td>5000</td>\n",
       "      <td>4975.0</td>\n",
       "      <td>36 months</td>\n",
       "      <td>10.65</td>\n",
       "      <td>162.87</td>\n",
       "      <td>B</td>\n",
       "      <td>B2</td>\n",
       "      <td>NaN</td>\n",
       "      <td>10+ years</td>\n",
       "      <td>RENT</td>\n",
       "      <td>24000.0</td>\n",
       "      <td>Verified</td>\n",
       "      <td>Dec-2011</td>\n",
       "      <td>Fully Paid</td>\n",
       "      <td>n</td>\n",
       "      <td>https://www.lendingclub.com/browse/loanDetail....</td>\n",
       "      <td>credit_card</td>\n",
       "      <td>Computer</td>\n",
       "      <td>860xx</td>\n",
       "      <td>AZ</td>\n",
       "      <td>27.65</td>\n",
       "      <td>0.0</td>\n",
       "      <td>Jan-1985</td>\n",
       "      <td>1.0</td>\n",
       "      <td>3.0</td>\n",
       "      <td>0.0</td>\n",
       "      <td>13648.0</td>\n",
       "      <td>83.7</td>\n",
       "      <td>9.0</td>\n",
       "      <td>f</td>\n",
       "      <td>0.0</td>\n",
       "      <td>0.0</td>\n",
       "      <td>5861.071414</td>\n",
       "      <td>5831.78</td>\n",
       "      <td>5000.00</td>\n",
       "      <td>861.07</td>\n",
       "      <td>0.0</td>\n",
       "      <td>0.00</td>\n",
       "      <td>0.00</td>\n",
       "      <td>Jan-2015</td>\n",
       "      <td>171.62</td>\n",
       "      <td>Jan-2016</td>\n",
       "      <td>0.0</td>\n",
       "      <td>1</td>\n",
       "      <td>INDIVIDUAL</td>\n",
       "      <td>0.0</td>\n",
       "      <td>NaN</td>\n",
       "      <td>NaN</td>\n",
       "      <td>NaN</td>\n",
       "      <td>1</td>\n",
       "    </tr>\n",
       "    <tr>\n",
       "      <th>1</th>\n",
       "      <td>2</td>\n",
       "      <td>1077430</td>\n",
       "      <td>1314167</td>\n",
       "      <td>2500</td>\n",
       "      <td>2500</td>\n",
       "      <td>2500.0</td>\n",
       "      <td>60 months</td>\n",
       "      <td>15.27</td>\n",
       "      <td>59.83</td>\n",
       "      <td>C</td>\n",
       "      <td>C4</td>\n",
       "      <td>Ryder</td>\n",
       "      <td>&lt; 1 year</td>\n",
       "      <td>RENT</td>\n",
       "      <td>30000.0</td>\n",
       "      <td>Source Verified</td>\n",
       "      <td>Dec-2011</td>\n",
       "      <td>Charged Off</td>\n",
       "      <td>n</td>\n",
       "      <td>https://www.lendingclub.com/browse/loanDetail....</td>\n",
       "      <td>car</td>\n",
       "      <td>bike</td>\n",
       "      <td>309xx</td>\n",
       "      <td>GA</td>\n",
       "      <td>1.00</td>\n",
       "      <td>0.0</td>\n",
       "      <td>Apr-1999</td>\n",
       "      <td>5.0</td>\n",
       "      <td>3.0</td>\n",
       "      <td>0.0</td>\n",
       "      <td>1687.0</td>\n",
       "      <td>9.4</td>\n",
       "      <td>4.0</td>\n",
       "      <td>f</td>\n",
       "      <td>0.0</td>\n",
       "      <td>0.0</td>\n",
       "      <td>1008.710000</td>\n",
       "      <td>1008.71</td>\n",
       "      <td>456.46</td>\n",
       "      <td>435.17</td>\n",
       "      <td>0.0</td>\n",
       "      <td>117.08</td>\n",
       "      <td>1.11</td>\n",
       "      <td>Apr-2013</td>\n",
       "      <td>119.66</td>\n",
       "      <td>Sep-2013</td>\n",
       "      <td>0.0</td>\n",
       "      <td>1</td>\n",
       "      <td>INDIVIDUAL</td>\n",
       "      <td>0.0</td>\n",
       "      <td>NaN</td>\n",
       "      <td>NaN</td>\n",
       "      <td>NaN</td>\n",
       "      <td>0</td>\n",
       "    </tr>\n",
       "    <tr>\n",
       "      <th>2</th>\n",
       "      <td>3</td>\n",
       "      <td>1077175</td>\n",
       "      <td>1313524</td>\n",
       "      <td>2400</td>\n",
       "      <td>2400</td>\n",
       "      <td>2400.0</td>\n",
       "      <td>36 months</td>\n",
       "      <td>15.96</td>\n",
       "      <td>84.33</td>\n",
       "      <td>C</td>\n",
       "      <td>C5</td>\n",
       "      <td>NaN</td>\n",
       "      <td>10+ years</td>\n",
       "      <td>RENT</td>\n",
       "      <td>12252.0</td>\n",
       "      <td>Not Verified</td>\n",
       "      <td>Dec-2011</td>\n",
       "      <td>Fully Paid</td>\n",
       "      <td>n</td>\n",
       "      <td>https://www.lendingclub.com/browse/loanDetail....</td>\n",
       "      <td>small_business</td>\n",
       "      <td>real estate business</td>\n",
       "      <td>606xx</td>\n",
       "      <td>IL</td>\n",
       "      <td>8.72</td>\n",
       "      <td>0.0</td>\n",
       "      <td>Nov-2001</td>\n",
       "      <td>2.0</td>\n",
       "      <td>2.0</td>\n",
       "      <td>0.0</td>\n",
       "      <td>2956.0</td>\n",
       "      <td>98.5</td>\n",
       "      <td>10.0</td>\n",
       "      <td>f</td>\n",
       "      <td>0.0</td>\n",
       "      <td>0.0</td>\n",
       "      <td>3003.653644</td>\n",
       "      <td>3003.65</td>\n",
       "      <td>2400.00</td>\n",
       "      <td>603.65</td>\n",
       "      <td>0.0</td>\n",
       "      <td>0.00</td>\n",
       "      <td>0.00</td>\n",
       "      <td>Jun-2014</td>\n",
       "      <td>649.91</td>\n",
       "      <td>Jan-2016</td>\n",
       "      <td>0.0</td>\n",
       "      <td>1</td>\n",
       "      <td>INDIVIDUAL</td>\n",
       "      <td>0.0</td>\n",
       "      <td>NaN</td>\n",
       "      <td>NaN</td>\n",
       "      <td>NaN</td>\n",
       "      <td>1</td>\n",
       "    </tr>\n",
       "  </tbody>\n",
       "</table>\n",
       "</div>"
      ],
      "text/plain": [
       "   Unnamed: 0       id  member_id  loan_amnt  funded_amnt  funded_amnt_inv  \\\n",
       "0           1  1077501    1296599       5000         5000           4975.0   \n",
       "1           2  1077430    1314167       2500         2500           2500.0   \n",
       "2           3  1077175    1313524       2400         2400           2400.0   \n",
       "\n",
       "         term  int_rate  installment grade sub_grade emp_title emp_length  \\\n",
       "0   36 months     10.65       162.87     B        B2       NaN  10+ years   \n",
       "1   60 months     15.27        59.83     C        C4     Ryder   < 1 year   \n",
       "2   36 months     15.96        84.33     C        C5       NaN  10+ years   \n",
       "\n",
       "  home_ownership  annual_inc verification_status   issue_d  loan_status  \\\n",
       "0           RENT     24000.0            Verified  Dec-2011   Fully Paid   \n",
       "1           RENT     30000.0     Source Verified  Dec-2011  Charged Off   \n",
       "2           RENT     12252.0        Not Verified  Dec-2011   Fully Paid   \n",
       "\n",
       "  pymnt_plan                                                url  \\\n",
       "0          n  https://www.lendingclub.com/browse/loanDetail....   \n",
       "1          n  https://www.lendingclub.com/browse/loanDetail....   \n",
       "2          n  https://www.lendingclub.com/browse/loanDetail....   \n",
       "\n",
       "          purpose                 title zip_code addr_state    dti  \\\n",
       "0     credit_card              Computer    860xx         AZ  27.65   \n",
       "1             car                  bike    309xx         GA   1.00   \n",
       "2  small_business  real estate business    606xx         IL   8.72   \n",
       "\n",
       "   delinq_2yrs earliest_cr_line  inq_last_6mths  open_acc  pub_rec  revol_bal  \\\n",
       "0          0.0         Jan-1985             1.0       3.0      0.0    13648.0   \n",
       "1          0.0         Apr-1999             5.0       3.0      0.0     1687.0   \n",
       "2          0.0         Nov-2001             2.0       2.0      0.0     2956.0   \n",
       "\n",
       "   revol_util  total_acc initial_list_status  out_prncp  out_prncp_inv  \\\n",
       "0        83.7        9.0                   f        0.0            0.0   \n",
       "1         9.4        4.0                   f        0.0            0.0   \n",
       "2        98.5       10.0                   f        0.0            0.0   \n",
       "\n",
       "   total_pymnt  total_pymnt_inv  total_rec_prncp  total_rec_int  \\\n",
       "0  5861.071414          5831.78          5000.00         861.07   \n",
       "1  1008.710000          1008.71           456.46         435.17   \n",
       "2  3003.653644          3003.65          2400.00         603.65   \n",
       "\n",
       "   total_rec_late_fee  recoveries  collection_recovery_fee last_pymnt_d  \\\n",
       "0                 0.0        0.00                     0.00     Jan-2015   \n",
       "1                 0.0      117.08                     1.11     Apr-2013   \n",
       "2                 0.0        0.00                     0.00     Jun-2014   \n",
       "\n",
       "   last_pymnt_amnt last_credit_pull_d  collections_12_mths_ex_med  \\\n",
       "0           171.62           Jan-2016                         0.0   \n",
       "1           119.66           Sep-2013                         0.0   \n",
       "2           649.91           Jan-2016                         0.0   \n",
       "\n",
       "   policy_code application_type  acc_now_delinq  tot_coll_amt  tot_cur_bal  \\\n",
       "0            1       INDIVIDUAL             0.0           NaN          NaN   \n",
       "1            1       INDIVIDUAL             0.0           NaN          NaN   \n",
       "2            1       INDIVIDUAL             0.0           NaN          NaN   \n",
       "\n",
       "   total_rev_hi_lim  loan_type  \n",
       "0               NaN          1  \n",
       "1               NaN          0  \n",
       "2               NaN          1  "
      ]
     },
     "execution_count": 29,
     "metadata": {},
     "output_type": "execute_result"
    }
   ],
   "source": [
    "df.head(3)"
   ]
  },
  {
   "cell_type": "code",
   "execution_count": 30,
   "id": "74ad44a8",
   "metadata": {},
   "outputs": [
    {
     "data": {
      "text/plain": [
       "collections_12_mths_ex_med\n",
       "0.0    266002\n",
       "1.0      1707\n",
       "2.0       108\n",
       "3.0        13\n",
       "4.0         3\n",
       "6.0         1\n",
       "5.0         1\n",
       "Name: count, dtype: int64"
      ]
     },
     "execution_count": 30,
     "metadata": {},
     "output_type": "execute_result"
    }
   ],
   "source": [
    "df.collections_12_mths_ex_med.value_counts()"
   ]
  },
  {
   "cell_type": "code",
   "execution_count": 31,
   "id": "c99cab4c",
   "metadata": {},
   "outputs": [
    {
     "data": {
      "text/plain": [
       "888"
      ]
     },
     "execution_count": 31,
     "metadata": {},
     "output_type": "execute_result"
    }
   ],
   "source": [
    "df.zip_code.nunique()"
   ]
  },
  {
   "cell_type": "code",
   "execution_count": 32,
   "id": "7e6f2f75",
   "metadata": {},
   "outputs": [
    {
     "data": {
      "text/plain": [
       "51"
      ]
     },
     "execution_count": 32,
     "metadata": {},
     "output_type": "execute_result"
    }
   ],
   "source": [
    "df.addr_state.nunique()"
   ]
  },
  {
   "cell_type": "code",
   "execution_count": 33,
   "id": "fd21b958",
   "metadata": {},
   "outputs": [
    {
     "data": {
      "text/plain": [
       "pymnt_plan\n",
       "n    267828\n",
       "y         7\n",
       "Name: count, dtype: int64"
      ]
     },
     "execution_count": 33,
     "metadata": {},
     "output_type": "execute_result"
    }
   ],
   "source": [
    "df.pymnt_plan.value_counts()"
   ]
  },
  {
   "cell_type": "code",
   "execution_count": 34,
   "id": "e96c86c4",
   "metadata": {},
   "outputs": [
    {
     "data": {
      "text/plain": [
       "initial_list_status\n",
       "f    190007\n",
       "w     77828\n",
       "Name: count, dtype: int64"
      ]
     },
     "execution_count": 34,
     "metadata": {},
     "output_type": "execute_result"
    }
   ],
   "source": [
    "df.initial_list_status.value_counts()"
   ]
  },
  {
   "cell_type": "code",
   "execution_count": 35,
   "id": "21c8ff39",
   "metadata": {},
   "outputs": [
    {
     "data": {
      "text/plain": [
       "policy_code\n",
       "1    267835\n",
       "Name: count, dtype: int64"
      ]
     },
     "execution_count": 35,
     "metadata": {},
     "output_type": "execute_result"
    }
   ],
   "source": [
    "df.policy_code.value_counts()"
   ]
  },
  {
   "cell_type": "code",
   "execution_count": 36,
   "id": "df02482e",
   "metadata": {},
   "outputs": [
    {
     "data": {
      "text/plain": [
       "application_type\n",
       "INDIVIDUAL    267832\n",
       "JOINT              3\n",
       "Name: count, dtype: int64"
      ]
     },
     "execution_count": 36,
     "metadata": {},
     "output_type": "execute_result"
    }
   ],
   "source": [
    "df.application_type.value_counts()"
   ]
  },
  {
   "cell_type": "code",
   "execution_count": 37,
   "id": "b5c61c6d",
   "metadata": {},
   "outputs": [],
   "source": [
    "df['term'] = df['term'].apply(lambda x: 36 if '36' in x else 60)"
   ]
  },
  {
   "cell_type": "code",
   "execution_count": 38,
   "id": "d4910221",
   "metadata": {},
   "outputs": [
    {
     "data": {
      "text/plain": [
       "term\n",
       "36    205627\n",
       "60     62208\n",
       "Name: count, dtype: int64"
      ]
     },
     "execution_count": 38,
     "metadata": {},
     "output_type": "execute_result"
    }
   ],
   "source": [
    "df.term.value_counts()"
   ]
  },
  {
   "cell_type": "code",
   "execution_count": 39,
   "id": "8cef24de",
   "metadata": {
    "scrolled": true
   },
   "outputs": [
    {
     "data": {
      "text/plain": [
       "10819"
      ]
     },
     "execution_count": 39,
     "metadata": {},
     "output_type": "execute_result"
    }
   ],
   "source": [
    "df.emp_length.isna().sum()"
   ]
  },
  {
   "cell_type": "code",
   "execution_count": 40,
   "id": "8e2d872e",
   "metadata": {},
   "outputs": [
    {
     "data": {
      "text/plain": [
       "home_ownership\n",
       "MORTGAGE    131325\n",
       "RENT        112799\n",
       "OWN          23530\n",
       "OTHER          139\n",
       "NONE            41\n",
       "ANY              1\n",
       "Name: count, dtype: int64"
      ]
     },
     "execution_count": 40,
     "metadata": {},
     "output_type": "execute_result"
    }
   ],
   "source": [
    "#reducing home_ownership feature values\n",
    "df.home_ownership.value_counts()"
   ]
  },
  {
   "cell_type": "code",
   "execution_count": 41,
   "id": "555f95d1",
   "metadata": {},
   "outputs": [],
   "source": [
    "df.loc[(df.home_ownership == 'ANY') | (df.home_ownership == 'NONE'), 'home_ownership'] = 'OTHER'"
   ]
  },
  {
   "cell_type": "code",
   "execution_count": 42,
   "id": "8b1e3fdb",
   "metadata": {
    "scrolled": true
   },
   "outputs": [
    {
     "data": {
      "text/plain": [
       "home_ownership\n",
       "MORTGAGE    131325\n",
       "RENT        112799\n",
       "OWN          23530\n",
       "OTHER          181\n",
       "Name: count, dtype: int64"
      ]
     },
     "execution_count": 42,
     "metadata": {},
     "output_type": "execute_result"
    }
   ],
   "source": [
    "df.home_ownership.value_counts()"
   ]
  },
  {
   "cell_type": "code",
   "execution_count": 43,
   "id": "43acadb3",
   "metadata": {},
   "outputs": [
    {
     "data": {
      "text/plain": [
       "10819"
      ]
     },
     "execution_count": 43,
     "metadata": {},
     "output_type": "execute_result"
    }
   ],
   "source": [
    "df.emp_length.isna().sum()"
   ]
  },
  {
   "cell_type": "code",
   "execution_count": 44,
   "id": "9da43191",
   "metadata": {
    "scrolled": false
   },
   "outputs": [
    {
     "name": "stdout",
     "output_type": "stream",
     "text": [
      "loan_status  Charged Off   Default  Fully Paid  Late (16-30 days)  \\\n",
      "emp_length                                                          \n",
      "1 year          0.165686  0.005323    0.777217           0.008293   \n",
      "10+ years       0.161176  0.004594    0.782528           0.008464   \n",
      "2 years         0.161824  0.003456    0.783886           0.008479   \n",
      "3 years         0.163563  0.004817    0.779600           0.008755   \n",
      "4 years         0.162351  0.003867    0.785388           0.009081   \n",
      "5 years         0.168803  0.004062    0.782824           0.008282   \n",
      "6 years         0.173543  0.004061    0.776367           0.006704   \n",
      "7 years         0.175155  0.004783    0.772366           0.007747   \n",
      "8 years         0.171067  0.005806    0.770479           0.008748   \n",
      "9 years         0.174371  0.004819    0.765244           0.010818   \n",
      "< 1 year        0.173427  0.004015    0.766659           0.010151   \n",
      "\n",
      "loan_status  Late (31-120 days)  \n",
      "emp_length                       \n",
      "1 year                 0.043481  \n",
      "10+ years              0.043239  \n",
      "2 years                0.042355  \n",
      "3 years                0.043265  \n",
      "4 years                0.039313  \n",
      "5 years                0.036029  \n",
      "6 years                0.039324  \n",
      "7 years                0.039949  \n",
      "8 years                0.043900  \n",
      "9 years                0.044748  \n",
      "< 1 year               0.045748  \n"
     ]
    }
   ],
   "source": [
    "# Checking contribution of emp_length column to the model\n",
    "\n",
    "pivot_table = df.pivot_table(index='emp_length', columns='loan_status', aggfunc='size', fill_value=0)\n",
    "# Normalize the counts row-wise to get percentages\n",
    "pivot_table_normalized = pivot_table.div(pivot_table.sum(axis=1), axis=0)\n",
    "\n",
    "print(pivot_table_normalized)"
   ]
  },
  {
   "cell_type": "code",
   "execution_count": 45,
   "id": "29673e8e",
   "metadata": {},
   "outputs": [
    {
     "data": {
      "text/plain": [
       "array(['B', 'C', 'A', 'E', 'F', 'D', 'G'], dtype=object)"
      ]
     },
     "execution_count": 45,
     "metadata": {},
     "output_type": "execute_result"
    }
   ],
   "source": [
    "df.grade.unique()"
   ]
  },
  {
   "cell_type": "code",
   "execution_count": 46,
   "id": "40353a1f",
   "metadata": {},
   "outputs": [],
   "source": [
    "from sklearn.preprocessing import OrdinalEncoder\n",
    "\n",
    "# Create the encoder instance\n",
    "encoder = OrdinalEncoder(categories=[['G','F','E','D', 'C', 'B', 'A']])\n",
    "\n",
    "# Fit and transform the data\n",
    "df['grade'] = encoder.fit_transform(df[['grade']])"
   ]
  },
  {
   "cell_type": "code",
   "execution_count": 47,
   "id": "71dc8eb9",
   "metadata": {},
   "outputs": [],
   "source": [
    "encoder = OrdinalEncoder()\n",
    "# Encode the 'grade' column\n",
    "df['initial_list_status'] = encoder.fit_transform(df[['initial_list_status']])"
   ]
  },
  {
   "cell_type": "code",
   "execution_count": 48,
   "id": "73d935b9",
   "metadata": {
    "scrolled": true
   },
   "outputs": [
    {
     "data": {
      "text/plain": [
       "loan_type                     1.000000\n",
       "total_rec_prncp               0.491625\n",
       "last_pymnt_amnt               0.418966\n",
       "total_pymnt                   0.389083\n",
       "total_pymnt_inv               0.386735\n",
       "grade                         0.255341\n",
       "tot_cur_bal                   0.077857\n",
       "total_rev_hi_lim              0.056668\n",
       "annual_inc                    0.055791\n",
       "total_acc                     0.026921\n",
       "revol_bal                     0.002368\n",
       "tot_coll_amt                  0.001284\n",
       "acc_now_delinq               -0.013914\n",
       "pub_rec                      -0.018964\n",
       "collections_12_mths_ex_med   -0.019252\n",
       "open_acc                     -0.025525\n",
       "initial_list_status          -0.034643\n",
       "delinq_2yrs                  -0.035419\n",
       "inq_last_6mths               -0.049337\n",
       "installment                  -0.058043\n",
       "total_rec_int                -0.065307\n",
       "loan_amnt                    -0.074777\n",
       "funded_amnt_inv              -0.074828\n",
       "funded_amnt                  -0.075226\n",
       "Unnamed: 0                   -0.081267\n",
       "id                           -0.086635\n",
       "member_id                    -0.088033\n",
       "revol_util                   -0.101438\n",
       "dti                          -0.138147\n",
       "total_rec_late_fee           -0.165939\n",
       "term                         -0.170836\n",
       "int_rate                     -0.257572\n",
       "collection_recovery_fee      -0.264338\n",
       "out_prncp_inv                -0.375161\n",
       "out_prncp                    -0.375163\n",
       "recoveries                   -0.383139\n",
       "policy_code                        NaN\n",
       "Name: loan_type, dtype: float64"
      ]
     },
     "execution_count": 48,
     "metadata": {},
     "output_type": "execute_result"
    }
   ],
   "source": [
    "df.corr(numeric_only=True)['loan_type'].sort_values(ascending=False)   #shall drop highly correlated columns and keep only 1"
   ]
  },
  {
   "cell_type": "code",
   "execution_count": 49,
   "id": "55bd3a07",
   "metadata": {},
   "outputs": [
    {
     "data": {
      "text/plain": [
       "(267835, 54)"
      ]
     },
     "execution_count": 49,
     "metadata": {},
     "output_type": "execute_result"
    }
   ],
   "source": [
    "df.shape"
   ]
  },
  {
   "cell_type": "markdown",
   "id": "5e118a29",
   "metadata": {},
   "source": [
    "As per the above analysis dropping the following types of columns:\n",
    "1. Post loan has been granted\n",
    "2. Highly correlated features (kept one dropped others)\n",
    "3. Features with less variability, as they will not contribute to the model much\n",
    "4. Too many values to contribute to the model"
   ]
  },
  {
   "cell_type": "code",
   "execution_count": 50,
   "id": "66ca723e",
   "metadata": {},
   "outputs": [],
   "source": [
    "df.drop(columns = ['out_prncp_inv', 'total_pymnt_inv','emp_length','issue_d','earliest_cr_line',\n",
    "                'total_rec_prncp', 'total_rec_int', 'recoveries', 'collection_recovery_fee',\n",
    "                   'last_pymnt_d', 'last_credit_pull_d','id','url','title','sub_grade','zip_code',\n",
    "                   'policy_code','initial_list_status','application_type','Unnamed: 0','member_id','emp_title',\n",
    "                   'collections_12_mths_ex_med','last_pymnt_amnt',\n",
    "                   'issue_d','out_prncp','total_rec_late_fee','out_prncp','total_pymnt','tot_coll_amt']\n",
    "                   ,inplace = True) "
   ]
  },
  {
   "cell_type": "code",
   "execution_count": 51,
   "id": "2f9f7045",
   "metadata": {
    "scrolled": true
   },
   "outputs": [
    {
     "data": {
      "text/plain": [
       "Index(['loan_amnt', 'funded_amnt', 'funded_amnt_inv', 'term', 'int_rate',\n",
       "       'installment', 'grade', 'home_ownership', 'annual_inc',\n",
       "       'verification_status', 'loan_status', 'pymnt_plan', 'purpose',\n",
       "       'addr_state', 'dti', 'delinq_2yrs', 'inq_last_6mths', 'open_acc',\n",
       "       'pub_rec', 'revol_bal', 'revol_util', 'total_acc', 'acc_now_delinq',\n",
       "       'tot_cur_bal', 'total_rev_hi_lim', 'loan_type'],\n",
       "      dtype='object')"
      ]
     },
     "execution_count": 51,
     "metadata": {},
     "output_type": "execute_result"
    }
   ],
   "source": [
    "df.columns"
   ]
  },
  {
   "cell_type": "code",
   "execution_count": 52,
   "id": "c7f0c1f5",
   "metadata": {},
   "outputs": [
    {
     "data": {
      "text/plain": [
       "(267835, 26)"
      ]
     },
     "execution_count": 52,
     "metadata": {},
     "output_type": "execute_result"
    }
   ],
   "source": [
    "df.shape"
   ]
  },
  {
   "cell_type": "code",
   "execution_count": 53,
   "id": "839691e3",
   "metadata": {},
   "outputs": [
    {
     "data": {
      "text/html": [
       "<div>\n",
       "<style scoped>\n",
       "    .dataframe tbody tr th:only-of-type {\n",
       "        vertical-align: middle;\n",
       "    }\n",
       "\n",
       "    .dataframe tbody tr th {\n",
       "        vertical-align: top;\n",
       "    }\n",
       "\n",
       "    .dataframe thead th {\n",
       "        text-align: right;\n",
       "    }\n",
       "</style>\n",
       "<table border=\"1\" class=\"dataframe\">\n",
       "  <thead>\n",
       "    <tr style=\"text-align: right;\">\n",
       "      <th></th>\n",
       "      <th>loan_amnt</th>\n",
       "      <th>funded_amnt</th>\n",
       "      <th>funded_amnt_inv</th>\n",
       "      <th>term</th>\n",
       "      <th>int_rate</th>\n",
       "      <th>installment</th>\n",
       "      <th>grade</th>\n",
       "      <th>home_ownership</th>\n",
       "      <th>annual_inc</th>\n",
       "      <th>verification_status</th>\n",
       "      <th>loan_status</th>\n",
       "      <th>pymnt_plan</th>\n",
       "      <th>purpose</th>\n",
       "      <th>addr_state</th>\n",
       "      <th>dti</th>\n",
       "      <th>delinq_2yrs</th>\n",
       "      <th>inq_last_6mths</th>\n",
       "      <th>open_acc</th>\n",
       "      <th>pub_rec</th>\n",
       "      <th>revol_bal</th>\n",
       "      <th>revol_util</th>\n",
       "      <th>total_acc</th>\n",
       "      <th>acc_now_delinq</th>\n",
       "      <th>tot_cur_bal</th>\n",
       "      <th>total_rev_hi_lim</th>\n",
       "      <th>loan_type</th>\n",
       "    </tr>\n",
       "  </thead>\n",
       "  <tbody>\n",
       "    <tr>\n",
       "      <th>0</th>\n",
       "      <td>5000</td>\n",
       "      <td>5000</td>\n",
       "      <td>4975.0</td>\n",
       "      <td>36</td>\n",
       "      <td>10.65</td>\n",
       "      <td>162.87</td>\n",
       "      <td>5.0</td>\n",
       "      <td>RENT</td>\n",
       "      <td>24000.0</td>\n",
       "      <td>Verified</td>\n",
       "      <td>Fully Paid</td>\n",
       "      <td>n</td>\n",
       "      <td>credit_card</td>\n",
       "      <td>AZ</td>\n",
       "      <td>27.65</td>\n",
       "      <td>0.0</td>\n",
       "      <td>1.0</td>\n",
       "      <td>3.0</td>\n",
       "      <td>0.0</td>\n",
       "      <td>13648.0</td>\n",
       "      <td>83.7</td>\n",
       "      <td>9.0</td>\n",
       "      <td>0.0</td>\n",
       "      <td>NaN</td>\n",
       "      <td>NaN</td>\n",
       "      <td>1</td>\n",
       "    </tr>\n",
       "    <tr>\n",
       "      <th>1</th>\n",
       "      <td>2500</td>\n",
       "      <td>2500</td>\n",
       "      <td>2500.0</td>\n",
       "      <td>60</td>\n",
       "      <td>15.27</td>\n",
       "      <td>59.83</td>\n",
       "      <td>4.0</td>\n",
       "      <td>RENT</td>\n",
       "      <td>30000.0</td>\n",
       "      <td>Source Verified</td>\n",
       "      <td>Charged Off</td>\n",
       "      <td>n</td>\n",
       "      <td>car</td>\n",
       "      <td>GA</td>\n",
       "      <td>1.00</td>\n",
       "      <td>0.0</td>\n",
       "      <td>5.0</td>\n",
       "      <td>3.0</td>\n",
       "      <td>0.0</td>\n",
       "      <td>1687.0</td>\n",
       "      <td>9.4</td>\n",
       "      <td>4.0</td>\n",
       "      <td>0.0</td>\n",
       "      <td>NaN</td>\n",
       "      <td>NaN</td>\n",
       "      <td>0</td>\n",
       "    </tr>\n",
       "    <tr>\n",
       "      <th>2</th>\n",
       "      <td>2400</td>\n",
       "      <td>2400</td>\n",
       "      <td>2400.0</td>\n",
       "      <td>36</td>\n",
       "      <td>15.96</td>\n",
       "      <td>84.33</td>\n",
       "      <td>4.0</td>\n",
       "      <td>RENT</td>\n",
       "      <td>12252.0</td>\n",
       "      <td>Not Verified</td>\n",
       "      <td>Fully Paid</td>\n",
       "      <td>n</td>\n",
       "      <td>small_business</td>\n",
       "      <td>IL</td>\n",
       "      <td>8.72</td>\n",
       "      <td>0.0</td>\n",
       "      <td>2.0</td>\n",
       "      <td>2.0</td>\n",
       "      <td>0.0</td>\n",
       "      <td>2956.0</td>\n",
       "      <td>98.5</td>\n",
       "      <td>10.0</td>\n",
       "      <td>0.0</td>\n",
       "      <td>NaN</td>\n",
       "      <td>NaN</td>\n",
       "      <td>1</td>\n",
       "    </tr>\n",
       "    <tr>\n",
       "      <th>3</th>\n",
       "      <td>10000</td>\n",
       "      <td>10000</td>\n",
       "      <td>10000.0</td>\n",
       "      <td>36</td>\n",
       "      <td>13.49</td>\n",
       "      <td>339.31</td>\n",
       "      <td>4.0</td>\n",
       "      <td>RENT</td>\n",
       "      <td>49200.0</td>\n",
       "      <td>Source Verified</td>\n",
       "      <td>Fully Paid</td>\n",
       "      <td>n</td>\n",
       "      <td>other</td>\n",
       "      <td>CA</td>\n",
       "      <td>20.00</td>\n",
       "      <td>0.0</td>\n",
       "      <td>1.0</td>\n",
       "      <td>10.0</td>\n",
       "      <td>0.0</td>\n",
       "      <td>5598.0</td>\n",
       "      <td>21.0</td>\n",
       "      <td>37.0</td>\n",
       "      <td>0.0</td>\n",
       "      <td>NaN</td>\n",
       "      <td>NaN</td>\n",
       "      <td>1</td>\n",
       "    </tr>\n",
       "    <tr>\n",
       "      <th>5</th>\n",
       "      <td>5000</td>\n",
       "      <td>5000</td>\n",
       "      <td>5000.0</td>\n",
       "      <td>36</td>\n",
       "      <td>7.90</td>\n",
       "      <td>156.46</td>\n",
       "      <td>6.0</td>\n",
       "      <td>RENT</td>\n",
       "      <td>36000.0</td>\n",
       "      <td>Source Verified</td>\n",
       "      <td>Fully Paid</td>\n",
       "      <td>n</td>\n",
       "      <td>wedding</td>\n",
       "      <td>AZ</td>\n",
       "      <td>11.20</td>\n",
       "      <td>0.0</td>\n",
       "      <td>3.0</td>\n",
       "      <td>9.0</td>\n",
       "      <td>0.0</td>\n",
       "      <td>7963.0</td>\n",
       "      <td>28.3</td>\n",
       "      <td>12.0</td>\n",
       "      <td>0.0</td>\n",
       "      <td>NaN</td>\n",
       "      <td>NaN</td>\n",
       "      <td>1</td>\n",
       "    </tr>\n",
       "  </tbody>\n",
       "</table>\n",
       "</div>"
      ],
      "text/plain": [
       "   loan_amnt  funded_amnt  funded_amnt_inv  term  int_rate  installment  \\\n",
       "0       5000         5000           4975.0    36     10.65       162.87   \n",
       "1       2500         2500           2500.0    60     15.27        59.83   \n",
       "2       2400         2400           2400.0    36     15.96        84.33   \n",
       "3      10000        10000          10000.0    36     13.49       339.31   \n",
       "5       5000         5000           5000.0    36      7.90       156.46   \n",
       "\n",
       "   grade home_ownership  annual_inc verification_status  loan_status  \\\n",
       "0    5.0           RENT     24000.0            Verified   Fully Paid   \n",
       "1    4.0           RENT     30000.0     Source Verified  Charged Off   \n",
       "2    4.0           RENT     12252.0        Not Verified   Fully Paid   \n",
       "3    4.0           RENT     49200.0     Source Verified   Fully Paid   \n",
       "5    6.0           RENT     36000.0     Source Verified   Fully Paid   \n",
       "\n",
       "  pymnt_plan         purpose addr_state    dti  delinq_2yrs  inq_last_6mths  \\\n",
       "0          n     credit_card         AZ  27.65          0.0             1.0   \n",
       "1          n             car         GA   1.00          0.0             5.0   \n",
       "2          n  small_business         IL   8.72          0.0             2.0   \n",
       "3          n           other         CA  20.00          0.0             1.0   \n",
       "5          n         wedding         AZ  11.20          0.0             3.0   \n",
       "\n",
       "   open_acc  pub_rec  revol_bal  revol_util  total_acc  acc_now_delinq  \\\n",
       "0       3.0      0.0    13648.0        83.7        9.0             0.0   \n",
       "1       3.0      0.0     1687.0         9.4        4.0             0.0   \n",
       "2       2.0      0.0     2956.0        98.5       10.0             0.0   \n",
       "3      10.0      0.0     5598.0        21.0       37.0             0.0   \n",
       "5       9.0      0.0     7963.0        28.3       12.0             0.0   \n",
       "\n",
       "   tot_cur_bal  total_rev_hi_lim  loan_type  \n",
       "0          NaN               NaN          1  \n",
       "1          NaN               NaN          0  \n",
       "2          NaN               NaN          1  \n",
       "3          NaN               NaN          1  \n",
       "5          NaN               NaN          1  "
      ]
     },
     "execution_count": 53,
     "metadata": {},
     "output_type": "execute_result"
    }
   ],
   "source": [
    "df.head()"
   ]
  },
  {
   "cell_type": "code",
   "execution_count": 54,
   "id": "a07aaebb",
   "metadata": {
    "scrolled": true
   },
   "outputs": [
    {
     "data": {
      "text/plain": [
       "tot_cur_bal         63725\n",
       "total_rev_hi_lim    63725\n",
       "dtype: int64"
      ]
     },
     "execution_count": 54,
     "metadata": {},
     "output_type": "execute_result"
    }
   ],
   "source": [
    "df.isna().sum()[df.isna().sum()!=0]"
   ]
  },
  {
   "cell_type": "code",
   "execution_count": 55,
   "id": "4199cc32",
   "metadata": {},
   "outputs": [],
   "source": [
    "# Columns to fill with their median values\n",
    "columns_to_fill = ['tot_cur_bal', 'total_rev_hi_lim']\n",
    "\n",
    "# Fill missing values for each column with its median\n",
    "for column in columns_to_fill:\n",
    "    df[column] = df[column].fillna(df[column].median())"
   ]
  },
  {
   "cell_type": "code",
   "execution_count": 56,
   "id": "76b03576",
   "metadata": {},
   "outputs": [
    {
     "data": {
      "text/plain": [
       "(267835, 26)"
      ]
     },
     "execution_count": 56,
     "metadata": {},
     "output_type": "execute_result"
    }
   ],
   "source": [
    "df.shape"
   ]
  },
  {
   "cell_type": "code",
   "execution_count": 57,
   "id": "042e3ed5",
   "metadata": {},
   "outputs": [
    {
     "data": {
      "text/plain": [
       "array(['Verified', 'Source Verified', 'Not Verified'], dtype=object)"
      ]
     },
     "execution_count": 57,
     "metadata": {},
     "output_type": "execute_result"
    }
   ],
   "source": [
    "df.verification_status.unique()"
   ]
  },
  {
   "cell_type": "code",
   "execution_count": 58,
   "id": "31578ae8",
   "metadata": {},
   "outputs": [
    {
     "data": {
      "text/plain": [
       "0"
      ]
     },
     "execution_count": 58,
     "metadata": {},
     "output_type": "execute_result"
    }
   ],
   "source": [
    "df.isna().sum().sum()"
   ]
  },
  {
   "cell_type": "code",
   "execution_count": 59,
   "id": "1f8c95a8",
   "metadata": {
    "scrolled": true
   },
   "outputs": [
    {
     "data": {
      "text/plain": [
       "(267835, 26)"
      ]
     },
     "execution_count": 59,
     "metadata": {},
     "output_type": "execute_result"
    }
   ],
   "source": [
    "df.shape"
   ]
  },
  {
   "cell_type": "code",
   "execution_count": 60,
   "id": "4d90dbbb",
   "metadata": {},
   "outputs": [
    {
     "data": {
      "text/html": [
       "<div>\n",
       "<style scoped>\n",
       "    .dataframe tbody tr th:only-of-type {\n",
       "        vertical-align: middle;\n",
       "    }\n",
       "\n",
       "    .dataframe tbody tr th {\n",
       "        vertical-align: top;\n",
       "    }\n",
       "\n",
       "    .dataframe thead th {\n",
       "        text-align: right;\n",
       "    }\n",
       "</style>\n",
       "<table border=\"1\" class=\"dataframe\">\n",
       "  <thead>\n",
       "    <tr style=\"text-align: right;\">\n",
       "      <th></th>\n",
       "      <th>loan_amnt</th>\n",
       "      <th>funded_amnt</th>\n",
       "      <th>funded_amnt_inv</th>\n",
       "      <th>term</th>\n",
       "      <th>int_rate</th>\n",
       "      <th>installment</th>\n",
       "      <th>grade</th>\n",
       "      <th>home_ownership</th>\n",
       "      <th>annual_inc</th>\n",
       "      <th>verification_status</th>\n",
       "      <th>loan_status</th>\n",
       "      <th>pymnt_plan</th>\n",
       "      <th>purpose</th>\n",
       "      <th>addr_state</th>\n",
       "      <th>dti</th>\n",
       "      <th>delinq_2yrs</th>\n",
       "      <th>inq_last_6mths</th>\n",
       "      <th>open_acc</th>\n",
       "      <th>pub_rec</th>\n",
       "      <th>revol_bal</th>\n",
       "      <th>revol_util</th>\n",
       "      <th>total_acc</th>\n",
       "      <th>acc_now_delinq</th>\n",
       "      <th>tot_cur_bal</th>\n",
       "      <th>total_rev_hi_lim</th>\n",
       "      <th>loan_type</th>\n",
       "    </tr>\n",
       "  </thead>\n",
       "  <tbody>\n",
       "    <tr>\n",
       "      <th>0</th>\n",
       "      <td>5000</td>\n",
       "      <td>5000</td>\n",
       "      <td>4975.0</td>\n",
       "      <td>36</td>\n",
       "      <td>10.65</td>\n",
       "      <td>162.87</td>\n",
       "      <td>5.0</td>\n",
       "      <td>RENT</td>\n",
       "      <td>24000.0</td>\n",
       "      <td>Verified</td>\n",
       "      <td>Fully Paid</td>\n",
       "      <td>n</td>\n",
       "      <td>credit_card</td>\n",
       "      <td>AZ</td>\n",
       "      <td>27.65</td>\n",
       "      <td>0.0</td>\n",
       "      <td>1.0</td>\n",
       "      <td>3.0</td>\n",
       "      <td>0.0</td>\n",
       "      <td>13648.0</td>\n",
       "      <td>83.7</td>\n",
       "      <td>9.0</td>\n",
       "      <td>0.0</td>\n",
       "      <td>78975.5</td>\n",
       "      <td>22100.0</td>\n",
       "      <td>1</td>\n",
       "    </tr>\n",
       "  </tbody>\n",
       "</table>\n",
       "</div>"
      ],
      "text/plain": [
       "   loan_amnt  funded_amnt  funded_amnt_inv  term  int_rate  installment  \\\n",
       "0       5000         5000           4975.0    36     10.65       162.87   \n",
       "\n",
       "   grade home_ownership  annual_inc verification_status loan_status  \\\n",
       "0    5.0           RENT     24000.0            Verified  Fully Paid   \n",
       "\n",
       "  pymnt_plan      purpose addr_state    dti  delinq_2yrs  inq_last_6mths  \\\n",
       "0          n  credit_card         AZ  27.65          0.0             1.0   \n",
       "\n",
       "   open_acc  pub_rec  revol_bal  revol_util  total_acc  acc_now_delinq  \\\n",
       "0       3.0      0.0    13648.0        83.7        9.0             0.0   \n",
       "\n",
       "   tot_cur_bal  total_rev_hi_lim  loan_type  \n",
       "0      78975.5           22100.0          1  "
      ]
     },
     "execution_count": 60,
     "metadata": {},
     "output_type": "execute_result"
    }
   ],
   "source": [
    "df.head(1)"
   ]
  },
  {
   "cell_type": "code",
   "execution_count": 61,
   "id": "0f90d446",
   "metadata": {},
   "outputs": [],
   "source": [
    "X = df.drop(columns = ['loan_status','loan_type'], axis = 1)"
   ]
  },
  {
   "cell_type": "code",
   "execution_count": 62,
   "id": "2c20923b",
   "metadata": {},
   "outputs": [],
   "source": [
    "y = df.loan_type"
   ]
  },
  {
   "cell_type": "code",
   "execution_count": 63,
   "id": "ab494b48",
   "metadata": {},
   "outputs": [],
   "source": [
    "# drop the different value in target - current and issued.."
   ]
  },
  {
   "cell_type": "code",
   "execution_count": 64,
   "id": "835edfd2",
   "metadata": {},
   "outputs": [],
   "source": [
    "X_train, X_test, y_train, y_test = train_test_split(X, y, test_size=0.3, random_state=42)"
   ]
  },
  {
   "cell_type": "code",
   "execution_count": 65,
   "id": "9aa80f20",
   "metadata": {},
   "outputs": [
    {
     "data": {
      "text/plain": [
       "(187484, 24)"
      ]
     },
     "execution_count": 65,
     "metadata": {},
     "output_type": "execute_result"
    }
   ],
   "source": [
    "X_train.shape"
   ]
  },
  {
   "cell_type": "code",
   "execution_count": 66,
   "id": "b958f736",
   "metadata": {},
   "outputs": [
    {
     "data": {
      "text/plain": [
       "(80351, 24)"
      ]
     },
     "execution_count": 66,
     "metadata": {},
     "output_type": "execute_result"
    }
   ],
   "source": [
    "X_test.shape"
   ]
  },
  {
   "cell_type": "code",
   "execution_count": 67,
   "id": "cbee5f86",
   "metadata": {},
   "outputs": [],
   "source": [
    "numerical_cols = X_train.select_dtypes(include=['int64', 'float64']).columns\n",
    "categorical_cols = X_train.select_dtypes(include=['object', 'bool', 'category']).columns"
   ]
  },
  {
   "cell_type": "code",
   "execution_count": 68,
   "id": "031a157a",
   "metadata": {},
   "outputs": [
    {
     "data": {
      "text/plain": [
       "Index(['loan_amnt', 'funded_amnt', 'funded_amnt_inv', 'term', 'int_rate',\n",
       "       'installment', 'grade', 'annual_inc', 'dti', 'delinq_2yrs',\n",
       "       'inq_last_6mths', 'open_acc', 'pub_rec', 'revol_bal', 'revol_util',\n",
       "       'total_acc', 'acc_now_delinq', 'tot_cur_bal', 'total_rev_hi_lim'],\n",
       "      dtype='object')"
      ]
     },
     "execution_count": 68,
     "metadata": {},
     "output_type": "execute_result"
    }
   ],
   "source": [
    "numerical_cols"
   ]
  },
  {
   "cell_type": "code",
   "execution_count": 69,
   "id": "b9ee0294",
   "metadata": {},
   "outputs": [
    {
     "data": {
      "text/plain": [
       "Index(['home_ownership', 'verification_status', 'pymnt_plan', 'purpose',\n",
       "       'addr_state'],\n",
       "      dtype='object')"
      ]
     },
     "execution_count": 69,
     "metadata": {},
     "output_type": "execute_result"
    }
   ],
   "source": [
    "categorical_cols"
   ]
  },
  {
   "cell_type": "markdown",
   "id": "134c765d",
   "metadata": {},
   "source": [
    "## Feature Selection Strategies"
   ]
  },
  {
   "cell_type": "markdown",
   "id": "3dc48a47",
   "metadata": {},
   "source": [
    "**Setting up ColumnTransformer**"
   ]
  },
  {
   "cell_type": "code",
   "execution_count": 70,
   "id": "7fd3e5a4",
   "metadata": {},
   "outputs": [],
   "source": [
    "from sklearn.compose import ColumnTransformer\n",
    "from sklearn.pipeline import Pipeline\n",
    "from sklearn.preprocessing import OneHotEncoder, StandardScaler\n",
    "\n",
    "numerical_transformer = Pipeline(steps=[\n",
    "    #('imputer', SimpleImputer(strategy='mean')),  # Imputing with the mean\n",
    "    ('scaler', StandardScaler())  # Scaling the data\n",
    "])\n",
    "\n",
    "categorical_transformer = Pipeline(steps=[\n",
    "    #('imputer', SimpleImputer(strategy=\"constant\", fill_value=\"unknown\")), \n",
    "    ('onehot', OneHotEncoder(handle_unknown='ignore', sparse_output=False))  # One-hot encoding\n",
    "])"
   ]
  },
  {
   "cell_type": "code",
   "execution_count": 71,
   "id": "04e6ae63",
   "metadata": {},
   "outputs": [],
   "source": [
    "preprocessor = ColumnTransformer(\n",
    "    transformers=[\n",
    "        ('num', StandardScaler(), numerical_cols),  # Scale numerical features\n",
    "        ('cat', OneHotEncoder(handle_unknown='ignore', sparse_output=False), categorical_cols)\n",
    "    ],\n",
    "    remainder='passthrough'  # Leave remaining columns untouched\n",
    ")"
   ]
  },
  {
   "cell_type": "markdown",
   "id": "49d193ac",
   "metadata": {},
   "source": [
    "**Select From Model and Check Logistic Regression**"
   ]
  },
  {
   "cell_type": "code",
   "execution_count": 72,
   "id": "5b5e9d40",
   "metadata": {},
   "outputs": [
    {
     "data": {
      "text/html": [
       "<style>#sk-container-id-1 {color: black;}#sk-container-id-1 pre{padding: 0;}#sk-container-id-1 div.sk-toggleable {background-color: white;}#sk-container-id-1 label.sk-toggleable__label {cursor: pointer;display: block;width: 100%;margin-bottom: 0;padding: 0.3em;box-sizing: border-box;text-align: center;}#sk-container-id-1 label.sk-toggleable__label-arrow:before {content: \"▸\";float: left;margin-right: 0.25em;color: #696969;}#sk-container-id-1 label.sk-toggleable__label-arrow:hover:before {color: black;}#sk-container-id-1 div.sk-estimator:hover label.sk-toggleable__label-arrow:before {color: black;}#sk-container-id-1 div.sk-toggleable__content {max-height: 0;max-width: 0;overflow: hidden;text-align: left;background-color: #f0f8ff;}#sk-container-id-1 div.sk-toggleable__content pre {margin: 0.2em;color: black;border-radius: 0.25em;background-color: #f0f8ff;}#sk-container-id-1 input.sk-toggleable__control:checked~div.sk-toggleable__content {max-height: 200px;max-width: 100%;overflow: auto;}#sk-container-id-1 input.sk-toggleable__control:checked~label.sk-toggleable__label-arrow:before {content: \"▾\";}#sk-container-id-1 div.sk-estimator input.sk-toggleable__control:checked~label.sk-toggleable__label {background-color: #d4ebff;}#sk-container-id-1 div.sk-label input.sk-toggleable__control:checked~label.sk-toggleable__label {background-color: #d4ebff;}#sk-container-id-1 input.sk-hidden--visually {border: 0;clip: rect(1px 1px 1px 1px);clip: rect(1px, 1px, 1px, 1px);height: 1px;margin: -1px;overflow: hidden;padding: 0;position: absolute;width: 1px;}#sk-container-id-1 div.sk-estimator {font-family: monospace;background-color: #f0f8ff;border: 1px dotted black;border-radius: 0.25em;box-sizing: border-box;margin-bottom: 0.5em;}#sk-container-id-1 div.sk-estimator:hover {background-color: #d4ebff;}#sk-container-id-1 div.sk-parallel-item::after {content: \"\";width: 100%;border-bottom: 1px solid gray;flex-grow: 1;}#sk-container-id-1 div.sk-label:hover label.sk-toggleable__label {background-color: #d4ebff;}#sk-container-id-1 div.sk-serial::before {content: \"\";position: absolute;border-left: 1px solid gray;box-sizing: border-box;top: 0;bottom: 0;left: 50%;z-index: 0;}#sk-container-id-1 div.sk-serial {display: flex;flex-direction: column;align-items: center;background-color: white;padding-right: 0.2em;padding-left: 0.2em;position: relative;}#sk-container-id-1 div.sk-item {position: relative;z-index: 1;}#sk-container-id-1 div.sk-parallel {display: flex;align-items: stretch;justify-content: center;background-color: white;position: relative;}#sk-container-id-1 div.sk-item::before, #sk-container-id-1 div.sk-parallel-item::before {content: \"\";position: absolute;border-left: 1px solid gray;box-sizing: border-box;top: 0;bottom: 0;left: 50%;z-index: -1;}#sk-container-id-1 div.sk-parallel-item {display: flex;flex-direction: column;z-index: 1;position: relative;background-color: white;}#sk-container-id-1 div.sk-parallel-item:first-child::after {align-self: flex-end;width: 50%;}#sk-container-id-1 div.sk-parallel-item:last-child::after {align-self: flex-start;width: 50%;}#sk-container-id-1 div.sk-parallel-item:only-child::after {width: 0;}#sk-container-id-1 div.sk-dashed-wrapped {border: 1px dashed gray;margin: 0 0.4em 0.5em 0.4em;box-sizing: border-box;padding-bottom: 0.4em;background-color: white;}#sk-container-id-1 div.sk-label label {font-family: monospace;font-weight: bold;display: inline-block;line-height: 1.2em;}#sk-container-id-1 div.sk-label-container {text-align: center;}#sk-container-id-1 div.sk-container {/* jupyter's `normalize.less` sets `[hidden] { display: none; }` but bootstrap.min.css set `[hidden] { display: none !important; }` so we also need the `!important` here to be able to override the default hidden behavior on the sphinx rendered scikit-learn.org. See: https://github.com/scikit-learn/scikit-learn/issues/21755 */display: inline-block !important;position: relative;}#sk-container-id-1 div.sk-text-repr-fallback {display: none;}</style><div id=\"sk-container-id-1\" class=\"sk-top-container\"><div class=\"sk-text-repr-fallback\"><pre>Pipeline(steps=[(&#x27;preprocessor&#x27;,\n",
       "                 ColumnTransformer(remainder=&#x27;passthrough&#x27;,\n",
       "                                   transformers=[(&#x27;num&#x27;, StandardScaler(),\n",
       "                                                  Index([&#x27;loan_amnt&#x27;, &#x27;funded_amnt&#x27;, &#x27;funded_amnt_inv&#x27;, &#x27;term&#x27;, &#x27;int_rate&#x27;,\n",
       "       &#x27;installment&#x27;, &#x27;grade&#x27;, &#x27;annual_inc&#x27;, &#x27;dti&#x27;, &#x27;delinq_2yrs&#x27;,\n",
       "       &#x27;inq_last_6mths&#x27;, &#x27;open_acc&#x27;, &#x27;pub_rec&#x27;, &#x27;revol_bal&#x27;, &#x27;revol_util&#x27;,\n",
       "       &#x27;total_acc&#x27;, &#x27;acc_now_delinq&#x27;, &#x27;tot_cur_bal&#x27;, &#x27;total_r...i_lim&#x27;],\n",
       "      dtype=&#x27;object&#x27;)),\n",
       "                                                 (&#x27;cat&#x27;,\n",
       "                                                  OneHotEncoder(handle_unknown=&#x27;ignore&#x27;,\n",
       "                                                                sparse_output=False),\n",
       "                                                  Index([&#x27;home_ownership&#x27;, &#x27;verification_status&#x27;, &#x27;pymnt_plan&#x27;, &#x27;purpose&#x27;,\n",
       "       &#x27;addr_state&#x27;],\n",
       "      dtype=&#x27;object&#x27;))])),\n",
       "                (&#x27;feature_selection&#x27;,\n",
       "                 SelectFromModel(estimator=RandomForestClassifier(random_state=42),\n",
       "                                 threshold=&#x27;median&#x27;)),\n",
       "                (&#x27;log_reg&#x27;, LogisticRegression(max_iter=10000))])</pre><b>In a Jupyter environment, please rerun this cell to show the HTML representation or trust the notebook. <br />On GitHub, the HTML representation is unable to render, please try loading this page with nbviewer.org.</b></div><div class=\"sk-container\" hidden><div class=\"sk-item sk-dashed-wrapped\"><div class=\"sk-label-container\"><div class=\"sk-label sk-toggleable\"><input class=\"sk-toggleable__control sk-hidden--visually\" id=\"sk-estimator-id-1\" type=\"checkbox\" ><label for=\"sk-estimator-id-1\" class=\"sk-toggleable__label sk-toggleable__label-arrow\">Pipeline</label><div class=\"sk-toggleable__content\"><pre>Pipeline(steps=[(&#x27;preprocessor&#x27;,\n",
       "                 ColumnTransformer(remainder=&#x27;passthrough&#x27;,\n",
       "                                   transformers=[(&#x27;num&#x27;, StandardScaler(),\n",
       "                                                  Index([&#x27;loan_amnt&#x27;, &#x27;funded_amnt&#x27;, &#x27;funded_amnt_inv&#x27;, &#x27;term&#x27;, &#x27;int_rate&#x27;,\n",
       "       &#x27;installment&#x27;, &#x27;grade&#x27;, &#x27;annual_inc&#x27;, &#x27;dti&#x27;, &#x27;delinq_2yrs&#x27;,\n",
       "       &#x27;inq_last_6mths&#x27;, &#x27;open_acc&#x27;, &#x27;pub_rec&#x27;, &#x27;revol_bal&#x27;, &#x27;revol_util&#x27;,\n",
       "       &#x27;total_acc&#x27;, &#x27;acc_now_delinq&#x27;, &#x27;tot_cur_bal&#x27;, &#x27;total_r...i_lim&#x27;],\n",
       "      dtype=&#x27;object&#x27;)),\n",
       "                                                 (&#x27;cat&#x27;,\n",
       "                                                  OneHotEncoder(handle_unknown=&#x27;ignore&#x27;,\n",
       "                                                                sparse_output=False),\n",
       "                                                  Index([&#x27;home_ownership&#x27;, &#x27;verification_status&#x27;, &#x27;pymnt_plan&#x27;, &#x27;purpose&#x27;,\n",
       "       &#x27;addr_state&#x27;],\n",
       "      dtype=&#x27;object&#x27;))])),\n",
       "                (&#x27;feature_selection&#x27;,\n",
       "                 SelectFromModel(estimator=RandomForestClassifier(random_state=42),\n",
       "                                 threshold=&#x27;median&#x27;)),\n",
       "                (&#x27;log_reg&#x27;, LogisticRegression(max_iter=10000))])</pre></div></div></div><div class=\"sk-serial\"><div class=\"sk-item sk-dashed-wrapped\"><div class=\"sk-label-container\"><div class=\"sk-label sk-toggleable\"><input class=\"sk-toggleable__control sk-hidden--visually\" id=\"sk-estimator-id-2\" type=\"checkbox\" ><label for=\"sk-estimator-id-2\" class=\"sk-toggleable__label sk-toggleable__label-arrow\">preprocessor: ColumnTransformer</label><div class=\"sk-toggleable__content\"><pre>ColumnTransformer(remainder=&#x27;passthrough&#x27;,\n",
       "                  transformers=[(&#x27;num&#x27;, StandardScaler(),\n",
       "                                 Index([&#x27;loan_amnt&#x27;, &#x27;funded_amnt&#x27;, &#x27;funded_amnt_inv&#x27;, &#x27;term&#x27;, &#x27;int_rate&#x27;,\n",
       "       &#x27;installment&#x27;, &#x27;grade&#x27;, &#x27;annual_inc&#x27;, &#x27;dti&#x27;, &#x27;delinq_2yrs&#x27;,\n",
       "       &#x27;inq_last_6mths&#x27;, &#x27;open_acc&#x27;, &#x27;pub_rec&#x27;, &#x27;revol_bal&#x27;, &#x27;revol_util&#x27;,\n",
       "       &#x27;total_acc&#x27;, &#x27;acc_now_delinq&#x27;, &#x27;tot_cur_bal&#x27;, &#x27;total_rev_hi_lim&#x27;],\n",
       "      dtype=&#x27;object&#x27;)),\n",
       "                                (&#x27;cat&#x27;,\n",
       "                                 OneHotEncoder(handle_unknown=&#x27;ignore&#x27;,\n",
       "                                               sparse_output=False),\n",
       "                                 Index([&#x27;home_ownership&#x27;, &#x27;verification_status&#x27;, &#x27;pymnt_plan&#x27;, &#x27;purpose&#x27;,\n",
       "       &#x27;addr_state&#x27;],\n",
       "      dtype=&#x27;object&#x27;))])</pre></div></div></div><div class=\"sk-parallel\"><div class=\"sk-parallel-item\"><div class=\"sk-item\"><div class=\"sk-label-container\"><div class=\"sk-label sk-toggleable\"><input class=\"sk-toggleable__control sk-hidden--visually\" id=\"sk-estimator-id-3\" type=\"checkbox\" ><label for=\"sk-estimator-id-3\" class=\"sk-toggleable__label sk-toggleable__label-arrow\">num</label><div class=\"sk-toggleable__content\"><pre>Index([&#x27;loan_amnt&#x27;, &#x27;funded_amnt&#x27;, &#x27;funded_amnt_inv&#x27;, &#x27;term&#x27;, &#x27;int_rate&#x27;,\n",
       "       &#x27;installment&#x27;, &#x27;grade&#x27;, &#x27;annual_inc&#x27;, &#x27;dti&#x27;, &#x27;delinq_2yrs&#x27;,\n",
       "       &#x27;inq_last_6mths&#x27;, &#x27;open_acc&#x27;, &#x27;pub_rec&#x27;, &#x27;revol_bal&#x27;, &#x27;revol_util&#x27;,\n",
       "       &#x27;total_acc&#x27;, &#x27;acc_now_delinq&#x27;, &#x27;tot_cur_bal&#x27;, &#x27;total_rev_hi_lim&#x27;],\n",
       "      dtype=&#x27;object&#x27;)</pre></div></div></div><div class=\"sk-serial\"><div class=\"sk-item\"><div class=\"sk-estimator sk-toggleable\"><input class=\"sk-toggleable__control sk-hidden--visually\" id=\"sk-estimator-id-4\" type=\"checkbox\" ><label for=\"sk-estimator-id-4\" class=\"sk-toggleable__label sk-toggleable__label-arrow\">StandardScaler</label><div class=\"sk-toggleable__content\"><pre>StandardScaler()</pre></div></div></div></div></div></div><div class=\"sk-parallel-item\"><div class=\"sk-item\"><div class=\"sk-label-container\"><div class=\"sk-label sk-toggleable\"><input class=\"sk-toggleable__control sk-hidden--visually\" id=\"sk-estimator-id-5\" type=\"checkbox\" ><label for=\"sk-estimator-id-5\" class=\"sk-toggleable__label sk-toggleable__label-arrow\">cat</label><div class=\"sk-toggleable__content\"><pre>Index([&#x27;home_ownership&#x27;, &#x27;verification_status&#x27;, &#x27;pymnt_plan&#x27;, &#x27;purpose&#x27;,\n",
       "       &#x27;addr_state&#x27;],\n",
       "      dtype=&#x27;object&#x27;)</pre></div></div></div><div class=\"sk-serial\"><div class=\"sk-item\"><div class=\"sk-estimator sk-toggleable\"><input class=\"sk-toggleable__control sk-hidden--visually\" id=\"sk-estimator-id-6\" type=\"checkbox\" ><label for=\"sk-estimator-id-6\" class=\"sk-toggleable__label sk-toggleable__label-arrow\">OneHotEncoder</label><div class=\"sk-toggleable__content\"><pre>OneHotEncoder(handle_unknown=&#x27;ignore&#x27;, sparse_output=False)</pre></div></div></div></div></div></div><div class=\"sk-parallel-item\"><div class=\"sk-item\"><div class=\"sk-label-container\"><div class=\"sk-label sk-toggleable\"><input class=\"sk-toggleable__control sk-hidden--visually\" id=\"sk-estimator-id-7\" type=\"checkbox\" ><label for=\"sk-estimator-id-7\" class=\"sk-toggleable__label sk-toggleable__label-arrow\">remainder</label><div class=\"sk-toggleable__content\"><pre>[]</pre></div></div></div><div class=\"sk-serial\"><div class=\"sk-item\"><div class=\"sk-estimator sk-toggleable\"><input class=\"sk-toggleable__control sk-hidden--visually\" id=\"sk-estimator-id-8\" type=\"checkbox\" ><label for=\"sk-estimator-id-8\" class=\"sk-toggleable__label sk-toggleable__label-arrow\">passthrough</label><div class=\"sk-toggleable__content\"><pre>passthrough</pre></div></div></div></div></div></div></div></div><div class=\"sk-item sk-dashed-wrapped\"><div class=\"sk-label-container\"><div class=\"sk-label sk-toggleable\"><input class=\"sk-toggleable__control sk-hidden--visually\" id=\"sk-estimator-id-9\" type=\"checkbox\" ><label for=\"sk-estimator-id-9\" class=\"sk-toggleable__label sk-toggleable__label-arrow\">feature_selection: SelectFromModel</label><div class=\"sk-toggleable__content\"><pre>SelectFromModel(estimator=RandomForestClassifier(random_state=42),\n",
       "                threshold=&#x27;median&#x27;)</pre></div></div></div><div class=\"sk-parallel\"><div class=\"sk-parallel-item\"><div class=\"sk-item\"><div class=\"sk-label-container\"><div class=\"sk-label sk-toggleable\"><input class=\"sk-toggleable__control sk-hidden--visually\" id=\"sk-estimator-id-10\" type=\"checkbox\" ><label for=\"sk-estimator-id-10\" class=\"sk-toggleable__label sk-toggleable__label-arrow\">estimator: RandomForestClassifier</label><div class=\"sk-toggleable__content\"><pre>RandomForestClassifier(random_state=42)</pre></div></div></div><div class=\"sk-serial\"><div class=\"sk-item\"><div class=\"sk-estimator sk-toggleable\"><input class=\"sk-toggleable__control sk-hidden--visually\" id=\"sk-estimator-id-11\" type=\"checkbox\" ><label for=\"sk-estimator-id-11\" class=\"sk-toggleable__label sk-toggleable__label-arrow\">RandomForestClassifier</label><div class=\"sk-toggleable__content\"><pre>RandomForestClassifier(random_state=42)</pre></div></div></div></div></div></div></div></div><div class=\"sk-item\"><div class=\"sk-estimator sk-toggleable\"><input class=\"sk-toggleable__control sk-hidden--visually\" id=\"sk-estimator-id-12\" type=\"checkbox\" ><label for=\"sk-estimator-id-12\" class=\"sk-toggleable__label sk-toggleable__label-arrow\">LogisticRegression</label><div class=\"sk-toggleable__content\"><pre>LogisticRegression(max_iter=10000)</pre></div></div></div></div></div></div></div>"
      ],
      "text/plain": [
       "Pipeline(steps=[('preprocessor',\n",
       "                 ColumnTransformer(remainder='passthrough',\n",
       "                                   transformers=[('num', StandardScaler(),\n",
       "                                                  Index(['loan_amnt', 'funded_amnt', 'funded_amnt_inv', 'term', 'int_rate',\n",
       "       'installment', 'grade', 'annual_inc', 'dti', 'delinq_2yrs',\n",
       "       'inq_last_6mths', 'open_acc', 'pub_rec', 'revol_bal', 'revol_util',\n",
       "       'total_acc', 'acc_now_delinq', 'tot_cur_bal', 'total_r...i_lim'],\n",
       "      dtype='object')),\n",
       "                                                 ('cat',\n",
       "                                                  OneHotEncoder(handle_unknown='ignore',\n",
       "                                                                sparse_output=False),\n",
       "                                                  Index(['home_ownership', 'verification_status', 'pymnt_plan', 'purpose',\n",
       "       'addr_state'],\n",
       "      dtype='object'))])),\n",
       "                ('feature_selection',\n",
       "                 SelectFromModel(estimator=RandomForestClassifier(random_state=42),\n",
       "                                 threshold='median')),\n",
       "                ('log_reg', LogisticRegression(max_iter=10000))])"
      ]
     },
     "execution_count": 72,
     "metadata": {},
     "output_type": "execute_result"
    }
   ],
   "source": [
    "from sklearn.feature_selection import SelectFromModel\n",
    "from sklearn.ensemble import RandomForestClassifier\n",
    "\n",
    "#build SelectFromModel here\n",
    "select = SelectFromModel(RandomForestClassifier(n_estimators = 100, random_state = 42), threshold = 'median')\n",
    "\n",
    "# Create a pipeline with preprocessing and the logistic regression model\n",
    "model_pipeline = Pipeline(steps=[\n",
    "    ('preprocessor', preprocessor),\n",
    "    ('feature_selection', select),\n",
    "    ('log_reg',LogisticRegression(max_iter=10000))\n",
    "])\n",
    "\n",
    "model_pipeline.fit(X_train, y_train)"
   ]
  },
  {
   "cell_type": "code",
   "execution_count": 73,
   "id": "c8d6fd95",
   "metadata": {},
   "outputs": [
    {
     "name": "stdout",
     "output_type": "stream",
     "text": [
      "Selected Features: ['num__loan_amnt' 'num__funded_amnt' 'num__funded_amnt_inv' 'num__term'\n",
      " 'num__int_rate' 'num__installment' 'num__grade' 'num__annual_inc'\n",
      " 'num__dti' 'num__delinq_2yrs' 'num__inq_last_6mths' 'num__open_acc'\n",
      " 'num__pub_rec' 'num__revol_bal' 'num__revol_util' 'num__total_acc'\n",
      " 'num__tot_cur_bal' 'num__total_rev_hi_lim' 'cat__home_ownership_MORTGAGE'\n",
      " 'cat__home_ownership_OWN' 'cat__home_ownership_RENT'\n",
      " 'cat__verification_status_Not Verified'\n",
      " 'cat__verification_status_Source Verified'\n",
      " 'cat__verification_status_Verified' 'cat__purpose_credit_card'\n",
      " 'cat__purpose_debt_consolidation' 'cat__purpose_home_improvement'\n",
      " 'cat__purpose_other' 'cat__purpose_small_business' 'cat__addr_state_AZ'\n",
      " 'cat__addr_state_CA' 'cat__addr_state_CO' 'cat__addr_state_FL'\n",
      " 'cat__addr_state_GA' 'cat__addr_state_IL' 'cat__addr_state_MA'\n",
      " 'cat__addr_state_MD' 'cat__addr_state_MI' 'cat__addr_state_NC'\n",
      " 'cat__addr_state_NJ' 'cat__addr_state_NV' 'cat__addr_state_NY'\n",
      " 'cat__addr_state_OH' 'cat__addr_state_PA' 'cat__addr_state_TX'\n",
      " 'cat__addr_state_VA' 'cat__addr_state_WA']\n"
     ]
    }
   ],
   "source": [
    "support_mask = model_pipeline.named_steps['feature_selection'].get_support()\n",
    "# Transform a single row to get the feature names after preprocessing\n",
    "X_transformed = model_pipeline.named_steps['preprocessor'].transform(X_train[:1])\n",
    "\n",
    "# If your preprocessor supports `get_feature_names_out()`\n",
    "feature_names = model_pipeline.named_steps['preprocessor'].get_feature_names_out()\n",
    "\n",
    "# Apply the mask to these names\n",
    "selected_features = feature_names[support_mask]\n",
    "print(\"Selected Features:\", selected_features)"
   ]
  },
  {
   "cell_type": "code",
   "execution_count": 74,
   "id": "211e0043",
   "metadata": {},
   "outputs": [
    {
     "name": "stdout",
     "output_type": "stream",
     "text": [
      "Selected Features form Random Forest Model Selection:\n"
     ]
    },
    {
     "data": {
      "text/plain": [
       "47"
      ]
     },
     "execution_count": 74,
     "metadata": {},
     "output_type": "execute_result"
    }
   ],
   "source": [
    "print(\"Selected Features form Random Forest Model Selection:\")\n",
    "len(selected_features)"
   ]
  },
  {
   "cell_type": "markdown",
   "id": "ea7bf4ce",
   "metadata": {},
   "source": [
    "Checking score to ensure if we have good feature selection."
   ]
  },
  {
   "cell_type": "code",
   "execution_count": 75,
   "id": "46413556",
   "metadata": {},
   "outputs": [],
   "source": [
    "# Predict probabilities for the positive class\n",
    "y_prob = model_pipeline.predict_proba(X_test)[:, 1]"
   ]
  },
  {
   "cell_type": "code",
   "execution_count": 76,
   "id": "b5e19ec4",
   "metadata": {},
   "outputs": [
    {
     "name": "stdout",
     "output_type": "stream",
     "text": [
      "AUC Score RF selection: 0.7031086646778804\n"
     ]
    }
   ],
   "source": [
    "auc_score = roc_auc_score(y_test, y_prob)\n",
    "print(f\"AUC Score RF selection: {auc_score}\")"
   ]
  },
  {
   "cell_type": "markdown",
   "id": "581c7376",
   "metadata": {},
   "source": [
    "**Lasso Feature Selection** "
   ]
  },
  {
   "cell_type": "code",
   "execution_count": 77,
   "id": "4ecec653",
   "metadata": {},
   "outputs": [],
   "source": [
    "from sklearn.linear_model import LogisticRegression\n",
    "\n",
    "# Define the logistic regression model with the specified parameters\n",
    "logistic_regression_l1 = LogisticRegression(\n",
    "    penalty='l1',\n",
    "    tol=0.0005,\n",
    "    C=0.1,\n",
    "    solver='saga',\n",
    "    max_iter=10000,\n",
    "    random_state=100\n",
    ")\n",
    "\n",
    "# Create a pipeline with preprocessing and the logistic regression model\n",
    "lasso_pipeline = Pipeline(steps=[\n",
    "    ('preprocessor', preprocessor),\n",
    "    ('classifier', logistic_regression_l1)\n",
    "])"
   ]
  },
  {
   "cell_type": "code",
   "execution_count": 78,
   "id": "e0a1f9d7",
   "metadata": {},
   "outputs": [
    {
     "data": {
      "text/html": [
       "<style>#sk-container-id-2 {color: black;}#sk-container-id-2 pre{padding: 0;}#sk-container-id-2 div.sk-toggleable {background-color: white;}#sk-container-id-2 label.sk-toggleable__label {cursor: pointer;display: block;width: 100%;margin-bottom: 0;padding: 0.3em;box-sizing: border-box;text-align: center;}#sk-container-id-2 label.sk-toggleable__label-arrow:before {content: \"▸\";float: left;margin-right: 0.25em;color: #696969;}#sk-container-id-2 label.sk-toggleable__label-arrow:hover:before {color: black;}#sk-container-id-2 div.sk-estimator:hover label.sk-toggleable__label-arrow:before {color: black;}#sk-container-id-2 div.sk-toggleable__content {max-height: 0;max-width: 0;overflow: hidden;text-align: left;background-color: #f0f8ff;}#sk-container-id-2 div.sk-toggleable__content pre {margin: 0.2em;color: black;border-radius: 0.25em;background-color: #f0f8ff;}#sk-container-id-2 input.sk-toggleable__control:checked~div.sk-toggleable__content {max-height: 200px;max-width: 100%;overflow: auto;}#sk-container-id-2 input.sk-toggleable__control:checked~label.sk-toggleable__label-arrow:before {content: \"▾\";}#sk-container-id-2 div.sk-estimator input.sk-toggleable__control:checked~label.sk-toggleable__label {background-color: #d4ebff;}#sk-container-id-2 div.sk-label input.sk-toggleable__control:checked~label.sk-toggleable__label {background-color: #d4ebff;}#sk-container-id-2 input.sk-hidden--visually {border: 0;clip: rect(1px 1px 1px 1px);clip: rect(1px, 1px, 1px, 1px);height: 1px;margin: -1px;overflow: hidden;padding: 0;position: absolute;width: 1px;}#sk-container-id-2 div.sk-estimator {font-family: monospace;background-color: #f0f8ff;border: 1px dotted black;border-radius: 0.25em;box-sizing: border-box;margin-bottom: 0.5em;}#sk-container-id-2 div.sk-estimator:hover {background-color: #d4ebff;}#sk-container-id-2 div.sk-parallel-item::after {content: \"\";width: 100%;border-bottom: 1px solid gray;flex-grow: 1;}#sk-container-id-2 div.sk-label:hover label.sk-toggleable__label {background-color: #d4ebff;}#sk-container-id-2 div.sk-serial::before {content: \"\";position: absolute;border-left: 1px solid gray;box-sizing: border-box;top: 0;bottom: 0;left: 50%;z-index: 0;}#sk-container-id-2 div.sk-serial {display: flex;flex-direction: column;align-items: center;background-color: white;padding-right: 0.2em;padding-left: 0.2em;position: relative;}#sk-container-id-2 div.sk-item {position: relative;z-index: 1;}#sk-container-id-2 div.sk-parallel {display: flex;align-items: stretch;justify-content: center;background-color: white;position: relative;}#sk-container-id-2 div.sk-item::before, #sk-container-id-2 div.sk-parallel-item::before {content: \"\";position: absolute;border-left: 1px solid gray;box-sizing: border-box;top: 0;bottom: 0;left: 50%;z-index: -1;}#sk-container-id-2 div.sk-parallel-item {display: flex;flex-direction: column;z-index: 1;position: relative;background-color: white;}#sk-container-id-2 div.sk-parallel-item:first-child::after {align-self: flex-end;width: 50%;}#sk-container-id-2 div.sk-parallel-item:last-child::after {align-self: flex-start;width: 50%;}#sk-container-id-2 div.sk-parallel-item:only-child::after {width: 0;}#sk-container-id-2 div.sk-dashed-wrapped {border: 1px dashed gray;margin: 0 0.4em 0.5em 0.4em;box-sizing: border-box;padding-bottom: 0.4em;background-color: white;}#sk-container-id-2 div.sk-label label {font-family: monospace;font-weight: bold;display: inline-block;line-height: 1.2em;}#sk-container-id-2 div.sk-label-container {text-align: center;}#sk-container-id-2 div.sk-container {/* jupyter's `normalize.less` sets `[hidden] { display: none; }` but bootstrap.min.css set `[hidden] { display: none !important; }` so we also need the `!important` here to be able to override the default hidden behavior on the sphinx rendered scikit-learn.org. See: https://github.com/scikit-learn/scikit-learn/issues/21755 */display: inline-block !important;position: relative;}#sk-container-id-2 div.sk-text-repr-fallback {display: none;}</style><div id=\"sk-container-id-2\" class=\"sk-top-container\"><div class=\"sk-text-repr-fallback\"><pre>Pipeline(steps=[(&#x27;preprocessor&#x27;,\n",
       "                 ColumnTransformer(remainder=&#x27;passthrough&#x27;,\n",
       "                                   transformers=[(&#x27;num&#x27;, StandardScaler(),\n",
       "                                                  Index([&#x27;loan_amnt&#x27;, &#x27;funded_amnt&#x27;, &#x27;funded_amnt_inv&#x27;, &#x27;term&#x27;, &#x27;int_rate&#x27;,\n",
       "       &#x27;installment&#x27;, &#x27;grade&#x27;, &#x27;annual_inc&#x27;, &#x27;dti&#x27;, &#x27;delinq_2yrs&#x27;,\n",
       "       &#x27;inq_last_6mths&#x27;, &#x27;open_acc&#x27;, &#x27;pub_rec&#x27;, &#x27;revol_bal&#x27;, &#x27;revol_util&#x27;,\n",
       "       &#x27;total_acc&#x27;, &#x27;acc_now_delinq&#x27;, &#x27;tot_cur_bal&#x27;, &#x27;total_rev_hi_lim&#x27;],\n",
       "      dtype=&#x27;object&#x27;)),\n",
       "                                                 (&#x27;cat&#x27;,\n",
       "                                                  OneHotEncoder(handle_unknown=&#x27;ignore&#x27;,\n",
       "                                                                sparse_output=False),\n",
       "                                                  Index([&#x27;home_ownership&#x27;, &#x27;verification_status&#x27;, &#x27;pymnt_plan&#x27;, &#x27;purpose&#x27;,\n",
       "       &#x27;addr_state&#x27;],\n",
       "      dtype=&#x27;object&#x27;))])),\n",
       "                (&#x27;classifier&#x27;,\n",
       "                 LogisticRegression(C=0.1, max_iter=10000, penalty=&#x27;l1&#x27;,\n",
       "                                    random_state=100, solver=&#x27;saga&#x27;,\n",
       "                                    tol=0.0005))])</pre><b>In a Jupyter environment, please rerun this cell to show the HTML representation or trust the notebook. <br />On GitHub, the HTML representation is unable to render, please try loading this page with nbviewer.org.</b></div><div class=\"sk-container\" hidden><div class=\"sk-item sk-dashed-wrapped\"><div class=\"sk-label-container\"><div class=\"sk-label sk-toggleable\"><input class=\"sk-toggleable__control sk-hidden--visually\" id=\"sk-estimator-id-13\" type=\"checkbox\" ><label for=\"sk-estimator-id-13\" class=\"sk-toggleable__label sk-toggleable__label-arrow\">Pipeline</label><div class=\"sk-toggleable__content\"><pre>Pipeline(steps=[(&#x27;preprocessor&#x27;,\n",
       "                 ColumnTransformer(remainder=&#x27;passthrough&#x27;,\n",
       "                                   transformers=[(&#x27;num&#x27;, StandardScaler(),\n",
       "                                                  Index([&#x27;loan_amnt&#x27;, &#x27;funded_amnt&#x27;, &#x27;funded_amnt_inv&#x27;, &#x27;term&#x27;, &#x27;int_rate&#x27;,\n",
       "       &#x27;installment&#x27;, &#x27;grade&#x27;, &#x27;annual_inc&#x27;, &#x27;dti&#x27;, &#x27;delinq_2yrs&#x27;,\n",
       "       &#x27;inq_last_6mths&#x27;, &#x27;open_acc&#x27;, &#x27;pub_rec&#x27;, &#x27;revol_bal&#x27;, &#x27;revol_util&#x27;,\n",
       "       &#x27;total_acc&#x27;, &#x27;acc_now_delinq&#x27;, &#x27;tot_cur_bal&#x27;, &#x27;total_rev_hi_lim&#x27;],\n",
       "      dtype=&#x27;object&#x27;)),\n",
       "                                                 (&#x27;cat&#x27;,\n",
       "                                                  OneHotEncoder(handle_unknown=&#x27;ignore&#x27;,\n",
       "                                                                sparse_output=False),\n",
       "                                                  Index([&#x27;home_ownership&#x27;, &#x27;verification_status&#x27;, &#x27;pymnt_plan&#x27;, &#x27;purpose&#x27;,\n",
       "       &#x27;addr_state&#x27;],\n",
       "      dtype=&#x27;object&#x27;))])),\n",
       "                (&#x27;classifier&#x27;,\n",
       "                 LogisticRegression(C=0.1, max_iter=10000, penalty=&#x27;l1&#x27;,\n",
       "                                    random_state=100, solver=&#x27;saga&#x27;,\n",
       "                                    tol=0.0005))])</pre></div></div></div><div class=\"sk-serial\"><div class=\"sk-item sk-dashed-wrapped\"><div class=\"sk-label-container\"><div class=\"sk-label sk-toggleable\"><input class=\"sk-toggleable__control sk-hidden--visually\" id=\"sk-estimator-id-14\" type=\"checkbox\" ><label for=\"sk-estimator-id-14\" class=\"sk-toggleable__label sk-toggleable__label-arrow\">preprocessor: ColumnTransformer</label><div class=\"sk-toggleable__content\"><pre>ColumnTransformer(remainder=&#x27;passthrough&#x27;,\n",
       "                  transformers=[(&#x27;num&#x27;, StandardScaler(),\n",
       "                                 Index([&#x27;loan_amnt&#x27;, &#x27;funded_amnt&#x27;, &#x27;funded_amnt_inv&#x27;, &#x27;term&#x27;, &#x27;int_rate&#x27;,\n",
       "       &#x27;installment&#x27;, &#x27;grade&#x27;, &#x27;annual_inc&#x27;, &#x27;dti&#x27;, &#x27;delinq_2yrs&#x27;,\n",
       "       &#x27;inq_last_6mths&#x27;, &#x27;open_acc&#x27;, &#x27;pub_rec&#x27;, &#x27;revol_bal&#x27;, &#x27;revol_util&#x27;,\n",
       "       &#x27;total_acc&#x27;, &#x27;acc_now_delinq&#x27;, &#x27;tot_cur_bal&#x27;, &#x27;total_rev_hi_lim&#x27;],\n",
       "      dtype=&#x27;object&#x27;)),\n",
       "                                (&#x27;cat&#x27;,\n",
       "                                 OneHotEncoder(handle_unknown=&#x27;ignore&#x27;,\n",
       "                                               sparse_output=False),\n",
       "                                 Index([&#x27;home_ownership&#x27;, &#x27;verification_status&#x27;, &#x27;pymnt_plan&#x27;, &#x27;purpose&#x27;,\n",
       "       &#x27;addr_state&#x27;],\n",
       "      dtype=&#x27;object&#x27;))])</pre></div></div></div><div class=\"sk-parallel\"><div class=\"sk-parallel-item\"><div class=\"sk-item\"><div class=\"sk-label-container\"><div class=\"sk-label sk-toggleable\"><input class=\"sk-toggleable__control sk-hidden--visually\" id=\"sk-estimator-id-15\" type=\"checkbox\" ><label for=\"sk-estimator-id-15\" class=\"sk-toggleable__label sk-toggleable__label-arrow\">num</label><div class=\"sk-toggleable__content\"><pre>Index([&#x27;loan_amnt&#x27;, &#x27;funded_amnt&#x27;, &#x27;funded_amnt_inv&#x27;, &#x27;term&#x27;, &#x27;int_rate&#x27;,\n",
       "       &#x27;installment&#x27;, &#x27;grade&#x27;, &#x27;annual_inc&#x27;, &#x27;dti&#x27;, &#x27;delinq_2yrs&#x27;,\n",
       "       &#x27;inq_last_6mths&#x27;, &#x27;open_acc&#x27;, &#x27;pub_rec&#x27;, &#x27;revol_bal&#x27;, &#x27;revol_util&#x27;,\n",
       "       &#x27;total_acc&#x27;, &#x27;acc_now_delinq&#x27;, &#x27;tot_cur_bal&#x27;, &#x27;total_rev_hi_lim&#x27;],\n",
       "      dtype=&#x27;object&#x27;)</pre></div></div></div><div class=\"sk-serial\"><div class=\"sk-item\"><div class=\"sk-estimator sk-toggleable\"><input class=\"sk-toggleable__control sk-hidden--visually\" id=\"sk-estimator-id-16\" type=\"checkbox\" ><label for=\"sk-estimator-id-16\" class=\"sk-toggleable__label sk-toggleable__label-arrow\">StandardScaler</label><div class=\"sk-toggleable__content\"><pre>StandardScaler()</pre></div></div></div></div></div></div><div class=\"sk-parallel-item\"><div class=\"sk-item\"><div class=\"sk-label-container\"><div class=\"sk-label sk-toggleable\"><input class=\"sk-toggleable__control sk-hidden--visually\" id=\"sk-estimator-id-17\" type=\"checkbox\" ><label for=\"sk-estimator-id-17\" class=\"sk-toggleable__label sk-toggleable__label-arrow\">cat</label><div class=\"sk-toggleable__content\"><pre>Index([&#x27;home_ownership&#x27;, &#x27;verification_status&#x27;, &#x27;pymnt_plan&#x27;, &#x27;purpose&#x27;,\n",
       "       &#x27;addr_state&#x27;],\n",
       "      dtype=&#x27;object&#x27;)</pre></div></div></div><div class=\"sk-serial\"><div class=\"sk-item\"><div class=\"sk-estimator sk-toggleable\"><input class=\"sk-toggleable__control sk-hidden--visually\" id=\"sk-estimator-id-18\" type=\"checkbox\" ><label for=\"sk-estimator-id-18\" class=\"sk-toggleable__label sk-toggleable__label-arrow\">OneHotEncoder</label><div class=\"sk-toggleable__content\"><pre>OneHotEncoder(handle_unknown=&#x27;ignore&#x27;, sparse_output=False)</pre></div></div></div></div></div></div><div class=\"sk-parallel-item\"><div class=\"sk-item\"><div class=\"sk-label-container\"><div class=\"sk-label sk-toggleable\"><input class=\"sk-toggleable__control sk-hidden--visually\" id=\"sk-estimator-id-19\" type=\"checkbox\" ><label for=\"sk-estimator-id-19\" class=\"sk-toggleable__label sk-toggleable__label-arrow\">remainder</label><div class=\"sk-toggleable__content\"><pre>[]</pre></div></div></div><div class=\"sk-serial\"><div class=\"sk-item\"><div class=\"sk-estimator sk-toggleable\"><input class=\"sk-toggleable__control sk-hidden--visually\" id=\"sk-estimator-id-20\" type=\"checkbox\" ><label for=\"sk-estimator-id-20\" class=\"sk-toggleable__label sk-toggleable__label-arrow\">passthrough</label><div class=\"sk-toggleable__content\"><pre>passthrough</pre></div></div></div></div></div></div></div></div><div class=\"sk-item\"><div class=\"sk-estimator sk-toggleable\"><input class=\"sk-toggleable__control sk-hidden--visually\" id=\"sk-estimator-id-21\" type=\"checkbox\" ><label for=\"sk-estimator-id-21\" class=\"sk-toggleable__label sk-toggleable__label-arrow\">LogisticRegression</label><div class=\"sk-toggleable__content\"><pre>LogisticRegression(C=0.1, max_iter=10000, penalty=&#x27;l1&#x27;, random_state=100,\n",
       "                   solver=&#x27;saga&#x27;, tol=0.0005)</pre></div></div></div></div></div></div></div>"
      ],
      "text/plain": [
       "Pipeline(steps=[('preprocessor',\n",
       "                 ColumnTransformer(remainder='passthrough',\n",
       "                                   transformers=[('num', StandardScaler(),\n",
       "                                                  Index(['loan_amnt', 'funded_amnt', 'funded_amnt_inv', 'term', 'int_rate',\n",
       "       'installment', 'grade', 'annual_inc', 'dti', 'delinq_2yrs',\n",
       "       'inq_last_6mths', 'open_acc', 'pub_rec', 'revol_bal', 'revol_util',\n",
       "       'total_acc', 'acc_now_delinq', 'tot_cur_bal', 'total_rev_hi_lim'],\n",
       "      dtype='object')),\n",
       "                                                 ('cat',\n",
       "                                                  OneHotEncoder(handle_unknown='ignore',\n",
       "                                                                sparse_output=False),\n",
       "                                                  Index(['home_ownership', 'verification_status', 'pymnt_plan', 'purpose',\n",
       "       'addr_state'],\n",
       "      dtype='object'))])),\n",
       "                ('classifier',\n",
       "                 LogisticRegression(C=0.1, max_iter=10000, penalty='l1',\n",
       "                                    random_state=100, solver='saga',\n",
       "                                    tol=0.0005))])"
      ]
     },
     "execution_count": 78,
     "metadata": {},
     "output_type": "execute_result"
    }
   ],
   "source": [
    "lasso_pipeline.fit(X_train, y_train)"
   ]
  },
  {
   "cell_type": "code",
   "execution_count": 79,
   "id": "0cf3eea0",
   "metadata": {},
   "outputs": [],
   "source": [
    "y_prob = lasso_pipeline.predict_proba(X_test)[:, 1]"
   ]
  },
  {
   "cell_type": "code",
   "execution_count": 80,
   "id": "fa313692",
   "metadata": {},
   "outputs": [
    {
     "name": "stdout",
     "output_type": "stream",
     "text": [
      "AUC Score: 0.7044090123585112\n"
     ]
    }
   ],
   "source": [
    "auc_score = roc_auc_score(y_test, y_prob)\n",
    "print(f\"AUC Score: {auc_score}\")"
   ]
  },
  {
   "cell_type": "markdown",
   "id": "5290ddb0",
   "metadata": {},
   "source": [
    "## Trying Out Models\n",
    "\n",
    "Here, you want to try each type of machine learning model and perform the train-test-loop: identify the best hyperparameters for the model to perform well in training and validation. GridSearchCV is likely relevant."
   ]
  },
  {
   "cell_type": "markdown",
   "id": "c25f0117",
   "metadata": {},
   "source": [
    "### Logistic Regression"
   ]
  },
  {
   "cell_type": "markdown",
   "id": "3e91ceb5",
   "metadata": {},
   "source": [
    "GridSearchCV\n",
    "(Using feature selection to speed up the model fitting)"
   ]
  },
  {
   "cell_type": "code",
   "execution_count": 81,
   "id": "a3599c72",
   "metadata": {},
   "outputs": [],
   "source": [
    "logistic_regression_model = LogisticRegression(max_iter=10000, random_state=42, solver='saga', penalty='elasticnet')\n",
    "\n",
    "# Updated pipeline with Elastic Net logistic regression\n",
    "log_reg_pipeline = Pipeline(steps=[\n",
    "    ('preprocessor', preprocessor),\n",
    "    ('selection',select),\n",
    "    ('log_reg', logistic_regression_model)\n",
    "])"
   ]
  },
  {
   "cell_type": "code",
   "execution_count": 82,
   "id": "bd83a364",
   "metadata": {},
   "outputs": [],
   "source": [
    "param_grid_log = {\n",
    "    'log_reg__C': [0.1, 1, 10],\n",
    "    'log_reg__l1_ratio': [0,0.5,1]\n",
    "}"
   ]
  },
  {
   "cell_type": "code",
   "execution_count": 83,
   "id": "1b6d516a",
   "metadata": {},
   "outputs": [
    {
     "data": {
      "text/html": [
       "<style>#sk-container-id-3 {color: black;}#sk-container-id-3 pre{padding: 0;}#sk-container-id-3 div.sk-toggleable {background-color: white;}#sk-container-id-3 label.sk-toggleable__label {cursor: pointer;display: block;width: 100%;margin-bottom: 0;padding: 0.3em;box-sizing: border-box;text-align: center;}#sk-container-id-3 label.sk-toggleable__label-arrow:before {content: \"▸\";float: left;margin-right: 0.25em;color: #696969;}#sk-container-id-3 label.sk-toggleable__label-arrow:hover:before {color: black;}#sk-container-id-3 div.sk-estimator:hover label.sk-toggleable__label-arrow:before {color: black;}#sk-container-id-3 div.sk-toggleable__content {max-height: 0;max-width: 0;overflow: hidden;text-align: left;background-color: #f0f8ff;}#sk-container-id-3 div.sk-toggleable__content pre {margin: 0.2em;color: black;border-radius: 0.25em;background-color: #f0f8ff;}#sk-container-id-3 input.sk-toggleable__control:checked~div.sk-toggleable__content {max-height: 200px;max-width: 100%;overflow: auto;}#sk-container-id-3 input.sk-toggleable__control:checked~label.sk-toggleable__label-arrow:before {content: \"▾\";}#sk-container-id-3 div.sk-estimator input.sk-toggleable__control:checked~label.sk-toggleable__label {background-color: #d4ebff;}#sk-container-id-3 div.sk-label input.sk-toggleable__control:checked~label.sk-toggleable__label {background-color: #d4ebff;}#sk-container-id-3 input.sk-hidden--visually {border: 0;clip: rect(1px 1px 1px 1px);clip: rect(1px, 1px, 1px, 1px);height: 1px;margin: -1px;overflow: hidden;padding: 0;position: absolute;width: 1px;}#sk-container-id-3 div.sk-estimator {font-family: monospace;background-color: #f0f8ff;border: 1px dotted black;border-radius: 0.25em;box-sizing: border-box;margin-bottom: 0.5em;}#sk-container-id-3 div.sk-estimator:hover {background-color: #d4ebff;}#sk-container-id-3 div.sk-parallel-item::after {content: \"\";width: 100%;border-bottom: 1px solid gray;flex-grow: 1;}#sk-container-id-3 div.sk-label:hover label.sk-toggleable__label {background-color: #d4ebff;}#sk-container-id-3 div.sk-serial::before {content: \"\";position: absolute;border-left: 1px solid gray;box-sizing: border-box;top: 0;bottom: 0;left: 50%;z-index: 0;}#sk-container-id-3 div.sk-serial {display: flex;flex-direction: column;align-items: center;background-color: white;padding-right: 0.2em;padding-left: 0.2em;position: relative;}#sk-container-id-3 div.sk-item {position: relative;z-index: 1;}#sk-container-id-3 div.sk-parallel {display: flex;align-items: stretch;justify-content: center;background-color: white;position: relative;}#sk-container-id-3 div.sk-item::before, #sk-container-id-3 div.sk-parallel-item::before {content: \"\";position: absolute;border-left: 1px solid gray;box-sizing: border-box;top: 0;bottom: 0;left: 50%;z-index: -1;}#sk-container-id-3 div.sk-parallel-item {display: flex;flex-direction: column;z-index: 1;position: relative;background-color: white;}#sk-container-id-3 div.sk-parallel-item:first-child::after {align-self: flex-end;width: 50%;}#sk-container-id-3 div.sk-parallel-item:last-child::after {align-self: flex-start;width: 50%;}#sk-container-id-3 div.sk-parallel-item:only-child::after {width: 0;}#sk-container-id-3 div.sk-dashed-wrapped {border: 1px dashed gray;margin: 0 0.4em 0.5em 0.4em;box-sizing: border-box;padding-bottom: 0.4em;background-color: white;}#sk-container-id-3 div.sk-label label {font-family: monospace;font-weight: bold;display: inline-block;line-height: 1.2em;}#sk-container-id-3 div.sk-label-container {text-align: center;}#sk-container-id-3 div.sk-container {/* jupyter's `normalize.less` sets `[hidden] { display: none; }` but bootstrap.min.css set `[hidden] { display: none !important; }` so we also need the `!important` here to be able to override the default hidden behavior on the sphinx rendered scikit-learn.org. See: https://github.com/scikit-learn/scikit-learn/issues/21755 */display: inline-block !important;position: relative;}#sk-container-id-3 div.sk-text-repr-fallback {display: none;}</style><div id=\"sk-container-id-3\" class=\"sk-top-container\"><div class=\"sk-text-repr-fallback\"><pre>GridSearchCV(cv=5,\n",
       "             estimator=Pipeline(steps=[(&#x27;preprocessor&#x27;,\n",
       "                                        ColumnTransformer(remainder=&#x27;passthrough&#x27;,\n",
       "                                                          transformers=[(&#x27;num&#x27;,\n",
       "                                                                         StandardScaler(),\n",
       "                                                                         Index([&#x27;loan_amnt&#x27;, &#x27;funded_amnt&#x27;, &#x27;funded_amnt_inv&#x27;, &#x27;term&#x27;, &#x27;int_rate&#x27;,\n",
       "       &#x27;installment&#x27;, &#x27;grade&#x27;, &#x27;annual_inc&#x27;, &#x27;dti&#x27;, &#x27;delinq_2yrs&#x27;,\n",
       "       &#x27;inq_last_6mths&#x27;, &#x27;open_acc&#x27;, &#x27;pub_rec&#x27;, &#x27;revol_bal&#x27;, &#x27;revol_util&#x27;,\n",
       "       &#x27;total_acc&#x27;, &#x27;acc_now_de...\n",
       "                                                                         Index([&#x27;home_ownership&#x27;, &#x27;verification_status&#x27;, &#x27;pymnt_plan&#x27;, &#x27;purpose&#x27;,\n",
       "       &#x27;addr_state&#x27;],\n",
       "      dtype=&#x27;object&#x27;))])),\n",
       "                                       (&#x27;selection&#x27;,\n",
       "                                        SelectFromModel(estimator=RandomForestClassifier(random_state=42),\n",
       "                                                        threshold=&#x27;median&#x27;)),\n",
       "                                       (&#x27;log_reg&#x27;,\n",
       "                                        LogisticRegression(max_iter=10000,\n",
       "                                                           penalty=&#x27;elasticnet&#x27;,\n",
       "                                                           random_state=42,\n",
       "                                                           solver=&#x27;saga&#x27;))]),\n",
       "             n_jobs=-1,\n",
       "             param_grid={&#x27;log_reg__C&#x27;: [0.1, 1, 10],\n",
       "                         &#x27;log_reg__l1_ratio&#x27;: [0, 0.5, 1]},\n",
       "             scoring=&#x27;roc_auc&#x27;)</pre><b>In a Jupyter environment, please rerun this cell to show the HTML representation or trust the notebook. <br />On GitHub, the HTML representation is unable to render, please try loading this page with nbviewer.org.</b></div><div class=\"sk-container\" hidden><div class=\"sk-item sk-dashed-wrapped\"><div class=\"sk-label-container\"><div class=\"sk-label sk-toggleable\"><input class=\"sk-toggleable__control sk-hidden--visually\" id=\"sk-estimator-id-22\" type=\"checkbox\" ><label for=\"sk-estimator-id-22\" class=\"sk-toggleable__label sk-toggleable__label-arrow\">GridSearchCV</label><div class=\"sk-toggleable__content\"><pre>GridSearchCV(cv=5,\n",
       "             estimator=Pipeline(steps=[(&#x27;preprocessor&#x27;,\n",
       "                                        ColumnTransformer(remainder=&#x27;passthrough&#x27;,\n",
       "                                                          transformers=[(&#x27;num&#x27;,\n",
       "                                                                         StandardScaler(),\n",
       "                                                                         Index([&#x27;loan_amnt&#x27;, &#x27;funded_amnt&#x27;, &#x27;funded_amnt_inv&#x27;, &#x27;term&#x27;, &#x27;int_rate&#x27;,\n",
       "       &#x27;installment&#x27;, &#x27;grade&#x27;, &#x27;annual_inc&#x27;, &#x27;dti&#x27;, &#x27;delinq_2yrs&#x27;,\n",
       "       &#x27;inq_last_6mths&#x27;, &#x27;open_acc&#x27;, &#x27;pub_rec&#x27;, &#x27;revol_bal&#x27;, &#x27;revol_util&#x27;,\n",
       "       &#x27;total_acc&#x27;, &#x27;acc_now_de...\n",
       "                                                                         Index([&#x27;home_ownership&#x27;, &#x27;verification_status&#x27;, &#x27;pymnt_plan&#x27;, &#x27;purpose&#x27;,\n",
       "       &#x27;addr_state&#x27;],\n",
       "      dtype=&#x27;object&#x27;))])),\n",
       "                                       (&#x27;selection&#x27;,\n",
       "                                        SelectFromModel(estimator=RandomForestClassifier(random_state=42),\n",
       "                                                        threshold=&#x27;median&#x27;)),\n",
       "                                       (&#x27;log_reg&#x27;,\n",
       "                                        LogisticRegression(max_iter=10000,\n",
       "                                                           penalty=&#x27;elasticnet&#x27;,\n",
       "                                                           random_state=42,\n",
       "                                                           solver=&#x27;saga&#x27;))]),\n",
       "             n_jobs=-1,\n",
       "             param_grid={&#x27;log_reg__C&#x27;: [0.1, 1, 10],\n",
       "                         &#x27;log_reg__l1_ratio&#x27;: [0, 0.5, 1]},\n",
       "             scoring=&#x27;roc_auc&#x27;)</pre></div></div></div><div class=\"sk-parallel\"><div class=\"sk-parallel-item\"><div class=\"sk-item\"><div class=\"sk-label-container\"><div class=\"sk-label sk-toggleable\"><input class=\"sk-toggleable__control sk-hidden--visually\" id=\"sk-estimator-id-23\" type=\"checkbox\" ><label for=\"sk-estimator-id-23\" class=\"sk-toggleable__label sk-toggleable__label-arrow\">estimator: Pipeline</label><div class=\"sk-toggleable__content\"><pre>Pipeline(steps=[(&#x27;preprocessor&#x27;,\n",
       "                 ColumnTransformer(remainder=&#x27;passthrough&#x27;,\n",
       "                                   transformers=[(&#x27;num&#x27;, StandardScaler(),\n",
       "                                                  Index([&#x27;loan_amnt&#x27;, &#x27;funded_amnt&#x27;, &#x27;funded_amnt_inv&#x27;, &#x27;term&#x27;, &#x27;int_rate&#x27;,\n",
       "       &#x27;installment&#x27;, &#x27;grade&#x27;, &#x27;annual_inc&#x27;, &#x27;dti&#x27;, &#x27;delinq_2yrs&#x27;,\n",
       "       &#x27;inq_last_6mths&#x27;, &#x27;open_acc&#x27;, &#x27;pub_rec&#x27;, &#x27;revol_bal&#x27;, &#x27;revol_util&#x27;,\n",
       "       &#x27;total_acc&#x27;, &#x27;acc_now_delinq&#x27;, &#x27;tot_cur_bal&#x27;, &#x27;total_r...\n",
       "                                                  OneHotEncoder(handle_unknown=&#x27;ignore&#x27;,\n",
       "                                                                sparse_output=False),\n",
       "                                                  Index([&#x27;home_ownership&#x27;, &#x27;verification_status&#x27;, &#x27;pymnt_plan&#x27;, &#x27;purpose&#x27;,\n",
       "       &#x27;addr_state&#x27;],\n",
       "      dtype=&#x27;object&#x27;))])),\n",
       "                (&#x27;selection&#x27;,\n",
       "                 SelectFromModel(estimator=RandomForestClassifier(random_state=42),\n",
       "                                 threshold=&#x27;median&#x27;)),\n",
       "                (&#x27;log_reg&#x27;,\n",
       "                 LogisticRegression(max_iter=10000, penalty=&#x27;elasticnet&#x27;,\n",
       "                                    random_state=42, solver=&#x27;saga&#x27;))])</pre></div></div></div><div class=\"sk-serial\"><div class=\"sk-item\"><div class=\"sk-serial\"><div class=\"sk-item sk-dashed-wrapped\"><div class=\"sk-label-container\"><div class=\"sk-label sk-toggleable\"><input class=\"sk-toggleable__control sk-hidden--visually\" id=\"sk-estimator-id-24\" type=\"checkbox\" ><label for=\"sk-estimator-id-24\" class=\"sk-toggleable__label sk-toggleable__label-arrow\">preprocessor: ColumnTransformer</label><div class=\"sk-toggleable__content\"><pre>ColumnTransformer(remainder=&#x27;passthrough&#x27;,\n",
       "                  transformers=[(&#x27;num&#x27;, StandardScaler(),\n",
       "                                 Index([&#x27;loan_amnt&#x27;, &#x27;funded_amnt&#x27;, &#x27;funded_amnt_inv&#x27;, &#x27;term&#x27;, &#x27;int_rate&#x27;,\n",
       "       &#x27;installment&#x27;, &#x27;grade&#x27;, &#x27;annual_inc&#x27;, &#x27;dti&#x27;, &#x27;delinq_2yrs&#x27;,\n",
       "       &#x27;inq_last_6mths&#x27;, &#x27;open_acc&#x27;, &#x27;pub_rec&#x27;, &#x27;revol_bal&#x27;, &#x27;revol_util&#x27;,\n",
       "       &#x27;total_acc&#x27;, &#x27;acc_now_delinq&#x27;, &#x27;tot_cur_bal&#x27;, &#x27;total_rev_hi_lim&#x27;],\n",
       "      dtype=&#x27;object&#x27;)),\n",
       "                                (&#x27;cat&#x27;,\n",
       "                                 OneHotEncoder(handle_unknown=&#x27;ignore&#x27;,\n",
       "                                               sparse_output=False),\n",
       "                                 Index([&#x27;home_ownership&#x27;, &#x27;verification_status&#x27;, &#x27;pymnt_plan&#x27;, &#x27;purpose&#x27;,\n",
       "       &#x27;addr_state&#x27;],\n",
       "      dtype=&#x27;object&#x27;))])</pre></div></div></div><div class=\"sk-parallel\"><div class=\"sk-parallel-item\"><div class=\"sk-item\"><div class=\"sk-label-container\"><div class=\"sk-label sk-toggleable\"><input class=\"sk-toggleable__control sk-hidden--visually\" id=\"sk-estimator-id-25\" type=\"checkbox\" ><label for=\"sk-estimator-id-25\" class=\"sk-toggleable__label sk-toggleable__label-arrow\">num</label><div class=\"sk-toggleable__content\"><pre>Index([&#x27;loan_amnt&#x27;, &#x27;funded_amnt&#x27;, &#x27;funded_amnt_inv&#x27;, &#x27;term&#x27;, &#x27;int_rate&#x27;,\n",
       "       &#x27;installment&#x27;, &#x27;grade&#x27;, &#x27;annual_inc&#x27;, &#x27;dti&#x27;, &#x27;delinq_2yrs&#x27;,\n",
       "       &#x27;inq_last_6mths&#x27;, &#x27;open_acc&#x27;, &#x27;pub_rec&#x27;, &#x27;revol_bal&#x27;, &#x27;revol_util&#x27;,\n",
       "       &#x27;total_acc&#x27;, &#x27;acc_now_delinq&#x27;, &#x27;tot_cur_bal&#x27;, &#x27;total_rev_hi_lim&#x27;],\n",
       "      dtype=&#x27;object&#x27;)</pre></div></div></div><div class=\"sk-serial\"><div class=\"sk-item\"><div class=\"sk-estimator sk-toggleable\"><input class=\"sk-toggleable__control sk-hidden--visually\" id=\"sk-estimator-id-26\" type=\"checkbox\" ><label for=\"sk-estimator-id-26\" class=\"sk-toggleable__label sk-toggleable__label-arrow\">StandardScaler</label><div class=\"sk-toggleable__content\"><pre>StandardScaler()</pre></div></div></div></div></div></div><div class=\"sk-parallel-item\"><div class=\"sk-item\"><div class=\"sk-label-container\"><div class=\"sk-label sk-toggleable\"><input class=\"sk-toggleable__control sk-hidden--visually\" id=\"sk-estimator-id-27\" type=\"checkbox\" ><label for=\"sk-estimator-id-27\" class=\"sk-toggleable__label sk-toggleable__label-arrow\">cat</label><div class=\"sk-toggleable__content\"><pre>Index([&#x27;home_ownership&#x27;, &#x27;verification_status&#x27;, &#x27;pymnt_plan&#x27;, &#x27;purpose&#x27;,\n",
       "       &#x27;addr_state&#x27;],\n",
       "      dtype=&#x27;object&#x27;)</pre></div></div></div><div class=\"sk-serial\"><div class=\"sk-item\"><div class=\"sk-estimator sk-toggleable\"><input class=\"sk-toggleable__control sk-hidden--visually\" id=\"sk-estimator-id-28\" type=\"checkbox\" ><label for=\"sk-estimator-id-28\" class=\"sk-toggleable__label sk-toggleable__label-arrow\">OneHotEncoder</label><div class=\"sk-toggleable__content\"><pre>OneHotEncoder(handle_unknown=&#x27;ignore&#x27;, sparse_output=False)</pre></div></div></div></div></div></div><div class=\"sk-parallel-item\"><div class=\"sk-item\"><div class=\"sk-label-container\"><div class=\"sk-label sk-toggleable\"><input class=\"sk-toggleable__control sk-hidden--visually\" id=\"sk-estimator-id-29\" type=\"checkbox\" ><label for=\"sk-estimator-id-29\" class=\"sk-toggleable__label sk-toggleable__label-arrow\">remainder</label><div class=\"sk-toggleable__content\"><pre>[]</pre></div></div></div><div class=\"sk-serial\"><div class=\"sk-item\"><div class=\"sk-estimator sk-toggleable\"><input class=\"sk-toggleable__control sk-hidden--visually\" id=\"sk-estimator-id-30\" type=\"checkbox\" ><label for=\"sk-estimator-id-30\" class=\"sk-toggleable__label sk-toggleable__label-arrow\">passthrough</label><div class=\"sk-toggleable__content\"><pre>passthrough</pre></div></div></div></div></div></div></div></div><div class=\"sk-item sk-dashed-wrapped\"><div class=\"sk-label-container\"><div class=\"sk-label sk-toggleable\"><input class=\"sk-toggleable__control sk-hidden--visually\" id=\"sk-estimator-id-31\" type=\"checkbox\" ><label for=\"sk-estimator-id-31\" class=\"sk-toggleable__label sk-toggleable__label-arrow\">selection: SelectFromModel</label><div class=\"sk-toggleable__content\"><pre>SelectFromModel(estimator=RandomForestClassifier(random_state=42),\n",
       "                threshold=&#x27;median&#x27;)</pre></div></div></div><div class=\"sk-parallel\"><div class=\"sk-parallel-item\"><div class=\"sk-item\"><div class=\"sk-label-container\"><div class=\"sk-label sk-toggleable\"><input class=\"sk-toggleable__control sk-hidden--visually\" id=\"sk-estimator-id-32\" type=\"checkbox\" ><label for=\"sk-estimator-id-32\" class=\"sk-toggleable__label sk-toggleable__label-arrow\">estimator: RandomForestClassifier</label><div class=\"sk-toggleable__content\"><pre>RandomForestClassifier(random_state=42)</pre></div></div></div><div class=\"sk-serial\"><div class=\"sk-item\"><div class=\"sk-estimator sk-toggleable\"><input class=\"sk-toggleable__control sk-hidden--visually\" id=\"sk-estimator-id-33\" type=\"checkbox\" ><label for=\"sk-estimator-id-33\" class=\"sk-toggleable__label sk-toggleable__label-arrow\">RandomForestClassifier</label><div class=\"sk-toggleable__content\"><pre>RandomForestClassifier(random_state=42)</pre></div></div></div></div></div></div></div></div><div class=\"sk-item\"><div class=\"sk-estimator sk-toggleable\"><input class=\"sk-toggleable__control sk-hidden--visually\" id=\"sk-estimator-id-34\" type=\"checkbox\" ><label for=\"sk-estimator-id-34\" class=\"sk-toggleable__label sk-toggleable__label-arrow\">LogisticRegression</label><div class=\"sk-toggleable__content\"><pre>LogisticRegression(max_iter=10000, penalty=&#x27;elasticnet&#x27;, random_state=42,\n",
       "                   solver=&#x27;saga&#x27;)</pre></div></div></div></div></div></div></div></div></div></div></div></div>"
      ],
      "text/plain": [
       "GridSearchCV(cv=5,\n",
       "             estimator=Pipeline(steps=[('preprocessor',\n",
       "                                        ColumnTransformer(remainder='passthrough',\n",
       "                                                          transformers=[('num',\n",
       "                                                                         StandardScaler(),\n",
       "                                                                         Index(['loan_amnt', 'funded_amnt', 'funded_amnt_inv', 'term', 'int_rate',\n",
       "       'installment', 'grade', 'annual_inc', 'dti', 'delinq_2yrs',\n",
       "       'inq_last_6mths', 'open_acc', 'pub_rec', 'revol_bal', 'revol_util',\n",
       "       'total_acc', 'acc_now_de...\n",
       "                                                                         Index(['home_ownership', 'verification_status', 'pymnt_plan', 'purpose',\n",
       "       'addr_state'],\n",
       "      dtype='object'))])),\n",
       "                                       ('selection',\n",
       "                                        SelectFromModel(estimator=RandomForestClassifier(random_state=42),\n",
       "                                                        threshold='median')),\n",
       "                                       ('log_reg',\n",
       "                                        LogisticRegression(max_iter=10000,\n",
       "                                                           penalty='elasticnet',\n",
       "                                                           random_state=42,\n",
       "                                                           solver='saga'))]),\n",
       "             n_jobs=-1,\n",
       "             param_grid={'log_reg__C': [0.1, 1, 10],\n",
       "                         'log_reg__l1_ratio': [0, 0.5, 1]},\n",
       "             scoring='roc_auc')"
      ]
     },
     "execution_count": 83,
     "metadata": {},
     "output_type": "execute_result"
    }
   ],
   "source": [
    "grid_search_log = GridSearchCV(log_reg_pipeline, param_grid_log, cv=5, scoring='roc_auc', n_jobs=-1)\n",
    "\n",
    "# Assuming X_train, y_train are your training data and labels\n",
    "grid_search_log.fit(X_train, y_train)"
   ]
  },
  {
   "cell_type": "code",
   "execution_count": 84,
   "id": "c67fb0a7",
   "metadata": {},
   "outputs": [
    {
     "name": "stdout",
     "output_type": "stream",
     "text": [
      "Best parameters for logistic regression: {'log_reg__C': 0.1, 'log_reg__l1_ratio': 0.5}\n",
      "Best ROC AUC score for logistic regression: 0.7044464271517158\n"
     ]
    }
   ],
   "source": [
    "print(\"Best parameters for logistic regression:\", grid_search_log.best_params_)\n",
    "print(\"Best ROC AUC score for logistic regression:\", grid_search_log.best_score_)"
   ]
  },
  {
   "cell_type": "markdown",
   "id": "47702d54",
   "metadata": {},
   "source": [
    "### Decision Trees (Random Forest, Gradient Boosting, XGBoost)"
   ]
  },
  {
   "cell_type": "markdown",
   "id": "654228f3",
   "metadata": {},
   "source": [
    "**Random Forest**"
   ]
  },
  {
   "cell_type": "markdown",
   "id": "417382ee",
   "metadata": {},
   "source": [
    "Classification using Random forest classifier without feature selection, as random forest is good at handling high-dimensional data and do not need scaling."
   ]
  },
  {
   "cell_type": "code",
   "execution_count": 88,
   "id": "272229fe",
   "metadata": {},
   "outputs": [],
   "source": [
    "preprocessor_tree = ColumnTransformer(\n",
    "    transformers=[\n",
    "        ('cat', categorical_transformer, categorical_cols)\n",
    "    ],\n",
    "    remainder='passthrough'  # Leave remaining columns untouched\n",
    ")"
   ]
  },
  {
   "cell_type": "code",
   "execution_count": 89,
   "id": "c82e6087",
   "metadata": {},
   "outputs": [],
   "source": [
    "rnd_clf1 = RandomForestClassifier(n_estimators=100, n_jobs = -1, random_state = 42)\n",
    "\n",
    "# Create a pipeline with preprocessing, feature selection, and the decision tree classifier\n",
    "tree_pipeline1 = Pipeline(steps=[\n",
    "    ('preprocessor', preprocessor_tree),\n",
    "    ('random_forest', rnd_clf1)\n",
    "])"
   ]
  },
  {
   "cell_type": "code",
   "execution_count": 90,
   "id": "3861322a",
   "metadata": {
    "scrolled": true
   },
   "outputs": [
    {
     "data": {
      "text/html": [
       "<style>#sk-container-id-4 {color: black;}#sk-container-id-4 pre{padding: 0;}#sk-container-id-4 div.sk-toggleable {background-color: white;}#sk-container-id-4 label.sk-toggleable__label {cursor: pointer;display: block;width: 100%;margin-bottom: 0;padding: 0.3em;box-sizing: border-box;text-align: center;}#sk-container-id-4 label.sk-toggleable__label-arrow:before {content: \"▸\";float: left;margin-right: 0.25em;color: #696969;}#sk-container-id-4 label.sk-toggleable__label-arrow:hover:before {color: black;}#sk-container-id-4 div.sk-estimator:hover label.sk-toggleable__label-arrow:before {color: black;}#sk-container-id-4 div.sk-toggleable__content {max-height: 0;max-width: 0;overflow: hidden;text-align: left;background-color: #f0f8ff;}#sk-container-id-4 div.sk-toggleable__content pre {margin: 0.2em;color: black;border-radius: 0.25em;background-color: #f0f8ff;}#sk-container-id-4 input.sk-toggleable__control:checked~div.sk-toggleable__content {max-height: 200px;max-width: 100%;overflow: auto;}#sk-container-id-4 input.sk-toggleable__control:checked~label.sk-toggleable__label-arrow:before {content: \"▾\";}#sk-container-id-4 div.sk-estimator input.sk-toggleable__control:checked~label.sk-toggleable__label {background-color: #d4ebff;}#sk-container-id-4 div.sk-label input.sk-toggleable__control:checked~label.sk-toggleable__label {background-color: #d4ebff;}#sk-container-id-4 input.sk-hidden--visually {border: 0;clip: rect(1px 1px 1px 1px);clip: rect(1px, 1px, 1px, 1px);height: 1px;margin: -1px;overflow: hidden;padding: 0;position: absolute;width: 1px;}#sk-container-id-4 div.sk-estimator {font-family: monospace;background-color: #f0f8ff;border: 1px dotted black;border-radius: 0.25em;box-sizing: border-box;margin-bottom: 0.5em;}#sk-container-id-4 div.sk-estimator:hover {background-color: #d4ebff;}#sk-container-id-4 div.sk-parallel-item::after {content: \"\";width: 100%;border-bottom: 1px solid gray;flex-grow: 1;}#sk-container-id-4 div.sk-label:hover label.sk-toggleable__label {background-color: #d4ebff;}#sk-container-id-4 div.sk-serial::before {content: \"\";position: absolute;border-left: 1px solid gray;box-sizing: border-box;top: 0;bottom: 0;left: 50%;z-index: 0;}#sk-container-id-4 div.sk-serial {display: flex;flex-direction: column;align-items: center;background-color: white;padding-right: 0.2em;padding-left: 0.2em;position: relative;}#sk-container-id-4 div.sk-item {position: relative;z-index: 1;}#sk-container-id-4 div.sk-parallel {display: flex;align-items: stretch;justify-content: center;background-color: white;position: relative;}#sk-container-id-4 div.sk-item::before, #sk-container-id-4 div.sk-parallel-item::before {content: \"\";position: absolute;border-left: 1px solid gray;box-sizing: border-box;top: 0;bottom: 0;left: 50%;z-index: -1;}#sk-container-id-4 div.sk-parallel-item {display: flex;flex-direction: column;z-index: 1;position: relative;background-color: white;}#sk-container-id-4 div.sk-parallel-item:first-child::after {align-self: flex-end;width: 50%;}#sk-container-id-4 div.sk-parallel-item:last-child::after {align-self: flex-start;width: 50%;}#sk-container-id-4 div.sk-parallel-item:only-child::after {width: 0;}#sk-container-id-4 div.sk-dashed-wrapped {border: 1px dashed gray;margin: 0 0.4em 0.5em 0.4em;box-sizing: border-box;padding-bottom: 0.4em;background-color: white;}#sk-container-id-4 div.sk-label label {font-family: monospace;font-weight: bold;display: inline-block;line-height: 1.2em;}#sk-container-id-4 div.sk-label-container {text-align: center;}#sk-container-id-4 div.sk-container {/* jupyter's `normalize.less` sets `[hidden] { display: none; }` but bootstrap.min.css set `[hidden] { display: none !important; }` so we also need the `!important` here to be able to override the default hidden behavior on the sphinx rendered scikit-learn.org. See: https://github.com/scikit-learn/scikit-learn/issues/21755 */display: inline-block !important;position: relative;}#sk-container-id-4 div.sk-text-repr-fallback {display: none;}</style><div id=\"sk-container-id-4\" class=\"sk-top-container\"><div class=\"sk-text-repr-fallback\"><pre>Pipeline(steps=[(&#x27;preprocessor&#x27;,\n",
       "                 ColumnTransformer(remainder=&#x27;passthrough&#x27;,\n",
       "                                   transformers=[(&#x27;cat&#x27;,\n",
       "                                                  Pipeline(steps=[(&#x27;onehot&#x27;,\n",
       "                                                                   OneHotEncoder(handle_unknown=&#x27;ignore&#x27;,\n",
       "                                                                                 sparse_output=False))]),\n",
       "                                                  Index([&#x27;home_ownership&#x27;, &#x27;verification_status&#x27;, &#x27;pymnt_plan&#x27;, &#x27;purpose&#x27;,\n",
       "       &#x27;addr_state&#x27;],\n",
       "      dtype=&#x27;object&#x27;))])),\n",
       "                (&#x27;random_forest&#x27;,\n",
       "                 RandomForestClassifier(n_jobs=-1, random_state=42))])</pre><b>In a Jupyter environment, please rerun this cell to show the HTML representation or trust the notebook. <br />On GitHub, the HTML representation is unable to render, please try loading this page with nbviewer.org.</b></div><div class=\"sk-container\" hidden><div class=\"sk-item sk-dashed-wrapped\"><div class=\"sk-label-container\"><div class=\"sk-label sk-toggleable\"><input class=\"sk-toggleable__control sk-hidden--visually\" id=\"sk-estimator-id-35\" type=\"checkbox\" ><label for=\"sk-estimator-id-35\" class=\"sk-toggleable__label sk-toggleable__label-arrow\">Pipeline</label><div class=\"sk-toggleable__content\"><pre>Pipeline(steps=[(&#x27;preprocessor&#x27;,\n",
       "                 ColumnTransformer(remainder=&#x27;passthrough&#x27;,\n",
       "                                   transformers=[(&#x27;cat&#x27;,\n",
       "                                                  Pipeline(steps=[(&#x27;onehot&#x27;,\n",
       "                                                                   OneHotEncoder(handle_unknown=&#x27;ignore&#x27;,\n",
       "                                                                                 sparse_output=False))]),\n",
       "                                                  Index([&#x27;home_ownership&#x27;, &#x27;verification_status&#x27;, &#x27;pymnt_plan&#x27;, &#x27;purpose&#x27;,\n",
       "       &#x27;addr_state&#x27;],\n",
       "      dtype=&#x27;object&#x27;))])),\n",
       "                (&#x27;random_forest&#x27;,\n",
       "                 RandomForestClassifier(n_jobs=-1, random_state=42))])</pre></div></div></div><div class=\"sk-serial\"><div class=\"sk-item sk-dashed-wrapped\"><div class=\"sk-label-container\"><div class=\"sk-label sk-toggleable\"><input class=\"sk-toggleable__control sk-hidden--visually\" id=\"sk-estimator-id-36\" type=\"checkbox\" ><label for=\"sk-estimator-id-36\" class=\"sk-toggleable__label sk-toggleable__label-arrow\">preprocessor: ColumnTransformer</label><div class=\"sk-toggleable__content\"><pre>ColumnTransformer(remainder=&#x27;passthrough&#x27;,\n",
       "                  transformers=[(&#x27;cat&#x27;,\n",
       "                                 Pipeline(steps=[(&#x27;onehot&#x27;,\n",
       "                                                  OneHotEncoder(handle_unknown=&#x27;ignore&#x27;,\n",
       "                                                                sparse_output=False))]),\n",
       "                                 Index([&#x27;home_ownership&#x27;, &#x27;verification_status&#x27;, &#x27;pymnt_plan&#x27;, &#x27;purpose&#x27;,\n",
       "       &#x27;addr_state&#x27;],\n",
       "      dtype=&#x27;object&#x27;))])</pre></div></div></div><div class=\"sk-parallel\"><div class=\"sk-parallel-item\"><div class=\"sk-item\"><div class=\"sk-label-container\"><div class=\"sk-label sk-toggleable\"><input class=\"sk-toggleable__control sk-hidden--visually\" id=\"sk-estimator-id-37\" type=\"checkbox\" ><label for=\"sk-estimator-id-37\" class=\"sk-toggleable__label sk-toggleable__label-arrow\">cat</label><div class=\"sk-toggleable__content\"><pre>Index([&#x27;home_ownership&#x27;, &#x27;verification_status&#x27;, &#x27;pymnt_plan&#x27;, &#x27;purpose&#x27;,\n",
       "       &#x27;addr_state&#x27;],\n",
       "      dtype=&#x27;object&#x27;)</pre></div></div></div><div class=\"sk-serial\"><div class=\"sk-item\"><div class=\"sk-serial\"><div class=\"sk-item\"><div class=\"sk-estimator sk-toggleable\"><input class=\"sk-toggleable__control sk-hidden--visually\" id=\"sk-estimator-id-38\" type=\"checkbox\" ><label for=\"sk-estimator-id-38\" class=\"sk-toggleable__label sk-toggleable__label-arrow\">OneHotEncoder</label><div class=\"sk-toggleable__content\"><pre>OneHotEncoder(handle_unknown=&#x27;ignore&#x27;, sparse_output=False)</pre></div></div></div></div></div></div></div></div><div class=\"sk-parallel-item\"><div class=\"sk-item\"><div class=\"sk-label-container\"><div class=\"sk-label sk-toggleable\"><input class=\"sk-toggleable__control sk-hidden--visually\" id=\"sk-estimator-id-39\" type=\"checkbox\" ><label for=\"sk-estimator-id-39\" class=\"sk-toggleable__label sk-toggleable__label-arrow\">remainder</label><div class=\"sk-toggleable__content\"><pre>[&#x27;loan_amnt&#x27;, &#x27;funded_amnt&#x27;, &#x27;funded_amnt_inv&#x27;, &#x27;term&#x27;, &#x27;int_rate&#x27;, &#x27;installment&#x27;, &#x27;grade&#x27;, &#x27;annual_inc&#x27;, &#x27;dti&#x27;, &#x27;delinq_2yrs&#x27;, &#x27;inq_last_6mths&#x27;, &#x27;open_acc&#x27;, &#x27;pub_rec&#x27;, &#x27;revol_bal&#x27;, &#x27;revol_util&#x27;, &#x27;total_acc&#x27;, &#x27;acc_now_delinq&#x27;, &#x27;tot_cur_bal&#x27;, &#x27;total_rev_hi_lim&#x27;]</pre></div></div></div><div class=\"sk-serial\"><div class=\"sk-item\"><div class=\"sk-estimator sk-toggleable\"><input class=\"sk-toggleable__control sk-hidden--visually\" id=\"sk-estimator-id-40\" type=\"checkbox\" ><label for=\"sk-estimator-id-40\" class=\"sk-toggleable__label sk-toggleable__label-arrow\">passthrough</label><div class=\"sk-toggleable__content\"><pre>passthrough</pre></div></div></div></div></div></div></div></div><div class=\"sk-item\"><div class=\"sk-estimator sk-toggleable\"><input class=\"sk-toggleable__control sk-hidden--visually\" id=\"sk-estimator-id-41\" type=\"checkbox\" ><label for=\"sk-estimator-id-41\" class=\"sk-toggleable__label sk-toggleable__label-arrow\">RandomForestClassifier</label><div class=\"sk-toggleable__content\"><pre>RandomForestClassifier(n_jobs=-1, random_state=42)</pre></div></div></div></div></div></div></div>"
      ],
      "text/plain": [
       "Pipeline(steps=[('preprocessor',\n",
       "                 ColumnTransformer(remainder='passthrough',\n",
       "                                   transformers=[('cat',\n",
       "                                                  Pipeline(steps=[('onehot',\n",
       "                                                                   OneHotEncoder(handle_unknown='ignore',\n",
       "                                                                                 sparse_output=False))]),\n",
       "                                                  Index(['home_ownership', 'verification_status', 'pymnt_plan', 'purpose',\n",
       "       'addr_state'],\n",
       "      dtype='object'))])),\n",
       "                ('random_forest',\n",
       "                 RandomForestClassifier(n_jobs=-1, random_state=42))])"
      ]
     },
     "execution_count": 90,
     "metadata": {},
     "output_type": "execute_result"
    }
   ],
   "source": [
    "tree_pipeline1.fit(X_train, y_train)"
   ]
  },
  {
   "cell_type": "code",
   "execution_count": 91,
   "id": "45c76029",
   "metadata": {},
   "outputs": [
    {
     "name": "stdout",
     "output_type": "stream",
     "text": [
      "ROC AUC score for random forest: 0.7031239427625736\n"
     ]
    }
   ],
   "source": [
    "y_proba = tree_pipeline1.predict_proba(X_test)[:, 1]  # Assuming the positive class is at index 1\n",
    "\n",
    "# Calculate the ROC AUC score\n",
    "roc_auc = roc_auc_score(y_test, y_proba)\n",
    "\n",
    "print(f'ROC AUC score for random forest: {roc_auc}')"
   ]
  },
  {
   "cell_type": "code",
   "execution_count": 92,
   "id": "bf7def7a",
   "metadata": {},
   "outputs": [
    {
     "name": "stdout",
     "output_type": "stream",
     "text": [
      "Accuracy Score for random forest: 0.7791066694876231\n"
     ]
    }
   ],
   "source": [
    "y_pred_rf = tree_pipeline1.predict(X_test)\n",
    "accuracy = accuracy_score(y_test, y_pred_rf)\n",
    "print(f\"Accuracy Score for random forest: {accuracy}\")"
   ]
  },
  {
   "cell_type": "markdown",
   "id": "68ab6a1f",
   "metadata": {},
   "source": [
    "**GridsearchCV for Random Forest**"
   ]
  },
  {
   "cell_type": "markdown",
   "id": "0fde912a",
   "metadata": {},
   "source": [
    "As best Best parameters found in the first run:  \n",
    "\n",
    "*{'random_forest__max_depth': 30, 'random_forest__n_estimators': 300}*\n",
    "\n",
    "with *param_grid = {\n",
    "    'random_forest__n_estimators': [100, 200, 300],  \n",
    "    'random_forest__max_depth': [None, 10, 20, 30],}*\n",
    "    \n",
    "Will adjust param_grid accordingly."
   ]
  },
  {
   "cell_type": "code",
   "execution_count": 93,
   "id": "c37b3d08",
   "metadata": {},
   "outputs": [],
   "source": [
    "param_grid = {\n",
    "    'random_forest__n_estimators': [250, 300, 350],  # Slightly reduced and more focused range\n",
    "    'random_forest__max_depth': [15, 20, 25],  # Lower and narrower range to encourage simpler models\n",
    "    'random_forest__min_samples_split': [2, 4],  # Added to control tree depth\n",
    "    'random_forest__min_samples_leaf': [1, 2],  # Added to prevent overly complex models\n",
    "}\n",
    "\n",
    "# Set up the GridSearchCV object\n",
    "grid_search_RF = GridSearchCV(tree_pipeline1, param_grid, cv=5, scoring='roc_auc', n_jobs=-1)"
   ]
  },
  {
   "cell_type": "code",
   "execution_count": 94,
   "id": "4a4837e5",
   "metadata": {},
   "outputs": [
    {
     "name": "stderr",
     "output_type": "stream",
     "text": [
      "/Users/ritikaverma/anaconda3/lib/python3.11/site-packages/joblib/externals/loky/process_executor.py:700: UserWarning: A worker stopped while some jobs were given to the executor. This can be caused by a too short worker timeout or by a memory leak.\n",
      "  warnings.warn(\n"
     ]
    },
    {
     "data": {
      "text/html": [
       "<style>#sk-container-id-5 {color: black;}#sk-container-id-5 pre{padding: 0;}#sk-container-id-5 div.sk-toggleable {background-color: white;}#sk-container-id-5 label.sk-toggleable__label {cursor: pointer;display: block;width: 100%;margin-bottom: 0;padding: 0.3em;box-sizing: border-box;text-align: center;}#sk-container-id-5 label.sk-toggleable__label-arrow:before {content: \"▸\";float: left;margin-right: 0.25em;color: #696969;}#sk-container-id-5 label.sk-toggleable__label-arrow:hover:before {color: black;}#sk-container-id-5 div.sk-estimator:hover label.sk-toggleable__label-arrow:before {color: black;}#sk-container-id-5 div.sk-toggleable__content {max-height: 0;max-width: 0;overflow: hidden;text-align: left;background-color: #f0f8ff;}#sk-container-id-5 div.sk-toggleable__content pre {margin: 0.2em;color: black;border-radius: 0.25em;background-color: #f0f8ff;}#sk-container-id-5 input.sk-toggleable__control:checked~div.sk-toggleable__content {max-height: 200px;max-width: 100%;overflow: auto;}#sk-container-id-5 input.sk-toggleable__control:checked~label.sk-toggleable__label-arrow:before {content: \"▾\";}#sk-container-id-5 div.sk-estimator input.sk-toggleable__control:checked~label.sk-toggleable__label {background-color: #d4ebff;}#sk-container-id-5 div.sk-label input.sk-toggleable__control:checked~label.sk-toggleable__label {background-color: #d4ebff;}#sk-container-id-5 input.sk-hidden--visually {border: 0;clip: rect(1px 1px 1px 1px);clip: rect(1px, 1px, 1px, 1px);height: 1px;margin: -1px;overflow: hidden;padding: 0;position: absolute;width: 1px;}#sk-container-id-5 div.sk-estimator {font-family: monospace;background-color: #f0f8ff;border: 1px dotted black;border-radius: 0.25em;box-sizing: border-box;margin-bottom: 0.5em;}#sk-container-id-5 div.sk-estimator:hover {background-color: #d4ebff;}#sk-container-id-5 div.sk-parallel-item::after {content: \"\";width: 100%;border-bottom: 1px solid gray;flex-grow: 1;}#sk-container-id-5 div.sk-label:hover label.sk-toggleable__label {background-color: #d4ebff;}#sk-container-id-5 div.sk-serial::before {content: \"\";position: absolute;border-left: 1px solid gray;box-sizing: border-box;top: 0;bottom: 0;left: 50%;z-index: 0;}#sk-container-id-5 div.sk-serial {display: flex;flex-direction: column;align-items: center;background-color: white;padding-right: 0.2em;padding-left: 0.2em;position: relative;}#sk-container-id-5 div.sk-item {position: relative;z-index: 1;}#sk-container-id-5 div.sk-parallel {display: flex;align-items: stretch;justify-content: center;background-color: white;position: relative;}#sk-container-id-5 div.sk-item::before, #sk-container-id-5 div.sk-parallel-item::before {content: \"\";position: absolute;border-left: 1px solid gray;box-sizing: border-box;top: 0;bottom: 0;left: 50%;z-index: -1;}#sk-container-id-5 div.sk-parallel-item {display: flex;flex-direction: column;z-index: 1;position: relative;background-color: white;}#sk-container-id-5 div.sk-parallel-item:first-child::after {align-self: flex-end;width: 50%;}#sk-container-id-5 div.sk-parallel-item:last-child::after {align-self: flex-start;width: 50%;}#sk-container-id-5 div.sk-parallel-item:only-child::after {width: 0;}#sk-container-id-5 div.sk-dashed-wrapped {border: 1px dashed gray;margin: 0 0.4em 0.5em 0.4em;box-sizing: border-box;padding-bottom: 0.4em;background-color: white;}#sk-container-id-5 div.sk-label label {font-family: monospace;font-weight: bold;display: inline-block;line-height: 1.2em;}#sk-container-id-5 div.sk-label-container {text-align: center;}#sk-container-id-5 div.sk-container {/* jupyter's `normalize.less` sets `[hidden] { display: none; }` but bootstrap.min.css set `[hidden] { display: none !important; }` so we also need the `!important` here to be able to override the default hidden behavior on the sphinx rendered scikit-learn.org. See: https://github.com/scikit-learn/scikit-learn/issues/21755 */display: inline-block !important;position: relative;}#sk-container-id-5 div.sk-text-repr-fallback {display: none;}</style><div id=\"sk-container-id-5\" class=\"sk-top-container\"><div class=\"sk-text-repr-fallback\"><pre>GridSearchCV(cv=5,\n",
       "             estimator=Pipeline(steps=[(&#x27;preprocessor&#x27;,\n",
       "                                        ColumnTransformer(remainder=&#x27;passthrough&#x27;,\n",
       "                                                          transformers=[(&#x27;cat&#x27;,\n",
       "                                                                         Pipeline(steps=[(&#x27;onehot&#x27;,\n",
       "                                                                                          OneHotEncoder(handle_unknown=&#x27;ignore&#x27;,\n",
       "                                                                                                        sparse_output=False))]),\n",
       "                                                                         Index([&#x27;home_ownership&#x27;, &#x27;verification_status&#x27;, &#x27;pymnt_plan&#x27;, &#x27;purpose&#x27;,\n",
       "       &#x27;addr_state&#x27;],\n",
       "      dtype=&#x27;object&#x27;))])),\n",
       "                                       (&#x27;random_forest&#x27;,\n",
       "                                        RandomForestClassifier(n_jobs=-1,\n",
       "                                                               random_state=42))]),\n",
       "             n_jobs=-1,\n",
       "             param_grid={&#x27;random_forest__max_depth&#x27;: [15, 20, 25],\n",
       "                         &#x27;random_forest__min_samples_leaf&#x27;: [1, 2],\n",
       "                         &#x27;random_forest__min_samples_split&#x27;: [2, 4],\n",
       "                         &#x27;random_forest__n_estimators&#x27;: [250, 300, 350]},\n",
       "             scoring=&#x27;roc_auc&#x27;)</pre><b>In a Jupyter environment, please rerun this cell to show the HTML representation or trust the notebook. <br />On GitHub, the HTML representation is unable to render, please try loading this page with nbviewer.org.</b></div><div class=\"sk-container\" hidden><div class=\"sk-item sk-dashed-wrapped\"><div class=\"sk-label-container\"><div class=\"sk-label sk-toggleable\"><input class=\"sk-toggleable__control sk-hidden--visually\" id=\"sk-estimator-id-42\" type=\"checkbox\" ><label for=\"sk-estimator-id-42\" class=\"sk-toggleable__label sk-toggleable__label-arrow\">GridSearchCV</label><div class=\"sk-toggleable__content\"><pre>GridSearchCV(cv=5,\n",
       "             estimator=Pipeline(steps=[(&#x27;preprocessor&#x27;,\n",
       "                                        ColumnTransformer(remainder=&#x27;passthrough&#x27;,\n",
       "                                                          transformers=[(&#x27;cat&#x27;,\n",
       "                                                                         Pipeline(steps=[(&#x27;onehot&#x27;,\n",
       "                                                                                          OneHotEncoder(handle_unknown=&#x27;ignore&#x27;,\n",
       "                                                                                                        sparse_output=False))]),\n",
       "                                                                         Index([&#x27;home_ownership&#x27;, &#x27;verification_status&#x27;, &#x27;pymnt_plan&#x27;, &#x27;purpose&#x27;,\n",
       "       &#x27;addr_state&#x27;],\n",
       "      dtype=&#x27;object&#x27;))])),\n",
       "                                       (&#x27;random_forest&#x27;,\n",
       "                                        RandomForestClassifier(n_jobs=-1,\n",
       "                                                               random_state=42))]),\n",
       "             n_jobs=-1,\n",
       "             param_grid={&#x27;random_forest__max_depth&#x27;: [15, 20, 25],\n",
       "                         &#x27;random_forest__min_samples_leaf&#x27;: [1, 2],\n",
       "                         &#x27;random_forest__min_samples_split&#x27;: [2, 4],\n",
       "                         &#x27;random_forest__n_estimators&#x27;: [250, 300, 350]},\n",
       "             scoring=&#x27;roc_auc&#x27;)</pre></div></div></div><div class=\"sk-parallel\"><div class=\"sk-parallel-item\"><div class=\"sk-item\"><div class=\"sk-label-container\"><div class=\"sk-label sk-toggleable\"><input class=\"sk-toggleable__control sk-hidden--visually\" id=\"sk-estimator-id-43\" type=\"checkbox\" ><label for=\"sk-estimator-id-43\" class=\"sk-toggleable__label sk-toggleable__label-arrow\">estimator: Pipeline</label><div class=\"sk-toggleable__content\"><pre>Pipeline(steps=[(&#x27;preprocessor&#x27;,\n",
       "                 ColumnTransformer(remainder=&#x27;passthrough&#x27;,\n",
       "                                   transformers=[(&#x27;cat&#x27;,\n",
       "                                                  Pipeline(steps=[(&#x27;onehot&#x27;,\n",
       "                                                                   OneHotEncoder(handle_unknown=&#x27;ignore&#x27;,\n",
       "                                                                                 sparse_output=False))]),\n",
       "                                                  Index([&#x27;home_ownership&#x27;, &#x27;verification_status&#x27;, &#x27;pymnt_plan&#x27;, &#x27;purpose&#x27;,\n",
       "       &#x27;addr_state&#x27;],\n",
       "      dtype=&#x27;object&#x27;))])),\n",
       "                (&#x27;random_forest&#x27;,\n",
       "                 RandomForestClassifier(n_jobs=-1, random_state=42))])</pre></div></div></div><div class=\"sk-serial\"><div class=\"sk-item\"><div class=\"sk-serial\"><div class=\"sk-item sk-dashed-wrapped\"><div class=\"sk-label-container\"><div class=\"sk-label sk-toggleable\"><input class=\"sk-toggleable__control sk-hidden--visually\" id=\"sk-estimator-id-44\" type=\"checkbox\" ><label for=\"sk-estimator-id-44\" class=\"sk-toggleable__label sk-toggleable__label-arrow\">preprocessor: ColumnTransformer</label><div class=\"sk-toggleable__content\"><pre>ColumnTransformer(remainder=&#x27;passthrough&#x27;,\n",
       "                  transformers=[(&#x27;cat&#x27;,\n",
       "                                 Pipeline(steps=[(&#x27;onehot&#x27;,\n",
       "                                                  OneHotEncoder(handle_unknown=&#x27;ignore&#x27;,\n",
       "                                                                sparse_output=False))]),\n",
       "                                 Index([&#x27;home_ownership&#x27;, &#x27;verification_status&#x27;, &#x27;pymnt_plan&#x27;, &#x27;purpose&#x27;,\n",
       "       &#x27;addr_state&#x27;],\n",
       "      dtype=&#x27;object&#x27;))])</pre></div></div></div><div class=\"sk-parallel\"><div class=\"sk-parallel-item\"><div class=\"sk-item\"><div class=\"sk-label-container\"><div class=\"sk-label sk-toggleable\"><input class=\"sk-toggleable__control sk-hidden--visually\" id=\"sk-estimator-id-45\" type=\"checkbox\" ><label for=\"sk-estimator-id-45\" class=\"sk-toggleable__label sk-toggleable__label-arrow\">cat</label><div class=\"sk-toggleable__content\"><pre>Index([&#x27;home_ownership&#x27;, &#x27;verification_status&#x27;, &#x27;pymnt_plan&#x27;, &#x27;purpose&#x27;,\n",
       "       &#x27;addr_state&#x27;],\n",
       "      dtype=&#x27;object&#x27;)</pre></div></div></div><div class=\"sk-serial\"><div class=\"sk-item\"><div class=\"sk-serial\"><div class=\"sk-item\"><div class=\"sk-estimator sk-toggleable\"><input class=\"sk-toggleable__control sk-hidden--visually\" id=\"sk-estimator-id-46\" type=\"checkbox\" ><label for=\"sk-estimator-id-46\" class=\"sk-toggleable__label sk-toggleable__label-arrow\">OneHotEncoder</label><div class=\"sk-toggleable__content\"><pre>OneHotEncoder(handle_unknown=&#x27;ignore&#x27;, sparse_output=False)</pre></div></div></div></div></div></div></div></div><div class=\"sk-parallel-item\"><div class=\"sk-item\"><div class=\"sk-label-container\"><div class=\"sk-label sk-toggleable\"><input class=\"sk-toggleable__control sk-hidden--visually\" id=\"sk-estimator-id-47\" type=\"checkbox\" ><label for=\"sk-estimator-id-47\" class=\"sk-toggleable__label sk-toggleable__label-arrow\">remainder</label><div class=\"sk-toggleable__content\"><pre>[&#x27;loan_amnt&#x27;, &#x27;funded_amnt&#x27;, &#x27;funded_amnt_inv&#x27;, &#x27;term&#x27;, &#x27;int_rate&#x27;, &#x27;installment&#x27;, &#x27;grade&#x27;, &#x27;annual_inc&#x27;, &#x27;dti&#x27;, &#x27;delinq_2yrs&#x27;, &#x27;inq_last_6mths&#x27;, &#x27;open_acc&#x27;, &#x27;pub_rec&#x27;, &#x27;revol_bal&#x27;, &#x27;revol_util&#x27;, &#x27;total_acc&#x27;, &#x27;acc_now_delinq&#x27;, &#x27;tot_cur_bal&#x27;, &#x27;total_rev_hi_lim&#x27;]</pre></div></div></div><div class=\"sk-serial\"><div class=\"sk-item\"><div class=\"sk-estimator sk-toggleable\"><input class=\"sk-toggleable__control sk-hidden--visually\" id=\"sk-estimator-id-48\" type=\"checkbox\" ><label for=\"sk-estimator-id-48\" class=\"sk-toggleable__label sk-toggleable__label-arrow\">passthrough</label><div class=\"sk-toggleable__content\"><pre>passthrough</pre></div></div></div></div></div></div></div></div><div class=\"sk-item\"><div class=\"sk-estimator sk-toggleable\"><input class=\"sk-toggleable__control sk-hidden--visually\" id=\"sk-estimator-id-49\" type=\"checkbox\" ><label for=\"sk-estimator-id-49\" class=\"sk-toggleable__label sk-toggleable__label-arrow\">RandomForestClassifier</label><div class=\"sk-toggleable__content\"><pre>RandomForestClassifier(n_jobs=-1, random_state=42)</pre></div></div></div></div></div></div></div></div></div></div></div></div>"
      ],
      "text/plain": [
       "GridSearchCV(cv=5,\n",
       "             estimator=Pipeline(steps=[('preprocessor',\n",
       "                                        ColumnTransformer(remainder='passthrough',\n",
       "                                                          transformers=[('cat',\n",
       "                                                                         Pipeline(steps=[('onehot',\n",
       "                                                                                          OneHotEncoder(handle_unknown='ignore',\n",
       "                                                                                                        sparse_output=False))]),\n",
       "                                                                         Index(['home_ownership', 'verification_status', 'pymnt_plan', 'purpose',\n",
       "       'addr_state'],\n",
       "      dtype='object'))])),\n",
       "                                       ('random_forest',\n",
       "                                        RandomForestClassifier(n_jobs=-1,\n",
       "                                                               random_state=42))]),\n",
       "             n_jobs=-1,\n",
       "             param_grid={'random_forest__max_depth': [15, 20, 25],\n",
       "                         'random_forest__min_samples_leaf': [1, 2],\n",
       "                         'random_forest__min_samples_split': [2, 4],\n",
       "                         'random_forest__n_estimators': [250, 300, 350]},\n",
       "             scoring='roc_auc')"
      ]
     },
     "execution_count": 94,
     "metadata": {},
     "output_type": "execute_result"
    }
   ],
   "source": [
    "grid_search_RF.fit(X_train, y_train) "
   ]
  },
  {
   "cell_type": "code",
   "execution_count": 95,
   "id": "ac9e0f6d",
   "metadata": {},
   "outputs": [
    {
     "name": "stdout",
     "output_type": "stream",
     "text": [
      "ROC AUC score for random forest: 0.7132317107061115\n"
     ]
    }
   ],
   "source": [
    "y_proba_grid_RF = grid_search_RF.predict_proba(X_test)[:, 1]  # Assuming the positive class is at index 1\n",
    "\n",
    "# Calculate the ROC AUC score\n",
    "roc_auc = roc_auc_score(y_test, y_proba_grid_RF)\n",
    "\n",
    "print(f'ROC AUC score for random forest: {roc_auc}')"
   ]
  },
  {
   "cell_type": "code",
   "execution_count": 96,
   "id": "66f3a8a1",
   "metadata": {},
   "outputs": [
    {
     "name": "stdout",
     "output_type": "stream",
     "text": [
      "Best parameters found:  {'random_forest__max_depth': 20, 'random_forest__min_samples_leaf': 2, 'random_forest__min_samples_split': 2, 'random_forest__n_estimators': 350}\n"
     ]
    }
   ],
   "source": [
    "print(\"Best parameters found: \", grid_search_RF.best_params_)\n",
    "\n",
    "# Best estimator\n",
    "best_estimator = grid_search_RF.best_estimator_"
   ]
  },
  {
   "cell_type": "markdown",
   "id": "41797073",
   "metadata": {},
   "source": [
    "**GridSeacrhCV - Gradient Boosting**"
   ]
  },
  {
   "cell_type": "code",
   "execution_count": 97,
   "id": "8196b4a3",
   "metadata": {},
   "outputs": [],
   "source": [
    "from sklearn.ensemble import GradientBoostingClassifier\n",
    "\n",
    "gbrt = GradientBoostingClassifier(n_iter_no_change=10,tol=0.01, random_state=42)\n",
    "\n",
    "tree_pipeline = Pipeline(steps=[\n",
    "    ('preprocessor', preprocessor_tree),\n",
    "    ('gradient_boosting', gbrt)\n",
    "])"
   ]
  },
  {
   "cell_type": "code",
   "execution_count": 98,
   "id": "629e8ecc",
   "metadata": {},
   "outputs": [],
   "source": [
    "param_grid_GB = {\n",
    "    'gradient_boosting__max_depth': [1,2,3],  # Exploring depths around the initial value\n",
    "    'gradient_boosting__n_estimators': [200,300],  # Number of boosting stages to be run\n",
    "    'gradient_boosting__learning_rate': [0.1, 0.5 ,1],  # Shrinks the contribution of each tree\n",
    "}"
   ]
  },
  {
   "cell_type": "code",
   "execution_count": 99,
   "id": "f7ce42c9",
   "metadata": {},
   "outputs": [
    {
     "name": "stdout",
     "output_type": "stream",
     "text": [
      "Fitting 5 folds for each of 18 candidates, totalling 90 fits\n"
     ]
    },
    {
     "data": {
      "text/html": [
       "<style>#sk-container-id-6 {color: black;}#sk-container-id-6 pre{padding: 0;}#sk-container-id-6 div.sk-toggleable {background-color: white;}#sk-container-id-6 label.sk-toggleable__label {cursor: pointer;display: block;width: 100%;margin-bottom: 0;padding: 0.3em;box-sizing: border-box;text-align: center;}#sk-container-id-6 label.sk-toggleable__label-arrow:before {content: \"▸\";float: left;margin-right: 0.25em;color: #696969;}#sk-container-id-6 label.sk-toggleable__label-arrow:hover:before {color: black;}#sk-container-id-6 div.sk-estimator:hover label.sk-toggleable__label-arrow:before {color: black;}#sk-container-id-6 div.sk-toggleable__content {max-height: 0;max-width: 0;overflow: hidden;text-align: left;background-color: #f0f8ff;}#sk-container-id-6 div.sk-toggleable__content pre {margin: 0.2em;color: black;border-radius: 0.25em;background-color: #f0f8ff;}#sk-container-id-6 input.sk-toggleable__control:checked~div.sk-toggleable__content {max-height: 200px;max-width: 100%;overflow: auto;}#sk-container-id-6 input.sk-toggleable__control:checked~label.sk-toggleable__label-arrow:before {content: \"▾\";}#sk-container-id-6 div.sk-estimator input.sk-toggleable__control:checked~label.sk-toggleable__label {background-color: #d4ebff;}#sk-container-id-6 div.sk-label input.sk-toggleable__control:checked~label.sk-toggleable__label {background-color: #d4ebff;}#sk-container-id-6 input.sk-hidden--visually {border: 0;clip: rect(1px 1px 1px 1px);clip: rect(1px, 1px, 1px, 1px);height: 1px;margin: -1px;overflow: hidden;padding: 0;position: absolute;width: 1px;}#sk-container-id-6 div.sk-estimator {font-family: monospace;background-color: #f0f8ff;border: 1px dotted black;border-radius: 0.25em;box-sizing: border-box;margin-bottom: 0.5em;}#sk-container-id-6 div.sk-estimator:hover {background-color: #d4ebff;}#sk-container-id-6 div.sk-parallel-item::after {content: \"\";width: 100%;border-bottom: 1px solid gray;flex-grow: 1;}#sk-container-id-6 div.sk-label:hover label.sk-toggleable__label {background-color: #d4ebff;}#sk-container-id-6 div.sk-serial::before {content: \"\";position: absolute;border-left: 1px solid gray;box-sizing: border-box;top: 0;bottom: 0;left: 50%;z-index: 0;}#sk-container-id-6 div.sk-serial {display: flex;flex-direction: column;align-items: center;background-color: white;padding-right: 0.2em;padding-left: 0.2em;position: relative;}#sk-container-id-6 div.sk-item {position: relative;z-index: 1;}#sk-container-id-6 div.sk-parallel {display: flex;align-items: stretch;justify-content: center;background-color: white;position: relative;}#sk-container-id-6 div.sk-item::before, #sk-container-id-6 div.sk-parallel-item::before {content: \"\";position: absolute;border-left: 1px solid gray;box-sizing: border-box;top: 0;bottom: 0;left: 50%;z-index: -1;}#sk-container-id-6 div.sk-parallel-item {display: flex;flex-direction: column;z-index: 1;position: relative;background-color: white;}#sk-container-id-6 div.sk-parallel-item:first-child::after {align-self: flex-end;width: 50%;}#sk-container-id-6 div.sk-parallel-item:last-child::after {align-self: flex-start;width: 50%;}#sk-container-id-6 div.sk-parallel-item:only-child::after {width: 0;}#sk-container-id-6 div.sk-dashed-wrapped {border: 1px dashed gray;margin: 0 0.4em 0.5em 0.4em;box-sizing: border-box;padding-bottom: 0.4em;background-color: white;}#sk-container-id-6 div.sk-label label {font-family: monospace;font-weight: bold;display: inline-block;line-height: 1.2em;}#sk-container-id-6 div.sk-label-container {text-align: center;}#sk-container-id-6 div.sk-container {/* jupyter's `normalize.less` sets `[hidden] { display: none; }` but bootstrap.min.css set `[hidden] { display: none !important; }` so we also need the `!important` here to be able to override the default hidden behavior on the sphinx rendered scikit-learn.org. See: https://github.com/scikit-learn/scikit-learn/issues/21755 */display: inline-block !important;position: relative;}#sk-container-id-6 div.sk-text-repr-fallback {display: none;}</style><div id=\"sk-container-id-6\" class=\"sk-top-container\"><div class=\"sk-text-repr-fallback\"><pre>GridSearchCV(cv=5,\n",
       "             estimator=Pipeline(steps=[(&#x27;preprocessor&#x27;,\n",
       "                                        ColumnTransformer(remainder=&#x27;passthrough&#x27;,\n",
       "                                                          transformers=[(&#x27;cat&#x27;,\n",
       "                                                                         Pipeline(steps=[(&#x27;onehot&#x27;,\n",
       "                                                                                          OneHotEncoder(handle_unknown=&#x27;ignore&#x27;,\n",
       "                                                                                                        sparse_output=False))]),\n",
       "                                                                         Index([&#x27;home_ownership&#x27;, &#x27;verification_status&#x27;, &#x27;pymnt_plan&#x27;, &#x27;purpose&#x27;,\n",
       "       &#x27;addr_state&#x27;],\n",
       "      dtype=&#x27;object&#x27;))])),\n",
       "                                       (&#x27;gradient_boosting&#x27;,\n",
       "                                        GradientBoostingClassifier(n_iter_no_change=10,\n",
       "                                                                   random_state=42,\n",
       "                                                                   tol=0.01))]),\n",
       "             n_jobs=-1,\n",
       "             param_grid={&#x27;gradient_boosting__learning_rate&#x27;: [0.1, 0.5, 1],\n",
       "                         &#x27;gradient_boosting__max_depth&#x27;: [1, 2, 3],\n",
       "                         &#x27;gradient_boosting__n_estimators&#x27;: [200, 300]},\n",
       "             scoring=&#x27;roc_auc&#x27;, verbose=1)</pre><b>In a Jupyter environment, please rerun this cell to show the HTML representation or trust the notebook. <br />On GitHub, the HTML representation is unable to render, please try loading this page with nbviewer.org.</b></div><div class=\"sk-container\" hidden><div class=\"sk-item sk-dashed-wrapped\"><div class=\"sk-label-container\"><div class=\"sk-label sk-toggleable\"><input class=\"sk-toggleable__control sk-hidden--visually\" id=\"sk-estimator-id-50\" type=\"checkbox\" ><label for=\"sk-estimator-id-50\" class=\"sk-toggleable__label sk-toggleable__label-arrow\">GridSearchCV</label><div class=\"sk-toggleable__content\"><pre>GridSearchCV(cv=5,\n",
       "             estimator=Pipeline(steps=[(&#x27;preprocessor&#x27;,\n",
       "                                        ColumnTransformer(remainder=&#x27;passthrough&#x27;,\n",
       "                                                          transformers=[(&#x27;cat&#x27;,\n",
       "                                                                         Pipeline(steps=[(&#x27;onehot&#x27;,\n",
       "                                                                                          OneHotEncoder(handle_unknown=&#x27;ignore&#x27;,\n",
       "                                                                                                        sparse_output=False))]),\n",
       "                                                                         Index([&#x27;home_ownership&#x27;, &#x27;verification_status&#x27;, &#x27;pymnt_plan&#x27;, &#x27;purpose&#x27;,\n",
       "       &#x27;addr_state&#x27;],\n",
       "      dtype=&#x27;object&#x27;))])),\n",
       "                                       (&#x27;gradient_boosting&#x27;,\n",
       "                                        GradientBoostingClassifier(n_iter_no_change=10,\n",
       "                                                                   random_state=42,\n",
       "                                                                   tol=0.01))]),\n",
       "             n_jobs=-1,\n",
       "             param_grid={&#x27;gradient_boosting__learning_rate&#x27;: [0.1, 0.5, 1],\n",
       "                         &#x27;gradient_boosting__max_depth&#x27;: [1, 2, 3],\n",
       "                         &#x27;gradient_boosting__n_estimators&#x27;: [200, 300]},\n",
       "             scoring=&#x27;roc_auc&#x27;, verbose=1)</pre></div></div></div><div class=\"sk-parallel\"><div class=\"sk-parallel-item\"><div class=\"sk-item\"><div class=\"sk-label-container\"><div class=\"sk-label sk-toggleable\"><input class=\"sk-toggleable__control sk-hidden--visually\" id=\"sk-estimator-id-51\" type=\"checkbox\" ><label for=\"sk-estimator-id-51\" class=\"sk-toggleable__label sk-toggleable__label-arrow\">estimator: Pipeline</label><div class=\"sk-toggleable__content\"><pre>Pipeline(steps=[(&#x27;preprocessor&#x27;,\n",
       "                 ColumnTransformer(remainder=&#x27;passthrough&#x27;,\n",
       "                                   transformers=[(&#x27;cat&#x27;,\n",
       "                                                  Pipeline(steps=[(&#x27;onehot&#x27;,\n",
       "                                                                   OneHotEncoder(handle_unknown=&#x27;ignore&#x27;,\n",
       "                                                                                 sparse_output=False))]),\n",
       "                                                  Index([&#x27;home_ownership&#x27;, &#x27;verification_status&#x27;, &#x27;pymnt_plan&#x27;, &#x27;purpose&#x27;,\n",
       "       &#x27;addr_state&#x27;],\n",
       "      dtype=&#x27;object&#x27;))])),\n",
       "                (&#x27;gradient_boosting&#x27;,\n",
       "                 GradientBoostingClassifier(n_iter_no_change=10,\n",
       "                                            random_state=42, tol=0.01))])</pre></div></div></div><div class=\"sk-serial\"><div class=\"sk-item\"><div class=\"sk-serial\"><div class=\"sk-item sk-dashed-wrapped\"><div class=\"sk-label-container\"><div class=\"sk-label sk-toggleable\"><input class=\"sk-toggleable__control sk-hidden--visually\" id=\"sk-estimator-id-52\" type=\"checkbox\" ><label for=\"sk-estimator-id-52\" class=\"sk-toggleable__label sk-toggleable__label-arrow\">preprocessor: ColumnTransformer</label><div class=\"sk-toggleable__content\"><pre>ColumnTransformer(remainder=&#x27;passthrough&#x27;,\n",
       "                  transformers=[(&#x27;cat&#x27;,\n",
       "                                 Pipeline(steps=[(&#x27;onehot&#x27;,\n",
       "                                                  OneHotEncoder(handle_unknown=&#x27;ignore&#x27;,\n",
       "                                                                sparse_output=False))]),\n",
       "                                 Index([&#x27;home_ownership&#x27;, &#x27;verification_status&#x27;, &#x27;pymnt_plan&#x27;, &#x27;purpose&#x27;,\n",
       "       &#x27;addr_state&#x27;],\n",
       "      dtype=&#x27;object&#x27;))])</pre></div></div></div><div class=\"sk-parallel\"><div class=\"sk-parallel-item\"><div class=\"sk-item\"><div class=\"sk-label-container\"><div class=\"sk-label sk-toggleable\"><input class=\"sk-toggleable__control sk-hidden--visually\" id=\"sk-estimator-id-53\" type=\"checkbox\" ><label for=\"sk-estimator-id-53\" class=\"sk-toggleable__label sk-toggleable__label-arrow\">cat</label><div class=\"sk-toggleable__content\"><pre>Index([&#x27;home_ownership&#x27;, &#x27;verification_status&#x27;, &#x27;pymnt_plan&#x27;, &#x27;purpose&#x27;,\n",
       "       &#x27;addr_state&#x27;],\n",
       "      dtype=&#x27;object&#x27;)</pre></div></div></div><div class=\"sk-serial\"><div class=\"sk-item\"><div class=\"sk-serial\"><div class=\"sk-item\"><div class=\"sk-estimator sk-toggleable\"><input class=\"sk-toggleable__control sk-hidden--visually\" id=\"sk-estimator-id-54\" type=\"checkbox\" ><label for=\"sk-estimator-id-54\" class=\"sk-toggleable__label sk-toggleable__label-arrow\">OneHotEncoder</label><div class=\"sk-toggleable__content\"><pre>OneHotEncoder(handle_unknown=&#x27;ignore&#x27;, sparse_output=False)</pre></div></div></div></div></div></div></div></div><div class=\"sk-parallel-item\"><div class=\"sk-item\"><div class=\"sk-label-container\"><div class=\"sk-label sk-toggleable\"><input class=\"sk-toggleable__control sk-hidden--visually\" id=\"sk-estimator-id-55\" type=\"checkbox\" ><label for=\"sk-estimator-id-55\" class=\"sk-toggleable__label sk-toggleable__label-arrow\">remainder</label><div class=\"sk-toggleable__content\"><pre>[&#x27;loan_amnt&#x27;, &#x27;funded_amnt&#x27;, &#x27;funded_amnt_inv&#x27;, &#x27;term&#x27;, &#x27;int_rate&#x27;, &#x27;installment&#x27;, &#x27;grade&#x27;, &#x27;annual_inc&#x27;, &#x27;dti&#x27;, &#x27;delinq_2yrs&#x27;, &#x27;inq_last_6mths&#x27;, &#x27;open_acc&#x27;, &#x27;pub_rec&#x27;, &#x27;revol_bal&#x27;, &#x27;revol_util&#x27;, &#x27;total_acc&#x27;, &#x27;acc_now_delinq&#x27;, &#x27;tot_cur_bal&#x27;, &#x27;total_rev_hi_lim&#x27;]</pre></div></div></div><div class=\"sk-serial\"><div class=\"sk-item\"><div class=\"sk-estimator sk-toggleable\"><input class=\"sk-toggleable__control sk-hidden--visually\" id=\"sk-estimator-id-56\" type=\"checkbox\" ><label for=\"sk-estimator-id-56\" class=\"sk-toggleable__label sk-toggleable__label-arrow\">passthrough</label><div class=\"sk-toggleable__content\"><pre>passthrough</pre></div></div></div></div></div></div></div></div><div class=\"sk-item\"><div class=\"sk-estimator sk-toggleable\"><input class=\"sk-toggleable__control sk-hidden--visually\" id=\"sk-estimator-id-57\" type=\"checkbox\" ><label for=\"sk-estimator-id-57\" class=\"sk-toggleable__label sk-toggleable__label-arrow\">GradientBoostingClassifier</label><div class=\"sk-toggleable__content\"><pre>GradientBoostingClassifier(n_iter_no_change=10, random_state=42, tol=0.01)</pre></div></div></div></div></div></div></div></div></div></div></div></div>"
      ],
      "text/plain": [
       "GridSearchCV(cv=5,\n",
       "             estimator=Pipeline(steps=[('preprocessor',\n",
       "                                        ColumnTransformer(remainder='passthrough',\n",
       "                                                          transformers=[('cat',\n",
       "                                                                         Pipeline(steps=[('onehot',\n",
       "                                                                                          OneHotEncoder(handle_unknown='ignore',\n",
       "                                                                                                        sparse_output=False))]),\n",
       "                                                                         Index(['home_ownership', 'verification_status', 'pymnt_plan', 'purpose',\n",
       "       'addr_state'],\n",
       "      dtype='object'))])),\n",
       "                                       ('gradient_boosting',\n",
       "                                        GradientBoostingClassifier(n_iter_no_change=10,\n",
       "                                                                   random_state=42,\n",
       "                                                                   tol=0.01))]),\n",
       "             n_jobs=-1,\n",
       "             param_grid={'gradient_boosting__learning_rate': [0.1, 0.5, 1],\n",
       "                         'gradient_boosting__max_depth': [1, 2, 3],\n",
       "                         'gradient_boosting__n_estimators': [200, 300]},\n",
       "             scoring='roc_auc', verbose=1)"
      ]
     },
     "execution_count": 99,
     "metadata": {},
     "output_type": "execute_result"
    }
   ],
   "source": [
    "from sklearn.model_selection import GridSearchCV\n",
    "\n",
    "# Setup GridSearchCV\n",
    "grid_search_GB = GridSearchCV(tree_pipeline, param_grid_GB, cv=5, scoring='roc_auc', verbose=1, n_jobs=-1)\n",
    "\n",
    "# Assuming X_train, y_train are your training data and labels\n",
    "grid_search_GB.fit(X_train, y_train)"
   ]
  },
  {
   "cell_type": "code",
   "execution_count": 100,
   "id": "c7026283",
   "metadata": {
    "scrolled": true
   },
   "outputs": [
    {
     "name": "stdout",
     "output_type": "stream",
     "text": [
      "Best parameter for gradient boosting: {'gradient_boosting__learning_rate': 0.5, 'gradient_boosting__max_depth': 3, 'gradient_boosting__n_estimators': 200}\n",
      "Best score gradient boosting: 0.7077409226154497\n"
     ]
    }
   ],
   "source": [
    "print(\"Best parameter for gradient boosting:\", grid_search_GB.best_params_)\n",
    "print(\"Best score gradient boosting:\", grid_search_GB.best_score_)"
   ]
  },
  {
   "cell_type": "markdown",
   "id": "940e814a",
   "metadata": {},
   "source": [
    "Trying with more parameters to find if there is some better hyperparameter."
   ]
  },
  {
   "cell_type": "code",
   "execution_count": 101,
   "id": "c00b60ca",
   "metadata": {},
   "outputs": [
    {
     "name": "stdout",
     "output_type": "stream",
     "text": [
      "Fitting 5 folds for each of 27 candidates, totalling 135 fits\n"
     ]
    },
    {
     "data": {
      "text/html": [
       "<style>#sk-container-id-7 {color: black;}#sk-container-id-7 pre{padding: 0;}#sk-container-id-7 div.sk-toggleable {background-color: white;}#sk-container-id-7 label.sk-toggleable__label {cursor: pointer;display: block;width: 100%;margin-bottom: 0;padding: 0.3em;box-sizing: border-box;text-align: center;}#sk-container-id-7 label.sk-toggleable__label-arrow:before {content: \"▸\";float: left;margin-right: 0.25em;color: #696969;}#sk-container-id-7 label.sk-toggleable__label-arrow:hover:before {color: black;}#sk-container-id-7 div.sk-estimator:hover label.sk-toggleable__label-arrow:before {color: black;}#sk-container-id-7 div.sk-toggleable__content {max-height: 0;max-width: 0;overflow: hidden;text-align: left;background-color: #f0f8ff;}#sk-container-id-7 div.sk-toggleable__content pre {margin: 0.2em;color: black;border-radius: 0.25em;background-color: #f0f8ff;}#sk-container-id-7 input.sk-toggleable__control:checked~div.sk-toggleable__content {max-height: 200px;max-width: 100%;overflow: auto;}#sk-container-id-7 input.sk-toggleable__control:checked~label.sk-toggleable__label-arrow:before {content: \"▾\";}#sk-container-id-7 div.sk-estimator input.sk-toggleable__control:checked~label.sk-toggleable__label {background-color: #d4ebff;}#sk-container-id-7 div.sk-label input.sk-toggleable__control:checked~label.sk-toggleable__label {background-color: #d4ebff;}#sk-container-id-7 input.sk-hidden--visually {border: 0;clip: rect(1px 1px 1px 1px);clip: rect(1px, 1px, 1px, 1px);height: 1px;margin: -1px;overflow: hidden;padding: 0;position: absolute;width: 1px;}#sk-container-id-7 div.sk-estimator {font-family: monospace;background-color: #f0f8ff;border: 1px dotted black;border-radius: 0.25em;box-sizing: border-box;margin-bottom: 0.5em;}#sk-container-id-7 div.sk-estimator:hover {background-color: #d4ebff;}#sk-container-id-7 div.sk-parallel-item::after {content: \"\";width: 100%;border-bottom: 1px solid gray;flex-grow: 1;}#sk-container-id-7 div.sk-label:hover label.sk-toggleable__label {background-color: #d4ebff;}#sk-container-id-7 div.sk-serial::before {content: \"\";position: absolute;border-left: 1px solid gray;box-sizing: border-box;top: 0;bottom: 0;left: 50%;z-index: 0;}#sk-container-id-7 div.sk-serial {display: flex;flex-direction: column;align-items: center;background-color: white;padding-right: 0.2em;padding-left: 0.2em;position: relative;}#sk-container-id-7 div.sk-item {position: relative;z-index: 1;}#sk-container-id-7 div.sk-parallel {display: flex;align-items: stretch;justify-content: center;background-color: white;position: relative;}#sk-container-id-7 div.sk-item::before, #sk-container-id-7 div.sk-parallel-item::before {content: \"\";position: absolute;border-left: 1px solid gray;box-sizing: border-box;top: 0;bottom: 0;left: 50%;z-index: -1;}#sk-container-id-7 div.sk-parallel-item {display: flex;flex-direction: column;z-index: 1;position: relative;background-color: white;}#sk-container-id-7 div.sk-parallel-item:first-child::after {align-self: flex-end;width: 50%;}#sk-container-id-7 div.sk-parallel-item:last-child::after {align-self: flex-start;width: 50%;}#sk-container-id-7 div.sk-parallel-item:only-child::after {width: 0;}#sk-container-id-7 div.sk-dashed-wrapped {border: 1px dashed gray;margin: 0 0.4em 0.5em 0.4em;box-sizing: border-box;padding-bottom: 0.4em;background-color: white;}#sk-container-id-7 div.sk-label label {font-family: monospace;font-weight: bold;display: inline-block;line-height: 1.2em;}#sk-container-id-7 div.sk-label-container {text-align: center;}#sk-container-id-7 div.sk-container {/* jupyter's `normalize.less` sets `[hidden] { display: none; }` but bootstrap.min.css set `[hidden] { display: none !important; }` so we also need the `!important` here to be able to override the default hidden behavior on the sphinx rendered scikit-learn.org. See: https://github.com/scikit-learn/scikit-learn/issues/21755 */display: inline-block !important;position: relative;}#sk-container-id-7 div.sk-text-repr-fallback {display: none;}</style><div id=\"sk-container-id-7\" class=\"sk-top-container\"><div class=\"sk-text-repr-fallback\"><pre>GridSearchCV(cv=5,\n",
       "             estimator=Pipeline(steps=[(&#x27;preprocessor&#x27;,\n",
       "                                        ColumnTransformer(remainder=&#x27;passthrough&#x27;,\n",
       "                                                          transformers=[(&#x27;cat&#x27;,\n",
       "                                                                         Pipeline(steps=[(&#x27;onehot&#x27;,\n",
       "                                                                                          OneHotEncoder(handle_unknown=&#x27;ignore&#x27;,\n",
       "                                                                                                        sparse_output=False))]),\n",
       "                                                                         Index([&#x27;home_ownership&#x27;, &#x27;verification_status&#x27;, &#x27;pymnt_plan&#x27;, &#x27;purpose&#x27;,\n",
       "       &#x27;addr_state&#x27;],\n",
       "      dtype=&#x27;object&#x27;))])),\n",
       "                                       (&#x27;gradient_boosting&#x27;,\n",
       "                                        GradientBoostingClassifier(n_iter_no_change=10,\n",
       "                                                                   random_state=42,\n",
       "                                                                   tol=0.01))]),\n",
       "             n_jobs=-1,\n",
       "             param_grid={&#x27;gradient_boosting__learning_rate&#x27;: [0.45, 0.5, 0.55],\n",
       "                         &#x27;gradient_boosting__max_depth&#x27;: [2, 3, 4],\n",
       "                         &#x27;gradient_boosting__n_estimators&#x27;: [180, 200, 220]},\n",
       "             scoring=&#x27;roc_auc&#x27;, verbose=1)</pre><b>In a Jupyter environment, please rerun this cell to show the HTML representation or trust the notebook. <br />On GitHub, the HTML representation is unable to render, please try loading this page with nbviewer.org.</b></div><div class=\"sk-container\" hidden><div class=\"sk-item sk-dashed-wrapped\"><div class=\"sk-label-container\"><div class=\"sk-label sk-toggleable\"><input class=\"sk-toggleable__control sk-hidden--visually\" id=\"sk-estimator-id-58\" type=\"checkbox\" ><label for=\"sk-estimator-id-58\" class=\"sk-toggleable__label sk-toggleable__label-arrow\">GridSearchCV</label><div class=\"sk-toggleable__content\"><pre>GridSearchCV(cv=5,\n",
       "             estimator=Pipeline(steps=[(&#x27;preprocessor&#x27;,\n",
       "                                        ColumnTransformer(remainder=&#x27;passthrough&#x27;,\n",
       "                                                          transformers=[(&#x27;cat&#x27;,\n",
       "                                                                         Pipeline(steps=[(&#x27;onehot&#x27;,\n",
       "                                                                                          OneHotEncoder(handle_unknown=&#x27;ignore&#x27;,\n",
       "                                                                                                        sparse_output=False))]),\n",
       "                                                                         Index([&#x27;home_ownership&#x27;, &#x27;verification_status&#x27;, &#x27;pymnt_plan&#x27;, &#x27;purpose&#x27;,\n",
       "       &#x27;addr_state&#x27;],\n",
       "      dtype=&#x27;object&#x27;))])),\n",
       "                                       (&#x27;gradient_boosting&#x27;,\n",
       "                                        GradientBoostingClassifier(n_iter_no_change=10,\n",
       "                                                                   random_state=42,\n",
       "                                                                   tol=0.01))]),\n",
       "             n_jobs=-1,\n",
       "             param_grid={&#x27;gradient_boosting__learning_rate&#x27;: [0.45, 0.5, 0.55],\n",
       "                         &#x27;gradient_boosting__max_depth&#x27;: [2, 3, 4],\n",
       "                         &#x27;gradient_boosting__n_estimators&#x27;: [180, 200, 220]},\n",
       "             scoring=&#x27;roc_auc&#x27;, verbose=1)</pre></div></div></div><div class=\"sk-parallel\"><div class=\"sk-parallel-item\"><div class=\"sk-item\"><div class=\"sk-label-container\"><div class=\"sk-label sk-toggleable\"><input class=\"sk-toggleable__control sk-hidden--visually\" id=\"sk-estimator-id-59\" type=\"checkbox\" ><label for=\"sk-estimator-id-59\" class=\"sk-toggleable__label sk-toggleable__label-arrow\">estimator: Pipeline</label><div class=\"sk-toggleable__content\"><pre>Pipeline(steps=[(&#x27;preprocessor&#x27;,\n",
       "                 ColumnTransformer(remainder=&#x27;passthrough&#x27;,\n",
       "                                   transformers=[(&#x27;cat&#x27;,\n",
       "                                                  Pipeline(steps=[(&#x27;onehot&#x27;,\n",
       "                                                                   OneHotEncoder(handle_unknown=&#x27;ignore&#x27;,\n",
       "                                                                                 sparse_output=False))]),\n",
       "                                                  Index([&#x27;home_ownership&#x27;, &#x27;verification_status&#x27;, &#x27;pymnt_plan&#x27;, &#x27;purpose&#x27;,\n",
       "       &#x27;addr_state&#x27;],\n",
       "      dtype=&#x27;object&#x27;))])),\n",
       "                (&#x27;gradient_boosting&#x27;,\n",
       "                 GradientBoostingClassifier(n_iter_no_change=10,\n",
       "                                            random_state=42, tol=0.01))])</pre></div></div></div><div class=\"sk-serial\"><div class=\"sk-item\"><div class=\"sk-serial\"><div class=\"sk-item sk-dashed-wrapped\"><div class=\"sk-label-container\"><div class=\"sk-label sk-toggleable\"><input class=\"sk-toggleable__control sk-hidden--visually\" id=\"sk-estimator-id-60\" type=\"checkbox\" ><label for=\"sk-estimator-id-60\" class=\"sk-toggleable__label sk-toggleable__label-arrow\">preprocessor: ColumnTransformer</label><div class=\"sk-toggleable__content\"><pre>ColumnTransformer(remainder=&#x27;passthrough&#x27;,\n",
       "                  transformers=[(&#x27;cat&#x27;,\n",
       "                                 Pipeline(steps=[(&#x27;onehot&#x27;,\n",
       "                                                  OneHotEncoder(handle_unknown=&#x27;ignore&#x27;,\n",
       "                                                                sparse_output=False))]),\n",
       "                                 Index([&#x27;home_ownership&#x27;, &#x27;verification_status&#x27;, &#x27;pymnt_plan&#x27;, &#x27;purpose&#x27;,\n",
       "       &#x27;addr_state&#x27;],\n",
       "      dtype=&#x27;object&#x27;))])</pre></div></div></div><div class=\"sk-parallel\"><div class=\"sk-parallel-item\"><div class=\"sk-item\"><div class=\"sk-label-container\"><div class=\"sk-label sk-toggleable\"><input class=\"sk-toggleable__control sk-hidden--visually\" id=\"sk-estimator-id-61\" type=\"checkbox\" ><label for=\"sk-estimator-id-61\" class=\"sk-toggleable__label sk-toggleable__label-arrow\">cat</label><div class=\"sk-toggleable__content\"><pre>Index([&#x27;home_ownership&#x27;, &#x27;verification_status&#x27;, &#x27;pymnt_plan&#x27;, &#x27;purpose&#x27;,\n",
       "       &#x27;addr_state&#x27;],\n",
       "      dtype=&#x27;object&#x27;)</pre></div></div></div><div class=\"sk-serial\"><div class=\"sk-item\"><div class=\"sk-serial\"><div class=\"sk-item\"><div class=\"sk-estimator sk-toggleable\"><input class=\"sk-toggleable__control sk-hidden--visually\" id=\"sk-estimator-id-62\" type=\"checkbox\" ><label for=\"sk-estimator-id-62\" class=\"sk-toggleable__label sk-toggleable__label-arrow\">OneHotEncoder</label><div class=\"sk-toggleable__content\"><pre>OneHotEncoder(handle_unknown=&#x27;ignore&#x27;, sparse_output=False)</pre></div></div></div></div></div></div></div></div><div class=\"sk-parallel-item\"><div class=\"sk-item\"><div class=\"sk-label-container\"><div class=\"sk-label sk-toggleable\"><input class=\"sk-toggleable__control sk-hidden--visually\" id=\"sk-estimator-id-63\" type=\"checkbox\" ><label for=\"sk-estimator-id-63\" class=\"sk-toggleable__label sk-toggleable__label-arrow\">remainder</label><div class=\"sk-toggleable__content\"><pre>[&#x27;loan_amnt&#x27;, &#x27;funded_amnt&#x27;, &#x27;funded_amnt_inv&#x27;, &#x27;term&#x27;, &#x27;int_rate&#x27;, &#x27;installment&#x27;, &#x27;grade&#x27;, &#x27;annual_inc&#x27;, &#x27;dti&#x27;, &#x27;delinq_2yrs&#x27;, &#x27;inq_last_6mths&#x27;, &#x27;open_acc&#x27;, &#x27;pub_rec&#x27;, &#x27;revol_bal&#x27;, &#x27;revol_util&#x27;, &#x27;total_acc&#x27;, &#x27;acc_now_delinq&#x27;, &#x27;tot_cur_bal&#x27;, &#x27;total_rev_hi_lim&#x27;]</pre></div></div></div><div class=\"sk-serial\"><div class=\"sk-item\"><div class=\"sk-estimator sk-toggleable\"><input class=\"sk-toggleable__control sk-hidden--visually\" id=\"sk-estimator-id-64\" type=\"checkbox\" ><label for=\"sk-estimator-id-64\" class=\"sk-toggleable__label sk-toggleable__label-arrow\">passthrough</label><div class=\"sk-toggleable__content\"><pre>passthrough</pre></div></div></div></div></div></div></div></div><div class=\"sk-item\"><div class=\"sk-estimator sk-toggleable\"><input class=\"sk-toggleable__control sk-hidden--visually\" id=\"sk-estimator-id-65\" type=\"checkbox\" ><label for=\"sk-estimator-id-65\" class=\"sk-toggleable__label sk-toggleable__label-arrow\">GradientBoostingClassifier</label><div class=\"sk-toggleable__content\"><pre>GradientBoostingClassifier(n_iter_no_change=10, random_state=42, tol=0.01)</pre></div></div></div></div></div></div></div></div></div></div></div></div>"
      ],
      "text/plain": [
       "GridSearchCV(cv=5,\n",
       "             estimator=Pipeline(steps=[('preprocessor',\n",
       "                                        ColumnTransformer(remainder='passthrough',\n",
       "                                                          transformers=[('cat',\n",
       "                                                                         Pipeline(steps=[('onehot',\n",
       "                                                                                          OneHotEncoder(handle_unknown='ignore',\n",
       "                                                                                                        sparse_output=False))]),\n",
       "                                                                         Index(['home_ownership', 'verification_status', 'pymnt_plan', 'purpose',\n",
       "       'addr_state'],\n",
       "      dtype='object'))])),\n",
       "                                       ('gradient_boosting',\n",
       "                                        GradientBoostingClassifier(n_iter_no_change=10,\n",
       "                                                                   random_state=42,\n",
       "                                                                   tol=0.01))]),\n",
       "             n_jobs=-1,\n",
       "             param_grid={'gradient_boosting__learning_rate': [0.45, 0.5, 0.55],\n",
       "                         'gradient_boosting__max_depth': [2, 3, 4],\n",
       "                         'gradient_boosting__n_estimators': [180, 200, 220]},\n",
       "             scoring='roc_auc', verbose=1)"
      ]
     },
     "execution_count": 101,
     "metadata": {},
     "output_type": "execute_result"
    }
   ],
   "source": [
    "param_grid_GB1 = {\n",
    "    'gradient_boosting__max_depth': [2,3,4],  # Exploring depths around the initial value\n",
    "    'gradient_boosting__n_estimators': [180,200,220],  # Number of boosting stages to be run\n",
    "    'gradient_boosting__learning_rate': [0.45, 0.5, 0.55],  # Shrinks the contribution of each tree\n",
    "}\n",
    "\n",
    "from sklearn.model_selection import GridSearchCV\n",
    "\n",
    "# Setup GridSearchCV\n",
    "grid_search_GB1 = GridSearchCV(tree_pipeline, param_grid_GB1, cv=5, scoring='roc_auc', verbose=1, n_jobs=-1)\n",
    "\n",
    "# Assuming X_train, y_train are your training data and labels\n",
    "grid_search_GB1.fit(X_train, y_train)"
   ]
  },
  {
   "cell_type": "code",
   "execution_count": 102,
   "id": "13c962e5",
   "metadata": {},
   "outputs": [
    {
     "name": "stdout",
     "output_type": "stream",
     "text": [
      "Best parameter for gradient boosting: {'gradient_boosting__learning_rate': 0.5, 'gradient_boosting__max_depth': 4, 'gradient_boosting__n_estimators': 180}\n",
      "Best score gradient boosting: 0.7100041068241627\n"
     ]
    }
   ],
   "source": [
    "print(\"Best parameter for gradient boosting:\", grid_search_GB1.best_params_)\n",
    "print(\"Best score gradient boosting:\", grid_search_GB1.best_score_)"
   ]
  },
  {
   "cell_type": "markdown",
   "id": "9adccc49",
   "metadata": {},
   "source": [
    "**XGBoost**"
   ]
  },
  {
   "cell_type": "code",
   "execution_count": 109,
   "id": "4fa2e4d4",
   "metadata": {},
   "outputs": [],
   "source": [
    "from sklearn.feature_selection import SelectFromModel\n",
    "\n",
    "xgb_clf = XGBClassifier(random_state=42)\n",
    "\n",
    "# Create a pipeline\n",
    "XGBoost_pipeline = Pipeline(steps=[\n",
    "    ('preprocessor', preprocessor_tree),\n",
    "    ('xgb_classifier', xgb_clf)\n",
    "])"
   ]
  },
  {
   "cell_type": "code",
   "execution_count": 110,
   "id": "7f64a428",
   "metadata": {},
   "outputs": [
    {
     "data": {
      "text/html": [
       "<style>#sk-container-id-10 {color: black;}#sk-container-id-10 pre{padding: 0;}#sk-container-id-10 div.sk-toggleable {background-color: white;}#sk-container-id-10 label.sk-toggleable__label {cursor: pointer;display: block;width: 100%;margin-bottom: 0;padding: 0.3em;box-sizing: border-box;text-align: center;}#sk-container-id-10 label.sk-toggleable__label-arrow:before {content: \"▸\";float: left;margin-right: 0.25em;color: #696969;}#sk-container-id-10 label.sk-toggleable__label-arrow:hover:before {color: black;}#sk-container-id-10 div.sk-estimator:hover label.sk-toggleable__label-arrow:before {color: black;}#sk-container-id-10 div.sk-toggleable__content {max-height: 0;max-width: 0;overflow: hidden;text-align: left;background-color: #f0f8ff;}#sk-container-id-10 div.sk-toggleable__content pre {margin: 0.2em;color: black;border-radius: 0.25em;background-color: #f0f8ff;}#sk-container-id-10 input.sk-toggleable__control:checked~div.sk-toggleable__content {max-height: 200px;max-width: 100%;overflow: auto;}#sk-container-id-10 input.sk-toggleable__control:checked~label.sk-toggleable__label-arrow:before {content: \"▾\";}#sk-container-id-10 div.sk-estimator input.sk-toggleable__control:checked~label.sk-toggleable__label {background-color: #d4ebff;}#sk-container-id-10 div.sk-label input.sk-toggleable__control:checked~label.sk-toggleable__label {background-color: #d4ebff;}#sk-container-id-10 input.sk-hidden--visually {border: 0;clip: rect(1px 1px 1px 1px);clip: rect(1px, 1px, 1px, 1px);height: 1px;margin: -1px;overflow: hidden;padding: 0;position: absolute;width: 1px;}#sk-container-id-10 div.sk-estimator {font-family: monospace;background-color: #f0f8ff;border: 1px dotted black;border-radius: 0.25em;box-sizing: border-box;margin-bottom: 0.5em;}#sk-container-id-10 div.sk-estimator:hover {background-color: #d4ebff;}#sk-container-id-10 div.sk-parallel-item::after {content: \"\";width: 100%;border-bottom: 1px solid gray;flex-grow: 1;}#sk-container-id-10 div.sk-label:hover label.sk-toggleable__label {background-color: #d4ebff;}#sk-container-id-10 div.sk-serial::before {content: \"\";position: absolute;border-left: 1px solid gray;box-sizing: border-box;top: 0;bottom: 0;left: 50%;z-index: 0;}#sk-container-id-10 div.sk-serial {display: flex;flex-direction: column;align-items: center;background-color: white;padding-right: 0.2em;padding-left: 0.2em;position: relative;}#sk-container-id-10 div.sk-item {position: relative;z-index: 1;}#sk-container-id-10 div.sk-parallel {display: flex;align-items: stretch;justify-content: center;background-color: white;position: relative;}#sk-container-id-10 div.sk-item::before, #sk-container-id-10 div.sk-parallel-item::before {content: \"\";position: absolute;border-left: 1px solid gray;box-sizing: border-box;top: 0;bottom: 0;left: 50%;z-index: -1;}#sk-container-id-10 div.sk-parallel-item {display: flex;flex-direction: column;z-index: 1;position: relative;background-color: white;}#sk-container-id-10 div.sk-parallel-item:first-child::after {align-self: flex-end;width: 50%;}#sk-container-id-10 div.sk-parallel-item:last-child::after {align-self: flex-start;width: 50%;}#sk-container-id-10 div.sk-parallel-item:only-child::after {width: 0;}#sk-container-id-10 div.sk-dashed-wrapped {border: 1px dashed gray;margin: 0 0.4em 0.5em 0.4em;box-sizing: border-box;padding-bottom: 0.4em;background-color: white;}#sk-container-id-10 div.sk-label label {font-family: monospace;font-weight: bold;display: inline-block;line-height: 1.2em;}#sk-container-id-10 div.sk-label-container {text-align: center;}#sk-container-id-10 div.sk-container {/* jupyter's `normalize.less` sets `[hidden] { display: none; }` but bootstrap.min.css set `[hidden] { display: none !important; }` so we also need the `!important` here to be able to override the default hidden behavior on the sphinx rendered scikit-learn.org. See: https://github.com/scikit-learn/scikit-learn/issues/21755 */display: inline-block !important;position: relative;}#sk-container-id-10 div.sk-text-repr-fallback {display: none;}</style><div id=\"sk-container-id-10\" class=\"sk-top-container\"><div class=\"sk-text-repr-fallback\"><pre>Pipeline(steps=[(&#x27;preprocessor&#x27;,\n",
       "                 ColumnTransformer(remainder=&#x27;passthrough&#x27;,\n",
       "                                   transformers=[(&#x27;cat&#x27;,\n",
       "                                                  Pipeline(steps=[(&#x27;onehot&#x27;,\n",
       "                                                                   OneHotEncoder(handle_unknown=&#x27;ignore&#x27;,\n",
       "                                                                                 sparse_output=False))]),\n",
       "                                                  Index([&#x27;home_ownership&#x27;, &#x27;verification_status&#x27;, &#x27;pymnt_plan&#x27;, &#x27;purpose&#x27;,\n",
       "       &#x27;addr_state&#x27;],\n",
       "      dtype=&#x27;object&#x27;))])),\n",
       "                (&#x27;xgb_classifier&#x27;,\n",
       "                 XGBClassifier(base_score=None, booster=None, cal...\n",
       "                               feature_types=None, gamma=None, grow_policy=None,\n",
       "                               importance_type=None,\n",
       "                               interaction_constraints=None, learning_rate=None,\n",
       "                               max_bin=None, max_cat_threshold=None,\n",
       "                               max_cat_to_onehot=None, max_delta_step=None,\n",
       "                               max_depth=None, max_leaves=None,\n",
       "                               min_child_weight=None, missing=nan,\n",
       "                               monotone_constraints=None, multi_strategy=None,\n",
       "                               n_estimators=None, n_jobs=None,\n",
       "                               num_parallel_tree=None, random_state=42, ...))])</pre><b>In a Jupyter environment, please rerun this cell to show the HTML representation or trust the notebook. <br />On GitHub, the HTML representation is unable to render, please try loading this page with nbviewer.org.</b></div><div class=\"sk-container\" hidden><div class=\"sk-item sk-dashed-wrapped\"><div class=\"sk-label-container\"><div class=\"sk-label sk-toggleable\"><input class=\"sk-toggleable__control sk-hidden--visually\" id=\"sk-estimator-id-87\" type=\"checkbox\" ><label for=\"sk-estimator-id-87\" class=\"sk-toggleable__label sk-toggleable__label-arrow\">Pipeline</label><div class=\"sk-toggleable__content\"><pre>Pipeline(steps=[(&#x27;preprocessor&#x27;,\n",
       "                 ColumnTransformer(remainder=&#x27;passthrough&#x27;,\n",
       "                                   transformers=[(&#x27;cat&#x27;,\n",
       "                                                  Pipeline(steps=[(&#x27;onehot&#x27;,\n",
       "                                                                   OneHotEncoder(handle_unknown=&#x27;ignore&#x27;,\n",
       "                                                                                 sparse_output=False))]),\n",
       "                                                  Index([&#x27;home_ownership&#x27;, &#x27;verification_status&#x27;, &#x27;pymnt_plan&#x27;, &#x27;purpose&#x27;,\n",
       "       &#x27;addr_state&#x27;],\n",
       "      dtype=&#x27;object&#x27;))])),\n",
       "                (&#x27;xgb_classifier&#x27;,\n",
       "                 XGBClassifier(base_score=None, booster=None, cal...\n",
       "                               feature_types=None, gamma=None, grow_policy=None,\n",
       "                               importance_type=None,\n",
       "                               interaction_constraints=None, learning_rate=None,\n",
       "                               max_bin=None, max_cat_threshold=None,\n",
       "                               max_cat_to_onehot=None, max_delta_step=None,\n",
       "                               max_depth=None, max_leaves=None,\n",
       "                               min_child_weight=None, missing=nan,\n",
       "                               monotone_constraints=None, multi_strategy=None,\n",
       "                               n_estimators=None, n_jobs=None,\n",
       "                               num_parallel_tree=None, random_state=42, ...))])</pre></div></div></div><div class=\"sk-serial\"><div class=\"sk-item sk-dashed-wrapped\"><div class=\"sk-label-container\"><div class=\"sk-label sk-toggleable\"><input class=\"sk-toggleable__control sk-hidden--visually\" id=\"sk-estimator-id-88\" type=\"checkbox\" ><label for=\"sk-estimator-id-88\" class=\"sk-toggleable__label sk-toggleable__label-arrow\">preprocessor: ColumnTransformer</label><div class=\"sk-toggleable__content\"><pre>ColumnTransformer(remainder=&#x27;passthrough&#x27;,\n",
       "                  transformers=[(&#x27;cat&#x27;,\n",
       "                                 Pipeline(steps=[(&#x27;onehot&#x27;,\n",
       "                                                  OneHotEncoder(handle_unknown=&#x27;ignore&#x27;,\n",
       "                                                                sparse_output=False))]),\n",
       "                                 Index([&#x27;home_ownership&#x27;, &#x27;verification_status&#x27;, &#x27;pymnt_plan&#x27;, &#x27;purpose&#x27;,\n",
       "       &#x27;addr_state&#x27;],\n",
       "      dtype=&#x27;object&#x27;))])</pre></div></div></div><div class=\"sk-parallel\"><div class=\"sk-parallel-item\"><div class=\"sk-item\"><div class=\"sk-label-container\"><div class=\"sk-label sk-toggleable\"><input class=\"sk-toggleable__control sk-hidden--visually\" id=\"sk-estimator-id-89\" type=\"checkbox\" ><label for=\"sk-estimator-id-89\" class=\"sk-toggleable__label sk-toggleable__label-arrow\">cat</label><div class=\"sk-toggleable__content\"><pre>Index([&#x27;home_ownership&#x27;, &#x27;verification_status&#x27;, &#x27;pymnt_plan&#x27;, &#x27;purpose&#x27;,\n",
       "       &#x27;addr_state&#x27;],\n",
       "      dtype=&#x27;object&#x27;)</pre></div></div></div><div class=\"sk-serial\"><div class=\"sk-item\"><div class=\"sk-serial\"><div class=\"sk-item\"><div class=\"sk-estimator sk-toggleable\"><input class=\"sk-toggleable__control sk-hidden--visually\" id=\"sk-estimator-id-90\" type=\"checkbox\" ><label for=\"sk-estimator-id-90\" class=\"sk-toggleable__label sk-toggleable__label-arrow\">OneHotEncoder</label><div class=\"sk-toggleable__content\"><pre>OneHotEncoder(handle_unknown=&#x27;ignore&#x27;, sparse_output=False)</pre></div></div></div></div></div></div></div></div><div class=\"sk-parallel-item\"><div class=\"sk-item\"><div class=\"sk-label-container\"><div class=\"sk-label sk-toggleable\"><input class=\"sk-toggleable__control sk-hidden--visually\" id=\"sk-estimator-id-91\" type=\"checkbox\" ><label for=\"sk-estimator-id-91\" class=\"sk-toggleable__label sk-toggleable__label-arrow\">remainder</label><div class=\"sk-toggleable__content\"><pre>[&#x27;loan_amnt&#x27;, &#x27;funded_amnt&#x27;, &#x27;funded_amnt_inv&#x27;, &#x27;term&#x27;, &#x27;int_rate&#x27;, &#x27;installment&#x27;, &#x27;grade&#x27;, &#x27;annual_inc&#x27;, &#x27;dti&#x27;, &#x27;delinq_2yrs&#x27;, &#x27;inq_last_6mths&#x27;, &#x27;open_acc&#x27;, &#x27;pub_rec&#x27;, &#x27;revol_bal&#x27;, &#x27;revol_util&#x27;, &#x27;total_acc&#x27;, &#x27;acc_now_delinq&#x27;, &#x27;tot_cur_bal&#x27;, &#x27;total_rev_hi_lim&#x27;]</pre></div></div></div><div class=\"sk-serial\"><div class=\"sk-item\"><div class=\"sk-estimator sk-toggleable\"><input class=\"sk-toggleable__control sk-hidden--visually\" id=\"sk-estimator-id-92\" type=\"checkbox\" ><label for=\"sk-estimator-id-92\" class=\"sk-toggleable__label sk-toggleable__label-arrow\">passthrough</label><div class=\"sk-toggleable__content\"><pre>passthrough</pre></div></div></div></div></div></div></div></div><div class=\"sk-item\"><div class=\"sk-estimator sk-toggleable\"><input class=\"sk-toggleable__control sk-hidden--visually\" id=\"sk-estimator-id-93\" type=\"checkbox\" ><label for=\"sk-estimator-id-93\" class=\"sk-toggleable__label sk-toggleable__label-arrow\">XGBClassifier</label><div class=\"sk-toggleable__content\"><pre>XGBClassifier(base_score=None, booster=None, callbacks=None,\n",
       "              colsample_bylevel=None, colsample_bynode=None,\n",
       "              colsample_bytree=None, device=None, early_stopping_rounds=None,\n",
       "              enable_categorical=False, eval_metric=None, feature_types=None,\n",
       "              gamma=None, grow_policy=None, importance_type=None,\n",
       "              interaction_constraints=None, learning_rate=None, max_bin=None,\n",
       "              max_cat_threshold=None, max_cat_to_onehot=None,\n",
       "              max_delta_step=None, max_depth=None, max_leaves=None,\n",
       "              min_child_weight=None, missing=nan, monotone_constraints=None,\n",
       "              multi_strategy=None, n_estimators=None, n_jobs=None,\n",
       "              num_parallel_tree=None, random_state=42, ...)</pre></div></div></div></div></div></div></div>"
      ],
      "text/plain": [
       "Pipeline(steps=[('preprocessor',\n",
       "                 ColumnTransformer(remainder='passthrough',\n",
       "                                   transformers=[('cat',\n",
       "                                                  Pipeline(steps=[('onehot',\n",
       "                                                                   OneHotEncoder(handle_unknown='ignore',\n",
       "                                                                                 sparse_output=False))]),\n",
       "                                                  Index(['home_ownership', 'verification_status', 'pymnt_plan', 'purpose',\n",
       "       'addr_state'],\n",
       "      dtype='object'))])),\n",
       "                ('xgb_classifier',\n",
       "                 XGBClassifier(base_score=None, booster=None, cal...\n",
       "                               feature_types=None, gamma=None, grow_policy=None,\n",
       "                               importance_type=None,\n",
       "                               interaction_constraints=None, learning_rate=None,\n",
       "                               max_bin=None, max_cat_threshold=None,\n",
       "                               max_cat_to_onehot=None, max_delta_step=None,\n",
       "                               max_depth=None, max_leaves=None,\n",
       "                               min_child_weight=None, missing=nan,\n",
       "                               monotone_constraints=None, multi_strategy=None,\n",
       "                               n_estimators=None, n_jobs=None,\n",
       "                               num_parallel_tree=None, random_state=42, ...))])"
      ]
     },
     "execution_count": 110,
     "metadata": {},
     "output_type": "execute_result"
    }
   ],
   "source": [
    "XGBoost_pipeline.fit(X_train, y_train)"
   ]
  },
  {
   "cell_type": "code",
   "execution_count": 111,
   "id": "fa246630",
   "metadata": {},
   "outputs": [
    {
     "name": "stdout",
     "output_type": "stream",
     "text": [
      "ROC AUC score: 0.7126377089961942\n"
     ]
    }
   ],
   "source": [
    "# Predict probabilities for the positive class\n",
    "y_proba = XGBoost_pipeline.predict_proba(X_test)[:, 1]\n",
    "\n",
    "roc_auc = roc_auc_score(y_test, y_proba)\n",
    "\n",
    "print(f'ROC AUC score: {roc_auc}')"
   ]
  },
  {
   "cell_type": "markdown",
   "id": "77ebc982",
   "metadata": {},
   "source": [
    "**XGBoost - GridSearchCV**"
   ]
  },
  {
   "cell_type": "code",
   "execution_count": 182,
   "id": "53b2abc9",
   "metadata": {},
   "outputs": [],
   "source": [
    "param_grid_xgb = {\n",
    "    'xgb_classifier__learning_rate': [0.01,0.05],\n",
    "    'xgb_classifier__n_estimators': [300,500],\n",
    "    'xgb_classifier__max_depth': [3, 6],\n",
    "    'xgb_classifier__subsample': [0.7, 0.8],\n",
    "    'xgb_classifier__gamma': [0, 0.1],\n",
    "    'xgb_classifier__reg_alpha': [0, 0.1],\n",
    "    'xgb_classifier__reg_lambda': [1, 0.1],\n",
    "}\n",
    "\n",
    "grid_search_xgb = GridSearchCV(XGBoost_pipeline, param_grid_xgb, cv=5, scoring='roc_auc', verbose=1, n_jobs=-1)"
   ]
  },
  {
   "cell_type": "code",
   "execution_count": 183,
   "id": "d85d2360",
   "metadata": {},
   "outputs": [
    {
     "name": "stdout",
     "output_type": "stream",
     "text": [
      "Fitting 5 folds for each of 128 candidates, totalling 640 fits\n"
     ]
    },
    {
     "data": {
      "text/html": [
       "<style>#sk-container-id-19 {color: black;}#sk-container-id-19 pre{padding: 0;}#sk-container-id-19 div.sk-toggleable {background-color: white;}#sk-container-id-19 label.sk-toggleable__label {cursor: pointer;display: block;width: 100%;margin-bottom: 0;padding: 0.3em;box-sizing: border-box;text-align: center;}#sk-container-id-19 label.sk-toggleable__label-arrow:before {content: \"▸\";float: left;margin-right: 0.25em;color: #696969;}#sk-container-id-19 label.sk-toggleable__label-arrow:hover:before {color: black;}#sk-container-id-19 div.sk-estimator:hover label.sk-toggleable__label-arrow:before {color: black;}#sk-container-id-19 div.sk-toggleable__content {max-height: 0;max-width: 0;overflow: hidden;text-align: left;background-color: #f0f8ff;}#sk-container-id-19 div.sk-toggleable__content pre {margin: 0.2em;color: black;border-radius: 0.25em;background-color: #f0f8ff;}#sk-container-id-19 input.sk-toggleable__control:checked~div.sk-toggleable__content {max-height: 200px;max-width: 100%;overflow: auto;}#sk-container-id-19 input.sk-toggleable__control:checked~label.sk-toggleable__label-arrow:before {content: \"▾\";}#sk-container-id-19 div.sk-estimator input.sk-toggleable__control:checked~label.sk-toggleable__label {background-color: #d4ebff;}#sk-container-id-19 div.sk-label input.sk-toggleable__control:checked~label.sk-toggleable__label {background-color: #d4ebff;}#sk-container-id-19 input.sk-hidden--visually {border: 0;clip: rect(1px 1px 1px 1px);clip: rect(1px, 1px, 1px, 1px);height: 1px;margin: -1px;overflow: hidden;padding: 0;position: absolute;width: 1px;}#sk-container-id-19 div.sk-estimator {font-family: monospace;background-color: #f0f8ff;border: 1px dotted black;border-radius: 0.25em;box-sizing: border-box;margin-bottom: 0.5em;}#sk-container-id-19 div.sk-estimator:hover {background-color: #d4ebff;}#sk-container-id-19 div.sk-parallel-item::after {content: \"\";width: 100%;border-bottom: 1px solid gray;flex-grow: 1;}#sk-container-id-19 div.sk-label:hover label.sk-toggleable__label {background-color: #d4ebff;}#sk-container-id-19 div.sk-serial::before {content: \"\";position: absolute;border-left: 1px solid gray;box-sizing: border-box;top: 0;bottom: 0;left: 50%;z-index: 0;}#sk-container-id-19 div.sk-serial {display: flex;flex-direction: column;align-items: center;background-color: white;padding-right: 0.2em;padding-left: 0.2em;position: relative;}#sk-container-id-19 div.sk-item {position: relative;z-index: 1;}#sk-container-id-19 div.sk-parallel {display: flex;align-items: stretch;justify-content: center;background-color: white;position: relative;}#sk-container-id-19 div.sk-item::before, #sk-container-id-19 div.sk-parallel-item::before {content: \"\";position: absolute;border-left: 1px solid gray;box-sizing: border-box;top: 0;bottom: 0;left: 50%;z-index: -1;}#sk-container-id-19 div.sk-parallel-item {display: flex;flex-direction: column;z-index: 1;position: relative;background-color: white;}#sk-container-id-19 div.sk-parallel-item:first-child::after {align-self: flex-end;width: 50%;}#sk-container-id-19 div.sk-parallel-item:last-child::after {align-self: flex-start;width: 50%;}#sk-container-id-19 div.sk-parallel-item:only-child::after {width: 0;}#sk-container-id-19 div.sk-dashed-wrapped {border: 1px dashed gray;margin: 0 0.4em 0.5em 0.4em;box-sizing: border-box;padding-bottom: 0.4em;background-color: white;}#sk-container-id-19 div.sk-label label {font-family: monospace;font-weight: bold;display: inline-block;line-height: 1.2em;}#sk-container-id-19 div.sk-label-container {text-align: center;}#sk-container-id-19 div.sk-container {/* jupyter's `normalize.less` sets `[hidden] { display: none; }` but bootstrap.min.css set `[hidden] { display: none !important; }` so we also need the `!important` here to be able to override the default hidden behavior on the sphinx rendered scikit-learn.org. See: https://github.com/scikit-learn/scikit-learn/issues/21755 */display: inline-block !important;position: relative;}#sk-container-id-19 div.sk-text-repr-fallback {display: none;}</style><div id=\"sk-container-id-19\" class=\"sk-top-container\"><div class=\"sk-text-repr-fallback\"><pre>GridSearchCV(cv=5,\n",
       "             estimator=Pipeline(steps=[(&#x27;preprocessor&#x27;,\n",
       "                                        ColumnTransformer(remainder=&#x27;passthrough&#x27;,\n",
       "                                                          transformers=[(&#x27;cat&#x27;,\n",
       "                                                                         Pipeline(steps=[(&#x27;onehot&#x27;,\n",
       "                                                                                          OneHotEncoder(handle_unknown=&#x27;ignore&#x27;,\n",
       "                                                                                                        sparse_output=False))]),\n",
       "                                                                         Index([&#x27;home_ownership&#x27;, &#x27;verification_status&#x27;, &#x27;pymnt_plan&#x27;, &#x27;purpose&#x27;,\n",
       "       &#x27;addr_state&#x27;],\n",
       "      dtype=&#x27;object&#x27;))])),\n",
       "                                       (&#x27;xgb_classifier&#x27;,\n",
       "                                        XGBClassifier(base...\n",
       "                                                      num_parallel_tree=None,\n",
       "                                                      random_state=42, ...))]),\n",
       "             n_jobs=-1,\n",
       "             param_grid={&#x27;xgb_classifier__gamma&#x27;: [0, 0.1],\n",
       "                         &#x27;xgb_classifier__learning_rate&#x27;: [0.01, 0.05],\n",
       "                         &#x27;xgb_classifier__max_depth&#x27;: [3, 6],\n",
       "                         &#x27;xgb_classifier__n_estimators&#x27;: [300, 500],\n",
       "                         &#x27;xgb_classifier__reg_alpha&#x27;: [0, 0.1],\n",
       "                         &#x27;xgb_classifier__reg_lambda&#x27;: [1, 0.1],\n",
       "                         &#x27;xgb_classifier__subsample&#x27;: [0.7, 0.8]},\n",
       "             scoring=&#x27;roc_auc&#x27;, verbose=1)</pre><b>In a Jupyter environment, please rerun this cell to show the HTML representation or trust the notebook. <br />On GitHub, the HTML representation is unable to render, please try loading this page with nbviewer.org.</b></div><div class=\"sk-container\" hidden><div class=\"sk-item sk-dashed-wrapped\"><div class=\"sk-label-container\"><div class=\"sk-label sk-toggleable\"><input class=\"sk-toggleable__control sk-hidden--visually\" id=\"sk-estimator-id-164\" type=\"checkbox\" ><label for=\"sk-estimator-id-164\" class=\"sk-toggleable__label sk-toggleable__label-arrow\">GridSearchCV</label><div class=\"sk-toggleable__content\"><pre>GridSearchCV(cv=5,\n",
       "             estimator=Pipeline(steps=[(&#x27;preprocessor&#x27;,\n",
       "                                        ColumnTransformer(remainder=&#x27;passthrough&#x27;,\n",
       "                                                          transformers=[(&#x27;cat&#x27;,\n",
       "                                                                         Pipeline(steps=[(&#x27;onehot&#x27;,\n",
       "                                                                                          OneHotEncoder(handle_unknown=&#x27;ignore&#x27;,\n",
       "                                                                                                        sparse_output=False))]),\n",
       "                                                                         Index([&#x27;home_ownership&#x27;, &#x27;verification_status&#x27;, &#x27;pymnt_plan&#x27;, &#x27;purpose&#x27;,\n",
       "       &#x27;addr_state&#x27;],\n",
       "      dtype=&#x27;object&#x27;))])),\n",
       "                                       (&#x27;xgb_classifier&#x27;,\n",
       "                                        XGBClassifier(base...\n",
       "                                                      num_parallel_tree=None,\n",
       "                                                      random_state=42, ...))]),\n",
       "             n_jobs=-1,\n",
       "             param_grid={&#x27;xgb_classifier__gamma&#x27;: [0, 0.1],\n",
       "                         &#x27;xgb_classifier__learning_rate&#x27;: [0.01, 0.05],\n",
       "                         &#x27;xgb_classifier__max_depth&#x27;: [3, 6],\n",
       "                         &#x27;xgb_classifier__n_estimators&#x27;: [300, 500],\n",
       "                         &#x27;xgb_classifier__reg_alpha&#x27;: [0, 0.1],\n",
       "                         &#x27;xgb_classifier__reg_lambda&#x27;: [1, 0.1],\n",
       "                         &#x27;xgb_classifier__subsample&#x27;: [0.7, 0.8]},\n",
       "             scoring=&#x27;roc_auc&#x27;, verbose=1)</pre></div></div></div><div class=\"sk-parallel\"><div class=\"sk-parallel-item\"><div class=\"sk-item\"><div class=\"sk-label-container\"><div class=\"sk-label sk-toggleable\"><input class=\"sk-toggleable__control sk-hidden--visually\" id=\"sk-estimator-id-165\" type=\"checkbox\" ><label for=\"sk-estimator-id-165\" class=\"sk-toggleable__label sk-toggleable__label-arrow\">estimator: Pipeline</label><div class=\"sk-toggleable__content\"><pre>Pipeline(steps=[(&#x27;preprocessor&#x27;,\n",
       "                 ColumnTransformer(remainder=&#x27;passthrough&#x27;,\n",
       "                                   transformers=[(&#x27;cat&#x27;,\n",
       "                                                  Pipeline(steps=[(&#x27;onehot&#x27;,\n",
       "                                                                   OneHotEncoder(handle_unknown=&#x27;ignore&#x27;,\n",
       "                                                                                 sparse_output=False))]),\n",
       "                                                  Index([&#x27;home_ownership&#x27;, &#x27;verification_status&#x27;, &#x27;pymnt_plan&#x27;, &#x27;purpose&#x27;,\n",
       "       &#x27;addr_state&#x27;],\n",
       "      dtype=&#x27;object&#x27;))])),\n",
       "                (&#x27;xgb_classifier&#x27;,\n",
       "                 XGBClassifier(base_score=None, booster=None, cal...\n",
       "                               feature_types=None, gamma=None, grow_policy=None,\n",
       "                               importance_type=None,\n",
       "                               interaction_constraints=None, learning_rate=None,\n",
       "                               max_bin=None, max_cat_threshold=None,\n",
       "                               max_cat_to_onehot=None, max_delta_step=None,\n",
       "                               max_depth=None, max_leaves=None,\n",
       "                               min_child_weight=None, missing=nan,\n",
       "                               monotone_constraints=None, multi_strategy=None,\n",
       "                               n_estimators=None, n_jobs=None,\n",
       "                               num_parallel_tree=None, random_state=42, ...))])</pre></div></div></div><div class=\"sk-serial\"><div class=\"sk-item\"><div class=\"sk-serial\"><div class=\"sk-item sk-dashed-wrapped\"><div class=\"sk-label-container\"><div class=\"sk-label sk-toggleable\"><input class=\"sk-toggleable__control sk-hidden--visually\" id=\"sk-estimator-id-166\" type=\"checkbox\" ><label for=\"sk-estimator-id-166\" class=\"sk-toggleable__label sk-toggleable__label-arrow\">preprocessor: ColumnTransformer</label><div class=\"sk-toggleable__content\"><pre>ColumnTransformer(remainder=&#x27;passthrough&#x27;,\n",
       "                  transformers=[(&#x27;cat&#x27;,\n",
       "                                 Pipeline(steps=[(&#x27;onehot&#x27;,\n",
       "                                                  OneHotEncoder(handle_unknown=&#x27;ignore&#x27;,\n",
       "                                                                sparse_output=False))]),\n",
       "                                 Index([&#x27;home_ownership&#x27;, &#x27;verification_status&#x27;, &#x27;pymnt_plan&#x27;, &#x27;purpose&#x27;,\n",
       "       &#x27;addr_state&#x27;],\n",
       "      dtype=&#x27;object&#x27;))])</pre></div></div></div><div class=\"sk-parallel\"><div class=\"sk-parallel-item\"><div class=\"sk-item\"><div class=\"sk-label-container\"><div class=\"sk-label sk-toggleable\"><input class=\"sk-toggleable__control sk-hidden--visually\" id=\"sk-estimator-id-167\" type=\"checkbox\" ><label for=\"sk-estimator-id-167\" class=\"sk-toggleable__label sk-toggleable__label-arrow\">cat</label><div class=\"sk-toggleable__content\"><pre>Index([&#x27;home_ownership&#x27;, &#x27;verification_status&#x27;, &#x27;pymnt_plan&#x27;, &#x27;purpose&#x27;,\n",
       "       &#x27;addr_state&#x27;],\n",
       "      dtype=&#x27;object&#x27;)</pre></div></div></div><div class=\"sk-serial\"><div class=\"sk-item\"><div class=\"sk-serial\"><div class=\"sk-item\"><div class=\"sk-estimator sk-toggleable\"><input class=\"sk-toggleable__control sk-hidden--visually\" id=\"sk-estimator-id-168\" type=\"checkbox\" ><label for=\"sk-estimator-id-168\" class=\"sk-toggleable__label sk-toggleable__label-arrow\">OneHotEncoder</label><div class=\"sk-toggleable__content\"><pre>OneHotEncoder(handle_unknown=&#x27;ignore&#x27;, sparse_output=False)</pre></div></div></div></div></div></div></div></div><div class=\"sk-parallel-item\"><div class=\"sk-item\"><div class=\"sk-label-container\"><div class=\"sk-label sk-toggleable\"><input class=\"sk-toggleable__control sk-hidden--visually\" id=\"sk-estimator-id-169\" type=\"checkbox\" ><label for=\"sk-estimator-id-169\" class=\"sk-toggleable__label sk-toggleable__label-arrow\">remainder</label><div class=\"sk-toggleable__content\"><pre>[&#x27;loan_amnt&#x27;, &#x27;funded_amnt&#x27;, &#x27;funded_amnt_inv&#x27;, &#x27;term&#x27;, &#x27;int_rate&#x27;, &#x27;installment&#x27;, &#x27;grade&#x27;, &#x27;annual_inc&#x27;, &#x27;dti&#x27;, &#x27;delinq_2yrs&#x27;, &#x27;inq_last_6mths&#x27;, &#x27;open_acc&#x27;, &#x27;pub_rec&#x27;, &#x27;revol_bal&#x27;, &#x27;revol_util&#x27;, &#x27;total_acc&#x27;, &#x27;acc_now_delinq&#x27;, &#x27;tot_cur_bal&#x27;, &#x27;total_rev_hi_lim&#x27;]</pre></div></div></div><div class=\"sk-serial\"><div class=\"sk-item\"><div class=\"sk-estimator sk-toggleable\"><input class=\"sk-toggleable__control sk-hidden--visually\" id=\"sk-estimator-id-170\" type=\"checkbox\" ><label for=\"sk-estimator-id-170\" class=\"sk-toggleable__label sk-toggleable__label-arrow\">passthrough</label><div class=\"sk-toggleable__content\"><pre>passthrough</pre></div></div></div></div></div></div></div></div><div class=\"sk-item\"><div class=\"sk-estimator sk-toggleable\"><input class=\"sk-toggleable__control sk-hidden--visually\" id=\"sk-estimator-id-171\" type=\"checkbox\" ><label for=\"sk-estimator-id-171\" class=\"sk-toggleable__label sk-toggleable__label-arrow\">XGBClassifier</label><div class=\"sk-toggleable__content\"><pre>XGBClassifier(base_score=None, booster=None, callbacks=None,\n",
       "              colsample_bylevel=None, colsample_bynode=None,\n",
       "              colsample_bytree=None, device=None, early_stopping_rounds=None,\n",
       "              enable_categorical=False, eval_metric=None, feature_types=None,\n",
       "              gamma=None, grow_policy=None, importance_type=None,\n",
       "              interaction_constraints=None, learning_rate=None, max_bin=None,\n",
       "              max_cat_threshold=None, max_cat_to_onehot=None,\n",
       "              max_delta_step=None, max_depth=None, max_leaves=None,\n",
       "              min_child_weight=None, missing=nan, monotone_constraints=None,\n",
       "              multi_strategy=None, n_estimators=None, n_jobs=None,\n",
       "              num_parallel_tree=None, random_state=42, ...)</pre></div></div></div></div></div></div></div></div></div></div></div></div>"
      ],
      "text/plain": [
       "GridSearchCV(cv=5,\n",
       "             estimator=Pipeline(steps=[('preprocessor',\n",
       "                                        ColumnTransformer(remainder='passthrough',\n",
       "                                                          transformers=[('cat',\n",
       "                                                                         Pipeline(steps=[('onehot',\n",
       "                                                                                          OneHotEncoder(handle_unknown='ignore',\n",
       "                                                                                                        sparse_output=False))]),\n",
       "                                                                         Index(['home_ownership', 'verification_status', 'pymnt_plan', 'purpose',\n",
       "       'addr_state'],\n",
       "      dtype='object'))])),\n",
       "                                       ('xgb_classifier',\n",
       "                                        XGBClassifier(base...\n",
       "                                                      num_parallel_tree=None,\n",
       "                                                      random_state=42, ...))]),\n",
       "             n_jobs=-1,\n",
       "             param_grid={'xgb_classifier__gamma': [0, 0.1],\n",
       "                         'xgb_classifier__learning_rate': [0.01, 0.05],\n",
       "                         'xgb_classifier__max_depth': [3, 6],\n",
       "                         'xgb_classifier__n_estimators': [300, 500],\n",
       "                         'xgb_classifier__reg_alpha': [0, 0.1],\n",
       "                         'xgb_classifier__reg_lambda': [1, 0.1],\n",
       "                         'xgb_classifier__subsample': [0.7, 0.8]},\n",
       "             scoring='roc_auc', verbose=1)"
      ]
     },
     "execution_count": 183,
     "metadata": {},
     "output_type": "execute_result"
    }
   ],
   "source": [
    "grid_search_xgb.fit(X_train, y_train)"
   ]
  },
  {
   "cell_type": "code",
   "execution_count": 184,
   "id": "972d2373",
   "metadata": {},
   "outputs": [
    {
     "name": "stdout",
     "output_type": "stream",
     "text": [
      "Best parameters using XGBoost: {'xgb_classifier__gamma': 0.1, 'xgb_classifier__learning_rate': 0.05, 'xgb_classifier__max_depth': 6, 'xgb_classifier__n_estimators': 500, 'xgb_classifier__reg_alpha': 0.1, 'xgb_classifier__reg_lambda': 1, 'xgb_classifier__subsample': 0.8}\n",
      "Best score XGBoost: 0.7200863647339133\n"
     ]
    }
   ],
   "source": [
    "print(\"Best parameters using XGBoost:\", grid_search_xgb.best_params_)\n",
    "print(\"Best score XGBoost:\", grid_search_xgb.best_score_)"
   ]
  },
  {
   "cell_type": "markdown",
   "id": "48d04428",
   "metadata": {},
   "source": [
    "### Other Models (e.g. Bagging Classifier)"
   ]
  },
  {
   "cell_type": "markdown",
   "id": "865a35ee",
   "metadata": {},
   "source": [
    "**Decision Tree Classifier with Baggin** - Even though it is similar to RandomForestClassifier, still trying for checking on performance."
   ]
  },
  {
   "cell_type": "code",
   "execution_count": 124,
   "id": "09df76f4",
   "metadata": {},
   "outputs": [],
   "source": [
    "from sklearn.ensemble import BaggingClassifier\n",
    "\n",
    "bag_clf = BaggingClassifier(\n",
    "    DecisionTreeClassifier(),\n",
    "    n_jobs=-1,\n",
    "    random_state=42\n",
    ")\n",
    "\n",
    "bagging_pipeline = Pipeline([\n",
    "    ('preprocessor', preprocessor_tree),\n",
    "    ('bagging_classifier', bag_clf)  \n",
    "])"
   ]
  },
  {
   "cell_type": "code",
   "execution_count": 125,
   "id": "03cdd173",
   "metadata": {},
   "outputs": [],
   "source": [
    "param_grid_bag = {\n",
    "    'bagging_classifier__n_estimators': [100, 500],\n",
    "    'bagging_classifier__max_samples': [100, 200],\n",
    "    # Example: To tune the base estimator's max_depth\n",
    "    'bagging_classifier__estimator__max_depth': [None, 10, 20],\n",
    "}"
   ]
  },
  {
   "cell_type": "code",
   "execution_count": 126,
   "id": "5ede133f",
   "metadata": {},
   "outputs": [],
   "source": [
    "grid_search_bag = GridSearchCV(\n",
    "    bagging_pipeline,\n",
    "    param_grid_bag,\n",
    "    cv=5,\n",
    "    scoring='roc_auc',\n",
    "    n_jobs=-1\n",
    ")"
   ]
  },
  {
   "cell_type": "code",
   "execution_count": 127,
   "id": "c5aa4700",
   "metadata": {},
   "outputs": [
    {
     "data": {
      "text/html": [
       "<style>#sk-container-id-15 {color: black;}#sk-container-id-15 pre{padding: 0;}#sk-container-id-15 div.sk-toggleable {background-color: white;}#sk-container-id-15 label.sk-toggleable__label {cursor: pointer;display: block;width: 100%;margin-bottom: 0;padding: 0.3em;box-sizing: border-box;text-align: center;}#sk-container-id-15 label.sk-toggleable__label-arrow:before {content: \"▸\";float: left;margin-right: 0.25em;color: #696969;}#sk-container-id-15 label.sk-toggleable__label-arrow:hover:before {color: black;}#sk-container-id-15 div.sk-estimator:hover label.sk-toggleable__label-arrow:before {color: black;}#sk-container-id-15 div.sk-toggleable__content {max-height: 0;max-width: 0;overflow: hidden;text-align: left;background-color: #f0f8ff;}#sk-container-id-15 div.sk-toggleable__content pre {margin: 0.2em;color: black;border-radius: 0.25em;background-color: #f0f8ff;}#sk-container-id-15 input.sk-toggleable__control:checked~div.sk-toggleable__content {max-height: 200px;max-width: 100%;overflow: auto;}#sk-container-id-15 input.sk-toggleable__control:checked~label.sk-toggleable__label-arrow:before {content: \"▾\";}#sk-container-id-15 div.sk-estimator input.sk-toggleable__control:checked~label.sk-toggleable__label {background-color: #d4ebff;}#sk-container-id-15 div.sk-label input.sk-toggleable__control:checked~label.sk-toggleable__label {background-color: #d4ebff;}#sk-container-id-15 input.sk-hidden--visually {border: 0;clip: rect(1px 1px 1px 1px);clip: rect(1px, 1px, 1px, 1px);height: 1px;margin: -1px;overflow: hidden;padding: 0;position: absolute;width: 1px;}#sk-container-id-15 div.sk-estimator {font-family: monospace;background-color: #f0f8ff;border: 1px dotted black;border-radius: 0.25em;box-sizing: border-box;margin-bottom: 0.5em;}#sk-container-id-15 div.sk-estimator:hover {background-color: #d4ebff;}#sk-container-id-15 div.sk-parallel-item::after {content: \"\";width: 100%;border-bottom: 1px solid gray;flex-grow: 1;}#sk-container-id-15 div.sk-label:hover label.sk-toggleable__label {background-color: #d4ebff;}#sk-container-id-15 div.sk-serial::before {content: \"\";position: absolute;border-left: 1px solid gray;box-sizing: border-box;top: 0;bottom: 0;left: 50%;z-index: 0;}#sk-container-id-15 div.sk-serial {display: flex;flex-direction: column;align-items: center;background-color: white;padding-right: 0.2em;padding-left: 0.2em;position: relative;}#sk-container-id-15 div.sk-item {position: relative;z-index: 1;}#sk-container-id-15 div.sk-parallel {display: flex;align-items: stretch;justify-content: center;background-color: white;position: relative;}#sk-container-id-15 div.sk-item::before, #sk-container-id-15 div.sk-parallel-item::before {content: \"\";position: absolute;border-left: 1px solid gray;box-sizing: border-box;top: 0;bottom: 0;left: 50%;z-index: -1;}#sk-container-id-15 div.sk-parallel-item {display: flex;flex-direction: column;z-index: 1;position: relative;background-color: white;}#sk-container-id-15 div.sk-parallel-item:first-child::after {align-self: flex-end;width: 50%;}#sk-container-id-15 div.sk-parallel-item:last-child::after {align-self: flex-start;width: 50%;}#sk-container-id-15 div.sk-parallel-item:only-child::after {width: 0;}#sk-container-id-15 div.sk-dashed-wrapped {border: 1px dashed gray;margin: 0 0.4em 0.5em 0.4em;box-sizing: border-box;padding-bottom: 0.4em;background-color: white;}#sk-container-id-15 div.sk-label label {font-family: monospace;font-weight: bold;display: inline-block;line-height: 1.2em;}#sk-container-id-15 div.sk-label-container {text-align: center;}#sk-container-id-15 div.sk-container {/* jupyter's `normalize.less` sets `[hidden] { display: none; }` but bootstrap.min.css set `[hidden] { display: none !important; }` so we also need the `!important` here to be able to override the default hidden behavior on the sphinx rendered scikit-learn.org. See: https://github.com/scikit-learn/scikit-learn/issues/21755 */display: inline-block !important;position: relative;}#sk-container-id-15 div.sk-text-repr-fallback {display: none;}</style><div id=\"sk-container-id-15\" class=\"sk-top-container\"><div class=\"sk-text-repr-fallback\"><pre>GridSearchCV(cv=5,\n",
       "             estimator=Pipeline(steps=[(&#x27;preprocessor&#x27;,\n",
       "                                        ColumnTransformer(remainder=&#x27;passthrough&#x27;,\n",
       "                                                          transformers=[(&#x27;cat&#x27;,\n",
       "                                                                         Pipeline(steps=[(&#x27;onehot&#x27;,\n",
       "                                                                                          OneHotEncoder(handle_unknown=&#x27;ignore&#x27;,\n",
       "                                                                                                        sparse_output=False))]),\n",
       "                                                                         Index([&#x27;home_ownership&#x27;, &#x27;verification_status&#x27;, &#x27;pymnt_plan&#x27;, &#x27;purpose&#x27;,\n",
       "       &#x27;addr_state&#x27;],\n",
       "      dtype=&#x27;object&#x27;))])),\n",
       "                                       (&#x27;bagging_classifier&#x27;,\n",
       "                                        BaggingClassifier(estimator=DecisionTreeClassifier(),\n",
       "                                                          n_jobs=-1,\n",
       "                                                          random_state=42))]),\n",
       "             n_jobs=-1,\n",
       "             param_grid={&#x27;bagging_classifier__estimator__max_depth&#x27;: [None, 10,\n",
       "                                                                      20],\n",
       "                         &#x27;bagging_classifier__max_samples&#x27;: [100, 200],\n",
       "                         &#x27;bagging_classifier__n_estimators&#x27;: [100, 500]},\n",
       "             scoring=&#x27;roc_auc&#x27;)</pre><b>In a Jupyter environment, please rerun this cell to show the HTML representation or trust the notebook. <br />On GitHub, the HTML representation is unable to render, please try loading this page with nbviewer.org.</b></div><div class=\"sk-container\" hidden><div class=\"sk-item sk-dashed-wrapped\"><div class=\"sk-label-container\"><div class=\"sk-label sk-toggleable\"><input class=\"sk-toggleable__control sk-hidden--visually\" id=\"sk-estimator-id-126\" type=\"checkbox\" ><label for=\"sk-estimator-id-126\" class=\"sk-toggleable__label sk-toggleable__label-arrow\">GridSearchCV</label><div class=\"sk-toggleable__content\"><pre>GridSearchCV(cv=5,\n",
       "             estimator=Pipeline(steps=[(&#x27;preprocessor&#x27;,\n",
       "                                        ColumnTransformer(remainder=&#x27;passthrough&#x27;,\n",
       "                                                          transformers=[(&#x27;cat&#x27;,\n",
       "                                                                         Pipeline(steps=[(&#x27;onehot&#x27;,\n",
       "                                                                                          OneHotEncoder(handle_unknown=&#x27;ignore&#x27;,\n",
       "                                                                                                        sparse_output=False))]),\n",
       "                                                                         Index([&#x27;home_ownership&#x27;, &#x27;verification_status&#x27;, &#x27;pymnt_plan&#x27;, &#x27;purpose&#x27;,\n",
       "       &#x27;addr_state&#x27;],\n",
       "      dtype=&#x27;object&#x27;))])),\n",
       "                                       (&#x27;bagging_classifier&#x27;,\n",
       "                                        BaggingClassifier(estimator=DecisionTreeClassifier(),\n",
       "                                                          n_jobs=-1,\n",
       "                                                          random_state=42))]),\n",
       "             n_jobs=-1,\n",
       "             param_grid={&#x27;bagging_classifier__estimator__max_depth&#x27;: [None, 10,\n",
       "                                                                      20],\n",
       "                         &#x27;bagging_classifier__max_samples&#x27;: [100, 200],\n",
       "                         &#x27;bagging_classifier__n_estimators&#x27;: [100, 500]},\n",
       "             scoring=&#x27;roc_auc&#x27;)</pre></div></div></div><div class=\"sk-parallel\"><div class=\"sk-parallel-item\"><div class=\"sk-item\"><div class=\"sk-label-container\"><div class=\"sk-label sk-toggleable\"><input class=\"sk-toggleable__control sk-hidden--visually\" id=\"sk-estimator-id-127\" type=\"checkbox\" ><label for=\"sk-estimator-id-127\" class=\"sk-toggleable__label sk-toggleable__label-arrow\">estimator: Pipeline</label><div class=\"sk-toggleable__content\"><pre>Pipeline(steps=[(&#x27;preprocessor&#x27;,\n",
       "                 ColumnTransformer(remainder=&#x27;passthrough&#x27;,\n",
       "                                   transformers=[(&#x27;cat&#x27;,\n",
       "                                                  Pipeline(steps=[(&#x27;onehot&#x27;,\n",
       "                                                                   OneHotEncoder(handle_unknown=&#x27;ignore&#x27;,\n",
       "                                                                                 sparse_output=False))]),\n",
       "                                                  Index([&#x27;home_ownership&#x27;, &#x27;verification_status&#x27;, &#x27;pymnt_plan&#x27;, &#x27;purpose&#x27;,\n",
       "       &#x27;addr_state&#x27;],\n",
       "      dtype=&#x27;object&#x27;))])),\n",
       "                (&#x27;bagging_classifier&#x27;,\n",
       "                 BaggingClassifier(estimator=DecisionTreeClassifier(),\n",
       "                                   n_jobs=-1, random_state=42))])</pre></div></div></div><div class=\"sk-serial\"><div class=\"sk-item\"><div class=\"sk-serial\"><div class=\"sk-item sk-dashed-wrapped\"><div class=\"sk-label-container\"><div class=\"sk-label sk-toggleable\"><input class=\"sk-toggleable__control sk-hidden--visually\" id=\"sk-estimator-id-128\" type=\"checkbox\" ><label for=\"sk-estimator-id-128\" class=\"sk-toggleable__label sk-toggleable__label-arrow\">preprocessor: ColumnTransformer</label><div class=\"sk-toggleable__content\"><pre>ColumnTransformer(remainder=&#x27;passthrough&#x27;,\n",
       "                  transformers=[(&#x27;cat&#x27;,\n",
       "                                 Pipeline(steps=[(&#x27;onehot&#x27;,\n",
       "                                                  OneHotEncoder(handle_unknown=&#x27;ignore&#x27;,\n",
       "                                                                sparse_output=False))]),\n",
       "                                 Index([&#x27;home_ownership&#x27;, &#x27;verification_status&#x27;, &#x27;pymnt_plan&#x27;, &#x27;purpose&#x27;,\n",
       "       &#x27;addr_state&#x27;],\n",
       "      dtype=&#x27;object&#x27;))])</pre></div></div></div><div class=\"sk-parallel\"><div class=\"sk-parallel-item\"><div class=\"sk-item\"><div class=\"sk-label-container\"><div class=\"sk-label sk-toggleable\"><input class=\"sk-toggleable__control sk-hidden--visually\" id=\"sk-estimator-id-129\" type=\"checkbox\" ><label for=\"sk-estimator-id-129\" class=\"sk-toggleable__label sk-toggleable__label-arrow\">cat</label><div class=\"sk-toggleable__content\"><pre>Index([&#x27;home_ownership&#x27;, &#x27;verification_status&#x27;, &#x27;pymnt_plan&#x27;, &#x27;purpose&#x27;,\n",
       "       &#x27;addr_state&#x27;],\n",
       "      dtype=&#x27;object&#x27;)</pre></div></div></div><div class=\"sk-serial\"><div class=\"sk-item\"><div class=\"sk-serial\"><div class=\"sk-item\"><div class=\"sk-estimator sk-toggleable\"><input class=\"sk-toggleable__control sk-hidden--visually\" id=\"sk-estimator-id-130\" type=\"checkbox\" ><label for=\"sk-estimator-id-130\" class=\"sk-toggleable__label sk-toggleable__label-arrow\">OneHotEncoder</label><div class=\"sk-toggleable__content\"><pre>OneHotEncoder(handle_unknown=&#x27;ignore&#x27;, sparse_output=False)</pre></div></div></div></div></div></div></div></div><div class=\"sk-parallel-item\"><div class=\"sk-item\"><div class=\"sk-label-container\"><div class=\"sk-label sk-toggleable\"><input class=\"sk-toggleable__control sk-hidden--visually\" id=\"sk-estimator-id-131\" type=\"checkbox\" ><label for=\"sk-estimator-id-131\" class=\"sk-toggleable__label sk-toggleable__label-arrow\">remainder</label><div class=\"sk-toggleable__content\"><pre>[&#x27;loan_amnt&#x27;, &#x27;funded_amnt&#x27;, &#x27;funded_amnt_inv&#x27;, &#x27;term&#x27;, &#x27;int_rate&#x27;, &#x27;installment&#x27;, &#x27;grade&#x27;, &#x27;annual_inc&#x27;, &#x27;dti&#x27;, &#x27;delinq_2yrs&#x27;, &#x27;inq_last_6mths&#x27;, &#x27;open_acc&#x27;, &#x27;pub_rec&#x27;, &#x27;revol_bal&#x27;, &#x27;revol_util&#x27;, &#x27;total_acc&#x27;, &#x27;acc_now_delinq&#x27;, &#x27;tot_cur_bal&#x27;, &#x27;total_rev_hi_lim&#x27;]</pre></div></div></div><div class=\"sk-serial\"><div class=\"sk-item\"><div class=\"sk-estimator sk-toggleable\"><input class=\"sk-toggleable__control sk-hidden--visually\" id=\"sk-estimator-id-132\" type=\"checkbox\" ><label for=\"sk-estimator-id-132\" class=\"sk-toggleable__label sk-toggleable__label-arrow\">passthrough</label><div class=\"sk-toggleable__content\"><pre>passthrough</pre></div></div></div></div></div></div></div></div><div class=\"sk-item sk-dashed-wrapped\"><div class=\"sk-label-container\"><div class=\"sk-label sk-toggleable\"><input class=\"sk-toggleable__control sk-hidden--visually\" id=\"sk-estimator-id-133\" type=\"checkbox\" ><label for=\"sk-estimator-id-133\" class=\"sk-toggleable__label sk-toggleable__label-arrow\">bagging_classifier: BaggingClassifier</label><div class=\"sk-toggleable__content\"><pre>BaggingClassifier(estimator=DecisionTreeClassifier(), n_jobs=-1,\n",
       "                  random_state=42)</pre></div></div></div><div class=\"sk-parallel\"><div class=\"sk-parallel-item\"><div class=\"sk-item\"><div class=\"sk-label-container\"><div class=\"sk-label sk-toggleable\"><input class=\"sk-toggleable__control sk-hidden--visually\" id=\"sk-estimator-id-134\" type=\"checkbox\" ><label for=\"sk-estimator-id-134\" class=\"sk-toggleable__label sk-toggleable__label-arrow\">estimator: DecisionTreeClassifier</label><div class=\"sk-toggleable__content\"><pre>DecisionTreeClassifier()</pre></div></div></div><div class=\"sk-serial\"><div class=\"sk-item\"><div class=\"sk-estimator sk-toggleable\"><input class=\"sk-toggleable__control sk-hidden--visually\" id=\"sk-estimator-id-135\" type=\"checkbox\" ><label for=\"sk-estimator-id-135\" class=\"sk-toggleable__label sk-toggleable__label-arrow\">DecisionTreeClassifier</label><div class=\"sk-toggleable__content\"><pre>DecisionTreeClassifier()</pre></div></div></div></div></div></div></div></div></div></div></div></div></div></div></div></div></div>"
      ],
      "text/plain": [
       "GridSearchCV(cv=5,\n",
       "             estimator=Pipeline(steps=[('preprocessor',\n",
       "                                        ColumnTransformer(remainder='passthrough',\n",
       "                                                          transformers=[('cat',\n",
       "                                                                         Pipeline(steps=[('onehot',\n",
       "                                                                                          OneHotEncoder(handle_unknown='ignore',\n",
       "                                                                                                        sparse_output=False))]),\n",
       "                                                                         Index(['home_ownership', 'verification_status', 'pymnt_plan', 'purpose',\n",
       "       'addr_state'],\n",
       "      dtype='object'))])),\n",
       "                                       ('bagging_classifier',\n",
       "                                        BaggingClassifier(estimator=DecisionTreeClassifier(),\n",
       "                                                          n_jobs=-1,\n",
       "                                                          random_state=42))]),\n",
       "             n_jobs=-1,\n",
       "             param_grid={'bagging_classifier__estimator__max_depth': [None, 10,\n",
       "                                                                      20],\n",
       "                         'bagging_classifier__max_samples': [100, 200],\n",
       "                         'bagging_classifier__n_estimators': [100, 500]},\n",
       "             scoring='roc_auc')"
      ]
     },
     "execution_count": 127,
     "metadata": {},
     "output_type": "execute_result"
    }
   ],
   "source": [
    "grid_search_bag.fit(X_train, y_train)"
   ]
  },
  {
   "cell_type": "code",
   "execution_count": 128,
   "id": "93a19695",
   "metadata": {},
   "outputs": [
    {
     "name": "stdout",
     "output_type": "stream",
     "text": [
      "Best ROC AUC Score: 0.6937386530060323\n"
     ]
    }
   ],
   "source": [
    "from sklearn.metrics import roc_auc_score\n",
    "\n",
    "# Predict probabilities for the positive class\n",
    "y_prob = grid_search_bag.predict_proba(X_test)[:, 1]\n",
    "\n",
    "# Compute the ROC AUC score\n",
    "roc_auc = roc_auc_score(y_test, y_prob)\n",
    "print(f\"Best ROC AUC Score: {roc_auc}\")"
   ]
  },
  {
   "cell_type": "code",
   "execution_count": 129,
   "id": "3257f5fc",
   "metadata": {},
   "outputs": [
    {
     "name": "stdout",
     "output_type": "stream",
     "text": [
      "Best parameters: {'bagging_classifier__estimator__max_depth': 10, 'bagging_classifier__max_samples': 200, 'bagging_classifier__n_estimators': 500}\n"
     ]
    }
   ],
   "source": [
    "print(\"Best parameters:\", grid_search_bag.best_params_)"
   ]
  },
  {
   "cell_type": "markdown",
   "id": "5b2dad4c",
   "metadata": {},
   "source": [
    "**Logistic Regression with bagging \n",
    "GridSearchCV**: - Logistic Regression with bagging (adjusting Logistic regression as per the best parameters selected we found earlier."
   ]
  },
  {
   "cell_type": "code",
   "execution_count": 130,
   "id": "1309835b",
   "metadata": {},
   "outputs": [],
   "source": [
    "log_reg_fs = LogisticRegression(penalty='l1',\n",
    "    tol=0.01,\n",
    "    C=10,\n",
    "    solver='saga',\n",
    "    max_iter=10000,\n",
    "    random_state=42\n",
    ")\n",
    "bagging_clf = BaggingClassifier(estimator=log_reg_fs, n_estimators = 500,\n",
    "                           max_samples=100, random_state=42)\n",
    "\n",
    "pipeline_bag_lr = Pipeline(steps=[\n",
    "    ('preprocessor', preprocessor), \n",
    "    ('bagging_classifier', bagging_clf)   # Bagging with logistic regression\n",
    "])"
   ]
  },
  {
   "cell_type": "code",
   "execution_count": 131,
   "id": "5833889b",
   "metadata": {},
   "outputs": [],
   "source": [
    "param_grid_bag_lr = {\n",
    "    'bagging_classifier__n_estimators': [10, 20, 50],\n",
    "    'bagging_classifier__max_samples': [0.5, 0.75, 1.0],\n",
    "    # Add more parameters here\n",
    "}\n",
    "grid_search_bag_lr = GridSearchCV(pipeline_bag_lr, param_grid_bag_lr, cv=5, scoring='roc_auc',n_jobs=-1)"
   ]
  },
  {
   "cell_type": "code",
   "execution_count": 132,
   "id": "1b6af075",
   "metadata": {},
   "outputs": [
    {
     "data": {
      "text/html": [
       "<style>#sk-container-id-16 {color: black;}#sk-container-id-16 pre{padding: 0;}#sk-container-id-16 div.sk-toggleable {background-color: white;}#sk-container-id-16 label.sk-toggleable__label {cursor: pointer;display: block;width: 100%;margin-bottom: 0;padding: 0.3em;box-sizing: border-box;text-align: center;}#sk-container-id-16 label.sk-toggleable__label-arrow:before {content: \"▸\";float: left;margin-right: 0.25em;color: #696969;}#sk-container-id-16 label.sk-toggleable__label-arrow:hover:before {color: black;}#sk-container-id-16 div.sk-estimator:hover label.sk-toggleable__label-arrow:before {color: black;}#sk-container-id-16 div.sk-toggleable__content {max-height: 0;max-width: 0;overflow: hidden;text-align: left;background-color: #f0f8ff;}#sk-container-id-16 div.sk-toggleable__content pre {margin: 0.2em;color: black;border-radius: 0.25em;background-color: #f0f8ff;}#sk-container-id-16 input.sk-toggleable__control:checked~div.sk-toggleable__content {max-height: 200px;max-width: 100%;overflow: auto;}#sk-container-id-16 input.sk-toggleable__control:checked~label.sk-toggleable__label-arrow:before {content: \"▾\";}#sk-container-id-16 div.sk-estimator input.sk-toggleable__control:checked~label.sk-toggleable__label {background-color: #d4ebff;}#sk-container-id-16 div.sk-label input.sk-toggleable__control:checked~label.sk-toggleable__label {background-color: #d4ebff;}#sk-container-id-16 input.sk-hidden--visually {border: 0;clip: rect(1px 1px 1px 1px);clip: rect(1px, 1px, 1px, 1px);height: 1px;margin: -1px;overflow: hidden;padding: 0;position: absolute;width: 1px;}#sk-container-id-16 div.sk-estimator {font-family: monospace;background-color: #f0f8ff;border: 1px dotted black;border-radius: 0.25em;box-sizing: border-box;margin-bottom: 0.5em;}#sk-container-id-16 div.sk-estimator:hover {background-color: #d4ebff;}#sk-container-id-16 div.sk-parallel-item::after {content: \"\";width: 100%;border-bottom: 1px solid gray;flex-grow: 1;}#sk-container-id-16 div.sk-label:hover label.sk-toggleable__label {background-color: #d4ebff;}#sk-container-id-16 div.sk-serial::before {content: \"\";position: absolute;border-left: 1px solid gray;box-sizing: border-box;top: 0;bottom: 0;left: 50%;z-index: 0;}#sk-container-id-16 div.sk-serial {display: flex;flex-direction: column;align-items: center;background-color: white;padding-right: 0.2em;padding-left: 0.2em;position: relative;}#sk-container-id-16 div.sk-item {position: relative;z-index: 1;}#sk-container-id-16 div.sk-parallel {display: flex;align-items: stretch;justify-content: center;background-color: white;position: relative;}#sk-container-id-16 div.sk-item::before, #sk-container-id-16 div.sk-parallel-item::before {content: \"\";position: absolute;border-left: 1px solid gray;box-sizing: border-box;top: 0;bottom: 0;left: 50%;z-index: -1;}#sk-container-id-16 div.sk-parallel-item {display: flex;flex-direction: column;z-index: 1;position: relative;background-color: white;}#sk-container-id-16 div.sk-parallel-item:first-child::after {align-self: flex-end;width: 50%;}#sk-container-id-16 div.sk-parallel-item:last-child::after {align-self: flex-start;width: 50%;}#sk-container-id-16 div.sk-parallel-item:only-child::after {width: 0;}#sk-container-id-16 div.sk-dashed-wrapped {border: 1px dashed gray;margin: 0 0.4em 0.5em 0.4em;box-sizing: border-box;padding-bottom: 0.4em;background-color: white;}#sk-container-id-16 div.sk-label label {font-family: monospace;font-weight: bold;display: inline-block;line-height: 1.2em;}#sk-container-id-16 div.sk-label-container {text-align: center;}#sk-container-id-16 div.sk-container {/* jupyter's `normalize.less` sets `[hidden] { display: none; }` but bootstrap.min.css set `[hidden] { display: none !important; }` so we also need the `!important` here to be able to override the default hidden behavior on the sphinx rendered scikit-learn.org. See: https://github.com/scikit-learn/scikit-learn/issues/21755 */display: inline-block !important;position: relative;}#sk-container-id-16 div.sk-text-repr-fallback {display: none;}</style><div id=\"sk-container-id-16\" class=\"sk-top-container\"><div class=\"sk-text-repr-fallback\"><pre>GridSearchCV(cv=5,\n",
       "             estimator=Pipeline(steps=[(&#x27;preprocessor&#x27;,\n",
       "                                        ColumnTransformer(remainder=&#x27;passthrough&#x27;,\n",
       "                                                          transformers=[(&#x27;num&#x27;,\n",
       "                                                                         StandardScaler(),\n",
       "                                                                         Index([&#x27;loan_amnt&#x27;, &#x27;funded_amnt&#x27;, &#x27;funded_amnt_inv&#x27;, &#x27;term&#x27;, &#x27;int_rate&#x27;,\n",
       "       &#x27;installment&#x27;, &#x27;grade&#x27;, &#x27;annual_inc&#x27;, &#x27;dti&#x27;, &#x27;delinq_2yrs&#x27;,\n",
       "       &#x27;inq_last_6mths&#x27;, &#x27;open_acc&#x27;, &#x27;pub_rec&#x27;, &#x27;revol_bal&#x27;, &#x27;revol_util&#x27;,\n",
       "       &#x27;total_acc&#x27;, &#x27;acc_now_de...\n",
       "      dtype=&#x27;object&#x27;))])),\n",
       "                                       (&#x27;bagging_classifier&#x27;,\n",
       "                                        BaggingClassifier(estimator=LogisticRegression(C=10,\n",
       "                                                                                       max_iter=10000,\n",
       "                                                                                       penalty=&#x27;l1&#x27;,\n",
       "                                                                                       random_state=42,\n",
       "                                                                                       solver=&#x27;saga&#x27;,\n",
       "                                                                                       tol=0.01),\n",
       "                                                          max_samples=100,\n",
       "                                                          n_estimators=500,\n",
       "                                                          random_state=42))]),\n",
       "             n_jobs=-1,\n",
       "             param_grid={&#x27;bagging_classifier__max_samples&#x27;: [0.5, 0.75, 1.0],\n",
       "                         &#x27;bagging_classifier__n_estimators&#x27;: [10, 20, 50]},\n",
       "             scoring=&#x27;roc_auc&#x27;)</pre><b>In a Jupyter environment, please rerun this cell to show the HTML representation or trust the notebook. <br />On GitHub, the HTML representation is unable to render, please try loading this page with nbviewer.org.</b></div><div class=\"sk-container\" hidden><div class=\"sk-item sk-dashed-wrapped\"><div class=\"sk-label-container\"><div class=\"sk-label sk-toggleable\"><input class=\"sk-toggleable__control sk-hidden--visually\" id=\"sk-estimator-id-136\" type=\"checkbox\" ><label for=\"sk-estimator-id-136\" class=\"sk-toggleable__label sk-toggleable__label-arrow\">GridSearchCV</label><div class=\"sk-toggleable__content\"><pre>GridSearchCV(cv=5,\n",
       "             estimator=Pipeline(steps=[(&#x27;preprocessor&#x27;,\n",
       "                                        ColumnTransformer(remainder=&#x27;passthrough&#x27;,\n",
       "                                                          transformers=[(&#x27;num&#x27;,\n",
       "                                                                         StandardScaler(),\n",
       "                                                                         Index([&#x27;loan_amnt&#x27;, &#x27;funded_amnt&#x27;, &#x27;funded_amnt_inv&#x27;, &#x27;term&#x27;, &#x27;int_rate&#x27;,\n",
       "       &#x27;installment&#x27;, &#x27;grade&#x27;, &#x27;annual_inc&#x27;, &#x27;dti&#x27;, &#x27;delinq_2yrs&#x27;,\n",
       "       &#x27;inq_last_6mths&#x27;, &#x27;open_acc&#x27;, &#x27;pub_rec&#x27;, &#x27;revol_bal&#x27;, &#x27;revol_util&#x27;,\n",
       "       &#x27;total_acc&#x27;, &#x27;acc_now_de...\n",
       "      dtype=&#x27;object&#x27;))])),\n",
       "                                       (&#x27;bagging_classifier&#x27;,\n",
       "                                        BaggingClassifier(estimator=LogisticRegression(C=10,\n",
       "                                                                                       max_iter=10000,\n",
       "                                                                                       penalty=&#x27;l1&#x27;,\n",
       "                                                                                       random_state=42,\n",
       "                                                                                       solver=&#x27;saga&#x27;,\n",
       "                                                                                       tol=0.01),\n",
       "                                                          max_samples=100,\n",
       "                                                          n_estimators=500,\n",
       "                                                          random_state=42))]),\n",
       "             n_jobs=-1,\n",
       "             param_grid={&#x27;bagging_classifier__max_samples&#x27;: [0.5, 0.75, 1.0],\n",
       "                         &#x27;bagging_classifier__n_estimators&#x27;: [10, 20, 50]},\n",
       "             scoring=&#x27;roc_auc&#x27;)</pre></div></div></div><div class=\"sk-parallel\"><div class=\"sk-parallel-item\"><div class=\"sk-item\"><div class=\"sk-label-container\"><div class=\"sk-label sk-toggleable\"><input class=\"sk-toggleable__control sk-hidden--visually\" id=\"sk-estimator-id-137\" type=\"checkbox\" ><label for=\"sk-estimator-id-137\" class=\"sk-toggleable__label sk-toggleable__label-arrow\">estimator: Pipeline</label><div class=\"sk-toggleable__content\"><pre>Pipeline(steps=[(&#x27;preprocessor&#x27;,\n",
       "                 ColumnTransformer(remainder=&#x27;passthrough&#x27;,\n",
       "                                   transformers=[(&#x27;num&#x27;, StandardScaler(),\n",
       "                                                  Index([&#x27;loan_amnt&#x27;, &#x27;funded_amnt&#x27;, &#x27;funded_amnt_inv&#x27;, &#x27;term&#x27;, &#x27;int_rate&#x27;,\n",
       "       &#x27;installment&#x27;, &#x27;grade&#x27;, &#x27;annual_inc&#x27;, &#x27;dti&#x27;, &#x27;delinq_2yrs&#x27;,\n",
       "       &#x27;inq_last_6mths&#x27;, &#x27;open_acc&#x27;, &#x27;pub_rec&#x27;, &#x27;revol_bal&#x27;, &#x27;revol_util&#x27;,\n",
       "       &#x27;total_acc&#x27;, &#x27;acc_now_delinq&#x27;, &#x27;tot_cur_bal&#x27;, &#x27;total_r...\n",
       "                                                  OneHotEncoder(handle_unknown=&#x27;ignore&#x27;,\n",
       "                                                                sparse_output=False),\n",
       "                                                  Index([&#x27;home_ownership&#x27;, &#x27;verification_status&#x27;, &#x27;pymnt_plan&#x27;, &#x27;purpose&#x27;,\n",
       "       &#x27;addr_state&#x27;],\n",
       "      dtype=&#x27;object&#x27;))])),\n",
       "                (&#x27;bagging_classifier&#x27;,\n",
       "                 BaggingClassifier(estimator=LogisticRegression(C=10,\n",
       "                                                                max_iter=10000,\n",
       "                                                                penalty=&#x27;l1&#x27;,\n",
       "                                                                random_state=42,\n",
       "                                                                solver=&#x27;saga&#x27;,\n",
       "                                                                tol=0.01),\n",
       "                                   max_samples=100, n_estimators=500,\n",
       "                                   random_state=42))])</pre></div></div></div><div class=\"sk-serial\"><div class=\"sk-item\"><div class=\"sk-serial\"><div class=\"sk-item sk-dashed-wrapped\"><div class=\"sk-label-container\"><div class=\"sk-label sk-toggleable\"><input class=\"sk-toggleable__control sk-hidden--visually\" id=\"sk-estimator-id-138\" type=\"checkbox\" ><label for=\"sk-estimator-id-138\" class=\"sk-toggleable__label sk-toggleable__label-arrow\">preprocessor: ColumnTransformer</label><div class=\"sk-toggleable__content\"><pre>ColumnTransformer(remainder=&#x27;passthrough&#x27;,\n",
       "                  transformers=[(&#x27;num&#x27;, StandardScaler(),\n",
       "                                 Index([&#x27;loan_amnt&#x27;, &#x27;funded_amnt&#x27;, &#x27;funded_amnt_inv&#x27;, &#x27;term&#x27;, &#x27;int_rate&#x27;,\n",
       "       &#x27;installment&#x27;, &#x27;grade&#x27;, &#x27;annual_inc&#x27;, &#x27;dti&#x27;, &#x27;delinq_2yrs&#x27;,\n",
       "       &#x27;inq_last_6mths&#x27;, &#x27;open_acc&#x27;, &#x27;pub_rec&#x27;, &#x27;revol_bal&#x27;, &#x27;revol_util&#x27;,\n",
       "       &#x27;total_acc&#x27;, &#x27;acc_now_delinq&#x27;, &#x27;tot_cur_bal&#x27;, &#x27;total_rev_hi_lim&#x27;],\n",
       "      dtype=&#x27;object&#x27;)),\n",
       "                                (&#x27;cat&#x27;,\n",
       "                                 OneHotEncoder(handle_unknown=&#x27;ignore&#x27;,\n",
       "                                               sparse_output=False),\n",
       "                                 Index([&#x27;home_ownership&#x27;, &#x27;verification_status&#x27;, &#x27;pymnt_plan&#x27;, &#x27;purpose&#x27;,\n",
       "       &#x27;addr_state&#x27;],\n",
       "      dtype=&#x27;object&#x27;))])</pre></div></div></div><div class=\"sk-parallel\"><div class=\"sk-parallel-item\"><div class=\"sk-item\"><div class=\"sk-label-container\"><div class=\"sk-label sk-toggleable\"><input class=\"sk-toggleable__control sk-hidden--visually\" id=\"sk-estimator-id-139\" type=\"checkbox\" ><label for=\"sk-estimator-id-139\" class=\"sk-toggleable__label sk-toggleable__label-arrow\">num</label><div class=\"sk-toggleable__content\"><pre>Index([&#x27;loan_amnt&#x27;, &#x27;funded_amnt&#x27;, &#x27;funded_amnt_inv&#x27;, &#x27;term&#x27;, &#x27;int_rate&#x27;,\n",
       "       &#x27;installment&#x27;, &#x27;grade&#x27;, &#x27;annual_inc&#x27;, &#x27;dti&#x27;, &#x27;delinq_2yrs&#x27;,\n",
       "       &#x27;inq_last_6mths&#x27;, &#x27;open_acc&#x27;, &#x27;pub_rec&#x27;, &#x27;revol_bal&#x27;, &#x27;revol_util&#x27;,\n",
       "       &#x27;total_acc&#x27;, &#x27;acc_now_delinq&#x27;, &#x27;tot_cur_bal&#x27;, &#x27;total_rev_hi_lim&#x27;],\n",
       "      dtype=&#x27;object&#x27;)</pre></div></div></div><div class=\"sk-serial\"><div class=\"sk-item\"><div class=\"sk-estimator sk-toggleable\"><input class=\"sk-toggleable__control sk-hidden--visually\" id=\"sk-estimator-id-140\" type=\"checkbox\" ><label for=\"sk-estimator-id-140\" class=\"sk-toggleable__label sk-toggleable__label-arrow\">StandardScaler</label><div class=\"sk-toggleable__content\"><pre>StandardScaler()</pre></div></div></div></div></div></div><div class=\"sk-parallel-item\"><div class=\"sk-item\"><div class=\"sk-label-container\"><div class=\"sk-label sk-toggleable\"><input class=\"sk-toggleable__control sk-hidden--visually\" id=\"sk-estimator-id-141\" type=\"checkbox\" ><label for=\"sk-estimator-id-141\" class=\"sk-toggleable__label sk-toggleable__label-arrow\">cat</label><div class=\"sk-toggleable__content\"><pre>Index([&#x27;home_ownership&#x27;, &#x27;verification_status&#x27;, &#x27;pymnt_plan&#x27;, &#x27;purpose&#x27;,\n",
       "       &#x27;addr_state&#x27;],\n",
       "      dtype=&#x27;object&#x27;)</pre></div></div></div><div class=\"sk-serial\"><div class=\"sk-item\"><div class=\"sk-estimator sk-toggleable\"><input class=\"sk-toggleable__control sk-hidden--visually\" id=\"sk-estimator-id-142\" type=\"checkbox\" ><label for=\"sk-estimator-id-142\" class=\"sk-toggleable__label sk-toggleable__label-arrow\">OneHotEncoder</label><div class=\"sk-toggleable__content\"><pre>OneHotEncoder(handle_unknown=&#x27;ignore&#x27;, sparse_output=False)</pre></div></div></div></div></div></div><div class=\"sk-parallel-item\"><div class=\"sk-item\"><div class=\"sk-label-container\"><div class=\"sk-label sk-toggleable\"><input class=\"sk-toggleable__control sk-hidden--visually\" id=\"sk-estimator-id-143\" type=\"checkbox\" ><label for=\"sk-estimator-id-143\" class=\"sk-toggleable__label sk-toggleable__label-arrow\">remainder</label><div class=\"sk-toggleable__content\"><pre>[]</pre></div></div></div><div class=\"sk-serial\"><div class=\"sk-item\"><div class=\"sk-estimator sk-toggleable\"><input class=\"sk-toggleable__control sk-hidden--visually\" id=\"sk-estimator-id-144\" type=\"checkbox\" ><label for=\"sk-estimator-id-144\" class=\"sk-toggleable__label sk-toggleable__label-arrow\">passthrough</label><div class=\"sk-toggleable__content\"><pre>passthrough</pre></div></div></div></div></div></div></div></div><div class=\"sk-item sk-dashed-wrapped\"><div class=\"sk-label-container\"><div class=\"sk-label sk-toggleable\"><input class=\"sk-toggleable__control sk-hidden--visually\" id=\"sk-estimator-id-145\" type=\"checkbox\" ><label for=\"sk-estimator-id-145\" class=\"sk-toggleable__label sk-toggleable__label-arrow\">bagging_classifier: BaggingClassifier</label><div class=\"sk-toggleable__content\"><pre>BaggingClassifier(estimator=LogisticRegression(C=10, max_iter=10000,\n",
       "                                               penalty=&#x27;l1&#x27;, random_state=42,\n",
       "                                               solver=&#x27;saga&#x27;, tol=0.01),\n",
       "                  max_samples=100, n_estimators=500, random_state=42)</pre></div></div></div><div class=\"sk-parallel\"><div class=\"sk-parallel-item\"><div class=\"sk-item\"><div class=\"sk-label-container\"><div class=\"sk-label sk-toggleable\"><input class=\"sk-toggleable__control sk-hidden--visually\" id=\"sk-estimator-id-146\" type=\"checkbox\" ><label for=\"sk-estimator-id-146\" class=\"sk-toggleable__label sk-toggleable__label-arrow\">estimator: LogisticRegression</label><div class=\"sk-toggleable__content\"><pre>LogisticRegression(C=10, max_iter=10000, penalty=&#x27;l1&#x27;, random_state=42,\n",
       "                   solver=&#x27;saga&#x27;, tol=0.01)</pre></div></div></div><div class=\"sk-serial\"><div class=\"sk-item\"><div class=\"sk-estimator sk-toggleable\"><input class=\"sk-toggleable__control sk-hidden--visually\" id=\"sk-estimator-id-147\" type=\"checkbox\" ><label for=\"sk-estimator-id-147\" class=\"sk-toggleable__label sk-toggleable__label-arrow\">LogisticRegression</label><div class=\"sk-toggleable__content\"><pre>LogisticRegression(C=10, max_iter=10000, penalty=&#x27;l1&#x27;, random_state=42,\n",
       "                   solver=&#x27;saga&#x27;, tol=0.01)</pre></div></div></div></div></div></div></div></div></div></div></div></div></div></div></div></div></div>"
      ],
      "text/plain": [
       "GridSearchCV(cv=5,\n",
       "             estimator=Pipeline(steps=[('preprocessor',\n",
       "                                        ColumnTransformer(remainder='passthrough',\n",
       "                                                          transformers=[('num',\n",
       "                                                                         StandardScaler(),\n",
       "                                                                         Index(['loan_amnt', 'funded_amnt', 'funded_amnt_inv', 'term', 'int_rate',\n",
       "       'installment', 'grade', 'annual_inc', 'dti', 'delinq_2yrs',\n",
       "       'inq_last_6mths', 'open_acc', 'pub_rec', 'revol_bal', 'revol_util',\n",
       "       'total_acc', 'acc_now_de...\n",
       "      dtype='object'))])),\n",
       "                                       ('bagging_classifier',\n",
       "                                        BaggingClassifier(estimator=LogisticRegression(C=10,\n",
       "                                                                                       max_iter=10000,\n",
       "                                                                                       penalty='l1',\n",
       "                                                                                       random_state=42,\n",
       "                                                                                       solver='saga',\n",
       "                                                                                       tol=0.01),\n",
       "                                                          max_samples=100,\n",
       "                                                          n_estimators=500,\n",
       "                                                          random_state=42))]),\n",
       "             n_jobs=-1,\n",
       "             param_grid={'bagging_classifier__max_samples': [0.5, 0.75, 1.0],\n",
       "                         'bagging_classifier__n_estimators': [10, 20, 50]},\n",
       "             scoring='roc_auc')"
      ]
     },
     "execution_count": 132,
     "metadata": {},
     "output_type": "execute_result"
    }
   ],
   "source": [
    "grid_search_bag_lr.fit(X_train, y_train)"
   ]
  },
  {
   "cell_type": "code",
   "execution_count": 133,
   "id": "876c87c0",
   "metadata": {},
   "outputs": [
    {
     "name": "stdout",
     "output_type": "stream",
     "text": [
      "Best parameters: {'bagging_classifier__max_samples': 1.0, 'bagging_classifier__n_estimators': 50}\n",
      "Best score:  0.7051913809184444\n"
     ]
    }
   ],
   "source": [
    "print(\"Best parameters:\", grid_search_bag_lr.best_params_)\n",
    "print(\"Best score: \", grid_search_bag_lr.best_score_)"
   ]
  },
  {
   "cell_type": "markdown",
   "id": "3ece7d77",
   "metadata": {},
   "source": [
    "## Model Evaluation\n",
    "\n",
    "Compare the best models' performance on the test data. Which one does the best? Which one the worst? Why do you think this is the case?"
   ]
  },
  {
   "cell_type": "markdown",
   "id": "89c8d7d9",
   "metadata": {},
   "source": [
    "As we need to find the best model to predict who should be given\n",
    "a loan, i.e., determine who will repay in full (or some other criteria you may choose for a good\n",
    "loan). We shall focus on:\n",
    "\n",
    "Minimizing False Negatives (FN) could be crucial because failing to identify a loan that won't be repaid could be costlier than mistakenly identifying a loan that will be repaid. However, minimizing False Positives (FP) is also important to avoid missing out on potential good loans. Therefore, a balance between these errors, along with high True Positives (TP) and True Negatives (TN), indicates a better model."
   ]
  },
  {
   "cell_type": "markdown",
   "id": "3fc5f8c3",
   "metadata": {},
   "source": [
    "Confusion Matrix:\n",
    "1. True Positives (TP): Loans correctly predicted to be repaid in full.\n",
    "2. True Negatives (TN): Loans correctly predicted not to be repaid in full.\n",
    "3. False Positives (FP): Loans incorrectly predicted to be repaid in full (Type I error).\n",
    "4. False Negatives (FN): Loans incorrectly predicted not to be repaid in full (Type II error)."
   ]
  },
  {
   "cell_type": "markdown",
   "id": "3be1169f",
   "metadata": {},
   "source": [
    "**Logistic Regression** (best parameters)"
   ]
  },
  {
   "cell_type": "code",
   "execution_count": 134,
   "id": "f5b7a6ee",
   "metadata": {},
   "outputs": [],
   "source": [
    "# Predictions\n",
    "y_pred_lr = grid_search_log.predict(X_test)\n",
    "y_proba_lr = grid_search_log.predict_proba(X_test)[:, 1] "
   ]
  },
  {
   "cell_type": "code",
   "execution_count": 135,
   "id": "c6d21865",
   "metadata": {},
   "outputs": [
    {
     "name": "stdout",
     "output_type": "stream",
     "text": [
      "Confusion Matrix for Logistic Regression:\n",
      " [[ 1978 16125]\n",
      " [ 1609 60639]]\n"
     ]
    }
   ],
   "source": [
    "conf_matrix = confusion_matrix(y_test, y_pred_lr)\n",
    "print(\"Confusion Matrix for Logistic Regression:\\n\", conf_matrix)"
   ]
  },
  {
   "cell_type": "code",
   "execution_count": 136,
   "id": "2c1043e7",
   "metadata": {},
   "outputs": [
    {
     "name": "stdout",
     "output_type": "stream",
     "text": [
      "Accuracy Score: 0.7792933504250102\n"
     ]
    }
   ],
   "source": [
    "accuracy = accuracy_score(y_test, y_pred_lr)\n",
    "print(\"Accuracy Score:\", accuracy)\n"
   ]
  },
  {
   "cell_type": "code",
   "execution_count": 137,
   "id": "edb08a0c",
   "metadata": {},
   "outputs": [
    {
     "name": "stdout",
     "output_type": "stream",
     "text": [
      "Precision Score: 0.7899405971549164\n"
     ]
    }
   ],
   "source": [
    "precision = precision_score(y_test, y_pred_lr)\n",
    "print(\"Precision Score:\", precision)\n"
   ]
  },
  {
   "cell_type": "code",
   "execution_count": 138,
   "id": "a1905443",
   "metadata": {},
   "outputs": [
    {
     "name": "stdout",
     "output_type": "stream",
     "text": [
      "ROC AUC score for Logistic Regression: 0.7031540680946751\n"
     ]
    }
   ],
   "source": [
    "roc_auc = roc_auc_score(y_test, y_proba_lr)\n",
    "\n",
    "# Print the ROC AUC Score\n",
    "print(f\"ROC AUC score for Logistic Regression: {roc_auc}\")"
   ]
  },
  {
   "cell_type": "code",
   "execution_count": 139,
   "id": "afca2c01",
   "metadata": {},
   "outputs": [
    {
     "name": "stdout",
     "output_type": "stream",
     "text": [
      "Classification Report:\n",
      "                 precision    recall  f1-score   support\n",
      "\n",
      "Not Fully Paid       0.55      0.11      0.18     18103\n",
      "    Fully Paid       0.79      0.97      0.87     62248\n",
      "\n",
      "      accuracy                           0.78     80351\n",
      "     macro avg       0.67      0.54      0.53     80351\n",
      "  weighted avg       0.74      0.78      0.72     80351\n",
      "\n"
     ]
    }
   ],
   "source": [
    "class_report = classification_report(y_test, y_pred_lr,target_names=['Not Fully Paid', 'Fully Paid'])\n",
    "print(\"Classification Report:\\n\", class_report)"
   ]
  },
  {
   "cell_type": "code",
   "execution_count": 140,
   "id": "47881e29",
   "metadata": {},
   "outputs": [
    {
     "data": {
      "text/plain": [
       "<sklearn.metrics._plot.roc_curve.RocCurveDisplay at 0x168069c10>"
      ]
     },
     "execution_count": 140,
     "metadata": {},
     "output_type": "execute_result"
    },
    {
     "data": {
      "image/png": "[encoded data removed]",
      "text/plain": [
       "<Figure size 640x480 with 1 Axes>"
      ]
     },
     "metadata": {},
     "output_type": "display_data"
    }
   ],
   "source": [
    "RocCurveDisplay.from_predictions(y_test, y_proba_lr, name=\"LogisticRegression\")"
   ]
  },
  {
   "cell_type": "code",
   "execution_count": 141,
   "id": "4c4fa433",
   "metadata": {},
   "outputs": [
    {
     "data": {
      "text/plain": [
       "<sklearn.metrics._plot.precision_recall_curve.PrecisionRecallDisplay at 0x16808cfd0>"
      ]
     },
     "execution_count": 141,
     "metadata": {},
     "output_type": "execute_result"
    },
    {
     "data": {
      "image/png": "[encoded data removed]",
      "text/plain": [
       "<Figure size 640x480 with 1 Axes>"
      ]
     },
     "metadata": {},
     "output_type": "display_data"
    }
   ],
   "source": [
    "PrecisionRecallDisplay.from_predictions(y_test, y_proba_lr, name=\"LogisticRegression\")"
   ]
  },
  {
   "cell_type": "markdown",
   "id": "8cca3cd0",
   "metadata": {},
   "source": [
    "**Random Forest** (best parameters)"
   ]
  },
  {
   "cell_type": "code",
   "execution_count": 142,
   "id": "f6df2424",
   "metadata": {},
   "outputs": [],
   "source": [
    "# Make predictions\n",
    "y_pred_RF = grid_search_RF.predict(X_test)\n",
    "# Predict probabilities for the positive class\n",
    "y_pred_proba_RF = grid_search_RF.predict_proba(X_test)[:, 1]\n"
   ]
  },
  {
   "cell_type": "code",
   "execution_count": 143,
   "id": "fe2f9fe2",
   "metadata": {},
   "outputs": [
    {
     "name": "stdout",
     "output_type": "stream",
     "text": [
      "Confusion Matrix for Random Forest with best hyperparametes:\n",
      " [[ 1292 16811]\n",
      " [  903 61345]]\n"
     ]
    }
   ],
   "source": [
    "conf_matrix_RF = confusion_matrix(y_test, y_pred_RF)\n",
    "print(\"Confusion Matrix for Random Forest with best hyperparametes:\\n\", conf_matrix_RF)"
   ]
  },
  {
   "cell_type": "code",
   "execution_count": 144,
   "id": "1f16ccf3",
   "metadata": {},
   "outputs": [
    {
     "name": "stdout",
     "output_type": "stream",
     "text": [
      "Accuracy Score for Random Forest: 0.7795422583415266\n"
     ]
    }
   ],
   "source": [
    "accuracy_RF = accuracy_score(y_test, y_pred_RF)\n",
    "print(\"Accuracy Score for Random Forest:\", accuracy_RF)"
   ]
  },
  {
   "cell_type": "code",
   "execution_count": 145,
   "id": "7f517740",
   "metadata": {},
   "outputs": [
    {
     "name": "stdout",
     "output_type": "stream",
     "text": [
      "Precision Score for Random Forest: 0.7849045498746098\n"
     ]
    }
   ],
   "source": [
    "precision_RF = precision_score(y_test, y_pred_RF)\n",
    "print(\"Precision Score for Random Forest:\", precision_RF)"
   ]
  },
  {
   "cell_type": "code",
   "execution_count": 146,
   "id": "22b49d64",
   "metadata": {},
   "outputs": [
    {
     "name": "stdout",
     "output_type": "stream",
     "text": [
      "ROC AUC score for Random Forest: 0.7132317107061115\n"
     ]
    }
   ],
   "source": [
    "roc_auc = roc_auc_score(y_test, y_pred_proba_RF)\n",
    "\n",
    "# Print the ROC AUC Score\n",
    "print(f\"ROC AUC score for Random Forest: {roc_auc}\")"
   ]
  },
  {
   "cell_type": "code",
   "execution_count": 147,
   "id": "36582bcd",
   "metadata": {},
   "outputs": [
    {
     "name": "stdout",
     "output_type": "stream",
     "text": [
      "Classification Report for Random Forest:\n",
      "                 precision    recall  f1-score   support\n",
      "\n",
      "Not Fully Paid       0.59      0.07      0.13     18103\n",
      "    Fully Paid       0.78      0.99      0.87     62248\n",
      "\n",
      "      accuracy                           0.78     80351\n",
      "     macro avg       0.69      0.53      0.50     80351\n",
      "  weighted avg       0.74      0.78      0.71     80351\n",
      "\n"
     ]
    }
   ],
   "source": [
    "class_report_RF = classification_report(y_test, y_pred_RF,target_names=['Not Fully Paid', 'Fully Paid'])\n",
    "print(\"Classification Report for Random Forest:\\n\", class_report_RF)"
   ]
  },
  {
   "cell_type": "code",
   "execution_count": 148,
   "id": "e81aa5c8",
   "metadata": {},
   "outputs": [
    {
     "data": {
      "text/plain": [
       "<sklearn.metrics._plot.roc_curve.RocCurveDisplay at 0x280be95d0>"
      ]
     },
     "execution_count": 148,
     "metadata": {},
     "output_type": "execute_result"
    },
    {
     "data": {
      "image/png": "[encoded data removed]",
      "text/plain": [
       "<Figure size 640x480 with 1 Axes>"
      ]
     },
     "metadata": {},
     "output_type": "display_data"
    }
   ],
   "source": [
    "RocCurveDisplay.from_predictions(y_test, y_pred_proba_RF, name=\"RandomForest\")\n"
   ]
  },
  {
   "cell_type": "code",
   "execution_count": 149,
   "id": "ad37f127",
   "metadata": {},
   "outputs": [
    {
     "data": {
      "text/plain": [
       "<sklearn.metrics._plot.precision_recall_curve.PrecisionRecallDisplay at 0x280c61510>"
      ]
     },
     "execution_count": 149,
     "metadata": {},
     "output_type": "execute_result"
    },
    {
     "data": {
      "image/png": "[encoded data removed]",
      "text/plain": [
       "<Figure size 640x480 with 1 Axes>"
      ]
     },
     "metadata": {},
     "output_type": "display_data"
    }
   ],
   "source": [
    "PrecisionRecallDisplay.from_predictions(y_test, y_pred_proba_RF, name=\"RandomForest\")"
   ]
  },
  {
   "cell_type": "markdown",
   "id": "f51d8377",
   "metadata": {},
   "source": [
    "**Gradient Boosting** (best parameters)"
   ]
  },
  {
   "cell_type": "code",
   "execution_count": 150,
   "id": "9b407b58",
   "metadata": {},
   "outputs": [],
   "source": [
    "# Make predictions\n",
    "y_pred_GB1 = grid_search_GB1.predict(X_test)\n",
    "# Predict probabilities for the positive class\n",
    "y_pred_proba_GB1 = grid_search_GB1.predict_proba(X_test)[:, 1]\n"
   ]
  },
  {
   "cell_type": "code",
   "execution_count": 151,
   "id": "94e5af67",
   "metadata": {},
   "outputs": [
    {
     "name": "stdout",
     "output_type": "stream",
     "text": [
      "Accuracy Score: 0.7796916030914364\n"
     ]
    }
   ],
   "source": [
    "accuracy_GB1 = accuracy_score(y_test, y_pred_GB1)\n",
    "print(\"Accuracy Score:\", accuracy_GB1)"
   ]
  },
  {
   "cell_type": "code",
   "execution_count": 152,
   "id": "e8b94d96",
   "metadata": {},
   "outputs": [
    {
     "name": "stdout",
     "output_type": "stream",
     "text": [
      "Precision Score: 0.7903457086244655\n"
     ]
    }
   ],
   "source": [
    "precision_GB1 = precision_score(y_test, y_pred_GB1)\n",
    "print(\"Precision Score:\", precision_GB1)"
   ]
  },
  {
   "cell_type": "code",
   "execution_count": 153,
   "id": "4f00afa8",
   "metadata": {},
   "outputs": [
    {
     "name": "stdout",
     "output_type": "stream",
     "text": [
      "Recall Score: 0.9739911322452127\n"
     ]
    }
   ],
   "source": [
    "recall_GB1 = recall_score(y_test, y_pred_GB1)\n",
    "print(\"Recall Score:\", recall_GB1)"
   ]
  },
  {
   "cell_type": "code",
   "execution_count": 154,
   "id": "82e9f62d",
   "metadata": {},
   "outputs": [
    {
     "name": "stdout",
     "output_type": "stream",
     "text": [
      "F1 Score: 0.8726108232584916\n"
     ]
    }
   ],
   "source": [
    "f1_GB1 = f1_score(y_test, y_pred_GB1)\n",
    "print(\"F1 Score:\", f1_GB1)"
   ]
  },
  {
   "cell_type": "code",
   "execution_count": 155,
   "id": "ccdd0d8d",
   "metadata": {},
   "outputs": [
    {
     "name": "stdout",
     "output_type": "stream",
     "text": [
      "ROC AUC score for Gradient Boosting: 0.7095976470139812\n"
     ]
    }
   ],
   "source": [
    "roc_auc = roc_auc_score(y_test, y_pred_proba_GB1)\n",
    "\n",
    "# Print the ROC AUC Score\n",
    "print(f\"ROC AUC score for Gradient Boosting: {roc_auc}\")"
   ]
  },
  {
   "cell_type": "code",
   "execution_count": 156,
   "id": "63641d58",
   "metadata": {},
   "outputs": [
    {
     "name": "stdout",
     "output_type": "stream",
     "text": [
      "Confusion Matrix for Gradient Boosting:\n",
      " [[ 2020 16083]\n",
      " [ 1619 60629]]\n"
     ]
    }
   ],
   "source": [
    "# Confusion Matrix\n",
    "conf_matrix_GB1 = confusion_matrix(y_test, y_pred_GB1)\n",
    "print(\"Confusion Matrix for Gradient Boosting:\\n\", conf_matrix_GB1)"
   ]
  },
  {
   "cell_type": "code",
   "execution_count": 157,
   "id": "c5bca099",
   "metadata": {
    "scrolled": true
   },
   "outputs": [
    {
     "name": "stdout",
     "output_type": "stream",
     "text": [
      "Classification Report:\n",
      "                 precision    recall  f1-score   support\n",
      "\n",
      "Not Fully Paid       0.56      0.11      0.19     18103\n",
      "    Fully Paid       0.79      0.97      0.87     62248\n",
      "\n",
      "      accuracy                           0.78     80351\n",
      "     macro avg       0.67      0.54      0.53     80351\n",
      "  weighted avg       0.74      0.78      0.72     80351\n",
      "\n"
     ]
    }
   ],
   "source": [
    "class_report_GB1 = classification_report(y_test, y_pred_GB1,target_names=['Not Fully Paid', 'Fully Paid'])\n",
    "print(\"Classification Report:\\n\", class_report_GB1)"
   ]
  },
  {
   "cell_type": "code",
   "execution_count": 158,
   "id": "328ceaf0",
   "metadata": {},
   "outputs": [
    {
     "data": {
      "text/plain": [
       "<sklearn.metrics._plot.roc_curve.RocCurveDisplay at 0x280cd59d0>"
      ]
     },
     "execution_count": 158,
     "metadata": {},
     "output_type": "execute_result"
    },
    {
     "data": {
      "image/png": "[encoded data removed]",
      "text/plain": [
       "<Figure size 640x480 with 1 Axes>"
      ]
     },
     "metadata": {},
     "output_type": "display_data"
    }
   ],
   "source": [
    "RocCurveDisplay.from_predictions(y_test, y_pred_proba_GB1, name=\"GradientBoosting\")\n"
   ]
  },
  {
   "cell_type": "code",
   "execution_count": 159,
   "id": "4b552a06",
   "metadata": {},
   "outputs": [
    {
     "data": {
      "text/plain": [
       "<sklearn.metrics._plot.precision_recall_curve.PrecisionRecallDisplay at 0x280d4d590>"
      ]
     },
     "execution_count": 159,
     "metadata": {},
     "output_type": "execute_result"
    },
    {
     "data": {
      "image/png": "[encoded data removed]",
      "text/plain": [
       "<Figure size 640x480 with 1 Axes>"
      ]
     },
     "metadata": {},
     "output_type": "display_data"
    }
   ],
   "source": [
    "PrecisionRecallDisplay.from_predictions(y_test, y_pred_proba_GB1, name=\"GradientBoosting\")"
   ]
  },
  {
   "cell_type": "markdown",
   "id": "5685b5e5",
   "metadata": {},
   "source": [
    "**XGBoost** (best parameters)"
   ]
  },
  {
   "cell_type": "code",
   "execution_count": 185,
   "id": "66dbfbe2",
   "metadata": {},
   "outputs": [
    {
     "name": "stdout",
     "output_type": "stream",
     "text": [
      "Confusion Matrix for XGBoost:\n",
      " [[ 2307 15796]\n",
      " [ 1776 60472]]\n"
     ]
    }
   ],
   "source": [
    "y_pred_xgb = grid_search_xgb.predict(X_test)\n",
    "y_pred_proba_xgb = grid_search_xgb.predict_proba(X_test)[:, 1]\n",
    "\n",
    "# Confusion Matrix\n",
    "conf_matrix_xgb = confusion_matrix(y_test, y_pred_xgb)\n",
    "print(\"Confusion Matrix for XGBoost:\\n\", conf_matrix_xgb)\n"
   ]
  },
  {
   "cell_type": "code",
   "execution_count": 186,
   "id": "542fbdbc",
   "metadata": {},
   "outputs": [
    {
     "name": "stdout",
     "output_type": "stream",
     "text": [
      "Accuracy Score: 0.7813095045487922\n"
     ]
    }
   ],
   "source": [
    "# Accuracy Score\n",
    "accuracy_xgb = accuracy_score(y_test, y_pred_xgb)\n",
    "print(\"Accuracy Score:\", accuracy_xgb)"
   ]
  },
  {
   "cell_type": "code",
   "execution_count": 187,
   "id": "1d3d3088",
   "metadata": {},
   "outputs": [
    {
     "name": "stdout",
     "output_type": "stream",
     "text": [
      "Precision Score: 0.7928882362196465\n"
     ]
    }
   ],
   "source": [
    "# Precision Score\n",
    "precision_xgb = precision_score(y_test, y_pred_xgb)\n",
    "print(\"Precision Score:\", precision_xgb)"
   ]
  },
  {
   "cell_type": "code",
   "execution_count": 188,
   "id": "acd1e6a8",
   "metadata": {},
   "outputs": [
    {
     "name": "stdout",
     "output_type": "stream",
     "text": [
      "Recall Score: 0.9714689628582445\n"
     ]
    }
   ],
   "source": [
    "# Recall Score\n",
    "recall_xgb = recall_score(y_test, y_pred_xgb)\n",
    "print(\"Recall Score:\", recall_xgb)"
   ]
  },
  {
   "cell_type": "code",
   "execution_count": 189,
   "id": "85ec7f19",
   "metadata": {},
   "outputs": [
    {
     "name": "stdout",
     "output_type": "stream",
     "text": [
      "F1 Score: 0.873141008980912\n"
     ]
    }
   ],
   "source": [
    "# F1 Score\n",
    "f1_xgb = f1_score(y_test, y_pred_xgb)\n",
    "print(\"F1 Score:\", f1_xgb)"
   ]
  },
  {
   "cell_type": "code",
   "execution_count": 190,
   "id": "db6c66c5",
   "metadata": {},
   "outputs": [
    {
     "name": "stdout",
     "output_type": "stream",
     "text": [
      "ROC AUC score for XGBoost: 0.718885441975658\n"
     ]
    }
   ],
   "source": [
    "roc_auc = roc_auc_score(y_test, y_pred_proba_xgb)\n",
    "\n",
    "# Print the ROC AUC Score\n",
    "print(f\"ROC AUC score for XGBoost: {roc_auc}\")"
   ]
  },
  {
   "cell_type": "code",
   "execution_count": 191,
   "id": "17c94bc4",
   "metadata": {},
   "outputs": [
    {
     "name": "stdout",
     "output_type": "stream",
     "text": [
      "Classification Report:\n",
      "                 precision    recall  f1-score   support\n",
      "\n",
      "Not Fully Paid       0.57      0.13      0.21     18103\n",
      "    Fully Paid       0.79      0.97      0.87     62248\n",
      "\n",
      "      accuracy                           0.78     80351\n",
      "     macro avg       0.68      0.55      0.54     80351\n",
      "  weighted avg       0.74      0.78      0.72     80351\n",
      "\n"
     ]
    }
   ],
   "source": [
    "# Classification Report\n",
    "class_report_xgb = classification_report(y_test, y_pred_xgb,target_names=['Not Fully Paid', 'Fully Paid'])\n",
    "print(\"Classification Report:\\n\", class_report_xgb)"
   ]
  },
  {
   "cell_type": "code",
   "execution_count": 192,
   "id": "29e2e0c3",
   "metadata": {},
   "outputs": [
    {
     "data": {
      "text/plain": [
       "<sklearn.metrics._plot.roc_curve.RocCurveDisplay at 0x280d37390>"
      ]
     },
     "execution_count": 192,
     "metadata": {},
     "output_type": "execute_result"
    },
    {
     "data": {
      "image/png": "[encoded data removed]",
      "text/plain": [
       "<Figure size 640x480 with 1 Axes>"
      ]
     },
     "metadata": {},
     "output_type": "display_data"
    }
   ],
   "source": [
    "# ROC Curve\n",
    "RocCurveDisplay.from_predictions(y_test, y_pred_proba_xgb, name=\"XGBoost\")"
   ]
  },
  {
   "cell_type": "code",
   "execution_count": 193,
   "id": "68f916c2",
   "metadata": {},
   "outputs": [
    {
     "data": {
      "text/plain": [
       "<sklearn.metrics._plot.precision_recall_curve.PrecisionRecallDisplay at 0x280e39650>"
      ]
     },
     "execution_count": 193,
     "metadata": {},
     "output_type": "execute_result"
    },
    {
     "data": {
      "image/png": "[encoded data removed]",
      "text/plain": [
       "<Figure size 640x480 with 1 Axes>"
      ]
     },
     "metadata": {},
     "output_type": "display_data"
    }
   ],
   "source": [
    "PrecisionRecallDisplay.from_predictions(y_test, y_pred_proba_xgb, name=\"XGBoost\")"
   ]
  },
  {
   "cell_type": "markdown",
   "id": "7d6073a2",
   "metadata": {},
   "source": [
    "**Logistic Regression with Bagging** (best parameters)"
   ]
  },
  {
   "cell_type": "code",
   "execution_count": 169,
   "id": "ae112595",
   "metadata": {},
   "outputs": [
    {
     "name": "stdout",
     "output_type": "stream",
     "text": [
      "Confusion Matrix:\n",
      " [[ 1943 16160]\n",
      " [ 1596 60652]]\n"
     ]
    }
   ],
   "source": [
    "y_pred_lrb = grid_search_bag_lr.predict(X_test)\n",
    "y_pred_proba_lrb = grid_search_bag_lr.predict_proba(X_test)[:, 1]\n",
    "\n",
    "conf_matrix_bag_lr = confusion_matrix(y_test, y_pred_lrb)\n",
    "print(\"Confusion Matrix:\\n\", conf_matrix_bag_lr)"
   ]
  },
  {
   "cell_type": "code",
   "execution_count": 170,
   "id": "93e780a9",
   "metadata": {},
   "outputs": [
    {
     "name": "stdout",
     "output_type": "stream",
     "text": [
      "Accuracy Score: 0.7790195517168423\n"
     ]
    }
   ],
   "source": [
    "# Accuracy Score\n",
    "accuracy_bag_lrb = accuracy_score(y_test, y_pred_lrb)\n",
    "print(\"Accuracy Score:\", accuracy_bag_lrb)"
   ]
  },
  {
   "cell_type": "code",
   "execution_count": 171,
   "id": "afccab23",
   "metadata": {},
   "outputs": [],
   "source": [
    "# Precision, Recall, and F1 Score might require binary classification or specific handling for multiclass cases\n",
    "# Here's an example for binary classification:\n",
    "precision_bag_lr = precision_score(y_test, y_pred_lrb)\n",
    "recall_bag_lr = recall_score(y_test, y_pred_lrb)\n",
    "f1_bag_lr = f1_score(y_test, y_pred_lrb)\n",
    "roc_auc = roc_auc_score(y_test, y_pred_proba_lrb)"
   ]
  },
  {
   "cell_type": "code",
   "execution_count": 172,
   "id": "03c56e7d",
   "metadata": {},
   "outputs": [
    {
     "name": "stdout",
     "output_type": "stream",
     "text": [
      "Precision Score: 0.7896162058011769\n",
      "Recall Score: 0.974360622028017\n",
      "F1 Score: 0.8723141090176901\n",
      "ROC AUC score: 0.7041647014392922\n"
     ]
    }
   ],
   "source": [
    "print(\"Precision Score:\", precision_bag_lr)\n",
    "print(\"Recall Score:\", recall_bag_lr)\n",
    "print(\"F1 Score:\", f1_bag_lr)\n",
    "print(f\"ROC AUC score: {roc_auc}\")"
   ]
  },
  {
   "cell_type": "code",
   "execution_count": 173,
   "id": "4ac8ec07",
   "metadata": {},
   "outputs": [
    {
     "name": "stdout",
     "output_type": "stream",
     "text": [
      "Classification Report:\n",
      "                 precision    recall  f1-score   support\n",
      "\n",
      "Not Fully Paid       0.55      0.11      0.18     18103\n",
      "    Fully Paid       0.79      0.97      0.87     62248\n",
      "\n",
      "      accuracy                           0.78     80351\n",
      "     macro avg       0.67      0.54      0.53     80351\n",
      "  weighted avg       0.74      0.78      0.72     80351\n",
      "\n"
     ]
    }
   ],
   "source": [
    "# Classification Report\n",
    "class_report_bag_lr = classification_report(y_test, y_pred_lrb,target_names=['Not Fully Paid', 'Fully Paid'])\n",
    "print(\"Classification Report:\\n\", class_report_bag_lr)"
   ]
  },
  {
   "cell_type": "code",
   "execution_count": 174,
   "id": "6ef3732c",
   "metadata": {},
   "outputs": [
    {
     "data": {
      "text/plain": [
       "<sklearn.metrics._plot.roc_curve.RocCurveDisplay at 0x280e30b50>"
      ]
     },
     "execution_count": 174,
     "metadata": {},
     "output_type": "execute_result"
    },
    {
     "data": {
      "image/png": "[encoded data removed]",
      "text/plain": [
       "<Figure size 640x480 with 1 Axes>"
      ]
     },
     "metadata": {},
     "output_type": "display_data"
    }
   ],
   "source": [
    "RocCurveDisplay.from_predictions(y_test,y_pred_proba_lrb, name=\"Bagging Logistic Regression\")"
   ]
  },
  {
   "cell_type": "code",
   "execution_count": 175,
   "id": "af0729ef",
   "metadata": {},
   "outputs": [
    {
     "data": {
      "text/plain": [
       "<sklearn.metrics._plot.precision_recall_curve.PrecisionRecallDisplay at 0x280ded890>"
      ]
     },
     "execution_count": 175,
     "metadata": {},
     "output_type": "execute_result"
    },
    {
     "data": {
      "image/png": "[encoded data removed]",
      "text/plain": [
       "<Figure size 640x480 with 1 Axes>"
      ]
     },
     "metadata": {},
     "output_type": "display_data"
    }
   ],
   "source": [
    "PrecisionRecallDisplay.from_predictions(y_test, y_pred_proba_lrb, name=\"Bagging Logistic Regression\")"
   ]
  },
  {
   "cell_type": "markdown",
   "id": "c383d9c2",
   "metadata": {},
   "source": [
    "## Analysis"
   ]
  },
  {
   "cell_type": "markdown",
   "id": "1486989a",
   "metadata": {},
   "source": [
    "**ROC AUC Score**\n",
    "XGBoost leads with the highest ROC AUC score of 0.7188, indicating its superior capability in handling the classification task with nuanced differentiation between positive and negative cases.\n",
    "**Random Forest** follows with a ROC AUC score of 0.7132, showcasing strong predictive capabilities.\n",
    "\n",
    "**Gradient Boosting** shows commendable performance with a ROC AUC score of 0.7096.\n",
    "**Logistic Regression with Bagging** has a ROC AUC score of 0.7042, slightly outperforming the standalone **Logistic Regression** model, which scores 0.7032."
   ]
  },
  {
   "cell_type": "markdown",
   "id": "f2a4a627",
   "metadata": {},
   "source": [
    "#### Confusion Matrix"
   ]
  },
  {
   "cell_type": "markdown",
   "id": "e6ce587c",
   "metadata": {},
   "source": [
    "Logistic Regression:\n",
    "\n",
    "* TP: 58010\n",
    "* TN: 1978\n",
    "* FP: 16125\n",
    "* FN: 4238\n",
    "\n",
    "Random Forest:\n",
    "\n",
    "* TP: 59375\n",
    "* TN: 1292\n",
    "* FP: 16811\n",
    "* FN: 2873\n",
    "\n",
    "Gradient Boosting:\n",
    "\n",
    "* TP: 59075\n",
    "* TN: 2020\n",
    "* FP: 16083\n",
    "* FN: 3173\n",
    "\n",
    "XGBoost:\n",
    "\n",
    "* TP: 60472\n",
    "* TN: 2307\n",
    "* FP: 15796\n",
    "* FN: 1776\n",
    "\n",
    "\n",
    "\n",
    "Logistic Regression with Bagging:\n",
    "\n",
    "* TP: 58635\n",
    "* TN: 1943\n",
    "* FP: 16160\n",
    "* FN: 3613"
   ]
  },
  {
   "cell_type": "markdown",
   "id": "a2f4bee5",
   "metadata": {},
   "source": [
    "### Best Model"
   ]
  },
  {
   "cell_type": "markdown",
   "id": "33198938",
   "metadata": {},
   "source": [
    "**XGBoost** stands out as the best model for predicting loan repayment, with the highest ROC AUC score and a balanced performance in the confusion matrix. \n",
    "It demonstrates a strong ability to accurately identify loans that will be repaid, indicated by the highest number of True Positives (TP) and a competitive number of True Negatives (TN), making it well-balanced across all metrics."
   ]
  },
  {
   "cell_type": "markdown",
   "id": "e3786266",
   "metadata": {},
   "source": [
    "### Worst Model"
   ]
  },
  {
   "cell_type": "markdown",
   "id": "8baf1489",
   "metadata": {},
   "source": [
    "**Random Forest** could be considered the least favorable model for this specific task. \n",
    "It has the lowest number of True Negatives (TN) and the highest number of False Positives (FP), indicating a higher risk of incorrectly predicting bad loans as good. This could be particularly problematic for minimizing credit risk, which is a primary objective in loan approval decisions."
   ]
  }
 ],
 "metadata": {
  "kernelspec": {
   "display_name": "Python 3 (ipykernel)",
   "language": "python",
   "name": "python3"
  },
  "language_info": {
   "codemirror_mode": {
    "name": "ipython",
    "version": 3
   },
   "file_extension": ".py",
   "mimetype": "text/x-python",
   "name": "python",
   "nbconvert_exporter": "python",
   "pygments_lexer": "ipython3",
   "version": "3.11.5"
  },
  "toc": {
   "base_numbering": 1,
   "nav_menu": {},
   "number_sections": true,
   "sideBar": true,
   "skip_h1_title": true,
   "title_cell": "Table of Contents",
   "title_sidebar": "Contents",
   "toc_cell": true,
   "toc_position": {},
   "toc_section_display": true,
   "toc_window_display": true
  }
 },
 "nbformat": 4,
 "nbformat_minor": 5
}
